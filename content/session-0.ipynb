{
 "cells": [
  {
   "source": [
    "**2021 Schulung - Quantum Computing Meets Business**"
   ],
   "cell_type": "markdown",
   "metadata": {}
  },
  {
   "source": [
    "*Einleitung*\n",
    "\n",
    "Das Dokument ist ein Entwurf für die Gliederung der einzelnen Schulungssessions. Als Dauer habe ich jeweils 2h angesetzt. Die Zeitangaben hinter den Sektionen sind nur Schätzwerte (!). Genauer ausprobiert habe ich nur Sektion “Session #1 B” (ist entsprechend kommentiert). Die geschätzten Dauern beziehen sich auf die reine Redezeit. Für Rückfragen + Pausen + ... habe ich deshalb pro Session etwa 30 Minuten Puffer angesetzt. \n",
    "\n",
    "Damit wir besser nachvollziehen können, welche Passagen aus dem IBM Textbook https://qiskit.org/textbook/preface.html wie unseren Sessions aufgegliedert sind oder  weggelassen wurden, beziehen sich die Chapter- und Section-Zahlen immer auf die Originalgliederung im Textbook. Für die Gliederungen in unseren Sessions verwende ich deshalb Buchstaben. "
   ],
   "cell_type": "markdown",
   "metadata": {}
  },
  {
   "source": [
    "*Session 1*\n",
    "\n",
    "1. Intro (30 Min.)\n",
    "    1. Das Große Ganze und Übersicht über die Schulung\n",
    "        1. Vor 40 Jahren begannen Physiker\n",
    "        2. 1980 Feynman, Mitte 1990er Shor-Algorithmus\n",
    "        3. Anfang 2000 Erste experimentelle Mini-Quantencomputer\n",
    "        4. 2015 Launch IBM Quantum Experience mit 5 Qubit-Quantencomputer als erster Universeller Quantencomputer in der Cloud\n",
    "        5. 2019 Google Quantum Supremacy – Experiment\n",
    "        6. Mittlerweile mehrere weitere Hersteller mit verschiedenen Hardware- und Software-Ansätzen\n",
    "        7. Weltweit Milliarden von Fördergeldern\n",
    "        8. Dekohärenz, NISQ-Ära, fehlertolerante Quantencomputer, \tRoadmaps von IBM und Google erwähnen\n",
    "    2. Unser Lehrmaterial basiert auf IBM Textbook und IBMs Qiskit\n",
    "    3. Was setzen wir voraus und was nicht?\n",
    "        1. Grundlegende Programmierkenntnisse, insbes. einfache Python Programme lesen / verstehen können\n",
    "        2. Keine „Höhere“ Mathematik! Das bedeutet aber auch, dass wir einiges an Höherer Mathematik hier einführen werden\n",
    "    4. Folgende Themen werden wir behandeln:\n",
    " \t    1. Splitting information into bits\n",
    " \t    2. Computation as a diagram \t\n",
    " \t    3. Your first quantum circuit \t\t\n",
    "\n",
    "2. Qubit- / Quantenzustände und Lineare Algebra I (75 Min)\n",
    "    1. Classical vs Quantum Bits\n",
    "        1. Hinweis auch auf Superpositionsprinzip: „Das hört sich so banal an, aber ...“ \n",
    "        2. (Schrödingers Katze erwähnen?)\n",
    " \t2. Qubit Notation\n",
    " \t    1. Reminder Orthonormal Bases\n",
    "\t\t2. Bild zu Vektoraddition hinzufügen?: Zwei Pfeile miteinander verketten\n",
    " \t\t3. Bild zur skalaren Multiplikation hinzufügen?: Einen Pfeil strecken oder stauchen \t\t\t\t\n",
    " \t\t4. Nur Hinweis zu komplexen Zahlen (wir verschieben komplexen Zahlen in Session 2)\n",
    "    3. The Rules of Measurement\n",
    "        1. A Very Important Rule \t\t\n",
    " \t\t2. Reminder: Inner Product\n",
    " \t\t3. Motivation und Hinweis auf die Pfeildiagramme von oben: Der Anteil meines Vektors in die |0> bzw. |1> - Richtung\n",
    " \t\t4. „Bornsche-Regel“: Hinweis auf Nobelpreis und die wichtigste Fußnote in der Geschichte der Physik\n",
    " \t\t5. The Implications of this Rule \t\t\t\n",
    "            1. Normalisation\n",
    "            2. Alternative Measurement \t\t\t\n",
    " \t\t\t3. Global Phase\n",
    "            4. The Observer Effect \t\t\t \t"
   ],
   "cell_type": "markdown",
   "metadata": {}
  },
  {
   "source": [
    "*Session 2*\n",
    "\n",
    "1. Kurze Wiederholung (10 Min.)\n",
    "    1. Statevector\n",
    "    2. Lineare Algebra\n",
    "\n",
    "2. Komplexe Zahlen (30 Min.)\n",
    "    1. Komplexe Zahlen\n",
    "    2. Sinus, Kosinus, Exponentialfunktion\n",
    "\n",
    "3. Ein Qubit-Gates I und Lineare Algebra II (40 Min.)\n",
    "    1. The Pauli Gates\n",
    "    2. Evtl noch 2. Digression: The X, Y & Z-Bases\n",
    "    3. Den Rest von single-qubit-gates.html in Session #3"
   ],
   "cell_type": "markdown",
   "metadata": {}
  },
  {
   "source": [
    "*Session 3*\n",
    "\n",
    "1. Ausführlichere Wiederholung (20 Min.)\n",
    "    1. Statevector / Lineare Algebra\n",
    "    2. Komplexe Zahlen, Exponentialfunktion, Blochsphere\n",
    "    3. Pauli-Gates and Bases\n",
    "\n",
    "2. Ein Qubit-Gates II (1h)\n",
    "    1. The Hadamard Gate\n",
    "    2. Digression: Measuring in Different Bases\n",
    "    3. The Rϕ-gate (kurz halten)\n",
    "    4. The I, S and T-gates (kurz halten)\n",
    "    5. General U-gates (kurz halten)"
   ],
   "cell_type": "markdown",
   "metadata": {}
  },
  {
   "source": [
    "Session #4\n",
    "\n",
    "1. Wiederholung (10 Min.)\n",
    "\n",
    "2. Multiple Qubits and Entanglement I (75 Min)\n",
    "    - https://qiskit.org/textbook/ch-gates/introduction.html\n",
    "    - https://qiskit.org/textbook/ch-gates/multiple-qubits-entangled-states.html"
   ],
   "cell_type": "markdown",
   "metadata": {}
  }
 ],
 "metadata": {
  "kernelspec": {
   "display_name": "Python 3",
   "language": "python",
   "name": "python3"
  },
  "language_info": {
   "codemirror_mode": {
    "name": "ipython",
    "version": 3
   },
   "file_extension": ".py",
   "mimetype": "text/x-python",
   "name": "python",
   "nbconvert_exporter": "python",
   "pygments_lexer": "ipython3",
   "version": "3.7.6-final"
  }
 },
 "nbformat": 4,
 "nbformat_minor": 4
}