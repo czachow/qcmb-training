{
 "cells": [
  {
   "cell_type": "markdown",
   "metadata": {},
   "source": [
    "# Quantenzustände und Lineare Algebra I"
   ]
  },
  {
   "cell_type": "markdown",
   "metadata": {},
   "source": [
    "Sie wissen jetzt etwas über Bits und darüber, wie unsere vertrauten digitalen Computer funktionieren.\n",
    "All die komplexen Variablen, Objekte und Datenstrukturen, die in moderner Software verwendet werden, sind im Grunde alle nur große Haufen von Bits.\n",
    "Diejenigen von uns, die sich mit Quantencomputern beschäftigen, nennen diese klassische Variablen. \n",
    "Die Computer, die sie verwenden, wie der, den Sie zum Lesen dieses Artikels benutzen, nennen wir klassische Computer.\n",
    "\n",
    "In Quantencomputern ist unsere grundlegende Variable das Qubit: eine Quantenvariante des Bits.\n",
    "Diese haben genau die gleichen Einschränkungen wie normale Bits: Sie können nur eine einzige binäre Information speichern und können immer nur eine 0 oder 1 ausgeben.\n",
    "Allerdings können sie auch auf eine Weise manipuliert werden, die nur durch die Quantenmechanik beschrieben werden kann. \n",
    "Dies gibt uns neue Gatter, mit denen wir spielen können und die es uns ermöglichen, neue Wege zu finden, Algorithmen zu entwerfen.\n",
    "\n",
    "Um diese neuen Gatter vollständig zu verstehen, müssen wir zunächst verstehen, wie man Qubit-Zustände aufschreibt.\n",
    "Hierfür werden wir die Mathematik der Vektoren, Matrizen und komplexen Zahlen verwenden.\n",
    "Obwohl wir diese Konzepte nach und nach einführen werden, wäre es am besten, wenn Sie bereits mit ihnen vertraut sind. \n",
    "Wenn Sie eine tiefer gehende Erklärung oder eine Auffrischung benötigen, finden Sie den Leitfaden hier.\n",
    "\n",
    "## Inhalt\n",
    "\n",
    "1. [Klassisch vs. Quantenbits](#cvsq)     \n",
    "    1.1 [Zustandsvektoren](#statevectors)      \n",
    "    1.2 [Qubit-Notation](#Notation)    \n",
    "    1.3 [Qubits mit Qiskit erforschen](#exploring-qubits)    \n",
    "2. [Die Regeln der Messung](#rules-measurement)    \n",
    "    2.1 [Eine sehr wichtige Regel](#important-rule)    \n",
    "    2.2 [Die Implikationen dieser Regel](#implications)\n",
    "3. [Die Bloch-Sphäre](#bloch-sphere)    \n",
    "    3.1 [Beschreiben des eingeschränkten Qubit-Zustands](#bloch-sphere-1)     \n",
    "    3.2 [Visuelle Darstellung eines Qubit-Zustands](#bloch-sphere-2)     "
   ]
  },
  {
   "cell_type": "markdown",
   "metadata": {},
   "source": [
    "## 1. Klassisch vs. Quantenbits <a id=\"cvsq\"></a>\n",
    "\n",
    "### 1.1 Zustandsvektoren<a id=\"statevectors\"></a>\n",
    "\n",
    "In der Quantenphysik benutzen wir _Zustandsvektoren_, um den Zustand unseres Systems zu beschreiben. \n",
    "Angenommen, wir wollen die Position eines Autos entlang einer Bahn beschreiben, so ist dies ein klassisches System, also könnten wir eine Zahl $x$ verwenden:\n",
    "\n",
    "![Verfolgung eines Autos mit Skalaren](../assets/02-Quantenzustaende_LineareAlgebraI/car_track_1.jpg)\n",
    "\n",
    "$$ x=4 $$\n",
    "\n",
    "Alternativ könnten wir stattdessen eine Sammlung von Zahlen in einem Vektor verwenden, der _Zustandsvektor_ genannt wird. \n",
    "Jedes Element im Zustandsvektor enthält die Wahrscheinlichkeit, das Auto an einem bestimmten Ort zu finden:\n",
    "\n",
    "![Verfolgung eines Autos mit Vektoren](../assets/02-Quantenzustaende_LineareAlgebraI/car_track_2.jpg)\n",
    "\n",
    "$$\n",
    "    |x\\rangle = \\begin{bmatrix} 0 \\\\ \\vdots \\\\ 0 \\\\ 1 \\\\ 0 \\\\ \\vdots \\\\ 0 \\end{bmatrix} \n",
    "                \\begin{matrix} \\\\  \\\\  \\\\ \\leftarrow \\\\ \\\\  \\\\  \\\\ \\end{matrix}\n",
    "                \\begin{matrix} \\\\  \\\\ \n",
    "                    \\text{Wahrscheinlichkeit, dass} \\\\ \n",
    "                    \\text{Auto ist bei} \\\\ \\\\ \n",
    "                    \\text{Position 4} \\\\ \\\\  \\\\ \n",
    "                \\end{matrix}   \n",
    "$$\n",
    "\n",
    "Dies ist nicht auf die Position beschränkt, wir könnten auch einen Zustandsvektor mit allen möglichen Geschwindigkeiten, die das Auto haben könnte, und allen möglichen Farben, die das Auto haben könnte, aufbewahren.\n",
    "Bei klassischen Systemen (wie dem obigen Auto-Beispiel) ist das eine dumme Sache, da man dafür riesige Vektoren behalten muss, wenn man eigentlich nur eine Zahl braucht. \n",
    "Aber wie wir in diesem Kapitel sehen werden, sind Zustandsvektoren zufällig ein sehr guter Weg, um Quantensysteme, einschließlich Quantencomputer, im Auge zu behalten.\n",
    "\n",
    "### 1.2 Qubit-Notation <a id=\"notation\"></a>\n",
    "\n",
    "Klassische Bits haben immer einen vollständig wohldefinierten Zustand: Sie sind zu jedem Zeitpunkt während einer Berechnung entweder `0` oder `1`. \n",
    "Es gibt kein weiteres Detail, das wir dem Zustand eines Bits hinzufügen können als dies. \n",
    "Um also den Zustand eines klassischen Bits (`c`) aufzuschreiben, können wir einfach diese beiden Binärwerte verwenden. Zum Beispiel:\n",
    "\n",
    "    c = 0\n",
    "\n",
    "Diese Einschränkung ist für Quantenbits aufgehoben.\n",
    "Ob wir eine `0` oder eine `1` von einem Qubit erhalten, muss nur dann wohldefiniert sein, wenn eine Messung durchgeführt wird, um eine Ausgabe zu erhalten.\n",
    "Zu diesem Zeitpunkt muss es sich auf eine der beiden Optionen festlegen.\n",
    "Zu allen anderen Zeiten wird sein Zustand etwas Komplexeres sein, als durch einen einfachen Binärwert erfasst werden kann.\n",
    "\n",
    "Um zu sehen, wie man diese beschreiben kann, können wir uns zunächst auf die beiden einfachsten Fälle konzentrieren. \n",
    "Wie wir im letzten Abschnitt gesehen haben, ist es möglich, ein Qubit in einem Zustand zu präparieren, bei dem es definitiv das Ergebnis `0` liefert, wenn es gemessen wird.\n",
    "\n",
    "Wir brauchen einen Namen für diesen Zustand.\n",
    "Seien wir phantasielos und nennen ihn $0$.\n",
    "In ähnlicher Weise gibt es einen Qubit-Zustand, der mit Sicherheit eine `1` ausgibt.\n",
    "Nennen wir diesen $1$. Diese beiden Zustände schließen sich gegenseitig völlig aus.\n",
    "Entweder gibt das Qubit definitiv eine ```0``` aus, oder es gibt definitiv eine ```1``` aus.\n",
    "Es gibt keine Überschneidung. \n",
    "Eine Möglichkeit, dies mathematisch darzustellen, ist die Verwendung zweier orthogonaler Vektoren.\n",
    "\n",
    "$$ |0\\rangle = \\begin{bmatrix} 1 \\\\ 0 \\end{bmatrix} \\, \\, \\, \\, |1\\rangle =\\begin{bmatrix} 0 \\\\ 1 \\end{bmatrix}. $$\n",
    "\n",
    "Das ist eine Menge Notation, die man auf einmal verinnerlichen muss.\n",
    "Lassen Sie uns zunächst die seltsamen $|$ und $\\rangle$ auspacken.\n",
    "Ihre Aufgabe ist im Wesentlichen nur, uns daran zu erinnern, dass wir über die Vektoren sprechen, die Qubit-Zustände mit den Bezeichnungen $0$ und $1$ darstellen.\n",
    "Das hilft uns, sie von Dingen wie den Bit-Werten ```0``` und ```1``` oder den Zahlen 0 und 1 zu unterscheiden.\n",
    "Es ist Teil der von Dirac eingeführten Bra-Ket-Notation.\n",
    "\n",
    "Wenn Sie mit Vektoren nicht vertraut sind, können Sie sich diese im Grunde nur als Listen von Zahlen vorstellen, die wir nach bestimmten Regeln manipulieren. \n",
    "Wenn Sie mit Vektoren aus dem Physikunterricht in der Schule vertraut sind, werden Sie wissen, dass Vektoren aufgrund dieser Regeln gut geeignet sind, um Größen mit einem Betrag und einer Richtung zu beschreiben.\n",
    "Zum Beispiel wird die Geschwindigkeit eines Objekts perfekt mit einem Vektor beschrieben.\n",
    "Die Art und Weise, wie wir Vektoren für Quantenzustände verwenden, ist jedoch etwas anders als diese, also halten Sie nicht zu sehr an Ihrer bisherigen Intuition fest.\n",
    "Es ist an der Zeit, etwas Neues zu tun!\n",
    "\n",
    "Mit Vektoren können wir komplexere Zustände als nur $|0\\rangle$ und $|1\\rangle$ beschreiben.\n",
    "Betrachten Sie zum Beispiel den Vektor\n",
    "\n",
    "$$ |q_0\\rangle = \\begin{bmatrix} \\tfrac{1}{\\sqrt{2}} \\\\ \\tfrac{i}{\\sqrt{2}} \\end{bmatrix}.$$\n",
    "\n",
    "Um zu verstehen, was dieser Zustand bedeutet, müssen wir die mathematischen Regeln für die Manipulation von Vektoren anwenden.\n",
    "Insbesondere müssen wir verstehen, wie man Vektoren addiert und wie man sie mit Skalaren multipliziert.\n",
    "\n",
    "<p>\n",
    "    <details>\n",
    "    <summary>Reminder: Matrixaddition und Multiplikation mit Skalaren (Klick hier für Vergrößerung)</summary>\n",
    "    <p>\n",
    "        Um zwei Vektoren zu addieren, addieren wir ihre Elemente zusammen:\n",
    "        $$ \n",
    "            |a\\rangle = \\begin{bmatrix}a_0 \\\\ a_1 \\\\ \\vdots \\\\ a_n \\end{bmatrix}, \\quad\n",
    "            |b\\rangle = \\begin{bmatrix}b_0 \\\\ b_1 \\\\ \\vdots \\\\ b_n \\end{bmatrix}\n",
    "        $$\n",
    "        $$ |a\\rangle + |b\\rangle = \\begin{bmatrix}a_0 + b_0 \\\\ a_1 + b_1 \\\\ \\vdots \\\\ a_n + b_n \\end{bmatrix} $$\n",
    "    </p>\n",
    "    <p>\n",
    "        Und um einen Vektor mit einem Skalar zu multiplizieren, multiplizieren wir jedes Element mit dem Skalar:\n",
    "        $$ x|a\\rangle = \\begin{bmatrix}x \\times a_0 \\\\ x \\times  a_1 \\\\ \\vdots \\\\ x \\times  a_n \\end{bmatrix} $$\n",
    "    </p>\n",
    "    <p>\n",
    "        Mit diesen beiden Regeln lässt sich der Vektor $|q_0\\rangle$ (wie oben gezeigt) umschreiben:\n",
    "        $$\n",
    "        \\begin{aligned} \n",
    "            |q_0\\rangle & = \\tfrac{1}{\\sqrt{2}}|0\\rangle + \\tfrac{i}{\\sqrt{2}}|1\\rangle \\\\\n",
    "                        & = \\tfrac{1}{\\sqrt{2}}\\begin{bmatrix}1\\\\0\\end{bmatrix} + \n",
    "                            \\tfrac{i}{\\sqrt{2}}\\begin{bmatrix}0\\\\1\\end{bmatrix}\\\\\n",
    "                        & = \\begin{bmatrix}\\tfrac{1}{\\sqrt{2}}\\\\0\\end{bmatrix} + \n",
    "                            \\begin{bmatrix}0\\\\\\tfrac{i}{\\sqrt{2}}\\end{bmatrix}\\\\\n",
    "                        & = \\begin{bmatrix}\\tfrac{1}{\\sqrt{2}} \\\\ \\tfrac{i}{\\sqrt{2}} \\end{bmatrix}\\\\\n",
    "        \\end{aligned}\n",
    "        $$\n",
    "    </details>\n",
    "</p>\n",
    "<p>\n",
    "    <details>\n",
    "    <summary>\n",
    "        Erinnerung: Orthonormalbasen (Klicken Sie hier, um zu erweitern)\n",
    "    </summary>\n",
    "    <p>\n",
    "        Es wurde bereits gesagt, dass die beiden Vektoren $|0\\rangle$ und $|1\\rangle$ orthonormal sind, das heißt, sie sind beide <i>orthogonal</i> und <i>normalisiert</i>. Orthogonal bedeutet, dass die Vektoren im rechten Winkel zueinander stehen:\n",
    "    </p>\n",
    "    <p>\n",
    "        <img src=\"../assets/02-Quantenzustaende_LineareAlgebraI/basis.svg\">\n",
    "    </p>\n",
    "    <p>\n",
    "        Und normalisiert bedeutet, dass ihre Beträge (Länge des Pfeils) gleich 1 sind. \n",
    "        Die beiden Vektoren $|0\\rangle$ und $|1\\rangle$ sind <i>linear unabhängig</i>, das heißt, wir können $|0\\rangle$ nicht durch $|1\\rangle$ beschreiben und umgekehrt. \n",
    "        Mit Hilfe der beiden Vektoren $|0\\rangle$ und $|1\\rangle$ und unseren Regeln der Addition und Multiplikation mit Skalaren können wir jedoch alle möglichen Vektoren im 2D-Raum beschreiben:\n",
    "    </p>\n",
    "    <p>\n",
    "        <img src=\"../assets/02-Quantenzustaende_LineareAlgebraI/basis2.svg\">\n",
    "    </p>\n",
    "    <p>\n",
    "        Da die Vektoren $|0\\rangle$ und $|1\\rangle$ linear unabhängig sind und mit Hilfe von Vektoraddition und Skalarmultiplikation jeden beliebigen Vektor im 2D-Raum beschreiben können, sagen wir, die Vektoren $|0\\rangle$ und $|1\\rangle$ bilden eine <i>Basis</i>. \n",
    "        Da sie in diesem Fall beide orthogonal und normalisiert sind, nennen wir sie eine <i>orthonormale Basis</i>.\n",
    "    </details>\n",
    "</p>\n",
    "\n",
    "Da die Zustände $|0\\rangle$ und $|1\\rangle$ eine orthonormale Basis bilden, können wir jeden 2D-Vektor mit einer Kombination aus diesen beiden Zuständen darstellen. \n",
    "Dies erlaubt uns, den Zustand unseres Qubits in der alternativen Form zu schreiben:\n",
    "\n",
    "$$ |q_0\\rangle = \\tfrac{1}{\\sqrt{2}}|0\\rangle + \\tfrac{i}{\\sqrt{2}}|1\\rangle $$\n",
    "\n",
    "Dieser Vektor, $|q_0\\rangle$, wird der Zustandsvektor des Qubits genannt, er sagt uns alles, was wir über dieses Qubit wissen können. \n",
    "Im Moment können wir nur ein paar einfache Schlüsse über dieses spezielle Beispiel eines Zustandsvektors ziehen: Er ist nicht ganz $|0\\rangle$ und nicht ganz $|1\\rangle$.\n",
    "Stattdessen wird er durch eine Linearkombination aus beiden beschrieben. \n",
    "In der Quantenmechanik beschreiben wir solche Linearkombinationen typischerweise mit dem Wort \"Superposition\".\n",
    "\n",
    "Obwohl unser Beispielzustand $|q_0\\rangle$ als eine Superposition von $|0\\rangle$ und $|1\\rangle$ ausgedrückt werden kann, ist er nicht weniger ein eindeutiger und wohldefinierter Qubit-Zustand als diese.\n",
    "Um dies zu sehen, können wir beginnen zu erforschen, wie ein Qubit manipuliert werden kann.\n",
    "\n",
    "### 1.3 Qubits mit Qiskit erforschen <a id=\"exploring-qubits\"></a>\n",
    "\n",
    "Zuerst müssen wir alle Werkzeuge importieren, die wir benötigen:"
   ]
  },
  {
   "cell_type": "code",
   "execution_count": 1,
   "metadata": {},
   "outputs": [
    {
     "name": "stderr",
     "output_type": "stream",
     "text": [
      "/Applications/anaconda3/envs/qcmb-training/lib/python3.8/site-packages/ipykernel/ipkernel.py:283: DeprecationWarning: `should_run_async` will not call `transform_cell` automatically in the future. Please pass the result to `transformed_cell` argument and any exception that happen during thetransform in `preprocessing_exc_tuple` in IPython 7.17 and above.\n",
      "  and should_run_async(code)\n"
     ]
    }
   ],
   "source": [
    "from qiskit import QuantumCircuit, execute, Aer\n",
    "from qiskit.visualization import plot_histogram, plot_bloch_vector\n",
    "from math import sqrt, pi"
   ]
  },
  {
   "cell_type": "markdown",
   "metadata": {},
   "source": [
    "In Qiskit verwenden wir das Objekt `QuantumCircuit`, um unsere Schaltungen zu speichern.\n",
    "Dies ist im Wesentlichen eine Liste der Quantenoperationen auf unserer Schaltung und der Qubits, auf welche die angewendet werden."
   ]
  },
  {
   "cell_type": "code",
   "execution_count": 2,
   "metadata": {},
   "outputs": [
    {
     "name": "stderr",
     "output_type": "stream",
     "text": [
      "/Applications/anaconda3/envs/qcmb-training/lib/python3.8/site-packages/ipykernel/ipkernel.py:283: DeprecationWarning: `should_run_async` will not call `transform_cell` automatically in the future. Please pass the result to `transformed_cell` argument and any exception that happen during thetransform in `preprocessing_exc_tuple` in IPython 7.17 and above.\n",
      "  and should_run_async(code)\n"
     ]
    }
   ],
   "source": [
    "qc = QuantumCircuit(1) # Erstellen einer Quantenschaltung mit einem Qubit"
   ]
  },
  {
   "cell_type": "markdown",
   "metadata": {},
   "source": [
    "In unseren Quantenschaltungen beginnen unsere Qubits immer mit dem Zustand $|0\\rangle$.\n",
    "Mit der Methode `initialize()` können wir diesen in einen beliebigen Zustand überführen. \n",
    "Wir geben `initialize()` den gewünschten Vektor in Form einer Liste und sagen ihm, welche(s) Qubit(s) wir in diesem Zustand initialisieren wollen:"
   ]
  },
  {
   "cell_type": "code",
   "execution_count": 3,
   "metadata": {},
   "outputs": [
    {
     "data": {
      "text/html": [
       "<pre style=\"word-wrap: normal;white-space: pre;background: #fff0;line-height: 1.1;font-family: &quot;Courier New&quot;,Courier,monospace\">     ┌─────────────────┐\n",
       "q_0: ┤ initialize(0,1) ├\n",
       "     └─────────────────┘</pre>"
      ],
      "text/plain": [
       "     ┌─────────────────┐\n",
       "q_0: ┤ initialize(0,1) ├\n",
       "     └─────────────────┘"
      ]
     },
     "execution_count": 3,
     "metadata": {},
     "output_type": "execute_result"
    }
   ],
   "source": [
    "qc = QuantumCircuit(1) # Erzeugen einer Quantenschaltung mit einem Qubit\n",
    "initial_state = [0,1] # Definieren Sie initial_state als |1>\n",
    "qc.initialize(initial_state, 0) # Initialisierungs-Operation auf das 0te Qubit anwenden\n",
    "qc.draw() # Lassen Sie uns unsere Schaltung betrachten"
   ]
  },
  {
   "cell_type": "markdown",
   "metadata": {},
   "source": [
    "Wir können dann einen der Simulatoren von Qiskit verwenden, um den resultierenden Zustand unseres Qubits zu betrachten. \n",
    "Für den Anfang werden wir den Zustandsvektor-Simulator verwenden, aber wir werden die verschiedenen Simulatoren und ihre Verwendung später erklären."
   ]
  },
  {
   "cell_type": "code",
   "execution_count": 4,
   "metadata": {},
   "outputs": [],
   "source": [
    "backend = Aer.get_backend('statevector_simulator') # Qiskit mitteilen, wie unsere Schaltung simuliert werden soll"
   ]
  },
  {
   "cell_type": "markdown",
   "metadata": {},
   "source": [
    "Um die Ergebnisse unserer Schaltung zu erhalten, verwenden wir `execute`, um unsere Schaltung auszuführen, wobei wir die Schaltung und das Backend als Argumente angeben. \n",
    "Wir verwenden dann `.result()`, um das Ergebnis zu erhalten:"
   ]
  },
  {
   "cell_type": "code",
   "execution_count": 5,
   "metadata": {},
   "outputs": [],
   "source": [
    "qc = QuantumCircuit(1) # Erzeugen einer Quantenschaltung mit einem Qubit\n",
    "initial_state = [0,1] # Definieren Sie initial_state als |1>\n",
    "qc.initialize(initial_state, 0) # Initialisierungsoperation auf das 0. Qubit anwenden\n",
    "result = execute(qc,backend).result() # Führt die Simulation durch und gibt das Ergebnis zurück"
   ]
  },
  {
   "cell_type": "markdown",
   "metadata": {},
   "source": [
    "von `result`, können wir dann den endgültigen Zustandsvektor mit `.get_statevector()` erhalten:"
   ]
  },
  {
   "cell_type": "code",
   "execution_count": 6,
   "metadata": {},
   "outputs": [
    {
     "name": "stdout",
     "output_type": "stream",
     "text": [
      "[0.+0.j 1.+0.j]\n"
     ]
    },
    {
     "name": "stderr",
     "output_type": "stream",
     "text": [
      "/Applications/anaconda3/envs/qcmb-training/lib/python3.8/site-packages/ipykernel/ipkernel.py:283: DeprecationWarning: `should_run_async` will not call `transform_cell` automatically in the future. Please pass the result to `transformed_cell` argument and any exception that happen during thetransform in `preprocessing_exc_tuple` in IPython 7.17 and above.\n",
      "  and should_run_async(code)\n"
     ]
    }
   ],
   "source": [
    "qc = QuantumCircuit(1) # Erzeugen einer Quantenschaltung mit einem Qubit\n",
    "initial_state = [0,1] # Definieren Sie initial_state als |1>\n",
    "qc.initialize(initial_state, 0) # Initialisierungsoperation auf das 0. Qubit anwenden\n",
    "result = execute(qc,backend).result() # Führt die Simulation durch und gibt das Ergebnis zurück\n",
    "out_state = result.get_statevector()\n",
    "print(out_state) # Den ausgegebenen Zustandsvektor anzeigen"
   ]
  },
  {
   "cell_type": "markdown",
   "metadata": {},
   "source": [
    "**Hinweis:** \\\n",
    "Python verwendet `j` zur Darstellung von $i$ in komplexen Zahlen.\n",
    "Wir sehen einen Vektor mit zwei komplexen Elementen: `0.+0.j` = 0, und `1.+0.j` = 1.\n",
    "\n",
    "Lassen Sie uns nun unser Qubit wie in einem echten Quantencomputer messen und das Ergebnis sehen:"
   ]
  },
  {
   "cell_type": "code",
   "execution_count": 7,
   "metadata": {},
   "outputs": [
    {
     "data": {
      "text/html": [
       "<pre style=\"word-wrap: normal;white-space: pre;background: #fff0;line-height: 1.1;font-family: &quot;Courier New&quot;,Courier,monospace\">        ┌─────────────────┐ ░ ┌─┐\n",
       "   q_0: ┤ initialize(0,1) ├─░─┤M├\n",
       "        └─────────────────┘ ░ └╥┘\n",
       "meas: 1/═══════════════════════╩═\n",
       "                               0 </pre>"
      ],
      "text/plain": [
       "        ┌─────────────────┐ ░ ┌─┐\n",
       "   q_0: ┤ initialize(0,1) ├─░─┤M├\n",
       "        └─────────────────┘ ░ └╥┘\n",
       "meas: 1/═══════════════════════╩═\n",
       "                               0 "
      ]
     },
     "execution_count": 7,
     "metadata": {},
     "output_type": "execute_result"
    }
   ],
   "source": [
    "qc.measure_all()\n",
    "qc.draw()"
   ]
  },
  {
   "cell_type": "markdown",
   "metadata": {},
   "source": [
    "Diesmal erhalten wir anstelle des Zustandsvektors die Zählerstände für die Ergebnisse `0` und `1` mit `.get_counts()`:"
   ]
  },
  {
   "cell_type": "code",
   "execution_count": 8,
   "metadata": {},
   "outputs": [
    {
     "name": "stderr",
     "output_type": "stream",
     "text": [
      "/Applications/anaconda3/envs/qcmb-training/lib/python3.8/site-packages/qiskit/visualization/counts_visualization.py:185: PendingDeprecationWarning: \n",
      "The label function will be deprecated in a future version. Use Tick.label1 instead.\n",
      "  tick.label.set_fontsize(14)\n"
     ]
    },
    {
     "data": {
      "image/png": "[encoded data removed]",
      "text/plain": [
       "<Figure size 504x360 with 1 Axes>"
      ]
     },
     "execution_count": 8,
     "metadata": {},
     "output_type": "execute_result"
    }
   ],
   "source": [
    "result = execute(qc,backend).result()\n",
    "counts = result.get_counts()\n",
    "plot_histogram(counts)"
   ]
  },
  {
   "cell_type": "markdown",
   "metadata": {},
   "source": [
    "Wir können sehen, dass wir (wenig überraschend) eine 100%ige Chance haben, $|1\\rangle$ zu messen.\n",
    "Dieses Mal wollen wir stattdessen unser Qubit in eine Superposition bringen und sehen, was passiert.\n",
    "Wir werden den Zustand $|q_0\\rangle$ von früher in diesem Abschnitt verwenden:\n",
    "\n",
    "$$ |q_0\\rangle = \\tfrac{1}{\\sqrt{2}}|0\\rangle + \\tfrac{i}{\\sqrt{2}}|1\\rangle $$\n",
    "\n",
    "Wir müssen diese Amplituden zu einer Python-Liste hinzufügen. \n",
    "Um eine komplexe Amplitude hinzuzufügen, verwenden wir `complex` und geben den Real- und Imaginärteil als Argumente an:"
   ]
  },
  {
   "cell_type": "code",
   "execution_count": 9,
   "metadata": {},
   "outputs": [],
   "source": [
    "initial_state = [1/sqrt(2), 1j/sqrt(2)] # Zustand definieren |q_0>"
   ]
  },
  {
   "cell_type": "markdown",
   "metadata": {},
   "source": [
    "Und wir wiederholen dann die Schritte zur Initialisierung des Qubits wie zuvor:"
   ]
  },
  {
   "cell_type": "code",
   "execution_count": 10,
   "metadata": {},
   "outputs": [
    {
     "name": "stdout",
     "output_type": "stream",
     "text": [
      "[0.70710678+0.j         0.        +0.70710678j]\n"
     ]
    }
   ],
   "source": [
    "qc = QuantumCircuit(1) # Muss qc redefinieren\n",
    "qc.initialize(initial_state, 0) # Initialisiere das 0. Qubit im Zustand `initial_state`\n",
    "state = execute(qc,backend).result().get_statevector() # Führt die Schaltung aus\n",
    "print(state) # Das Ergebnis drucken"
   ]
  },
  {
   "cell_type": "code",
   "execution_count": 11,
   "metadata": {},
   "outputs": [
    {
     "data": {
      "image/png": "[encoded data removed]",
      "text/plain": [
       "<Figure size 504x360 with 1 Axes>"
      ]
     },
     "execution_count": 11,
     "metadata": {},
     "output_type": "execute_result"
    }
   ],
   "source": [
    "results = execute(qc,backend).result().get_counts()\n",
    "plot_histogram(results)"
   ]
  },
  {
   "cell_type": "markdown",
   "metadata": {},
   "source": [
    "Wir können sehen, dass wir die gleiche Wahrscheinlichkeit haben, entweder $|0\\rangle$ oder $|1\\rangle$ zu messen.\n",
    "Um dies zu erklären, müssen wir über die Messung sprechen.\n",
    "\n",
    "\n",
    "## 2. Die Regeln des Messens <a id=\"regeln-zum-messen\"></a>\n",
    "\n",
    "### 2.1 Eine sehr wichtige Regel <a id=\"wichtig-regel\"></a>\n",
    "\n",
    "Für die Messung gibt es eine einfache Regel.\n",
    "Um die Wahrscheinlichkeit zu finden, einen Zustand $|\\psi \\rangle$ im Zustand $|x\\rangle$ zu messen, betrachten wir:\n",
    "\n",
    "$$ p(|x\\rangle) = | \\langle x| \\psi \\rangle|^2 $$\n",
    "\n",
    "Die Symbole $\\langle$ und $|$ sagen uns, dass $\\langle x |$ ein Zeilenvektor ist.\n",
    "In der Quantenmechanik nennen wir die Spaltenvektoren _kets_ und die Zeilenvektoren _bras_.\n",
    "Zusammen bilden sie die _bra-ket_-Notation.\n",
    "Jedes Ket $|a\\rangle$ hat eine entsprechende BH $\\langle a|$, und wir konvertieren zwischen ihnen mit Hilfe der konjugierten Transponierung.\n",
    "\n",
    "<details>\n",
    "    <summary>\n",
    "        Erinnerung: Das innere Produkt (Klicken Sie hier, um zu erweitern)\n",
    "    </summary>\n",
    "    <p>\n",
    "        Es gibt verschiedene Möglichkeiten, Vektoren zu multiplizieren, hier verwenden wir das <i>innere Produkt</i>. \n",
    "        Das innere Produkt ist eine Verallgemeinerung des <i>Punktprodukts</i>, mit dem Sie vielleicht schon vertraut sind. \n",
    "        In dieser Anleitung verwenden wir das innere Produkt zwischen einem BH (Zeilenvektor) und einem Ket (Spaltenvektor), und es folgt dieser Regel:\n",
    "        $$\n",
    "            \\langle a| = \\begin{bmatrix}a_0^*, & a_1^*, & \\dots & a_n^* \\end{bmatrix}, \\quad\n",
    "            |b\\rangle = \\begin{bmatrix}b_0 \\\\ b_1 \\\\ \\vdots \\\\ b_n \\end{bmatrix}\n",
    "        $$\n",
    "        $$ \\langle a|b\\rangle = a_0^* b_0 + a_1^* b_1 \\dots a_n^* b_n $$\n",
    "    </p>\n",
    "    <p>\n",
    "        Wir sehen, dass das innere Produkt zweier Vektoren uns immer einen Skalar liefert. \n",
    "        Eine nützliche Sache, die man sich merken sollte, ist, dass das innere Produkt von zwei orthogonalen Vektoren 0 ist, wenn wir zum Beispiel die orthogonalen Vektoren $|0\\rangle$ und $|1\\rangle$ haben:\n",
    "        \n",
    "        $$\\langle1|0\\rangle = \\begin{bmatrix} 0 , & 1\\end{bmatrix}\\begin{bmatrix}1 \\\\ 0\\end{bmatrix} = 0$$\n",
    "    </p>\n",
    "    <p>\n",
    "        Zusätzlich ist zu beachten, dass die Vektoren $|0\\rangle$ und $|1\\rangle$ ebenfalls normiert sind (die Beträge sind gleich 1):\n",
    "    \n",
    "        $$\n",
    "        \\begin{aligned} \n",
    "            \\langle 0|0\\rangle & = \\begin{bmatrix} 1 , & 0\\end{bmatrix}\\begin{bmatrix}1 \\\\\\ 0\\end{bmatrix} = 1 \\\\\\\n",
    "            \\langle 1|1\\rangle & = \\begin{bmatrix} 0 , & 1\\end{bmatrix}\\begin{bmatrix}0 \\\\\\ 1\\end{bmatrix} = 1\n",
    "        \\end{aligned}\n",
    "        $$\n",
    "   </p>\n",
    "</details>\n",
    "\n",
    "In der obigen Gleichung kann $|x\\rangle$ ein beliebiger Qubit-Zustand sein.\n",
    "Um die Wahrscheinlichkeit der Messung von $|x\\rangle$ zu finden, nehmen wir das innere Produkt von $|x\\rangle$ und dem Zustand, den wir messen (in diesem Fall $|\\psi\\rangle$), und quadrieren dann den Betrag. \n",
    "Dies mag ein wenig umständlich erscheinen, aber es wird bald zur zweiten Natur werden.\n",
    "\n",
    "Wenn wir uns den Zustand $|q_0\\rangle$ von vorhin ansehen, sehen wir, dass die Wahrscheinlichkeit, $|0\\rangle$ zu messen, tatsächlich $0,5$ ist:\n",
    "\n",
    "$$\n",
    "\\begin{aligned}\n",
    "    |q_0\\rangle & = \\tfrac{1}{\\sqrt{2}}|0\\rangle + \\tfrac{i}{\\sqrt{2}}|1\\rangle \\langle 0| q_0 \\rangle  \n",
    "                & = \\tfrac{1}{\\sqrt{2}} \\langle 0|0\\rangle + \\tfrac{i}{\\sqrt{2}} \\langle 0|1\\rangle \\\\\n",
    "                & = \\tfrac{1}{\\sqrt{2}} \\cdot 1 +  \\tfrac{i}{\\sqrt{2}} \\cdot 0\\\\\n",
    "                & = \\tfrac{1}{\\sqrt{2}} \\langle 0| q_0 \\rangle|^2 & = \\tfrac{1}{2}\n",
    "\\end{aligned}\n",
    "$$\n",
    "\n",
    "Als Übung sollten Sie die Wahrscheinlichkeit der Messung von $|1\\rangle$ nachweisen.\n",
    "\n",
    "Diese Regel regelt, wie wir Informationen aus Quantenzuständen erhalten. \n",
    "Sie ist daher sehr wichtig für alles, was wir in der Quantenberechnung tun. \n",
    "Sie impliziert auch unmittelbar mehrere wichtige Fakten.\n",
    "\n",
    "### 2.2 Die Implikationen dieser Regel <a id=\"implications\"></a>\n",
    "### 1. Normalisierung\n",
    "\n",
    "Die Regel zeigt uns, dass Amplituden mit Wahrscheinlichkeiten verbunden sind. Wenn wir wollen, dass die Wahrscheinlichkeiten sich zu 1 addieren (was sie sollten!), müssen wir sicherstellen, dass der Zustandsvektor richtig normalisiert ist. \n",
    "Genauer gesagt muss der Betrag des Zustandsvektors 1 sein.\n",
    "\n",
    "$$ \\langle\\psi|\\psi\\rangle = 1 \\\\ $$\n",
    "\n",
    "Dies erklärt die Faktoren von $\\sqrt{2}$, die Sie im Laufe dieses Kapitels gesehen haben. \n",
    "Wenn wir versuchen, `initialize()` einen Vektor zu geben, der nicht normalisiert ist, wird es uns einen Fehler liefern:"
   ]
  },
  {
   "cell_type": "code",
   "execution_count": 12,
   "metadata": {},
   "outputs": [
    {
     "ename": "QiskitError",
     "evalue": "'Sum of amplitudes-squared does not equal one.'",
     "output_type": "error",
     "traceback": [
      "\u001b[0;31m---------------------------------------------------------------------------\u001b[0m",
      "\u001b[0;31mQiskitError\u001b[0m                               Traceback (most recent call last)",
      "\u001b[0;32m<ipython-input-12-ddc73828b990>\u001b[0m in \u001b[0;36m<module>\u001b[0;34m\u001b[0m\n\u001b[1;32m      1\u001b[0m \u001b[0mvector\u001b[0m \u001b[0;34m=\u001b[0m \u001b[0;34m[\u001b[0m\u001b[0;36m1\u001b[0m\u001b[0;34m,\u001b[0m\u001b[0;36m1\u001b[0m\u001b[0;34m]\u001b[0m\u001b[0;34m\u001b[0m\u001b[0;34m\u001b[0m\u001b[0m\n\u001b[0;32m----> 2\u001b[0;31m \u001b[0mqc\u001b[0m\u001b[0;34m.\u001b[0m\u001b[0minitialize\u001b[0m\u001b[0;34m(\u001b[0m\u001b[0mvector\u001b[0m\u001b[0;34m,\u001b[0m \u001b[0;36m0\u001b[0m\u001b[0;34m)\u001b[0m\u001b[0;34m\u001b[0m\u001b[0;34m\u001b[0m\u001b[0m\n\u001b[0m",
      "\u001b[0;32m/Applications/anaconda3/envs/qcmb-training/lib/python3.8/site-packages/qiskit/extensions/quantum_initializer/initializer.py\u001b[0m in \u001b[0;36minitialize\u001b[0;34m(self, params, qubits)\u001b[0m\n\u001b[1;32m    272\u001b[0m     \u001b[0;32mif\u001b[0m \u001b[0;32mnot\u001b[0m \u001b[0misinstance\u001b[0m\u001b[0;34m(\u001b[0m\u001b[0mqubits\u001b[0m\u001b[0;34m,\u001b[0m \u001b[0mlist\u001b[0m\u001b[0;34m)\u001b[0m\u001b[0;34m:\u001b[0m\u001b[0;34m\u001b[0m\u001b[0;34m\u001b[0m\u001b[0m\n\u001b[1;32m    273\u001b[0m         \u001b[0mqubits\u001b[0m \u001b[0;34m=\u001b[0m \u001b[0;34m[\u001b[0m\u001b[0mqubits\u001b[0m\u001b[0;34m]\u001b[0m\u001b[0;34m\u001b[0m\u001b[0;34m\u001b[0m\u001b[0m\n\u001b[0;32m--> 274\u001b[0;31m     \u001b[0;32mreturn\u001b[0m \u001b[0mself\u001b[0m\u001b[0;34m.\u001b[0m\u001b[0mappend\u001b[0m\u001b[0;34m(\u001b[0m\u001b[0mInitialize\u001b[0m\u001b[0;34m(\u001b[0m\u001b[0mparams\u001b[0m\u001b[0;34m)\u001b[0m\u001b[0;34m,\u001b[0m \u001b[0mqubits\u001b[0m\u001b[0;34m)\u001b[0m\u001b[0;34m\u001b[0m\u001b[0;34m\u001b[0m\u001b[0m\n\u001b[0m\u001b[1;32m    275\u001b[0m \u001b[0;34m\u001b[0m\u001b[0m\n\u001b[1;32m    276\u001b[0m \u001b[0;34m\u001b[0m\u001b[0m\n",
      "\u001b[0;32m/Applications/anaconda3/envs/qcmb-training/lib/python3.8/site-packages/qiskit/extensions/quantum_initializer/initializer.py\u001b[0m in \u001b[0;36m__init__\u001b[0;34m(self, params)\u001b[0m\n\u001b[1;32m     55\u001b[0m         if not math.isclose(sum(np.absolute(params) ** 2), 1.0,\n\u001b[1;32m     56\u001b[0m                             abs_tol=_EPS):\n\u001b[0;32m---> 57\u001b[0;31m             \u001b[0;32mraise\u001b[0m \u001b[0mQiskitError\u001b[0m\u001b[0;34m(\u001b[0m\u001b[0;34m\"Sum of amplitudes-squared does not equal one.\"\u001b[0m\u001b[0;34m)\u001b[0m\u001b[0;34m\u001b[0m\u001b[0;34m\u001b[0m\u001b[0m\n\u001b[0m\u001b[1;32m     58\u001b[0m \u001b[0;34m\u001b[0m\u001b[0m\n\u001b[1;32m     59\u001b[0m         \u001b[0mnum_qubits\u001b[0m \u001b[0;34m=\u001b[0m \u001b[0mint\u001b[0m\u001b[0;34m(\u001b[0m\u001b[0mnum_qubits\u001b[0m\u001b[0;34m)\u001b[0m\u001b[0;34m\u001b[0m\u001b[0;34m\u001b[0m\u001b[0m\n",
      "\u001b[0;31mQiskitError\u001b[0m: 'Sum of amplitudes-squared does not equal one.'"
     ]
    }
   ],
   "source": [
    "vector = [1,1]\n",
    "qc.initialize(vector, 0)"
   ]
  },
  {
   "cell_type": "markdown",
   "metadata": {},
   "source": [
    "#### Schnellübung\n",
    "\n",
    "1. Erzeugen Sie einen Zustandsvektor, der eine $1/3$-Wahrscheinlichkeit für die Messung von $|0\\rangle$ ergibt.\n",
    "2. Erzeugen Sie einen anderen Zustandsvektor, der die gleichen Messwahrscheinlichkeiten ergibt.\n",
    "3. Prüfen Sie, dass die Messwahrscheinlichkeit $|1\\rangle$ für diese beiden Zustände $2/3$ beträgt."
   ]
  },
  {
   "cell_type": "code",
   "execution_count": null,
   "metadata": {},
   "outputs": [],
   "source": [
    "# Starten Sie hier!"
   ]
  },
  {
   "cell_type": "markdown",
   "metadata": {},
   "source": [
    "### 2 Alternative Messung\n",
    "\n",
    "Die Messregel gibt uns die Wahrscheinlichkeit $p(|x\\rangle)$, dass ein Zustand $|\\psi\\rangle$ als $|x\\rangle$ gemessen wird. \n",
    "Nirgends sagt sie uns, dass $|x\\rangle$ nur entweder $|0\\rangle$ oder $|1\\rangle$ sein kann.\n",
    "\n",
    "Die Messungen, die wir bisher betrachtet haben, sind in der Tat nur eine von unendlich vielen möglichen Arten, ein Qubit zu messen. \n",
    "Für jedes orthogonale Paar von Zuständen können wir eine Messung definieren, die ein Qubit dazu veranlasst, zwischen den beiden zu wählen.\n",
    "\n",
    "Diese Möglichkeit wird im nächsten Abschnitt näher untersucht. \n",
    "Für den Moment sollten Sie sich einfach vor Augen halten, dass $|x\\rangle$ nicht darauf beschränkt ist, einfach $|0\\rangle$ oder $|1\\rangle$ zu sein."
   ]
  },
  {
   "cell_type": "markdown",
   "metadata": {},
   "source": [
    "### 3 Globale Phase\n",
    "\n",
    "Wir wissen, dass die Messung des Zustands $|1\\rangle$ uns mit Sicherheit den Ausgang `1` liefert. Wir sind aber auch in der Lage, Zustände aufzuschreiben wie \n",
    "\n",
    "$$\\begin{bmatrix}0 \\\\\\ i\\end{bmatrix} = i|1\\rangle.$$\n",
    "\n",
    "Um zu sehen, wie sich das verhält, wenden wir die Messregel an.\n",
    "\n",
    "$$ |\\langle x| (i|1\\rangle) |^2 = | i \\langle x|1\\rangle|^2 = |\\langle x|1\\rangle|^2 $$\n",
    "\n",
    "Hier stellen wir fest, dass der Faktor von $i$ verschwindet, sobald wir den Betrag der komplexen Zahl nehmen. Dieser Effekt ist völlig unabhängig von dem gemessenen Zustand $|x\\rangle$. Es spielt keine Rolle, welche Messung wir betrachten, die Wahrscheinlichkeiten für den Zustand $i|1\\rangle$ sind identisch mit denen für $|1\\rangle$. Da Messungen die einzige Möglichkeit sind, einem Qubit Informationen zu entlocken, impliziert dies, dass diese beiden Zustände in jeder physikalisch relevanten Hinsicht äquivalent sind.\n",
    "\n",
    "Allgemeiner ausgedrückt, bezeichnen wir jeden Gesamtfaktor $\\gamma$ auf einen Zustand, für den $|\\gamma|=1$ gilt, als \"globale Phase\". Zustände, die sich nur durch eine globale Phase unterscheiden, sind physikalisch ununterscheidbar.\n",
    "\n",
    "$$ |\\langle x| ( \\gamma |a\\rangle) |^2 = | \\gamma \\langle x|a\\rangle|^2 = |\\langle x|a\\rangle|^2 $$\n",
    "\n",
    "Beachten Sie, dass dies ein Unterschied zur Phasendifferenz _zwischen_ Termen in einer Überlagerung ist, die als \"relative Phase\" bezeichnet wird. Dies wird relevant, sobald wir verschiedene Arten der Messung und mehrere Qubits betrachten.\n",
    "\n",
    "\n",
    "### 4 Der Beobachtereffekt\n",
    "\n",
    "Wir wissen, dass die Amplituden Informationen über die Wahrscheinlichkeit enthalten, dass wir das Qubit in einem bestimmten Zustand vorfinden, aber sobald wir das Qubit gemessen haben, wissen wir mit Sicherheit, was der Zustand des Qubits ist. \n",
    "Wenn wir zum Beispiel ein Qubit in dem Zustand messen:\n",
    "\n",
    "$$ |q\\rangle = \\alpha|0\\rangle + \\beta|1\\rangle $$\n",
    "\n",
    "und finden es im Zustand $|0\\rangle$, so besteht bei erneuter Messung eine 100%ige Chance, das Qubit im Zustand $|0\\rangle$ zu finden. \n",
    "Das heißt, der Akt des Messens _verändert_ den Zustand unserer Qubits.\n",
    "\n",
    "$$ |q\\rangle = \\begin{bmatrix} \\alpha \\\\ \\beta \\end{bmatrix} \\xrightarrow{\\text{\\maße}|0\\rangle} |q\\rangle = |0\\rangle = \\begin{bmatrix} 1 \\\\\\ 0 \\end{bmatrix} $$\n",
    "\n",
    "Wir bezeichnen dies manchmal als _Kollabieren_ des Zustands des Qubits. \n",
    "Es ist ein potenter Effekt und daher einer, der mit Bedacht eingesetzt werden muss.\n",
    "Würden wir zum Beispiel jedes unserer Qubits ständig messen, um ihren Wert an jedem Punkt einer Berechnung zu verfolgen, würden sie sich immer einfach in einem wohldefinierten Zustand von entweder $|0\\rangle$ oder $|1\\rangle$ befinden.\n",
    "Als solche würden sie sich nicht von klassischen Bits unterscheiden und unsere Berechnung könnte leicht durch eine klassische Berechnung ersetzt werden.\n",
    "Um eine echte Quantenberechnung zu erreichen, müssen wir den Qubits erlauben, komplexere Zustände zu erforschen. \n",
    "Messungen werden daher nur verwendet, wenn wir eine Ausgabe extrahieren müssen.\n",
    "Das bedeutet, dass wir oft alle Messungen an das Ende unserer Quantenschaltung setzen. \n",
    "\n",
    "Wir können dies mit dem Zustandsvektor-Simulator von Qiskit demonstrieren. \n",
    "Lassen Sie uns ein Qubit in Superposition initialisieren: "
   ]
  },
  {
   "cell_type": "code",
   "execution_count": 13,
   "metadata": {},
   "outputs": [
    {
     "data": {
      "text/html": [
       "<pre style=\"word-wrap: normal;white-space: pre;background: #fff0;line-height: 1.1;font-family: &quot;Courier New&quot;,Courier,monospace\">     ┌──────────────────────────────┐\n",
       "q_0: ┤ initialize(0.70711j,0.70711) ├\n",
       "     └──────────────────────────────┘</pre>"
      ],
      "text/plain": [
       "     ┌──────────────────────────────┐\n",
       "q_0: ┤ initialize(0.70711j,0.70711) ├\n",
       "     └──────────────────────────────┘"
      ]
     },
     "execution_count": 13,
     "metadata": {},
     "output_type": "execute_result"
    }
   ],
   "source": [
    "qc = QuantumCircuit(1) # Wir definieren qc neu\n",
    "initial_state = [0.+1.j/sqrt(2),1/sqrt(2)+0.j]\n",
    "qc.initialize(initial_state, 0)\n",
    "qc.draw()"
   ]
  },
  {
   "cell_type": "markdown",
   "metadata": {},
   "source": [
    "Dies sollte unser Qubit in dem Zustand initialisieren:\n",
    "\n",
    "$$ |q\\rangle = \\tfrac{i}{\\sqrt{2}}|0\\rangle + \\tfrac{1}{\\sqrt{2}}|1\\rangle $$\n",
    "\n",
    "Wir können dies mit Hilfe des Simulators verifizieren:"
   ]
  },
  {
   "cell_type": "code",
   "execution_count": 14,
   "metadata": {},
   "outputs": [
    {
     "name": "stdout",
     "output_type": "stream",
     "text": [
      "Qubit State = [0.        +0.70710678j 0.70710678+0.j        ]\n"
     ]
    }
   ],
   "source": [
    "state = execute(qc, backend).result().get_statevector()\n",
    "print(\"Qubit State = \" + str(state))"
   ]
  },
  {
   "cell_type": "markdown",
   "metadata": {},
   "source": [
    "Wir sehen hier, dass das Qubit im Zustand `[0.+0.70710678j 0.70710678+0.j]` initialisiert ist, was der Zustand ist, den wir erwartet haben.\n",
    "\n",
    "Lassen Sie uns nun dieses Qubit messen:"
   ]
  },
  {
   "cell_type": "code",
   "execution_count": 15,
   "metadata": {},
   "outputs": [
    {
     "data": {
      "text/html": [
       "<pre style=\"word-wrap: normal;white-space: pre;background: #fff0;line-height: 1.1;font-family: &quot;Courier New&quot;,Courier,monospace\">        ┌──────────────────────────────┐ ░ ┌─┐\n",
       "   q_0: ┤ initialize(0.70711j,0.70711) ├─░─┤M├\n",
       "        └──────────────────────────────┘ ░ └╥┘\n",
       "meas: 1/════════════════════════════════════╩═\n",
       "                                            0 </pre>"
      ],
      "text/plain": [
       "        ┌──────────────────────────────┐ ░ ┌─┐\n",
       "   q_0: ┤ initialize(0.70711j,0.70711) ├─░─┤M├\n",
       "        └──────────────────────────────┘ ░ └╥┘\n",
       "meas: 1/════════════════════════════════════╩═\n",
       "                                            0 "
      ]
     },
     "execution_count": 15,
     "metadata": {},
     "output_type": "execute_result"
    }
   ],
   "source": [
    "qc.measure_all()\n",
    "qc.draw()"
   ]
  },
  {
   "cell_type": "markdown",
   "metadata": {},
   "source": [
    "Wenn wir diese gesamte Schaltung simulieren, können wir sehen, dass eine der Amplituden _immer_ 0 ist:"
   ]
  },
  {
   "cell_type": "code",
   "execution_count": 17,
   "metadata": {},
   "outputs": [
    {
     "name": "stdout",
     "output_type": "stream",
     "text": [
      "State of Measured Qubit = [0.+0.j 1.+0.j]\n"
     ]
    }
   ],
   "source": [
    "state = execute(qc, backend).result().get_statevector()\n",
    "print(\"State of Measured Qubit = \" + str(state))"
   ]
  },
  {
   "cell_type": "markdown",
   "metadata": {},
   "source": [
    "Sie können diese Zelle einige Male erneut ausführen, um das Qubit zu reinitialisieren und es erneut zu messen.\n",
    "Sie werden feststellen, dass beide Ergebnisse gleich wahrscheinlich sind, aber dass der Zustand des Qubits niemals eine Superposition von $|0\\rangle$ und $|1\\rangle$ ist.\n",
    "Interessanterweise bleibt die globale Phase auf dem Zustand $|0\\rangle$ erhalten, aber da dies eine globale Phase ist, können wir sie nie auf einem realen Quantencomputer messen.\n",
    "\n",
    "### Eine Anmerkung zu Quantensimulatoren\n",
    "\n",
    "Wir sehen, dass das Aufschreiben des Zustands eines Qubits zwei komplexe Zahlen erfordert, aber wenn wir einen echten Quantencomputer verwenden, werden wir immer nur eine Ja-oder-Nein-Antwort (`0` oder `1`) für jedes Qubit erhalten. \n",
    "Die Ausgabe eines 10-Qubit-Quantencomputers sieht wie folgt aus:\n",
    "\n",
    "`0110111110`\n",
    "\n",
    "Nur 10 Bits, keine Überlagerung oder komplexe Amplituden.\n",
    "Wenn wir einen echten Quantencomputer verwenden, können wir die Zustände unserer Qubits während der Berechnung nicht sehen, da dies sie zerstören würde! \n",
    "Dieses Verhalten ist nicht ideal zum Lernen, deshalb bietet Qiskit verschiedene Quantensimulatoren an: Der `qasm_simulator` verhält sich so, als ob Sie mit einem echten Quantencomputer interagieren würden, und erlaubt Ihnen nicht, `.get_statevector()` zu verwenden. \n",
    "Alternativ dazu erlaubt `statevector_simulator` (den wir in diesem Kapitel verwendet haben), die Quantenzustände vor der Messung zu betrachten, wie wir gesehen haben. "
   ]
  },
  {
   "cell_type": "markdown",
   "metadata": {},
   "source": [
    "## 3. Die Bloch-Kugel <a id=\"bloch-sphere\"></a>\n",
    "### 3.1. Beschreibung des eingeschränkten Qubit-Zustands <a id=\"bloch-sphere-1\"></a>\n",
    "\n",
    "Wir haben weiter oben in diesem Kapitel gesehen, dass der allgemeine Zustand eines Qubits ($|q\\rangle$) ist:\n",
    "\n",
    "$$ |q\\rangle = \\alpha|0\\rangle + \\beta|1\\rangle $$\n",
    "\n",
    "$$ \\alpha, \\beta \\in \\mathbb{C} $$\n",
    "\n",
    "(Die zweite Zeile sagt uns, dass $\\alpha$ und $\\beta$ komplexe Zahlen sind). \n",
    "Die ersten beiden Implikationen in Abschnitt 2 sagen uns, dass wir zwischen einigen dieser Zustände nicht unterscheiden können. \n",
    "Das bedeutet, dass wir in unserer Beschreibung des Qubits spezifischer sein können. \n",
    "\n",
    "Erstens: \n",
    "Da wir die globale Phase nicht messen können, können wir nur die Phasendifferenz zwischen den Zuständen $|0\\rangle$ und $|1\\rangle$ messen. \n",
    "Anstatt $\\alpha$ und $\\beta$ komplex zu machen, können wir sie auf die reellen Zahlen beschränken und einen Term hinzufügen, der uns die relative Phase zwischen ihnen angibt:\n",
    "\n",
    "$$ |q\\rangle = \\alpha|0\\rangle + e^{i\\phi}\\beta|1\\rangle $$\n",
    "\n",
    "$$ \\alpha, \\beta, \\phi \\in \\mathbb{R} $$\n",
    "\n",
    "Da der Qubit-Zustand schließlich normalisiert werden muss, d.h.\n",
    "\n",
    "$$ \\sqrt{\\alpha^2 + \\beta^2} = 1 $$\n",
    "\n",
    "können wir die trigonometrische Identität verwenden:\n",
    "\n",
    "$$ \\sqrt{\\sin^2{x} + \\cos^2{x}} = 1 $$\n",
    "\n",
    "um die reellen $\\alpha$ und $\\beta$ in Form einer Variablen, $\\theta$, zu beschreiben:\n",
    "\n",
    "$$ \\alpha = \\cos{\\tfrac{\\theta}{2}}, \\quad \\beta=\\sin{\\tfrac{\\theta}{2}} $$\n",
    "\n",
    "Daraus können wir den Zustand eines beliebigen Qubits mit den beiden Variablen $\\phi$ und $\\theta$ beschreiben:\n",
    "\n",
    "$$ \\cos{\\tfrac{\\theta}{2}}|0\\rangle + e^{i\\phi}\\sin{\\tfrac{\\theta}{2}}|1\\rangle $$\n",
    "\n",
    "$$ \\theta, \\phi \\in \\mathbb{R} $$\n",
    "\n",
    "\n",
    "### 3.2 Visuelle Darstellung eines Qubit-Zustands <a id=\"bloch-sphere-2\"></a>\n",
    "\n",
    "Wir wollen unseren allgemeinen Qubit-Zustand darstellen:\n",
    "\n",
    "$$ |Qubit \\rangle = \\cos{\\tfrac{\\theta}{2}}|0\\rangle + e^{i\\phi}\\sin{\\tfrac{\\theta}{2}}|1\\rangle $$\n",
    "\n",
    "Wenn wir $\\theta$ und $\\phi$ als Kugelkoordinaten interpretieren ($r = 1$, da der Betrag des Qubitzustands $1$ ist), können wir jeden einzelnen Qubitzustand auf der Oberfläche einer Kugel, der sogenannten _Bloch-Kugel, auftragen.\n",
    "\n",
    "Unten haben wir ein Qubit im Zustand $|{+}\\rangle$ eingezeichnet.\n",
    "In diesem Fall ist $\\theta = \\pi/2$ und $\\phi = 0$.\n",
    "\n",
    "(Qiskit hat eine Funktion zum Plotten einer Blochkugel, `plot_bloch_vector()`, aber zum Zeitpunkt des Schreibens nimmt sie nur kartesische Koordinaten.\n",
    "Wir haben eine Funktion eingefügt, die die Umwandlung automatisch vornimmt). "
   ]
  },
  {
   "cell_type": "code",
   "execution_count": 19,
   "metadata": {},
   "outputs": [
    {
     "name": "stderr",
     "output_type": "stream",
     "text": [
      "/Applications/anaconda3/envs/qcmb-training/lib/python3.8/site-packages/qiskit/visualization/bloch.py:497: PendingDeprecationWarning: \n",
      "The w_xaxis attribute will be deprecated in a future version. Use xaxis instead.\n",
      "  for item in (self.axes.w_xaxis.get_ticklines() +\n",
      "/Applications/anaconda3/envs/qcmb-training/lib/python3.8/site-packages/qiskit/visualization/bloch.py:500: PendingDeprecationWarning: \n",
      "The w_yaxis attribute will be deprecated in a future version. Use yaxis instead.\n",
      "  for item in (self.axes.w_yaxis.get_ticklines() +\n",
      "/Applications/anaconda3/envs/qcmb-training/lib/python3.8/site-packages/qiskit/visualization/bloch.py:503: PendingDeprecationWarning: \n",
      "The w_zaxis attribute will be deprecated in a future version. Use zaxis instead.\n",
      "  for item in (self.axes.w_zaxis.get_ticklines() +\n"
     ]
    },
    {
     "data": {
      "image/png": "[encoded data removed]",
      "text/plain": [
       "<Figure size 360x360 with 1 Axes>"
      ]
     },
     "execution_count": 19,
     "metadata": {},
     "output_type": "execute_result"
    }
   ],
   "source": [
    "from qiskit.visualization import plot_bloch_vector\n",
    "coords = [pi/2,0,1] # [Theta, Phi, Radius]\n",
    "plot_bloch_vector(coords) # Bloch-Vektor mit sphärischen Koordinaten"
   ]
  },
  {
   "cell_type": "markdown",
   "metadata": {},
   "source": [
    "#### Warnung!\n",
    "Wenn man zum ersten Mal etwas über Qubit-Zustände lernt, ist es leicht, den _Zustandsvektor_ des Qubits mit seinem _Bloch-Vektor_ zu verwechseln.\n",
    "Denken Sie daran, dass der Zustandsvektor der in [1.1](#Anmerkung) beschriebene Vektor ist, der die Amplituden für die beiden Zustände enthält, in denen sich unser Qubit befinden kann. \n",
    "Der Bloch-Vektor ist ein Visualisierungswerkzeug, das den 2D-komplexen Zustandsvektor auf den realen 3D-Raum abbildet."
   ]
  },
  {
   "cell_type": "markdown",
   "metadata": {},
   "source": [
    "#### Schnell-Übung\n",
    "Verwenden Sie `plot_bloch_vector()`, um ein Qubit in den Zuständen darzustellen:\n",
    "1. $|0\\rangle$\n",
    "2. $|1\\rangle$\n",
    "3. $\\tfrac{1}{\\sqrt{2}}(|0\\rangle + |1\\rangle)$\n",
    "4. $\\tfrac{1}{\\sqrt{2}}(|0\\rangle - i|1\\rangle)$\n",
    "5. $\\tfrac{1}{\\sqrt{2}}\\begin{bmatrix}i\\\\1\\end{bmatrix}$"
   ]
  },
  {
   "cell_type": "code",
   "execution_count": 20,
   "metadata": {},
   "outputs": [
    {
     "name": "stderr",
     "output_type": "stream",
     "text": [
      "/Applications/anaconda3/envs/qcmb-training/lib/python3.8/site-packages/ipykernel/ipkernel.py:283: DeprecationWarning: `should_run_async` will not call `transform_cell` automatically in the future. Please pass the result to `transformed_cell` argument and any exception that happen during thetransform in `preprocessing_exc_tuple` in IPython 7.17 and above.\n",
      "  and should_run_async(code)\n"
     ]
    }
   ],
   "source": [
    "# Starten Sie hier!"
   ]
  },
  {
   "cell_type": "markdown",
   "metadata": {},
   "source": [
    "## Copyright ##"
   ]
  },
  {
   "cell_type": "code",
   "execution_count": null,
   "metadata": {},
   "outputs": [],
   "source": []
  }
 ],
 "metadata": {
  "kernelspec": {
   "display_name": "Python 3",
   "language": "python",
   "name": "python3"
  },
  "language_info": {
   "codemirror_mode": {
    "name": "ipython",
    "version": 3
   },
   "file_extension": ".py",
   "mimetype": "text/x-python",
   "name": "python",
   "nbconvert_exporter": "python",
   "pygments_lexer": "ipython3",
   "version": "3.8.8"
  }
 },
 "nbformat": 4,
 "nbformat_minor": 4
}
