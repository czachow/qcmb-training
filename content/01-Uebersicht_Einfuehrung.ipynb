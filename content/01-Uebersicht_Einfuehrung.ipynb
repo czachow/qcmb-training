{
 "cells": [
  {
   "cell_type": "markdown",
   "metadata": {},
   "source": [
    "# Modul 1 - Einführung in das Quantencomputing\n",
    "\n",
    "Eine Schulungsserie der Meetup-Gruppe **[Quantum Computing meets Business - Rhineland](https://www.meetup.com/de-DE/Quantum-Computing-meets-Business-Rhineland/)**\n",
    "\n",
    "(Adapted from [qiskit-textbook](https://github.com/qiskit-community/qiskit-textbook))\n",
    "\n",
    "Themen:\n",
    "- Geschichte der Quantencomputer\n",
    "- Inhalt der Schulung\n",
    "- Atome der Logik"
   ]
  },
  {
   "cell_type": "code",
   "execution_count": 1,
   "metadata": {},
   "outputs": [
    {
     "data": {
      "text/html": [
       "<style>\n",
       "details {\n",
       "    display: block;\n",
       "    border: 1px solid black;\n",
       "    background-color: #eaeaff;\n",
       "    padding: 0.5em;\n",
       "    text-align: center;\n",
       "    margin: 0 8em;\n",
       "    cursor: pointer;\n",
       "}\n",
       "</style>\n"
      ],
      "text/plain": [
       "<IPython.core.display.HTML object>"
      ]
     },
     "metadata": {},
     "output_type": "display_data"
    }
   ],
   "source": [
    "run ./00-Inhalt_Tools.ipynb"
   ]
  },
  {
   "cell_type": "markdown",
   "metadata": {},
   "source": [
    "## Die Geschichte der Quantencomputer\n",
    "\n",
    "**Vor 40 Jahren** erkannten Physiker, dass normale Computer immer an ihre Grenzen stoßen werden, wenn sie Naturprozesse in ihren kleinsten Strukturen berechnen bzw. simulieren.\n",
    "U.a. der legendäre **Nobelpreisträger Richard Feynman** postulierte daher eine vollkommen neuartige Rechenmaschine: \n",
    "Ein Computer der nicht auf den Gesetzen der Booleschen Logik (wie die herkömmlichen Digitalcomputer), sondern **ein Computer, der auf den Gesetzen der Quantenmechanik basiert**. \n",
    "Ein Quantencomputer!\n",
    "\n",
    "In der folgenden Jahren wurden viele der theoretischen Konzepte entwickelt, die wir Ihnen in den nächsten Sessions vorstellen werden.\n",
    "Die praktische Umsetzung der Quantencomputer blieb für viele Jahre ein fast aussichtsloses Unterfangen.\n",
    "\n",
    "**1994 entdeckte Peter Shor, den ersten monumentalen Quanten-Algorithmus**.\n",
    "Er wies nach, dass das Problem der Primzahlzerlegung mit einem Quantencomputer exponentiell schneller gelöst werden kann, als mit jedem herkömmlichen Algorithmus.\n",
    "Durch diese Entdeckung wurde erstmals offensichtlich, dass Quantencomputer **das Potential besitzen unsere Gesellschaft maßgeblich zu verändern**. Die Arbeit löste einen Boom in dem QC-Forschung aus.\n",
    "\n",
    "**Anfang 2000** wurden die ersten, minimalen experimentellen Quantencomputer konstruiert.\n",
    "\n",
    "**2011** überraschte die kanadische **Firma D-Wave** mit dem ersten kommerziellen \"Quanten-Annealer\": Ein Computer, der ebenfalls nach Gesetzen der Quantenmechanik funktioniert aber kein universeller Quantencomputer ist (auf die wir uns in dieser Schulung beziehen).\n",
    "\n",
    "**2016** startete dann IBM, ebenfalls sehr überraschend, die **\"IBM Quantum Experience\"**, eine frei zugängliche Cloud-Umgebung mit einem 5 Qubit-Quantencomputer und als Programmierschnittstelle das Python-Framework **\"Qiskit\"**, über das IBMs Quantencomputer *ferngesteuert* werden kann. Seitdem baut IBM die Cloud-Plattform beständig aus.\n",
    "\n",
    "**2019** veröffentlichte **Google** eine vielbeachtete **\"Quantum Supremacy\"**-Forschungsarbeit in der die Forscher des Quanten-Konzerns einen neuen 53 Qubit-Quantencomputer vorstellten und darauf ein Quantenprogramm ausführten, das einen exponentiellen Quantenvorteil gegenüber den schnellsten Supercomputern besitzt. Googles Quantenprogramm ist dabei *rein akademische* und sollte nur die prinzipielle Überlegenheit von Quantencomputern für gewisse Probleme nachweisen.\n",
    "\n",
    "Seitdem drängen immer mehr Anbieter für Quantencomputer-Hardware und Software auf den Markt. Hier finden Sie einen [detaillierten Überblick über den Stand aktueller Quantencomputer](http://www.quantencomputer-info.de/quantencomputer/welche-quantencomputer-gibt-es-jetzt-schon/).\n",
    "\n",
    "Die Quantencomputer dieser ersten Ära bezeichnet man als **\"NISQ\"-Quantencomputer** \"noisy intermediate scale quantum\". Diese besitzen nur wenige Qubits (10-1000 und aktuell sind es nur 65) und sind, aufgrund ihrer Fehleranfälligkeit, nur in der Lage kurze Quantenprogramme auszuführen (aktuell sind nur 2stellige Schaltungstiefen möglich). Die Hardwarehersteller planen, im Laufe der nächsten zehn Jahre die ersten **fehlerkorrigierenden Quantencomputer** bereitzustellen, die in der Lage sind beliebig lange Quantenprogramme auszuführen. Alle Quantenalgorithmen, die \"sinnvolle\" Probleme lösen können und von denen man bereits heute weiss, dass sie einen Quantenvorteil besitzen werden, benötigen diese fehlerkorrigierenden Quantencomputer. Ob auch mit NISQ-Quantencomputern ein Quantenvorteil in industrierelevanten Anwendungen erzielt werden kann ist Gegenstand intensiver Forschung.  "
   ]
  },
  {
   "cell_type": "markdown",
   "metadata": {},
   "source": [
    "## Inhalt der Schulung \"Einführung in das Quantencomputing\"\n",
    "\n",
    "**Folgende Themen werden wir behandeln:**\n",
    "\n",
    "  * Grundlagen des Quantencomputings & der Quantenmechanik\n",
    "    * Was ist ein Qubit und wie wird es beschrieben?\n",
    "    * Messungen in der Quantenmechanik\n",
    "  * Operationen auf Qubits: 1-Qubit-Gatter, 2-Qubit-Gatter\n",
    "  * Einfache QC-Schaltungen / einfache Qiskit-Programme\n",
    "    * Unser Lehrmaterial basiert auf IBMs \"Qiskit Textbook\" und IBMs Framework \"Qiskit\"\n",
    "    * Wir setzen nur grundlegende Programmierkenntnisse voraus. Insbesonsere sollten Sie in der Lage sein einfache Python Programme lesen bzw. verstehen zu können\n",
    "  * Mathematische Grundlagen: \n",
    "    * **Wir setzen keine „Höhere“ Mathematik voraus**. Das bedeutet aber auch, dass wir einiges an Höherer Mathematik einführen werden.\n",
    "    * Komplexe Zahlen:$ \\sqrt{-1} = i $\n",
    "    * Lineare Algebra: Vektor- /Zustandsraum, Basis, Matrizen, Eigenwerte / -vektoren\n",
    "  * Einzelne wichtige Quanten-Algorithmen, u.U.\n",
    "    * den Grover-Algorithmus für zukünftige fehlerkorrigierende Quantencomputer\n",
    "    * Der QAOA-Algorithmus für aktuelle NISQ-Quantencomputer (Variational Algorithm)"
   ]
  },
  {
   "cell_type": "markdown",
   "metadata": {},
   "source": [
    "## Die Atome der Logik\n",
    "\n",
    "Wenn Sie der Meinung sind, dass die **Quantenmechanik eine Herausforderung** darstellt, sind Sie nicht allein. \n",
    "Alle unsere Intuitionen basieren auf alltäglichen Erfahrungen und können daher das Verhalten von Kugeln und Bananen besser verstehen als Atome oder Elektronen.\n",
    "**Obwohl Quantenobjekte zunächst zufällig und chaotisch wirken können, folgen sie einfach einem anderen Regelwerk.**\n",
    "Sobald wir diese Regeln kennen, können wir sie verwenden, um neue und leistungsstarke Technologien zu erstellen. \n",
    "Quantum Computing wird das revolutionärste Beispiel dafür sein."
   ]
  },
  {
   "cell_type": "markdown",
   "metadata": {},
   "source": [
    "<float>\n",
    "    <center>\n",
    "        <img src=\"../assets/01-Uebersicht_Einfuehrung/atoms10.png\" style=\"width:800px\"/>\n",
    "        <br>\n",
    "        <caption> Copyright 2021, Qiskit Development Team. </caption>\n",
    "    </center>\n",
    "</float>"
   ]
  },
  {
   "cell_type": "markdown",
   "metadata": {},
   "source": [
    "Ein Kerngedanke von klassischen Digitalcomputern sind ** \"Bits\" **:\n",
    "\n",
    "**Frage: Was ist ein Bit?**\n",
    "\n",
    "**Antwort: Die kleinste Einheit für Information: entweder ```0``` oder ```1```.**\n",
    "\n",
    "Die Idee, dass Informationen als eine Reihe von ```0```en and ```1```en gespeichert und verarbeitet werden können, ist eine ziemlich große konzeptionelle Hürde, aber die meisten Menschen wissen es heute, ohne darüber nachzudenken.\n",
    "Ausgehend davon können wir uns Bits vorstellen, die den Regeln der Quantenmechanik entsprechen. \n",
    "Diese Quantenbits oder * Qubits * ermöglichen es uns dann, Informationen auf neue und unterschiedliche Weise zu verarbeiten.\n",
    "\n",
    "Wir werden tiefer in die Welt der Qubits eintauchen.\n",
    "Dafür brauchen wir eine Möglichkeit, um zu verfolgen, was sie tun, wenn wir Gatter anwenden.\n",
    "Der mächtigste Weg, dies zu tun, ist die Verwendung der **mathematischen Sprache von Vektoren und Matrizen**."
   ]
  },
  {
   "cell_type": "markdown",
   "metadata": {},
   "source": [
    "Die Freitheitsgrade eines Qubits können sehr anschaulich mit Hilfe der **Die \"Blochkugel\"** dargestellt werden:\n",
    "<float>\n",
    "    <center>\n",
    "        <img src=\"../assets/01-Uebersicht_Einfuehrung/bloch.png\" style=\"width:800px\"/>\n",
    "        <br>\n",
    "        <caption>Copyright 2021, Qiskit Development Team. </caption>\n",
    "    </center>\n",
    "</float>\n"
   ]
  },
  {
   "cell_type": "markdown",
   "metadata": {},
   "source": [
    "Dieses Kapitel ist am effektivsten für Leser, die bereits mit Vektoren und Matrizen vertraut sind.\n",
    "Diejenigen, die nicht vertraut sind, werden wahrscheinlich auch in Ordnung sein, obwohl es nützlich sein kann, von Zeit zu Zeit unsere [Einführung in die lineare Algebra für das Quantencomputing](99-3-LineareAlgebra.ipynb) zu konsultieren.\n",
    "\n",
    "Da wir Qiskit verwenden werden, unser Python-basiertes Framework für Quantencomputer, wäre es auch nützlich, die Grundlagen von Python zu kennen. \n",
    "Diejenigen, die eine Hilfe benötigen, können die [Einführung in Python- und Jupyter-Notebook](99-1-PythonJupyter.ipynb) konsultieren."
   ]
  },
  {
   "cell_type": "markdown",
   "metadata": {},
   "source": [
    "Das Programmieren eines Quantencomputers ist mittlerweile etwas, das jeder bequem von zu Hause aus tun kann.\n",
    "\n",
    "Aber was soll man schaffen? \n",
    "Was ist überhaupt ein Quantenprogramm? \n",
    "Was ist eigentlich ein Quantencomputer?\n",
    "\n",
    "Diese Fragen können ** durch Vergleiche mit Standard-Digitalcomputern beantwortet ** werden.\n",
    "Leider verstehen die meisten Menschen auch nicht, wie digitale Computer funktionieren.\n",
    "In diesem Artikel werden die Grundprinzipien dieser Geräte erläutert.\n",
    "Um uns später beim Übergang zum Quantencomputer zu helfen, verwenden wir dieselben Tools wie für Quantencomputer."
   ]
  },
  {
   "cell_type": "markdown",
   "metadata": {},
   "source": [
    "### Inhalt\n",
    "\n",
    "1. [Informationen in Bits aufteilen](#bits)\n",
    "2. [Berechnung als Diagramm](#diagram)\n",
    "3. [Ihr erster Quantenschaltkreis](#first-circuit)\n",
    "4. [Beispiel: Addiererschaltung](#adder)       \n",
    "  4.1 [Codierung einer Eingabe](#encoding)    \n",
    "  4.2 [Erinnerung wie man addiert](#remembering-add)    \n",
    "  4.3 [Addieren mit Qiskit](#adding-qiskit)\n",
    " "
   ]
  },
  {
   "cell_type": "markdown",
   "metadata": {},
   "source": [
    "Im Folgenden finden Sie einige Python-Codes, die wir ausführen müssen, wenn wir den Code auf dieser Seite verwenden möchten:"
   ]
  },
  {
   "cell_type": "code",
   "execution_count": 2,
   "metadata": {},
   "outputs": [],
   "source": [
    "from qiskit import QuantumCircuit, execute, Aer\n",
    "from qiskit.visualization import plot_histogram"
   ]
  },
  {
   "cell_type": "markdown",
   "metadata": {},
   "source": [
    "### 1. Informationen in Bits aufteilen <a id=\"bits\"></a>\n",
    "\n",
    "Das erste, was wir wissen müssen, ist die **Idee von Bits**. \n",
    "Dies ist das einfachste Alphabet der Welt.\n",
    "Mit nur zwei Zeichen, 0 und 1, können wir jede Information darstellen.\n",
    "\n",
    "Ein Beispiel sind Zahlen. Sie sind es wahrscheinlich gewohnt, eine Zahl durch eine Zeichenfolge mit den zehn Ziffern 0, 1, 2, 3, 4, 5, 6, 7, 8 und 9 darzustellen. \n",
    "In dieser Ziffernfolge gibt jede Ziffer an, wie oft die Zahl ist enthält eine bestimmte **Potenz von zehn**.\n",
    "Wenn wir zum **Beispiel 9213** schreiben, meinen wir\n",
    "\n",
    "$$ 9213 = 9000 + 200 + 10 + 3 $$\n",
    "\n",
    "oder, ausgedrückt in einer Weise, die die Zehnerpotenzen betont\n",
    "\n",
    "$$ (9\\times10^3) + (2\\times10^2) + (1\\times10^1) + (3\\times10^0) $$\n",
    "\n",
    "Obwohl wir dieses System normalerweise basierend auf der Nummer 10 verwenden, können wir eines genauso einfach basierend auf einer anderen Nummer verwenden.\n",
    "Das **Binärzahlensystem** basiert beispielsweise auf der **Nummer zwei**.\n",
    "Dies bedeutet, dass die beiden Zeichen 0 und 1 verwendet werden, um Zahlen als Vielfache von Zweierpotenzen auszudrücken. \n",
    "Beispielsweise wird 9213 zu 10001111111101, da\n",
    "\n",
    "$$ \n",
    "    9213  = (1 \\times 2^{13}) + \n",
    "            (0 \\times 2^{12}) + \n",
    "            (0 \\times 2^{11}) + \n",
    "            (0 \\times 2^{10}) +\n",
    "            (1 \\times 2^9) + \n",
    "            (1 \\times 2^8) + \n",
    "            (1 \\times 2^7) +\\\\\n",
    "            \\\\ \\,\\,\\,   \n",
    "            (1 \\times 2^6) + \n",
    "            (1 \\times 2^5) + \n",
    "            (1 \\times 2^4) + \n",
    "            (1 \\times 2^3) + \n",
    "            (1 \\times 2^2) + \n",
    "            (0 \\times 2^1) + \n",
    "            (1 \\times 2^0) \\\\\n",
    "          = 10001111111101\n",
    "$$\n",
    "\n",
    "Darin drücken wir Zahlen als Vielfache von 2, 4, 8, 16, 32 usw. anstelle von 10, 100, 1000 usw. aus.\n",
    "<a id=\"binary_widget\"> </a>"
   ]
  },
  {
   "cell_type": "markdown",
   "metadata": {},
   "source": [
    "Diese als Binärzeichenfolgen bezeichneten Bitfolgen können verwendet werden, um mehr als nur Zahlen darzustellen.\n",
    "Beispielsweise gibt es eine Möglichkeit, Text mithilfe von Bits darzustellen. \n",
    "Für jeden Buchstaben, jede Zahl oder jedes Interpunktionszeichen, das Sie verwenden möchten, können Sie mit [dieser Tabelle](https://www.ibm.com/support/knowledgecenter/en/ssw_aix_72/com.ibm.aix.networkcomm/conversion_table.htm) eine entsprechende Zeichenfolge mit höchstens acht Bits finden.\n",
    "Obwohl diese ziemlich willkürlich sind, ist dies ein weithin vereinbarter Standard. \n",
    "Tatsächlich wurde es verwendet, um diesen Artikel über das Internet an Sie zu übermitteln.\n",
    "\n",
    "So werden alle Informationen in Computern dargestellt. \n",
    "**Ob Zahlen, Buchstaben, Bilder oder Ton, alles existiert in Form von Binärzeichenfolgen**.\n",
    "\n",
    "Quantencomputer basieren wie unsere Standard-Digitalcomputer auf derselben Grundidee. \n",
    "Der Hauptunterschied besteht darin, dass sie * Qubits * verwenden, eine Erweiterung des Bits zur Quantenmechanik.\n",
    "Im Rest dieses Lehrbuchs werden wir untersuchen, was Qubits sind, was sie können und wie sie es tun. \n",
    "In diesem Abschnitt geht es jedoch überhaupt nicht um Quanten. Wir verwenden also nur Qubits, als wären sie Bits."
   ]
  },
  {
   "cell_type": "markdown",
   "metadata": {},
   "source": [
    "#### Kurze Übung\n",
    "1. Denken Sie an eine Zahl und versuchen Sie, sie binär aufzuschreiben.\n",
    "2. Wenn Sie $n$ Bits haben, in wie vielen verschiedenen Zuständen können sie sich befinden?"
   ]
  },
  {
   "cell_type": "markdown",
   "metadata": {},
   "source": [
    "### 2. Berechnung als Diagramm <a id=\"diagram\"> </a>\n",
    "\n",
    "Unabhängig davon, ob wir Qubits oder Bits verwenden, müssen wir sie manipulieren, um die Eingaben in die von uns benötigten Ausgaben umzuwandeln.\n",
    "Für die einfachsten Programme mit sehr wenigen Bits ist es nützlich, diesen Prozess in einem Diagramm darzustellen, das als * Schaltplan * bekannt ist.\n",
    "Diese haben Eingänge auf der linken Seite, Ausgänge auf der rechten Seite und Operationen, die durch arkane Symbole dazwischen dargestellt werden.\n",
    "**Diese Operationen werden als \"Gatter\" (englisch \"Gates\") bezeichnet**.\n",
    "\n",
    "Hier ist ein Beispiel dafür, wie eine Schaltung für standardmäßige bitbasierte Computer aussieht.\n",
    "Es wird nicht erwartet, dass Sie verstehen, was es tut. \n",
    "Es sollte Ihnen lediglich eine Vorstellung davon geben, wie diese Schaltkreise aussehen.\n",
    "\n",
    "<float>\n",
    "    <center>\n",
    "        <img src=\"../assets/01-Uebersicht_Einfuehrung/classical_circuit.png\" style=\"width:800px\"/>\n",
    "        <br>\n",
    "        <caption> Copyright 2021, Qiskit Development Team. </caption>\n",
    "    </center>\n",
    "</float>\n",
    "\n",
    "Für Quantencomputer verwenden wir dieselbe Grundidee, haben jedoch unterschiedliche Konventionen für die Darstellung von Eingaben, Ausgaben und Symbolen, die für Operationen verwendet werden. \n",
    "Hier ist die Quantenschaltung, die den gleichen Prozess wie oben darstellt.\n",
    "\n",
    "<float>\n",
    "    <center>\n",
    "        <img src=\"../assets/01-Uebersicht_Einfuehrung/quantum_circuit.png\" style=\"width:800px\"/>\n",
    "        <br>\n",
    "        <caption> Copyright 2021, Qiskit Development Team. </caption>\n",
    "    </center>\n",
    "</float>\n",
    "\n",
    "Im Rest dieses Abschnitts werden wir erklären, wie Schaltungen aufgebaut werden.\n",
    "Am Ende wissen Sie, wie Sie die obige Schaltung erstellen, was sie tut und warum sie nützlich ist."
   ]
  },
  {
   "cell_type": "markdown",
   "metadata": {},
   "source": [
    "### 3. Ihr erster Quantenschaltkreis <a id=\"first-circuit\"></a>\n",
    "\n",
    "In einer Schaltung müssen wir normalerweise drei Jobs ausführen:\n",
    "Zuerst die **Eingabe** codieren, dann eine **tatsächliche Berechnung** durchführen und schließlich eine **Ausgabe** extrahieren. \n",
    "Bei Ihrer ersten Quantenschaltung konzentrieren wir uns auf den letzten dieser Jobs. \n",
    "Wir beginnen mit der Erstellung einer Schaltung mit acht Qubits und acht Ausgängen."
   ]
  },
  {
   "cell_type": "code",
   "execution_count": 3,
   "metadata": {},
   "outputs": [],
   "source": [
    "n = 8\n",
    "n_q = n\n",
    "n_b = n\n",
    "qc_output = QuantumCircuit(n_q,n_b)"
   ]
  },
  {
   "cell_type": "markdown",
   "metadata": {},
   "source": [
    "Diese Schaltung, die wir `qc_output` genannt haben, wird von Qiskit mit `QuantumCircuit` erstellt.\n",
    "Die Zahl `n_q` definiert die Anzahl der Qubits in der Schaltung. \n",
    "Mit `n_b` definieren wir die Anzahl der Ausgangsbits, die wir am Ende aus der Schaltung extrahieren.\n",
    "\n",
    "Die Extraktion von Ausgängen in einer Quantenschaltung erfolgt unter Verwendung einer Operation, die als `measure` bezeichnet wird. \n",
    "Jede Messung weist ein bestimmtes Qubit an, einem bestimmten Ausgangsbit eine Ausgabe zu geben. \n",
    "Der folgende Code fügt jedem unserer acht Qubits eine `measure` -Operation hinzu. \n",
    "Die Qubits und Bits sind beide mit den Zahlen von 0 bis 7 gekennzeichnet (denn so haben es Programmierer gerne). \n",
    "Der Befehl `qc.measure (j, j)` fügt unserer Schaltung `qc` eine Messung hinzu, die das Qubit `j` anweist, eine Ausgabe in das Bit `j` zu schreiben."
   ]
  },
  {
   "cell_type": "code",
   "execution_count": 4,
   "metadata": {},
   "outputs": [],
   "source": [
    "for j in range(n):\n",
    "    qc_output.measure(j,j)"
   ]
  },
  {
   "cell_type": "markdown",
   "metadata": {},
   "source": [
    "Nachdem unsere Schaltung etwas enthält, schauen wir uns das an."
   ]
  },
  {
   "cell_type": "code",
   "execution_count": 10,
   "metadata": {},
   "outputs": [
    {
     "data": {
      "image/png": "[encoded data removed]",
      "text/plain": [
       "<Figure size 568.197x565.88 with 1 Axes>"
      ]
     },
     "execution_count": 10,
     "metadata": {},
     "output_type": "execute_result"
    }
   ],
   "source": [
    "qc_output.draw(\"mpl\")"
   ]
  },
  {
   "cell_type": "markdown",
   "metadata": {},
   "source": [
    " Qubits werden immer initialisiert, um die Ausgabe ```0``` zu erhalten.\n",
    " Da wir in der obigen Schaltung nichts mit unseren Qubits machen, ist dies genau das Ergebnis, das wir erhalten, wenn wir sie messen.\n",
    " Wir können dies sehen, indem wir die Schaltung viele Male laufen lassen und die Ergebnisse in einem Histogramm darstellen.\n",
    " Wir werden feststellen, dass das Ergebnis immer ```00000000``` ist: eine ```0``` von jedem Qubit."
   ]
  },
  {
   "cell_type": "code",
   "execution_count": 6,
   "metadata": {},
   "outputs": [
    {
     "data": {
      "image/png": "[encoded data removed]",
      "text/plain": [
       "<Figure size 504x360 with 1 Axes>"
      ]
     },
     "execution_count": 6,
     "metadata": {},
     "output_type": "execute_result"
    }
   ],
   "source": [
    "counts = execute(qc_output,Aer.get_backend('qasm_simulator')).result().get_counts()\n",
    "plot_histogram(counts)"
   ]
  },
  {
   "cell_type": "markdown",
   "metadata": {},
   "source": [
    "Der Grund dafür, dass viele Male ausgeführt und das Ergebnis als Histogramm angezeigt wird, liegt darin, dass Quantencomputer normaleweise zufällige Ergebnisse aufweisen. \n",
    "In diesem Fall erhalten wir mit Sicherheit nur das Ergebnis ```00000000```, da wir nichts \"Quantisches\" tun.\n",
    "\n",
    "Beachten Sie, dass dieses Ergebnis von einem Quantensimulator stammt, einem Standardcomputer, der berechnet, was ein idealer Quantencomputer tun würde.\n",
    "Simulationen sind nur für eine kleine Anzahl von Qubits (~ 30 Qubits) möglich, aber sie sind dennoch ein sehr nützliches Werkzeug beim Entwerfen Ihrer ersten Quantenschaltungen. \n",
    "Um auf einem realen Gerät ausgeführt zu werden, müssen Sie lediglich ```Aer.get_backend('qasm_simulator')``` durch das Backend-Objekt des Geräts ersetzen, das Sie verwenden möchten."
   ]
  },
  {
   "cell_type": "markdown",
   "metadata": {},
   "source": [
    "## 4 Beispiel: Addiererschaltung <a id=\"adder\"></a>\n",
    "### 4.1 Codierung einer Eingabe <a id=\"encoding\"></a>\n",
    "\n",
    "Schauen wir uns nun an, wie eine andere Binärzeichenfolge als Eingabe codiert wird. Dafür brauchen wir ein sogenanntes ** NICHT-Gatter **. Dies ist die grundlegendste Operation, die Sie in einem Computer ausführen können. Es wird einfach der Bitwert umgedreht: ```0``` wird zu ``` 1``` und ```1``` wird zu ``` 0```. Für Qubits ist es eine Operation namens ```x```, die die Aufgabe des NOT übernimmt.\n",
    "\n",
    "Im Folgenden erstellen wir eine neue Schaltung für die Codierung und nennen sie `qc_encode`. Im Moment geben wir nur die Anzahl der Qubits an."
   ]
  },
  {
   "cell_type": "code",
   "execution_count": 13,
   "metadata": {},
   "outputs": [
    {
     "data": {
      "image/png": "[encoded data removed]",
      "text/plain": [
       "<Figure size 146.797x505.68 with 1 Axes>"
      ]
     },
     "execution_count": 13,
     "metadata": {},
     "output_type": "execute_result"
    }
   ],
   "source": [
    "qc_encode = QuantumCircuit(n)\n",
    "qc_encode.x(7)\n",
    "\n",
    "qc_encode.draw(\"mpl\")"
   ]
  },
  {
   "cell_type": "markdown",
   "metadata": {},
   "source": [
    "Das Extrahieren der Ergebnisse kann mit der Schaltung erfolgen, die wir zuvor hatten: `qc_output`. \n",
    "Durch Hinzufügen der beiden Schaltkreise mit `qc_encode + qc_output` wird ein neuer Schaltkreis erstellt, der alles enthält, was zum Extrahieren eines am Ende hinzugefügten Ausgangs erforderlich ist."
   ]
  },
  {
   "cell_type": "code",
   "execution_count": 8,
   "metadata": {},
   "outputs": [
    {
     "data": {
      "image/png": "[encoded data removed]",
      "text/plain": [
       "<Figure size 628.397x565.88 with 1 Axes>"
      ]
     },
     "execution_count": 8,
     "metadata": {},
     "output_type": "execute_result"
    }
   ],
   "source": [
    "qc = qc_encode + qc_output\n",
    "qc.draw(\"mpl\")"
   ]
  },
  {
   "cell_type": "markdown",
   "metadata": {},
   "source": [
    "Jetzt können wir die kombinierte Schaltung ausführen und die Ergebnisse betrachten."
   ]
  },
  {
   "cell_type": "code",
   "execution_count": 9,
   "metadata": {},
   "outputs": [
    {
     "data": {
      "image/png": "[encoded data removed]",
      "text/plain": [
       "<Figure size 504x360 with 1 Axes>"
      ]
     },
     "execution_count": 9,
     "metadata": {},
     "output_type": "execute_result"
    }
   ],
   "source": [
    "counts = execute(qc,Aer.get_backend('qasm_simulator')).result().get_counts()\n",
    "plot_histogram(counts)"
   ]
  },
  {
   "cell_type": "markdown",
   "metadata": {},
   "source": [
    "Jetzt gibt unser Computer stattdessen den String ```10000000``` aus.\n",
    "\n",
    "Das Bit, das wir umgedreht haben und das aus Qubit 7 stammt, befindet sich ganz links in der Zeichenfolge.\n",
    "Dies liegt daran, dass ** Qiskit die Bits in einer Zeichenfolge von rechts nach links nummeriert**.\n",
    "Einige bevorzugen es, ihre Bits umgekehrt zu nummerieren, aber das System von Qiskit hat sicherlich seine Vorteile, wenn wir die Bits zur Darstellung von Zahlen verwenden. \n",
    "Konkret bedeutet dies, dass Qubit 7 uns sagt, wie viele $2^7$ s wir in unserer Zahl haben.\n",
    "Durch Umdrehen dieses Bits haben wir jetzt die Nummer 128 in unseren einfachen 8-Bit-Computer geschrieben.\n",
    "\n",
    "**Versuchen Sie nun, eine andere Nummer für sich selbst zu schreiben.** \n",
    "Sie könnten zum Beispiel Ihr Alter tun.\n",
    "Verwenden Sie einfach eine Suchmaschine, um herauszufinden, wie die Zahl in Binärform aussieht (wenn sie eine '0b' enthält, ignorieren Sie sie einfach), und fügen Sie dann auf der linken Seite einige Nullen hinzu, wenn Sie jünger als 64 sind."
   ]
  },
  {
   "cell_type": "code",
   "execution_count": 16,
   "metadata": {},
   "outputs": [
    {
     "data": {
      "image/png": "[encoded data removed]",
      "text/plain": [
       "<Figure size 146.797x505.68 with 1 Axes>"
      ]
     },
     "execution_count": 16,
     "metadata": {},
     "output_type": "execute_result"
    }
   ],
   "source": [
    "qc_encode = QuantumCircuit(n)\n",
    "qc_encode.x(1)\n",
    "qc_encode.x(5)\n",
    "\n",
    "qc_encode.draw(\"mpl\")\n"
   ]
  },
  {
   "cell_type": "markdown",
   "metadata": {},
   "source": [
    "Jetzt wissen wir, wie man Informationen in einem Computer verschlüsselt. \n",
    "Der nächste Schritt besteht darin, es zu verarbeiten: \n",
    "Eine Eingabe, die wir codiert haben, in eine Ausgabe umzuwandeln, die wir benötigen."
   ]
  },
  {
   "cell_type": "markdown",
   "metadata": {},
   "source": [
    "### 4.2 Erinnerung wie man addiert  <a id=\"remembering-add\"></a>"
   ]
  },
  {
   "cell_type": "markdown",
   "metadata": {},
   "source": [
    "Um Eingaben in Ausgaben umzuwandeln, müssen wir ein Problem lösen.\n",
    "Lassen Sie uns einige grundlegende Berechnungen anstellen.\n",
    "In der Grundschule haben Sie gelernt, **große mathematische Probleme in überschaubare Teile zu zerlegen**.\n",
    "Wie würden Sie beispielsweise Folgendes lösen?\n",
    "\n",
    "```\n",
    "   9213\n",
    "+  1854\n",
    "=  ????\n",
    "```\n",
    "\n",
    "Eine Möglichkeit besteht darin, es Ziffer für Ziffer **von rechts nach links** zu tun. \n",
    "Also fangen wir mit 3+4 an\n",
    "```\n",
    "   9213\n",
    "+  1854\n",
    "=  ???7\n",
    "```\n",
    "\n",
    "Und dann 1+5\n",
    "```\n",
    "   9213\n",
    "+  1854\n",
    "=  ??67\n",
    "```\n",
    "\n",
    "Dann haben wir 2+8 = 10.\n",
    "Da dies eine **zweistellige** Antwort ist, müssen wir die **eine in die nächste Spalte übertragen**.\n",
    "\n",
    "```\n",
    "   9213\n",
    "+  1854\n",
    "=  ?067\n",
    "   ¹\n",
    "```\n",
    "\n",
    "Schließlich haben wir 9+1+1=11 und erhalten unsere Antwort\n",
    "\n",
    "```\n",
    "   9213\n",
    "+  1854\n",
    "= 11067\n",
    "  ¹\n",
    "```\n",
    "\n",
    "Dies mag nur eine einfache Berechnung sein, zeigt aber die Prinzipien hinter allen Algorithmen.\n",
    "Unabhängig davon, ob der Algorithmus mathematische Probleme löst oder Text oder Bilder verarbeitet, teilen wir große Aufgaben immer in kleine und einfache Schritte auf.\n",
    "\n",
    "Um auf einem Computer ausgeführt zu werden, müssen Algorithmen **auf die kleinstmöglichen und einfachsten Schritte** umgewandelt werden.\n",
    "Um zu sehen, wie diese aussehen, führen wir das obige Additionsproblem erneut aus, jedoch **in binärer Form**.\n",
    "\n",
    "\n",
    "```\n",
    "   10001111111101\n",
    "+  00011100111110\n",
    "                                    \n",
    "= ??????????????\n",
    "```\n",
    "\n",
    "Beachten Sie, dass die zweite Zahl links eine Reihe zusätzlicher Nullen enthält. \n",
    "Dies dient nur dazu, die beiden Zeichenfolgen gleich lang zu machen.\n",
    "\n",
    "Unsere erste Aufgabe ist es, die 1+0 für die rechte Spalte zu machen.\n",
    "In der Binärdatei lautet die Antwort wie in jedem Zahlensystem 1.\n",
    "Wir erhalten das gleiche Ergebnis für die 0+1 der zweiten Spalte.\n",
    "\n",
    "```\n",
    "   10001111111101\n",
    "+  00011100111110\n",
    "\n",
    "=  ????????????11\n",
    "```\n",
    "\n",
    "Als nächstes haben wir 1+1. Wie Sie sicherlich wissen, ist 1+1=2. \n",
    "In Binärform wird die Zahl 2 ```10``` geschrieben und benötigt daher **zwei Bits**. \n",
    "Dies bedeutet, dass wir **die 1 übertragen müssen**, genau wie wir es für die Zahl 10 in Dezimalzahl tun würden.\n",
    "\n",
    "```\n",
    "   10001111111101\n",
    "+  00011100111110\n",
    "=  ???????????011\n",
    "             ¹\n",
    "```\n",
    "\n",
    "In der nächsten Spalte müssen wir nun ```1+1+1``` berechnen.\n",
    "Dies bedeutet, dass drei Zahlen addiert werden, sodass die Dinge für unseren Computer immer komplizierter werden.\n",
    "Aber wir können es immer noch zu einfacheren Operationen umwandeln und dies auf eine Weise tun, bei der wir immer nur zwei Bits addieren müssen. \n",
    "Dazu können wir nur mit den ersten beiden Einsen beginnen.\n",
    "\n",
    "```\n",
    "   1\n",
    "+  1\n",
    "= 10\n",
    "```\n",
    "\n",
    "Jetzt müssen wir diese ```10``` zur endgültigen ```1``` hinzufügen, was mit unserer üblichen Methode zum Durchlaufen der Spalten erfolgen kann.\n",
    "\n",
    "```\n",
    "  10\n",
    "+ 01\n",
    "= 11\n",
    "```\n",
    "\n",
    "Die endgültige Antwort lautet ```11``` (auch als 3 bekannt).\n",
    "\n",
    "Jetzt können wir zum Rest des Problems zurückkehren.\n",
    "Mit der Antwort von ```11``` haben wir ein weiteres Übertragsbit.\n",
    "\n",
    "```\n",
    "   10001111111101\n",
    "+  00011100111110\n",
    "=  ??????????1011\n",
    "            ¹¹\n",
    "```\n",
    "\n",
    "Jetzt haben wir also noch 1+1+1 zu tun.\n",
    "Aber wir wissen bereits, wie das geht, also ist es keine große Sache.\n",
    "\n",
    "Alles, was bisher noch übrig ist, wissen wir bereits.\n",
    "Dies liegt daran, dass Sie **nur vier mögliche Dinge berechnen müssen**, wenn Sie alles in zwei Bits aufteilen.\n",
    "Hier sind die vier Grundsummen (wir schreiben alle Antworten mit zwei Bits, um konsistent zu sein).\n",
    "\n",
    "```\n",
    "0+0 = 00 (dezimal ist dies 0+0 = 0)\n",
    "0+1 = 01 (dezimal ist dies 0+1 = 1)\n",
    "1+0 = 01 (dezimal ist dies 1+0 = 1)\n",
    "1+1 = 10 (dezimal ist dies 1+1 = 2)\n",
    "```\n",
    "\n",
    "Dies wird als ** Halbaddierer ** bezeichnet.\n",
    "Wenn unser Computer dies implementieren kann und viele von ihnen miteinander verketten kann, kann er alles hinzufügen."
   ]
  },
  {
   "cell_type": "markdown",
   "metadata": {},
   "source": [
    "### 4.3 Addieren mit Qiskit <a id=\"adding-qiskit\"></a>"
   ]
  },
  {
   "cell_type": "markdown",
   "metadata": {},
   "source": [
    "Lassen Sie uns mit Qiskit unseren eigenen Halbaddierer erstellen.\n",
    "Dies umfasst einen Teil der Schaltung, der die Eingabe codiert, einen Teil, der den Algorithmus ausführt, und einen Teil, der das Ergebnis extrahiert.\n",
    "Der erste Teil muss geändert werden, wenn wir eine neue Eingabe verwenden möchten, der Rest bleibt jedoch immer gleich."
   ]
  },
  {
   "cell_type": "markdown",
   "metadata": {},
   "source": [
    "<float>\n",
    "    <center>\n",
    "        <img src=\"../assets/01-Uebersicht_Einfuehrung/half-adder.svg\" style=\"width:800px\"/>\n",
    "        <br>\n",
    "        <figcaption>\n",
    "            Half adder implemented on a quantum circuit, Copyright 2021, Qiskit Development Team.\n",
    "        </figcaption>\n",
    "    </center>\n",
    "</float>\n"
   ]
  },
  {
   "cell_type": "markdown",
   "metadata": {},
   "source": [
    "Die zwei Bits, die wir hinzufügen möchten, sind in den Qubits 0 und 1 codiert. \n",
    "Das obige Beispiel codiert eine ```1``` in diesen beiden Qubits und versucht daher, die Lösung von ```1+1``` zu finden. \n",
    "Das Ergebnis ist eine Folge von zwei Bits, die wir aus den Qubits 2 und 3 auslesen werden.\n",
    "Sie müssen nur noch das eigentliche Programm ausfüllen, das sich in der Leerstelle in der Mitte befindet.\n",
    "\n",
    "Die gestrichelten Linien im Bild dienen nur zur Unterscheidung der verschiedenen Teile der Schaltung (obwohl sie auch interessantere Verwendungen haben können). \n",
    "Sie werden mit dem Befehl \"Barriere\" erstellt.\n",
    "\n",
    "Die Grundoperationen des Rechnens sind als Logikgatter bekannt.\n",
    "Wir haben das NOT-Gatter bereits verwendet, aber dies reicht nicht aus, um unseren Halbaddierer zu machen. \n",
    "Wir konnten es nur verwenden, um die Antworten manuell aufzuschreiben.\n",
    "Da wir möchten, dass der Computer die eigentliche Datenverarbeitung für uns übernimmt, benötigen wir einige leistungsstärkere Gates.\n",
    "\n",
    "Um zu sehen, was wir brauchen, schauen wir uns noch einmal an, was unser Halbaddierer tun muss.\n",
    "\n",
    "```\n",
    "0 + 0 = 00\n",
    "0 + 1 = 01\n",
    "1 + 0 = 01\n",
    "1 + 1 = 10\n",
    "```\n",
    "\n",
    "Das Bit ganz rechts in allen vier dieser Antworten wird vollständig davon bestimmt, ob die beiden hinzugefügten Bits gleich oder verschieden sind.\n",
    "Für ```0+0``` und ```1+1```, wo die beiden Bits gleich sind, kommt das am weitesten rechts stehende Bit der Antwort mit ```0``` heraus.\n",
    "Für ```0+1``` und ```1+0```, wo wir verschiedene Bitwerte hinzufügen, ist das Bit ganz rechts ```1```.\n",
    "\n",
    "Um diesen Teil unserer Lösung richtig zu machen, benötigen wir etwas, das herausfinden kann, **ob zwei Bits unterschiedlich sind oder nicht**.\n",
    "Traditionell wird dies bei herkömmlichen Digitalcomputern als ** XOR-Gatter ** bezeichnet.\n",
    "\n",
    "| Eingabe 1 | Eingabe 2 | XOR-Ausgabe |\n",
    "|: -------: |: -------: |: ------: |\n",
    "| 0 | 0 | 0 |\n",
    "| 0 | 1 | 1 |\n",
    "| 1 | 0 | 1 |\n",
    "| 1 | 1 | 0 |\n",
    "\n",
    "In Quantencomputern wird die Arbeit des XOR-Gatters durch das ** Controlled-NOT-Gatter ** erledigt. \n",
    "Da dies ein ziemlich langer Name ist, nennen wir ihn normalerweise nur ** CNOT **. \n",
    "In Qiskit heißt es ```cx```, was noch kürzer ist. \n",
    "In Schaltplänen wird es wie in der Abbildung unten gezeichnet."
   ]
  },
  {
   "cell_type": "code",
   "execution_count": 11,
   "metadata": {},
   "outputs": [
    {
     "data": {
      "image/png": "[encoded data removed]",
      "text/plain": [
       "<Figure size 146.652x144.48 with 1 Axes>"
      ]
     },
     "execution_count": 11,
     "metadata": {},
     "output_type": "execute_result"
    }
   ],
   "source": [
    "qc_cnot = QuantumCircuit(2)\n",
    "qc_cnot.cx(0,1)\n",
    "qc_cnot.draw(\"mpl\")"
   ]
  },
  {
   "cell_type": "markdown",
   "metadata": {},
   "source": [
    "Dies wird auf ein Paar Qubits angewendet. \n",
    "Eins fungiert als **Kontroll-Qubit** (dies ist das mit dem kleinen Punkt).\n",
    "Das andere fungiert als **Ziel-Qubit** (mit dem großen Kreis).\n",
    "\n",
    "Es gibt mehrere Möglichkeiten, die Wirkung des CNOT zu erklären.\n",
    "Eine ist zu sagen, dass es seine zwei Eingangsbits betrachtet, um zu sehen, ob sie gleich oder verschieden sind.\n",
    "Als nächstes überschreibt es das Ziel-Qubit mit der Antwort.\n",
    "**Das Ziel wird ```0```, wenn sie gleich sind, und ```1```, wenn sie unterschiedlich sind**.\n",
    "\n",
    "<float>\n",
    "    <center>\n",
    "        <img src=\"../assets/01-Uebersicht_Einfuehrung/cnot_xor.svg\" style=\"width:800px\"/>\n",
    "        <br>\n",
    "        <caption> Copyright 2021, Qiskit Development Team. </caption>\n",
    "    </center>\n",
    "</float>\n",
    "\n",
    "Eine andere Möglichkeit, das CNOT zu erklären, besteht darin, zu sagen, dass es **ein NICHT auf dem Ziel ausführt, wenn die Steuerung ```1``` ist, und nichts anderes tut**. \n",
    "Diese Erklärung ist genauso gültig wie die vorherige (tatsächlich gibt sie dem Gatter seinen Namen).\n",
    "\n",
    "Probieren Sie den CNOT selbst aus, indem Sie alle möglichen Eingaben ausprobieren. \n",
    "Hier ist zum Beispiel eine Schaltung, die den CNOT mit dem Eingang ```01``` testet."
   ]
  },
  {
   "cell_type": "code",
   "execution_count": 12,
   "metadata": {},
   "outputs": [
    {
     "data": {
      "image/png": "[encoded data removed]",
      "text/plain": [
       "<Figure size 507.997x325.08 with 1 Axes>"
      ]
     },
     "execution_count": 12,
     "metadata": {},
     "output_type": "execute_result"
    }
   ],
   "source": [
    "qc_ha = QuantumCircuit(4,2)\n",
    "# encode inputs in qubits 0 and 1\n",
    "qc_ha.x(0) # For a=0, remove this line. For a=1, leave it.\n",
    "qc_ha.x(1) # For b=0, remove this line. For b=1, leave it.\n",
    "qc_ha.barrier()\n",
    "# use cnots to write the XOR of the inputs on qubit 2\n",
    "qc_ha.cx(0,2)\n",
    "qc_ha.cx(1,2)\n",
    "qc_ha.barrier()\n",
    "# extract outputs\n",
    "qc_ha.measure(2,0) # extract XOR value\n",
    "qc_ha.measure(3,1)\n",
    "\n",
    "qc_ha.draw(\"mpl\")"
   ]
  },
  {
   "cell_type": "markdown",
   "metadata": {},
   "source": [
    "Wir sind jetzt auf halbem Weg zu einem voll funktionsfähigen Halbaddierer.\n",
    "Wir haben nur noch den anderen Teil der Ausgabe zu erledigen: den, der auf Qubit 3 leben wird.\n",
    "\n",
    "Wenn Sie sich die vier möglichen Summen noch einmal ansehen, werden Sie feststellen, dass es nur einen Fall gibt, für den dies ```1``` anstelle von ```0``` ist: ```1 + 1``` = ```10```. \n",
    "Es passiert nur, wenn beide Bits, die wir hinzufügen, ```1``` sind.\n",
    "\n",
    "Um diesen Teil der Ausgabe zu berechnen, könnten wir unseren Computer dazu bringen, zu prüfen, ob beide Eingaben ```1``` sind. \n",
    "Wenn dies der Fall ist - und nur wenn dies der Fall ist -, müssen wir auf Qubit 3 ein NOT-Gatter ausführen.\n",
    "Dadurch wird es nur für diesen Fall auf den erforderlichen Wert von ```1``` umgedreht, sodass wir die Ausgabe erhalten, die wir benötigen.\n",
    "\n",
    "Dafür brauchen wir ein neues Gatter: wie ein CNOT, aber gesteuert auf zwei Qubits anstatt nur auf einem. \n",
    "Dies führt nur dann ein NICHT auf dem Ziel-Qubit durch, wenn sich beide Steuerelemente im Zustand ```1``` befinden.\n",
    "Dieses neue Gatter heißt **Toffoli**.\n",
    "Für diejenigen unter Ihnen, die mit Booleschen Logikgattern vertraut sind, ist es **im Grunde ein UND-Gatter**.\n",
    "\n",
    "In Qiskit wird der Toffoli mit dem Befehl `ccx` dargestellt."
   ]
  },
  {
   "cell_type": "code",
   "execution_count": 13,
   "metadata": {},
   "outputs": [
    {
     "data": {
      "image/png": "[encoded data removed]",
      "text/plain": [
       "<Figure size 568.197x325.08 with 1 Axes>"
      ]
     },
     "execution_count": 13,
     "metadata": {},
     "output_type": "execute_result"
    }
   ],
   "source": [
    "qc_ha = QuantumCircuit(4,2)\n",
    "# encode inputs in qubits 0 and 1\n",
    "qc_ha.x(0) # For a=0, remove the this line. For a=1, leave it.\n",
    "qc_ha.x(1) # For b=0, remove the this line. For b=1, leave it.\n",
    "qc_ha.barrier()\n",
    "# use cnots to write the XOR of the inputs on qubit 2\n",
    "qc_ha.cx(0,2)\n",
    "qc_ha.cx(1,2)\n",
    "# use ccx to write the AND of the inputs on qubit 3\n",
    "qc_ha.ccx(0,1,3)\n",
    "qc_ha.barrier()\n",
    "# extract outputs\n",
    "qc_ha.measure(2,0) # extract XOR value\n",
    "qc_ha.measure(3,1) # extract AND value\n",
    "\n",
    "qc_ha.draw(\"mpl\")"
   ]
  },
  {
   "cell_type": "markdown",
   "metadata": {},
   "source": [
    "In diesem Beispiel berechnen wir  ```1+1```, da die beiden Eingangsbits beide ```1``` sind.\n",
    "Mal sehen, was wir bekommen."
   ]
  },
  {
   "cell_type": "code",
   "execution_count": 14,
   "metadata": {},
   "outputs": [
    {
     "data": {
      "image/png": "[encoded data removed]",
      "text/plain": [
       "<Figure size 504x360 with 1 Axes>"
      ]
     },
     "execution_count": 14,
     "metadata": {},
     "output_type": "execute_result"
    }
   ],
   "source": [
    "counts = execute(qc_ha,Aer.get_backend('qasm_simulator')).result().get_counts()\n",
    "plot_histogram(counts)"
   ]
  },
  {
   "cell_type": "markdown",
   "metadata": {},
   "source": [
    "Das Ergebnis ist ```10```, die binäre Darstellung der Zahl 2.\n",
    "Wir haben einen Computer gebaut, der das berühmte mathematische Problem 1 + 1 lösen kann!\n",
    "\n",
    "Jetzt können Sie es mit den anderen drei möglichen Eingaben ausprobieren und zeigen, dass unser Algorithmus auch für diese die richtigen Ergebnisse liefert.\n",
    "\n",
    "Der Halbaddierer enthält alles, was Sie zum Addieren benötigen.\n",
    "Mit den Gattern NOT, CNOT und Toffoli können wir Programme erstellen, die eine beliebige Anzahl von Zahlen beliebiger Größe addieren.\n",
    "\n",
    "Diese drei Gatter reichen aus, um auch beim Rechnen alles andere zu erledigen.\n",
    "Wir können sogar auf das CNOT verzichten. \n",
    "Außerdem wird das NOT-Gatter nur benötigt, um Bits mit dem Wert ```1``` zu erstellen. \n",
    "Das ** Toffoli-Gatter ist im Wesentlichen das Atom der Mathematik**. \n",
    "Es ist das einfachste Element, aus dem jede andere Problemlösungstechnik zusammengestellt werden kann.\n",
    "\n",
    "Wie wir sehen werden, teilen wir beim Quantencomputing das Atom."
   ]
  },
  {
   "cell_type": "markdown",
   "metadata": {},
   "source": [
    "## Qiskit ##"
   ]
  },
  {
   "cell_type": "code",
   "execution_count": 15,
   "metadata": {},
   "outputs": [
    {
     "data": {
      "text/plain": [
       "{'qiskit-terra': '0.16.4',\n",
       " 'qiskit-aer': '0.7.6',\n",
       " 'qiskit-ignis': '0.5.2',\n",
       " 'qiskit-ibmq-provider': '0.12.1',\n",
       " 'qiskit-aqua': '0.8.2',\n",
       " 'qiskit': '0.24.0'}"
      ]
     },
     "execution_count": 15,
     "metadata": {},
     "output_type": "execute_result"
    }
   ],
   "source": [
    "import qiskit\n",
    "qiskit.__qiskit_version__"
   ]
  },
  {
   "cell_type": "markdown",
   "metadata": {},
   "source": [
    "## Copyright"
   ]
  },
  {
   "cell_type": "markdown",
   "metadata": {},
   "source": [
    "Copyright 2021 Dual Software GmbH and SVA System Vertrieb Alexander GmbH\n",
    "\n",
    "Licensed under the Apache License, Version 2.0 (the \"License\"); you may not use this file except in compliance with the License. You may obtain a copy of the License at http://www.apache.org/licenses/LICENSE-2.0.\n",
    "\n",
    "Unless required by applicable law or agreed to in writing, software distributed under the License is distributed on an \"AS IS\" BASIS, WITHOUT WARRANTIES OR CONDITIONS OF ANY KIND, either express or implied. See the License for the specific language governing permissions and limitations under the License."
   ]
  }
 ],
 "metadata": {
  "kernelspec": {
   "display_name": "Python 3",
   "language": "python",
   "name": "python3"
  },
  "language_info": {
   "codemirror_mode": {
    "name": "ipython",
    "version": 3
   },
   "file_extension": ".py",
   "mimetype": "text/x-python",
   "name": "python",
   "nbconvert_exporter": "python",
   "pygments_lexer": "ipython3",
   "version": "3.6.9"
  }
 },
 "nbformat": 4,
 "nbformat_minor": 2
}
