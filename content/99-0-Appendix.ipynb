{
 "cells": [
  {
   "cell_type": "markdown",
   "id": "unique-investigation",
   "metadata": {},
   "source": [
    "# Modul 99-0 Appendix\n",
    "\n",
    "Eine Schulungsserie der Meetup-Gruppe **[Quantum Computing meets Business - Rhineland](https://www.meetup.com/de-DE/Quantum-Computing-meets-Business-Rhineland/)**\n",
    "\n",
    "**Übersicht:**\n",
    "\n",
    "1. [Python und Jupyter](./99-1-Python_Jupyter.ipynb)\n",
    "2. [Komplexe Zahlen](./99-2-KomplexeZahlen.ipynb)\n",
    "3. [Lineare Algebra](./99-3-LineareAlgebra.ipynb)"
   ]
  },
  {
   "cell_type": "markdown",
   "id": "149ed038-5dfa-4a0f-9065-5795aa93e1a7",
   "metadata": {},
   "source": [
    "## Qiskit ##"
   ]
  },
  {
   "cell_type": "code",
   "execution_count": null,
   "id": "8376f9d4-5bab-4f64-864e-37513c1de3d7",
   "metadata": {},
   "outputs": [],
   "source": [
    "import qiskit\n",
    "qiskit.__qiskit_version__"
   ]
  },
  {
   "cell_type": "markdown",
   "id": "victorian-latino",
   "metadata": {},
   "source": [
    "## Copyright\n",
    "\n",
    "Copyright 2021 Dual Software GmbH and SVA System Vertrieb Alexander GmbH\n",
    "\n",
    "Licensed under the Apache License, Version 2.0 (the \"License\"); you may not use this file except in compliance with the License. You may obtain a copy of the License at http://www.apache.org/licenses/LICENSE-2.0.\n",
    "\n",
    "Unless required by applicable law or agreed to in writing, software distributed under the License is distributed on an \"AS IS\" BASIS, WITHOUT WARRANTIES OR CONDITIONS OF ANY KIND, either express or implied. See the License for the specific language governing permissions and limitations under the License."
   ]
  }
 ],
 "metadata": {
  "kernelspec": {
   "display_name": "qcmb-training",
   "language": "python",
   "name": "qcmb-training"
  },
  "language_info": {
   "codemirror_mode": {
    "name": "ipython",
    "version": 3
   },
   "file_extension": ".py",
   "mimetype": "text/x-python",
   "name": "python",
   "nbconvert_exporter": "python",
   "pygments_lexer": "ipython3",
   "version": "3.9.6"
  }
 },
 "nbformat": 4,
 "nbformat_minor": 5
}
