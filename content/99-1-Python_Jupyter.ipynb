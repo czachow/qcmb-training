{
 "cells": [
  {
   "cell_type": "markdown",
   "metadata": {},
   "source": [
    "# Modul 99-1 Python und Jupyter\n",
    "\n",
    "Eine Schulungsserie der Meetup-Gruppe **[Quantum Computing meets Business - Rhineland](https://www.meetup.com/de-DE/Quantum-Computing-meets-Business-Rhineland/)**\n",
    "\n",
    "Dieses Kapitel basiert auf dem [Qiskit-Textbook](https://github.com/qiskit-community/qiskit-textbook)."
   ]
  },
  {
   "cell_type": "markdown",
   "metadata": {},
   "source": [
    "Python ist eine Programmiersprache, die Sie nicht kompilieren müssen. Sie können sie einfach Zeile für Zeile ausführen (und so können wir sie in einem Notebook verwenden). Wenn Sie also ganz neu in der Programmierung sind, ist Python ein großartiger Ort, um anzufangen. Die aktuelle Version ist Python 3, die wir hier verwenden werden.\n",
    "\n",
    "Eine Möglichkeit, in Python zu programmieren, ist die Verwendung eines Jupyter-Notizbuchs. Dies ist wahrscheinlich der beste Weg, um Programmierung, Text und Bilder zu kombinieren. In einem Notizbuch wird alles in Zellen angeordnet. Am gebräuchlichsten sind Textzellen und Codezellen. Wenn Sie diesen Abschnitt als Jupyter-Notizbuch betrachten, befindet sich der Text, den Sie gerade lesen, in einer Textzelle. Eine Codezelle befindet sich direkt darunter.\n",
    "\n",
    "Um den Inhalt einer Codezelle auszuführen, können Sie sie anklicken und Umschalt + Enter drücken. Oder wenn links ein kleines Pfeil-Ding ist, können Sie darauf klicken."
   ]
  },
  {
   "cell_type": "code",
   "execution_count": 1,
   "metadata": {},
   "outputs": [
    {
     "data": {
      "text/plain": [
       "2"
      ]
     },
     "execution_count": 1,
     "metadata": {},
     "output_type": "execute_result"
    }
   ],
   "source": [
    "1 + 1"
   ]
  },
  {
   "cell_type": "markdown",
   "metadata": {},
   "source": [
    "Wenn Sie diesen Abschnitt als Jupyter-Notebook betrachten, führen Sie jede der Codezellen beim Durchlesen aus."
   ]
  },
  {
   "cell_type": "code",
   "execution_count": 2,
   "metadata": {},
   "outputs": [
    {
     "data": {
      "text/plain": [
       "1.5"
      ]
     },
     "execution_count": 2,
     "metadata": {},
     "output_type": "execute_result"
    }
   ],
   "source": [
    "a = 1\n",
    "b = 0.5\n",
    "a + b"
   ]
  },
  {
   "cell_type": "markdown",
   "metadata": {},
   "source": [
    "Oben haben wir zwei Variablen erstellt, die wir `a` und `b` genannt haben, und ihnen Werte gegeben. Dann haben wir sie addiert. Einfache Arithmetik wie diese ist in Python ziemlich unkompliziert."
   ]
  },
  {
   "cell_type": "markdown",
   "metadata": {},
   "source": [
    "Variablen in Python gibt es in vielen Formen. Im Folgenden finden Sie einige Beispiele."
   ]
  },
  {
   "cell_type": "code",
   "execution_count": 3,
   "metadata": {},
   "outputs": [],
   "source": [
    "an_integer = 42 # Just an integer\n",
    "a_float = 0.1 # A non-integer number, up to a fixed precision\n",
    "a_boolean = True # A value that can be True or False\n",
    "a_string = '''just enclose text between two 's, or two \"s, or do what we did for this string''' # Text\n",
    "none_of_the_above = None # The absence of any actual value or variable type"
   ]
  },
  {
   "cell_type": "markdown",
   "metadata": {},
   "source": [
    "Neben den Zahlen ist eine weitere Datenstruktur, die wir verwenden können, die *Liste*."
   ]
  },
  {
   "cell_type": "code",
   "execution_count": 4,
   "metadata": {},
   "outputs": [],
   "source": [
    "a_list = [0,1,2,3]"
   ]
  },
  {
   "cell_type": "markdown",
   "metadata": {},
   "source": [
    "Listen in Python können eine beliebige Mischung von Variablentypen enthalten."
   ]
  },
  {
   "cell_type": "code",
   "execution_count": 5,
   "metadata": {},
   "outputs": [],
   "source": [
    "a_list = [ 42, 0.5, True, [0,1], None, 'Banana' ]"
   ]
  },
  {
   "cell_type": "markdown",
   "metadata": {},
   "source": [
    "Listen werden in Python ab `0` indiziert (im Gegensatz zu Sprachen wie Fortran). So greifen Sie also auf die `42` am Anfang der obigen Liste zu."
   ]
  },
  {
   "cell_type": "code",
   "execution_count": 6,
   "metadata": {},
   "outputs": [
    {
     "data": {
      "text/plain": [
       "42"
      ]
     },
     "execution_count": 6,
     "metadata": {},
     "output_type": "execute_result"
    }
   ],
   "source": [
    "a_list[0]"
   ]
  },
  {
   "cell_type": "markdown",
   "metadata": {},
   "source": [
    "Eine ähnliche Datenstruktur ist das *Tupel*."
   ]
  },
  {
   "cell_type": "code",
   "execution_count": 2,
   "metadata": {},
   "outputs": [
    {
     "data": {
      "text/plain": [
       "42"
      ]
     },
     "execution_count": 2,
     "metadata": {},
     "output_type": "execute_result"
    }
   ],
   "source": [
    "a_tuple = ( 42, 0.5, True, [0,1], None, 'Banana' )\n",
    "a_tuple[0]"
   ]
  },
  {
   "cell_type": "markdown",
   "metadata": {},
   "source": [
    "Ein wesentlicher Unterschied zwischen der Liste und dem Tupel ist, dass Listenelemente geändert werden können"
   ]
  },
  {
   "cell_type": "code",
   "execution_count": 8,
   "metadata": {},
   "outputs": [
    {
     "name": "stdout",
     "output_type": "stream",
     "text": [
      "[42, 0.5, True, [0, 1], None, 'apple']\n"
     ]
    }
   ],
   "source": [
    "a_list[5] = 'apple'\n",
    "\n",
    "print(a_list)"
   ]
  },
  {
   "cell_type": "markdown",
   "metadata": {},
   "source": [
    "während Tupel-Elemente nicht"
   ]
  },
  {
   "cell_type": "code",
   "execution_count": 3,
   "metadata": {
    "tags": [
     "raises-exception"
    ]
   },
   "outputs": [
    {
     "name": "stdout",
     "output_type": "stream",
     "text": [
      "'tuple' object does not support item assignment\n"
     ]
    }
   ],
   "source": [
    "try:\n",
    "    a_tuple[5] = 'apple'\n",
    "except TypeError as err:\n",
    "    print(err)"
   ]
  },
  {
   "cell_type": "markdown",
   "metadata": {},
   "source": [
    "Außerdem können wir ein Element an das Ende einer Liste anhängen, was wir bei Tupeln nicht können."
   ]
  },
  {
   "cell_type": "code",
   "execution_count": 10,
   "metadata": {},
   "outputs": [
    {
     "name": "stdout",
     "output_type": "stream",
     "text": [
      "[42, 0.5, True, [0, 1], None, 'apple', 3.14]\n"
     ]
    }
   ],
   "source": [
    "a_list.append( 3.14 )\n",
    "\n",
    "print(a_list)"
   ]
  },
  {
   "cell_type": "markdown",
   "metadata": {},
   "source": [
    "Eine weitere nützliche Datenstruktur ist das *Dictionary*. Dieses speichert eine Menge von *Werten*, die jeweils durch einen eindeutigen *Schlüssel* gekennzeichnet sind.\n",
    "\n",
    "Werte können beliebige Datentypen sein. Schlüssel können alles sein, was einfach genug ist (Integer, Float, Boolean, String). Es kann sich nicht um eine Liste handeln, aber es _kann ein Tupel sein."
   ]
  },
  {
   "cell_type": "code",
   "execution_count": 11,
   "metadata": {},
   "outputs": [],
   "source": [
    "a_dict = { 1:'This is the value, for the key 1', 'This is the key for a value 1':1, False:':)', (0,1):256 }"
   ]
  },
  {
   "cell_type": "markdown",
   "metadata": {},
   "source": [
    "Der Zugriff auf die Werte erfolgt über die Tasten"
   ]
  },
  {
   "cell_type": "code",
   "execution_count": 12,
   "metadata": {},
   "outputs": [
    {
     "data": {
      "text/plain": [
       "1"
      ]
     },
     "execution_count": 12,
     "metadata": {},
     "output_type": "execute_result"
    }
   ],
   "source": [
    "a_dict['This is the key for a value 1']"
   ]
  },
  {
   "cell_type": "markdown",
   "metadata": {},
   "source": [
    "Neue Schlüssel/Wertpaare können hinzugefügt werden, indem Sie einfach den neuen Wert für den neuen Schlüssel angeben"
   ]
  },
  {
   "cell_type": "code",
   "execution_count": 13,
   "metadata": {},
   "outputs": [],
   "source": [
    "a_dict['new key'] = 'new_value'"
   ]
  },
  {
   "cell_type": "markdown",
   "metadata": {},
   "source": [
    "Um über einen Zahlenbereich zu schleifen, lautet die Syntax"
   ]
  },
  {
   "cell_type": "code",
   "execution_count": 14,
   "metadata": {},
   "outputs": [
    {
     "name": "stdout",
     "output_type": "stream",
     "text": [
      "0\n",
      "1\n",
      "2\n",
      "3\n",
      "4\n"
     ]
    }
   ],
   "source": [
    "for j in range(5):\n",
    "    print(j)"
   ]
  },
  {
   "cell_type": "markdown",
   "metadata": {},
   "source": [
    "Beachten Sie, dass sie bei 0 beginnt (standardmäßig) und bei n-1 für `Bereich(n)` endet."
   ]
  },
  {
   "cell_type": "markdown",
   "metadata": {},
   "source": [
    "Sie können auch eine Schleife über ein beliebiges \"iterierbares\" Objekt, wie z. B. Listen, ausführen"
   ]
  },
  {
   "cell_type": "code",
   "execution_count": 15,
   "metadata": {},
   "outputs": [
    {
     "name": "stdout",
     "output_type": "stream",
     "text": [
      "42\n",
      "0.5\n",
      "True\n",
      "[0, 1]\n",
      "None\n",
      "apple\n",
      "3.14\n"
     ]
    }
   ],
   "source": [
    "for j in a_list:\n",
    "    print(j)"
   ]
  },
  {
   "cell_type": "markdown",
   "metadata": {},
   "source": [
    "oder dictionaries"
   ]
  },
  {
   "cell_type": "code",
   "execution_count": 16,
   "metadata": {},
   "outputs": [
    {
     "name": "stdout",
     "output_type": "stream",
     "text": [
      "key = 1\n",
      "value = This is the value, for the key 1\n",
      "\n",
      "key = This is the key for a value 1\n",
      "value = 1\n",
      "\n",
      "key = False\n",
      "value = :)\n",
      "\n",
      "key = (0, 1)\n",
      "value = 256\n",
      "\n",
      "key = new key\n",
      "value = new_value\n",
      "\n"
     ]
    }
   ],
   "source": [
    "for key in a_dict:\n",
    "    value = a_dict[key]\n",
    "    print('key =',key)\n",
    "    print('value =',value)\n",
    "    print()"
   ]
  },
  {
   "cell_type": "markdown",
   "metadata": {},
   "source": [
    "Bedingte Anweisungen werden mit `if`, `elif` und `else` mit der folgenden Syntax durchgeführt."
   ]
  },
  {
   "cell_type": "code",
   "execution_count": 17,
   "metadata": {},
   "outputs": [
    {
     "name": "stdout",
     "output_type": "stream",
     "text": [
      "We have an apple!\n"
     ]
    }
   ],
   "source": [
    "if 'strawberry' in a_list:\n",
    "    print('We have a strawberry!')\n",
    "elif a_list[5]=='apple':\n",
    "    print('We have an apple!')\n",
    "else:\n",
    "    print('Not much fruit here!')"
   ]
  },
  {
   "cell_type": "markdown",
   "metadata": {},
   "source": [
    "Das Importieren von Paketen erfolgt mit einer Zeile wie"
   ]
  },
  {
   "cell_type": "code",
   "execution_count": 18,
   "metadata": {},
   "outputs": [],
   "source": [
    "import numpy"
   ]
  },
  {
   "cell_type": "markdown",
   "metadata": {},
   "source": [
    "Das Paket `numpy` ist wichtig für die Mathematik"
   ]
  },
  {
   "cell_type": "code",
   "execution_count": 19,
   "metadata": {},
   "outputs": [
    {
     "data": {
      "text/plain": [
       "1.0"
      ]
     },
     "execution_count": 19,
     "metadata": {},
     "output_type": "execute_result"
    }
   ],
   "source": [
    "numpy.sin( numpy.pi/2 )"
   ]
  },
  {
   "cell_type": "markdown",
   "metadata": {},
   "source": [
    "Wir müssen `numpy.` vor jeden Numpy-Befehl schreiben, damit er weiß, wie er den in `numpy` definierten Befehl finden kann. Um Schreibarbeit zu sparen, ist es üblich, Folgendes zu verwenden"
   ]
  },
  {
   "cell_type": "code",
   "execution_count": 20,
   "metadata": {},
   "outputs": [
    {
     "data": {
      "text/plain": [
       "1.0"
      ]
     },
     "execution_count": 20,
     "metadata": {},
     "output_type": "execute_result"
    }
   ],
   "source": [
    "import numpy as np\n",
    "\n",
    "np.sin( np.pi/2 )"
   ]
  },
  {
   "cell_type": "markdown",
   "metadata": {},
   "source": [
    "Dann brauchen Sie nur den verkürzten Namen. Die meisten Leute benutzen `np`, aber Sie können wählen, was Sie wollen.\n",
    "\n",
    "Sie können auch alles direkt aus `numpy` herausziehen mit"
   ]
  },
  {
   "cell_type": "code",
   "execution_count": 21,
   "metadata": {},
   "outputs": [],
   "source": [
    "from numpy import *"
   ]
  },
  {
   "cell_type": "markdown",
   "metadata": {},
   "source": [
    "Dann können Sie die Befehle direkt verwenden. Dies kann jedoch dazu führen, dass sich die Pakete gegenseitig durcheinanderbringen, also verwenden Sie sie mit Vorsicht."
   ]
  },
  {
   "cell_type": "code",
   "execution_count": 22,
   "metadata": {},
   "outputs": [
    {
     "data": {
      "text/plain": [
       "1.0"
      ]
     },
     "execution_count": 22,
     "metadata": {},
     "output_type": "execute_result"
    }
   ],
   "source": [
    "sin( pi/2 )"
   ]
  },
  {
   "cell_type": "markdown",
   "metadata": {},
   "source": [
    "Wenn Sie Trigonometrie, lineare Algebra, etc. machen wollen, können Sie `numpy` verwenden. Für das Plotten verwenden Sie `matplotlib`. Für Graphentheorie verwenden Sie `networkx`. Für Quantenberechnungen verwenden Sie `qiskit`. Für was auch immer Sie wollen, es wird wahrscheinlich ein Paket geben, das Ihnen dabei hilft, es zu tun."
   ]
  },
  {
   "cell_type": "markdown",
   "metadata": {},
   "source": [
    "Eine gute Sache, über die man in jeder Sprache Bescheid wissen sollte, ist, wie man eine Funktion erstellt.\n",
    "\n",
    "Hier ist eine Funktion, deren Name als `do_some_maths` gewählt wurde, deren Eingaben `Input1` und `Input2` heißen und deren Ausgabe `the_answer` heißt."
   ]
  },
  {
   "cell_type": "code",
   "execution_count": 23,
   "metadata": {},
   "outputs": [],
   "source": [
    "def do_some_maths ( Input1, Input2 ):\n",
    "    the_answer = Input1 + Input2\n",
    "    return the_answer"
   ]
  },
  {
   "cell_type": "markdown",
   "metadata": {},
   "source": [
    "Sie wird wie folgt verwendet"
   ]
  },
  {
   "cell_type": "code",
   "execution_count": 24,
   "metadata": {},
   "outputs": [
    {
     "name": "stdout",
     "output_type": "stream",
     "text": [
      "73\n"
     ]
    }
   ],
   "source": [
    "x = do_some_maths(1,72)\n",
    "print(x)"
   ]
  },
  {
   "cell_type": "markdown",
   "metadata": {},
   "source": [
    "Wenn Sie einer Funktion ein Objekt geben und die Funktion eine Methode dieses Objekts aufruft, um dessen Zustand zu ändern, bleibt der Effekt bestehen. Wenn das also alles ist, was Sie tun wollen, brauchen Sie nichts \"zurückzugeben\". Lassen Sie uns das zum Beispiel mit der Methode `append` einer Liste machen."
   ]
  },
  {
   "cell_type": "code",
   "execution_count": 25,
   "metadata": {},
   "outputs": [],
   "source": [
    "def add_sausages ( input_list ):\n",
    "    if 'sausages' not in input_list:\n",
    "        input_list.append('sausages')"
   ]
  },
  {
   "cell_type": "code",
   "execution_count": 26,
   "metadata": {},
   "outputs": [
    {
     "name": "stdout",
     "output_type": "stream",
     "text": [
      "List before the function\n",
      "[42, 0.5, True, [0, 1], None, 'apple', 3.14]\n",
      "\n",
      "List after the function\n",
      "[42, 0.5, True, [0, 1], None, 'apple', 3.14, 'sausages']\n"
     ]
    }
   ],
   "source": [
    "print('List before the function')\n",
    "print(a_list)\n",
    "\n",
    "add_sausages(a_list) # function called without an output\n",
    "\n",
    "print('\\nList after the function')\n",
    "print(a_list)"
   ]
  },
  {
   "cell_type": "markdown",
   "metadata": {},
   "source": [
    "Zufälligkeit kann mit dem Paket `random` erzeugt werden."
   ]
  },
  {
   "cell_type": "code",
   "execution_count": 27,
   "metadata": {},
   "outputs": [],
   "source": [
    "import random"
   ]
  },
  {
   "cell_type": "code",
   "execution_count": 28,
   "metadata": {},
   "outputs": [
    {
     "name": "stdout",
     "output_type": "stream",
     "text": [
      "* Results from sample 1\n",
      "\n",
      "    Random number from 0 to 1: 0.1528408776233604\n",
      "\n",
      "    Random choice from our list: 0.5\n",
      "\n",
      "\n",
      "* Results from sample 2\n",
      "\n",
      "    Random number from 0 to 1: 0.30962434533848504\n",
      "\n",
      "    Random choice from our list: apple\n",
      "\n",
      "\n",
      "* Results from sample 3\n",
      "\n",
      "    Random number from 0 to 1: 0.912243241098352\n",
      "\n",
      "    Random choice from our list: apple\n",
      "\n",
      "\n",
      "* Results from sample 4\n",
      "\n",
      "    Random number from 0 to 1: 0.30326376887090656\n",
      "\n",
      "    Random choice from our list: sausages\n",
      "\n",
      "\n",
      "* Results from sample 5\n",
      "\n",
      "    Random number from 0 to 1: 0.41628118277247395\n",
      "\n",
      "    Random choice from our list: apple\n",
      "\n",
      "\n"
     ]
    }
   ],
   "source": [
    "for j in range(5):\n",
    "    print('* Results from sample',j+1)\n",
    "    print('\\n    Random number from 0 to 1:', random.random() )\n",
    "    print(\"\\n    Random choice from our list:\", random.choice( a_list ) )\n",
    "    print('\\n')"
   ]
  },
  {
   "cell_type": "markdown",
   "metadata": {},
   "source": [
    "Dies sind die Grundlagen. Jetzt brauchen Sie nur noch eine Suchmaschine und die Intuition zu wissen, wer es wert ist, auf Stack Exchange zuzuhören. Dann können Sie alles mit Python machen. Ihr Code ist vielleicht nicht der \"pythonischste\", aber das interessiert nur Pythonistas wirklich."
   ]
  },
  {
   "cell_type": "markdown",
   "metadata": {},
   "source": [
    "## Copyright\n",
    "\n",
    "Copyright 2021 Dual Software GmbH and SVA System Vertrieb Alexander GmbH\n",
    "\n",
    "Licensed under the Apache License, Version 2.0 (the \"License\"); you may not use this file except in compliance with the License. You may obtain a copy of the License at http://www.apache.org/licenses/LICENSE-2.0.\n",
    "\n",
    "Unless required by applicable law or agreed to in writing, software distributed under the License is distributed on an \"AS IS\" BASIS, WITHOUT WARRANTIES OR CONDITIONS OF ANY KIND, either express or implied. See the License for the specific language governing permissions and limitations under the License."
   ]
  },
  {
   "cell_type": "code",
   "execution_count": null,
   "metadata": {},
   "outputs": [],
   "source": []
  }
 ],
 "metadata": {
  "kernelspec": {
   "display_name": "Python 3",
   "language": "python",
   "name": "python3"
  },
  "language_info": {
   "codemirror_mode": {
    "name": "ipython",
    "version": 3
   },
   "file_extension": ".py",
   "mimetype": "text/x-python",
   "name": "python",
   "nbconvert_exporter": "python",
   "pygments_lexer": "ipython3",
   "version": "3.8.8"
  }
 },
 "nbformat": 4,
 "nbformat_minor": 2
}
