{
 "cells": [
  {
   "cell_type": "markdown",
   "metadata": {
    "tags": [
     "remove_cell"
    ]
   },
   "source": [
    "# Modul 05 - Multi Qubits & Verschränkte Zustände\n",
    "\n",
    "Eine Schulungsserie der Meetup-Gruppe **[Quantum Computing meets Business - Rhineland](https://www.meetup.com/de-DE/Quantum-Computing-meets-Business-Rhineland/)**\n",
    "\n",
    "(Adapted from [qiskit-textbook](https://github.com/qiskit-community/qiskit-textbook))"
   ]
  },
  {
   "cell_type": "code",
   "execution_count": 28,
   "metadata": {},
   "outputs": [
    {
     "data": {
      "text/html": [
       "<style>\n",
       "details {\n",
       "    display: block;\n",
       "    border: 1px solid black;\n",
       "    background-color: #eaeaff;\n",
       "    padding: 0.5em;\n",
       "    text-align: center;\n",
       "    margin: 0 8em;\n",
       "    cursor: pointer;\n",
       "}\n",
       "</style>\n"
      ],
      "text/plain": [
       "<IPython.core.display.HTML object>"
      ]
     },
     "metadata": {},
     "output_type": "display_data"
    }
   ],
   "source": [
    "run ./00-Inhalt_Tools.ipynb"
   ]
  },
  {
   "cell_type": "markdown",
   "metadata": {},
   "source": [
    "Einzelne Qubits sind interessant, aber einzeln bieten sie keinen rechnerischen Vorteil. Wir werden uns nun ansehen, wie wir mehrere Qubits darstellen und wie diese Qubits miteinander interagieren können. Wir haben gesehen, wie wir den Zustand eines Qubits mit einem 2D-Vektor darstellen können, jetzt werden wir sehen, wie wir den Zustand mehrerer Qubits darstellen können."
   ]
  },
  {
   "cell_type": "markdown",
   "metadata": {},
   "source": [
    "## Inhaltsverzeichnis\n",
    "1. [Darstellung von Multi-Qubit Zuständen](#represent)    \n",
    "    1.1 [Übungen](#ex1)\n",
    "2. [Ein-Qubit Gatter auf Multi-Qubit Zustandsvektor](#single-qubit-gates)    \n",
    "    2.1 [Übungen](#ex2)\n",
    "3. [Multi-Qubit Gatter](#multi-qubit-gates)    \n",
    "    3.1 [Das CNOT-Gatter](#cnot)  \n",
    "    3.2 [Verschränkte Zustände](#entangled)  \n",
    "    3.3 [Visualisierung verschränkter Zustände](#visual)    \n",
    "    3.4 [Übungen](#ex3)   \n",
    "4.  [Quanten-Teleportation](#ex5)\n",
    "\n",
    "\n",
    "## 1. Darstellung von Multi-Qubit Zuständen <a id=\"represent\"></a>\n",
    "\n",
    "Wir haben gesehen, dass ein einzelnes Bit zwei mögliche Zustände hat, und ein Qubit-Zustand hat zwei komplexe Amplituden. Analog dazu haben zwei Bits vier mögliche Zustände:\n",
    "\n",
    "`00` `01` `10` `11`\n",
    "\n",
    "Und um den Zustand von zwei Qubits zu beschreiben, braucht man **vier komplexe Amplituden**. Wir speichern diese Amplituden in einem 4D-Vektor wie folgt:\n",
    "\n",
    "$$ |a\\rangle = a_{00}|00\\rangle + a_{01}|01\\rangle + a_{10}|10\\rangle + a_{11}|11\\rangle = \\begin{bmatrix} a_{00} \\\\ a_{01} \\\\ a_{10} \\\\ a_{11} \\end{bmatrix} $$\n",
    "\n",
    "Die Regeln der Messung funktionieren immer noch auf die gleiche Weise:\n",
    "\n",
    "$$ p(|00\\rangle) = |\\langle 00 | a \\rangle |^2 = |a_{00}|^2$$\n",
    "\n",
    "Und die gleichen Implikationen gelten, wie die Normalisierungsbedingung:\n",
    "\n",
    "$$ |a_{00}|^2 + |a_{01}|^2 + |a_{10}|^2 + |a_{11}|^2 = 1$$\n",
    "\n",
    "Wenn wir zwei getrennte Qubits haben, können wir ihren gemeinsamen Zustand durch das **Tensorprodukt** beschreiben:\n",
    "\n",
    "$$ |a\\rangle = \\begin{bmatrix} a_0 \\\\ a_1 \\end{bmatrix}, \\quad |b\\rangle = \\begin{bmatrix} b_0 \\\\ b_1 \\end{bmatrix} $$\n",
    "\n",
    "$$ \n",
    "|ba\\rangle = |b\\rangle \\otimes |a\\rangle = \\begin{bmatrix} b_0 \\times \\begin{bmatrix} a_0 \\\\ a_1 \\end{bmatrix} \\\\ b_1 \\times \\begin{bmatrix} a_0 \\\\ a_1 \\end{bmatrix} \\end{bmatrix} = \\begin{bmatrix} b_0 a_0 \\\\ b_0 a_1 \\\\ b_1 a_0 \\\\ b_1 a_1 \\end{bmatrix}\n",
    "$$\n",
    "\n",
    "Und nach den gleichen Regeln können wir das Tensorprodukt verwenden, um den kollektiven Zustand einer **beliebigen Anzahl von Qubits** zu beschreiben. Hier ist ein Beispiel mit drei Qubits:\n",
    "\n",
    "$$ \n",
    "|cba\\rangle = \\begin{bmatrix} c_0 b_0 a_0 \\\\ c_0 b_0 a_1 \\\\ c_0 b_1 a_0 \\\\ c_0 b_1 a_1 \\\\\n",
    "                              c_1 b_0 a_0 \\\\ c_1 b_0 a_1 \\\\ c_1 b_1 a_0 \\\\ c_1 b_1 a_1 \\\\\n",
    "              \\end{bmatrix}\n",
    "$$\n",
    "\n",
    "Wenn wir $n$ Qubits haben, müssen wir $2^n$ komplexe Amplituden im Auge behalten. Wie wir sehen können, **wachsen diese Vektoren exponentiell** mit der Anzahl der Qubits. Dies ist der Grund, warum Quantencomputer mit einer großen Anzahl von Qubits so schwierig zu simulieren sind. Ein moderner Laptop kann leicht einen allgemeinen Quantenzustand von etwa 20 Qubits simulieren, aber die Simulation von 100 Qubits ist zu schwierig für die größten Supercomputer.\n",
    "\n",
    "Schauen wir uns eine Beispielschaltung an:"
   ]
  },
  {
   "cell_type": "code",
   "execution_count": 22,
   "metadata": {
    "tags": [
     "thebelab-init"
    ]
   },
   "outputs": [],
   "source": [
    "from qiskit import QuantumCircuit, Aer, execute\n",
    "from math import pi\n",
    "import numpy as np\n",
    "from qiskit.visualization import plot_histogram, plot_bloch_multivector"
   ]
  },
  {
   "cell_type": "code",
   "execution_count": 23,
   "metadata": {},
   "outputs": [
    {
     "data": {
      "text/html": [
       "<pre style=\"word-wrap: normal;white-space: pre;background: #fff0;line-height: 1.1;font-family: &quot;Courier New&quot;,Courier,monospace\">     ┌───┐\n",
       "q_0: ┤ H ├\n",
       "     ├───┤\n",
       "q_1: ┤ H ├\n",
       "     ├───┤\n",
       "q_2: ┤ H ├\n",
       "     └───┘</pre>"
      ],
      "text/plain": [
       "     ┌───┐\n",
       "q_0: ┤ H ├\n",
       "     ├───┤\n",
       "q_1: ┤ H ├\n",
       "     ├───┤\n",
       "q_2: ┤ H ├\n",
       "     └───┘"
      ]
     },
     "execution_count": 23,
     "metadata": {},
     "output_type": "execute_result"
    }
   ],
   "source": [
    "qc = QuantumCircuit(3)\n",
    "# H-Gatter auf jedes Qubit anwenden:\n",
    "for qubit in range(3):\n",
    "    qc.h(qubit)\n",
    "# See the circuit:\n",
    "qc.draw()"
   ]
  },
  {
   "cell_type": "markdown",
   "metadata": {},
   "source": [
    "Jedes Qubit befindet sich im Zustand $|+\\rangle$, wir sollten also den Vektor sehen:\n",
    "\n",
    "$$ \n",
    "|{+++}\\rangle = \\frac{1}{\\sqrt{8}}\\begin{bmatrix} 1 \\\\ 1 \\\\ 1 \\\\ 1 \\\\\n",
    "                              1 \\\\ 1 \\\\ 1 \\\\ 1 \\\\\n",
    "              \\end{bmatrix}\n",
    "$$\n",
    "\n",
    "Dies ist eine gleichmäßige Überlagerung **aller möglichen Zustände**! Diese Hadamard-Schaltung ist ein wichtiger Teil von vielen Quantenalgorithmen. \n",
    "\n",
    "**Kurze Frage**: Von welcher Schaltung könnte dies ein Eigenzustand sein? (Vielleicht brauchen wir dafür erst den folgenden Abschnitt)"
   ]
  },
  {
   "cell_type": "code",
   "execution_count": 5,
   "metadata": {},
   "outputs": [
    {
     "name": "stdout",
     "output_type": "stream",
     "text": [
      "[0.35355339+0.j 0.35355339+0.j 0.35355339+0.j 0.35355339+0.j\n",
      " 0.35355339+0.j 0.35355339+0.j 0.35355339+0.j 0.35355339+0.j]\n"
     ]
    }
   ],
   "source": [
    "# Lassen Sie uns das Ergebnis sehen\n",
    "svsim = Aer.get_backend('statevector_simulator')\n",
    "job = execute(qc, svsim)\n",
    "final_state = job.result().get_statevector()\n",
    "\n",
    "print(final_state)"
   ]
  },
  {
   "cell_type": "markdown",
   "metadata": {},
   "source": [
    "Und wir haben unser erwartetes Ergebnis."
   ]
  },
  {
   "cell_type": "markdown",
   "metadata": {},
   "source": [
    "### 1.2 Kurzübungen: <a id=\"ex1\"></a>\n",
    "\n",
    "1.\tSchreiben Sie das Tensorprodukt der Qubits auf:    \n",
    "    a)\t$|0\\rangle|1\\rangle$    \n",
    "    b)\t$|0\\rangle|+\\rangle$    \n",
    "    c)\t$|+\\rangle|1\\rangle$    \n",
    "    d)\t$|-\\rangle|+\\rangle$    \n",
    "2.\tSchreiben Sie den Zustand:\n",
    "    $|\\psi\\rangle = \\tfrac{1}{\\sqrt{2}}|00\\rangle + \\tfrac{i}{\\sqrt{2}}|01\\rangle $\n",
    "    als zwei einzelne Qubits\n",
    "\n",
    "\n",
    "\n",
    "## 2. Ein-Qubit Gatter auf Multi-Qubit Zustandsvektor <a id=\"single-qubit-gates\"></a>\n",
    "\n",
    "Wir haben gesehen, dass ein X-Gatter durch die Matrix dargestellt wird:\n",
    "\n",
    "$$\n",
    "X = \\begin{bmatrix} 0 & 1 \\\\ 1 & 0 \\end{bmatrix}\n",
    "$$\n",
    "\n",
    "Und dass es so auf den Zustand $|0\\rangle$ wirkt:\n",
    "\n",
    "$$\n",
    "X|0\\rangle = \\begin{bmatrix} 0 & 1 \\\\ 1 & 0 \\end{bmatrix}\\begin{bmatrix} 1 \\\\ 0 \\end{bmatrix} = \\begin{bmatrix} 0 \\\\ 1\\end{bmatrix}\n",
    "$$\n",
    "\n",
    "aber es ist vielleicht nicht klar, wie ein X-Gatter auf ein Qubit in einem Multi-Qubit-Vektor wirken würde. Glücklicherweise ist die Regel recht einfach; so wie wir das Tensorprodukt verwendet haben, um Multi-Qubit-Zustandsvektoren zu berechnen, verwenden wir **das Tensorprodukt, um Matrizen zu berechnen**, die auf diese Zustandsvektoren wirken. Zum Beispiel in der folgenden Schaltung:"
   ]
  },
  {
   "cell_type": "code",
   "execution_count": 24,
   "metadata": {},
   "outputs": [
    {
     "data": {
      "text/html": [
       "<pre style=\"word-wrap: normal;white-space: pre;background: #fff0;line-height: 1.1;font-family: &quot;Courier New&quot;,Courier,monospace\">     ┌───┐\n",
       "q_0: ┤ H ├\n",
       "     ├───┤\n",
       "q_1: ┤ X ├\n",
       "     └───┘</pre>"
      ],
      "text/plain": [
       "     ┌───┐\n",
       "q_0: ┤ H ├\n",
       "     ├───┤\n",
       "q_1: ┤ X ├\n",
       "     └───┘"
      ]
     },
     "execution_count": 24,
     "metadata": {},
     "output_type": "execute_result"
    }
   ],
   "source": [
    "qc = QuantumCircuit(2)\n",
    "qc.h(0)\n",
    "qc.x(1)\n",
    "qc.draw()"
   ]
  },
  {
   "cell_type": "markdown",
   "metadata": {},
   "source": [
    "wir können die gleichzeitigen Operationen (H & X) durch ihr Tensorprodukt darstellen:\n",
    "\n",
    "$$\n",
    "X|q_1\\rangle \\otimes H|q_0\\rangle = (X\\otimes H)|q_1 q_0\\rangle\n",
    "$$\n",
    "\n",
    "Die Operation sieht folgendermaßen aus:\n",
    "\n",
    "$$\n",
    "X\\otimes H = \\begin{bmatrix} 0 & 1 \\\\ 1 & 0 \\end{bmatrix} \\otimes \\tfrac{1}{\\sqrt{2}}\\begin{bmatrix} 1 & 1 \\\\ 1 & -1 \\end{bmatrix} = \\frac{1}{\\sqrt{2}}\n",
    "\\begin{bmatrix} 0 \\times \\begin{bmatrix} 1 & 1 \\\\ 1 & -1 \\end{bmatrix}\n",
    "              & 1 \\times \\begin{bmatrix} 1 & 1 \\\\ 1 & -1 \\end{bmatrix}\n",
    "                \\\\ \n",
    "                1 \\times \\begin{bmatrix} 1 & 1 \\\\ 1 & -1 \\end{bmatrix}\n",
    "              & 0 \\times \\begin{bmatrix} 1 & 1 \\\\ 1 & -1 \\end{bmatrix}\n",
    "\\end{bmatrix} = \\frac{1}{\\sqrt{2}}\n",
    "\\begin{bmatrix} 0 & 0 & 1 & 1 \\\\\n",
    "                0 & 0 & 1 & -1 \\\\\n",
    "                1 & 1 & 0 & 0 \\\\\n",
    "                1 & -1 & 0 & 0 \\\\\n",
    "\\end{bmatrix}\n",
    "$$\n",
    "\n",
    "Die wir dann auf unseren 4D-Zustandsvektor $|q_1 q_0\\rangle$ anwenden können. Das kann ziemlich unübersichtlich werden, Sie werden also oft die klarere Schreibweise sehen:\n",
    "\n",
    "$$\n",
    "X\\otimes H = \n",
    "\\begin{bmatrix} 0 & H \\\\\n",
    "               H & 0\\\\\n",
    "\\end{bmatrix}\n",
    "$$\n",
    "\n",
    "Anstatt dies von Hand zu berechnen, können wir den `unitary_simulator` von Qiskit verwenden, um dies für uns zu tun. Der unitäre Simulator multipliziert alle Gatter in unserer Schaltung miteinander, um eine einzige unitäre Matrix zu kompilieren, die die gesamte Quantenschaltung ausführt:"
   ]
  },
  {
   "cell_type": "code",
   "execution_count": 7,
   "metadata": {},
   "outputs": [],
   "source": [
    "usim = Aer.get_backend('unitary_simulator')\n",
    "job = execute(qc, usim)\n",
    "unitary = job.result().get_unitary()"
   ]
  },
  {
   "cell_type": "markdown",
   "metadata": {},
   "source": [
    "und sehen Sie sich die Ergebnisse an:"
   ]
  },
  {
   "cell_type": "code",
   "execution_count": 8,
   "metadata": {},
   "outputs": [
    {
     "name": "stdout",
     "output_type": "stream",
     "text": [
      "[[ 0.        +0.00000000e+00j  0.        +0.00000000e+00j\n",
      "   0.70710678+0.00000000e+00j  0.70710678-8.65956056e-17j]\n",
      " [ 0.        +0.00000000e+00j  0.        +0.00000000e+00j\n",
      "   0.70710678+0.00000000e+00j -0.70710678+8.65956056e-17j]\n",
      " [ 0.70710678+0.00000000e+00j  0.70710678-8.65956056e-17j\n",
      "   0.        +0.00000000e+00j  0.        +0.00000000e+00j]\n",
      " [ 0.70710678+0.00000000e+00j -0.70710678+8.65956056e-17j\n",
      "   0.        +0.00000000e+00j  0.        +0.00000000e+00j]]\n"
     ]
    }
   ],
   "source": [
    "print(unitary)"
   ]
  },
  {
   "cell_type": "markdown",
   "metadata": {},
   "source": [
    "Wenn wir ein Gatter jeweils nur auf ein Qubit anwenden wollen (wie in der Schaltung unten), beschreiben wir dies durch ein Tensorprodukt mit der Identitätsmatrix, z. B.:\n",
    "\n",
    "$$ X \\otimes I $$"
   ]
  },
  {
   "cell_type": "code",
   "execution_count": 29,
   "metadata": {},
   "outputs": [
    {
     "data": {
      "text/html": [
       "<pre style=\"word-wrap: normal;white-space: pre;background: #fff0;line-height: 1.1;font-family: &quot;Courier New&quot;,Courier,monospace\">          \n",
       "q_0: ─────\n",
       "     ┌───┐\n",
       "q_1: ┤ X ├\n",
       "     └───┘</pre>"
      ],
      "text/plain": [
       "          \n",
       "q_0: ─────\n",
       "     ┌───┐\n",
       "q_1: ┤ X ├\n",
       "     └───┘"
      ]
     },
     "execution_count": 29,
     "metadata": {},
     "output_type": "execute_result"
    }
   ],
   "source": [
    "qc = QuantumCircuit(2)\n",
    "qc.x(1)\n",
    "qc.draw()"
   ]
  },
  {
   "cell_type": "code",
   "execution_count": 31,
   "metadata": {},
   "outputs": [
    {
     "name": "stdout",
     "output_type": "stream",
     "text": [
      "[[0.+0.j 0.+0.j 1.+0.j 0.+0.j]\n",
      " [0.+0.j 0.+0.j 0.+0.j 1.+0.j]\n",
      " [1.+0.j 0.+0.j 0.+0.j 0.+0.j]\n",
      " [0.+0.j 1.+0.j 0.+0.j 0.+0.j]]\n"
     ]
    }
   ],
   "source": [
    "# Simulate the unitary\n",
    "usim = Aer.get_backend('unitary_simulator')\n",
    "job = execute(qc, usim)\n",
    "unitary = job.result().get_unitary()\n",
    "print(unitary)"
   ]
  },
  {
   "cell_type": "markdown",
   "metadata": {},
   "source": [
    "Wir können sehen, dass Qiskit das Tensorprodukt durchgeführt hat:\n",
    "$$\n",
    "X \\otimes I =\n",
    "\\begin{bmatrix} 0 & I \\\\\n",
    "               I & 0\\\\\n",
    "\\end{bmatrix} = \n",
    "\\begin{bmatrix} 0 & 0 & 1 & 0 \\\\\n",
    "                0 & 0 & 0 & 1 \\\\\n",
    "                1 & 0 & 0 & 0 \\\\\n",
    "                0 & 1 & 0 & 0 \\\\\n",
    "\\end{bmatrix}\n",
    "$$\n",
    "\n",
    "**Kurze Frage**: Ist die Reihenfolge beim Tensorprodukt egal? Warum wundert uns die Antwort nicht?\n",
    "\n",
    "### 2.1 Kurzübungen: <a id=\"ex2\"></a>\n",
    "\n",
    "1. Berechnen Sie die Ein-Qubit-Unitary ($U$), die durch die Folge von Gattern erzeugt wird: $U = XZH$. Verwenden Sie den Unitary-Simulator von Qiskit, um Ihre Ergebnisse zu überprüfen.\n",
    "2. Versuchen Sie, die Gatter in der obigen Schaltung zu verändern. Berechnen Sie deren Tensorprodukt und überprüfen Sie dann Ihre Antwort mit dem Unitary Simulator.\n",
    "\n",
    "**Hinweis:** Verschiedene Bücher, Softwares und Webseiten ordnen ihre Qubits unterschiedlich an. Das bedeutet, dass das Tensorprodukt der gleichen Schaltung sehr unterschiedlich aussehen kann. Versuchen Sie, dies zu berücksichtigen, wenn Sie andere Quellen zu Rate ziehen. "
   ]
  },
  {
   "cell_type": "markdown",
   "metadata": {},
   "source": [
    "## 3. Multi-Qubit Gatter <a id=\"multi-qubit-gates\"></a>\n",
    "\n",
    "Nachdem wir nun wissen, wie man den Zustand mehrerer Qubits darstellen kann, sind wir nun bereit zu lernen, wie Qubits miteinander interagieren. Ein wichtiges Zwei-Qubit-Gatter ist das CNOT-Gatter. \n",
    "\n",
    "### 3.1 Das CNOT-Gatter <a id=\"cnot\"></a>\n",
    "\n",
    "Sie haben dieses Gatter bereits in [Einführung > Atome der Logik](01-Uebersicht_Einfuehrung.ipynb) kennengelernt. Dieses Gatter ist ein bedingtes Gatter, das ein X-Gatter auf dem zweiten Qubit (Ziel) durchführt, wenn der Zustand des ersten Qubits (Steuerung) $|1\\rangle$ ist. Das Gatter wird auf einer Schaltung wie dieser gezeichnet, mit `q0` als Steuerung und `q1` als Ziel: "
   ]
  },
  {
   "cell_type": "code",
   "execution_count": 26,
   "metadata": {},
   "outputs": [
    {
     "data": {
      "text/html": [
       "<pre style=\"word-wrap: normal;white-space: pre;background: #fff0;line-height: 1.1;font-family: &quot;Courier New&quot;,Courier,monospace\">          \n",
       "q_0: ──■──\n",
       "     ┌─┴─┐\n",
       "q_1: ┤ X ├\n",
       "     └───┘</pre>"
      ],
      "text/plain": [
       "          \n",
       "q_0: ──■──\n",
       "     ┌─┴─┐\n",
       "q_1: ┤ X ├\n",
       "     └───┘"
      ]
     },
     "execution_count": 26,
     "metadata": {},
     "output_type": "execute_result"
    }
   ],
   "source": [
    "qc = QuantumCircuit(2)\n",
    "# Apply CNOT\n",
    "qc.cx(0,1)\n",
    "# See the circuit:\n",
    "qc.draw()"
   ]
  },
  {
   "cell_type": "markdown",
   "metadata": {},
   "source": [
    "Wenn unsere Qubits nicht in Überlagerung von $|0\\rangle$ oder $|1\\rangle$ sind (sich also wie klassische Bits verhalten), ist dieses Gatter sehr einfach und intuitiv zu verstehen. Wir können die klassische Wahrheitstabelle verwenden (Zur Erinnerung: Qiskit ordnet die Qubits von rechts nach links an $q_1 \\otimes q_0$): \n",
    "\n",
    "| Input (t,c) | Output (t,c) |\n",
    "|:-----------:|:------------:|\n",
    "| 00          | 00           |\n",
    "| 01          | 11           |\n",
    "| 10          | 10           |\n",
    "| 11          | 01           |\n",
    "\n",
    "Und auf unseren 4D-Zustandsvektor wirkend, hat er eine der beiden Matrizen: \n",
    "\n",
    "$$\n",
    "\\text{CNOT} = \\begin{bmatrix} 1 & 0 & 0 & 0 \\\\\n",
    "                              0 & 0 & 0 & 1 \\\\\n",
    "                              0 & 0 & 1 & 0 \\\\\n",
    "                              0 & 1 & 0 & 0 \\\\\n",
    "              \\end{bmatrix}, \\quad\n",
    "\\text{CNOT} = \\begin{bmatrix} 1 & 0 & 0 & 0 \\\\\n",
    "                              0 & 1 & 0 & 0 \\\\\n",
    "                              0 & 0 & 0 & 1 \\\\\n",
    "                              0 & 0 & 1 & 0 \\\\\n",
    "              \\end{bmatrix}\n",
    "$$\n",
    "\n",
    "je nachdem, welches Qubit die Steuerung und welches das Ziel ist. Verschiedene Bücher, Simulatoren und Veröffentlichungen ordnen ihre Qubits unterschiedlich an. In unserem Fall entspricht die linke Matrix dem CNOT in der obigen Schaltung. Diese Matrix vertauscht die Amplituden von $|01\\rangle$ und $|11\\rangle$ in unserem Zustandsvektor:\n",
    "\n",
    "$$ \n",
    "|a\\rangle = \\begin{bmatrix} a_{00} \\\\ a_{01} \\\\ a_{10} \\\\ a_{11} \\end{bmatrix}, \\quad \\text{CNOT}|a\\rangle = \\begin{bmatrix} a_{00} \\\\ a_{11} \\\\ a_{10} \\\\ a_{01} \\end{bmatrix} \\begin{matrix} \\\\ \\leftarrow \\\\ \\\\ \\leftarrow \\end{matrix}\n",
    "$$\n",
    "\n",
    "Eine andere hilfreiche Darstellung des CNOT-Gatters erhält man über das äußere Produkt:\n",
    "\n",
    "$$\n",
    "\\text{CNOT} = I_t \\otimes \\langle0|_c + X_t \\otimes \\langle1|_c\n",
    "$$\n",
    "\n",
    "Wir haben gesehen, wie sich dies auf klassische Zustände auswirkt, aber nun wollen wir sehen, wie es sich auf ein Qubit in Superposition auswirkt. Wir werden ein Qubit in den Zustand $|+\\rangle$ versetzen:"
   ]
  },
  {
   "cell_type": "code",
   "execution_count": 12,
   "metadata": {},
   "outputs": [
    {
     "data": {
      "text/html": [
       "<pre style=\"word-wrap: normal;white-space: pre;background: #fff0;line-height: 1.1;font-family: &quot;Courier New&quot;,Courier,monospace\">     ┌───┐\n",
       "q_0: ┤ H ├\n",
       "     └───┘\n",
       "q_1: ─────\n",
       "          </pre>"
      ],
      "text/plain": [
       "     ┌───┐\n",
       "q_0: ┤ H ├\n",
       "     └───┘\n",
       "q_1: ─────\n",
       "          "
      ]
     },
     "execution_count": 12,
     "metadata": {},
     "output_type": "execute_result"
    }
   ],
   "source": [
    "qc = QuantumCircuit(2)\n",
    "# Apply H-gate to the first:\n",
    "qc.h(0)\n",
    "qc.draw()"
   ]
  },
  {
   "cell_type": "code",
   "execution_count": 13,
   "metadata": {},
   "outputs": [
    {
     "name": "stdout",
     "output_type": "stream",
     "text": [
      "[0.70710678+0.j 0.70710678+0.j 0.        +0.j 0.        +0.j]\n"
     ]
    }
   ],
   "source": [
    "# Let's see the result:\n",
    "svsim = Aer.get_backend('statevector_simulator')\n",
    "job = execute(qc, svsim)\n",
    "final_state = job.result().get_statevector()\n",
    "print(final_state)"
   ]
  },
  {
   "cell_type": "markdown",
   "metadata": {},
   "source": [
    "Erwartungsgemäß ergibt dies den Zustand $|0\\rangle \\otimes |{+}\\rangle = |0{+}\\rangle$:\n",
    "\n",
    "$$\n",
    "|0{+}\\rangle = \\tfrac{1}{\\sqrt{2}}(|00\\rangle + |01\\rangle)\n",
    "$$\n",
    "\n",
    "Und schauen wir mal, was passiert, wenn wir das CNOT-Gatter anwenden:"
   ]
  },
  {
   "cell_type": "code",
   "execution_count": 20,
   "metadata": {},
   "outputs": [
    {
     "data": {
      "text/html": [
       "<pre style=\"word-wrap: normal;white-space: pre;background: #fff0;line-height: 1.1;font-family: &quot;Courier New&quot;,Courier,monospace\">     ┌───┐     \n",
       "q_0: ┤ H ├──■──\n",
       "     └───┘┌─┴─┐\n",
       "q_1: ─────┤ X ├\n",
       "          └───┘</pre>"
      ],
      "text/plain": [
       "     ┌───┐     \n",
       "q_0: ┤ H ├──■──\n",
       "     └───┘┌─┴─┐\n",
       "q_1: ─────┤ X ├\n",
       "          └───┘"
      ]
     },
     "execution_count": 20,
     "metadata": {},
     "output_type": "execute_result"
    }
   ],
   "source": [
    "qc = QuantumCircuit(2)\n",
    "\n",
    "# Apply H-gate to the first:\n",
    "qc.h(0)\n",
    "# Apply a CNOT:\n",
    "qc.cx(0,1)\n",
    "qc.draw()"
   ]
  },
  {
   "cell_type": "code",
   "execution_count": 21,
   "metadata": {},
   "outputs": [
    {
     "name": "stdout",
     "output_type": "stream",
     "text": [
      "[0.70710678+0.j 0.        +0.j 0.        +0.j 0.70710678+0.j]\n"
     ]
    }
   ],
   "source": [
    "# Let's get the result:\n",
    "job = execute(qc, svsim)\n",
    "result = job.result()\n",
    "# Print the statevector neatly:\n",
    "final_state = result.get_statevector()\n",
    "print(final_state)"
   ]
  },
  {
   "cell_type": "markdown",
   "metadata": {},
   "source": [
    "Wir sehen, wir haben den Zustand:\n",
    "\n",
    "$$\n",
    "\\text{CNOT}|0{+}\\rangle = \\tfrac{1}{\\sqrt{2}}(|00\\rangle + |11\\rangle)\n",
    "$$ \n",
    "\n",
    "Dieser Zustand ist für uns sehr interessant, weil er _verschränkt_ ist, was uns nahtlos zum nächsten Abschnitt führt."
   ]
  },
  {
   "cell_type": "markdown",
   "metadata": {},
   "source": [
    "### 3.2 Verschränkte Zustände <a id=\"entangled\"></a>\n",
    "\n",
    "Wir haben im vorigen Abschnitt gesehen, dass wir den Zustand erzeugen können:\n",
    "\n",
    "$$\n",
    "\\tfrac{1}{\\sqrt{2}}(|00\\rangle + |11\\rangle)\n",
    "$$ \n",
    "\n",
    "Dies ist ein sogenannter **Bell-Zustand**. Wir sehen, dass dieser Zustand eine 50%ige Wahrscheinlichkeit hat, im Zustand $|00\\rangle$ gemessen zu werden, und eine 50%ige Chance, im Zustand $|11\\rangle$ gemessen zu werden. Am interessantesten ist, dass er eine **0%ige** Chance hat, in den Zuständen $|01\\rangle$ oder $|10\\rangle$ gemessen zu werden. Wir können dies in Qiskit sehen:"
   ]
  },
  {
   "cell_type": "code",
   "execution_count": 22,
   "metadata": {},
   "outputs": [
    {
     "data": {
      "image/png": "[encoded data removed]",
      "text/plain": [
       "<Figure size 504x360 with 1 Axes>"
      ]
     },
     "execution_count": 22,
     "metadata": {},
     "output_type": "execute_result"
    }
   ],
   "source": [
    "plot_histogram(result.get_counts())"
   ]
  },
  {
   "cell_type": "markdown",
   "metadata": {},
   "source": [
    "Dieser kombinierte Zustand kann **nicht als zwei separate Qubit-Zustände** geschrieben werden, was interessante Implikationen hat. Obwohl sich unsere Qubits in Superposition befinden, wird uns die Messung des einen den Zustand des anderen verraten und dessen Superposition kollabieren lassen. Wenn wir zum Beispiel das obere Qubit messen und den Zustand $|1\\rangle$ erhalten, ändert sich der kollektive Zustand unserer Qubits wie folgt:\n",
    "\n",
    "$$\n",
    "\\tfrac{1}{\\sqrt{2}}(|00\\rangle + |11\\rangle) \\quad \\xrightarrow[]{\\text{measure}} \\quad |11\\rangle\n",
    "$$\n",
    "\n",
    "Selbst wenn wir diese Qubits Lichtjahre entfernt trennen würden, kollabiert die Messung eines Qubits die Superposition und scheint eine unmittelbare Wirkung auf das andere zu haben. Dies ist **die ['spukhafte Fernwirkung'](https://en.wikipedia.org/wiki/Quantum_nonlocality)**, die so viele Physiker im frühen 20. Jahrhundert aufregte.\n",
    "\n",
    "Es ist wichtig zu beachten, dass das Messergebnis zufällig ist und die Messstatistik des einen Qubits **nicht** durch irgendeine Operation am anderen Qubit beeinflusst wird. Aus diesem Grund gibt es **keine** Möglichkeit, gemeinsame Quantenzustände zur Kommunikation zu nutzen. Dies ist bekannt als das No-Communication-Theorem.[1]"
   ]
  },
  {
   "cell_type": "markdown",
   "metadata": {},
   "source": [
    "Die Quanten-Verschränkung ist ein breites Forschungsgebiet: Physiker und Quanteninformatiker \"lieben\" sie!\n",
    "Hier ein paar Stichpunkte zum Thema:\n",
    "\n",
    "  * Englisch: Entanglement\n",
    "  * Bell states: Maximal verschränkte Zustände\n",
    "    * Entanglement kann man tatsächlich messen: \"Entanglement Entropy\"\n",
    "  * Hilbertraum = Separierbare + verschränkte Quantenzustände\n",
    "    * Von Letzteren gibt es _viel_ mehr\n",
    "  * Quantenfehlerkorrektur: 1 logischer Qubit-Zustand auf mehrere, physische Qubits verteilen => Das ist robuster!\n",
    "  * \"ER = EPR\", Raumzeit\n",
    "    * Eine Vermutung in der Quantengravitation: Wurmlöcher im Weltraum = Maximal verschränkte Quantenzustände und unsere Vorstellung von Raum, Zeit und Nähe entsteht erst durch die Quanten-Verschränkung\n",
    "  * Wechselwirkungsterme sind gerade die Terme, die Verschränkung erzeugen\n",
    "    * Atomkern + Elektronen: Wechselwirkung eher schächer / Wenig Verschränkung\n",
    "    * Quarks + Quarks / Atomkern: Wechselwirkung sehr stark / Sehr viel Verschränkung\n",
    "  * Viele faszinierende Phänomene\n",
    "    * z.B. \"Entanglement Swapping\""
   ]
  },
  {
   "cell_type": "markdown",
   "metadata": {},
   "source": [
    "### 3.3 Visualisierung verschränkter Zustände<a id=\"visual\"></a>\n",
    "\n",
    "Wir haben gesehen, dass dieser Zustand nicht als zwei separate Qubit-Zustände geschrieben werden kann. Das bedeutet auch, dass wir Informationen verlieren, wenn wir versuchen, unseren Zustand auf separaten Bloch-Kugeln darzustellen:"
   ]
  },
  {
   "cell_type": "code",
   "execution_count": 23,
   "metadata": {},
   "outputs": [
    {
     "data": {
      "image/png": "[encoded data removed]",
      "text/plain": [
       "<Figure size 576x288 with 2 Axes>"
      ]
     },
     "execution_count": 23,
     "metadata": {},
     "output_type": "execute_result"
    }
   ],
   "source": [
    "plot_bloch_multivector(final_state)"
   ]
  },
  {
   "cell_type": "markdown",
   "metadata": {},
   "source": [
    "Wenn man bedenkt, wie wir die Bloch-Sphäre in den früheren Kapiteln definiert haben, ist es vielleicht nicht klar, wie Qiskit die Bloch-Vektoren mit verschränkten Qubits überhaupt so berechnet. Im Ein-Qubit-Fall entspricht die **Position des Bloch-Vektors** entlang einer Achse sehr schön dem **Erwartungswert der Messung in dieser Basis**. Wenn wir dies als _die_ Regel für die Darstellung von Bloch-Vektoren nehmen, kommen wir zu der oben genannten Schlussfolgerung. Dies zeigt uns, dass **es _keine_ Ein-Qubit-Messbasis gibt**, für die eine bestimmte Messung garantiert ist. Dies steht im Gegensatz zu unseren Einzel-Qubit-Zuständen, bei denen wir immer eine Einzel-Qubit-Basis wählen konnten. Wenn wir die einzelnen Qubits auf diese Weise betrachten, verpassen wir den wichtigen Effekt der Korrelation zwischen den Qubits. Wir können nicht zwischen verschiedenen verschränkten Zuständen unterscheiden. Zum Beispiel, die zwei Zustände:\n",
    "\n",
    "$$\\tfrac{1}{\\sqrt{2}}(|01\\rangle + |10\\rangle) \\quad \\text{and} \\quad \\tfrac{1}{\\sqrt{2}}(|00\\rangle + |11\\rangle)$$\n",
    "\n",
    "sehen beide auf diesen separaten Bloch-Kugeln gleich aus, obwohl es sich um sehr unterschiedliche Zustände mit unterschiedlichen Messergebnissen handelt.\n",
    "\n",
    "Wie könnten wir diesen Zustandsvektor sonst visualisieren? Dieser Zustandsvektor ist einfach eine Sammlung von vier Amplituden (komplexe Zahlen), und es gibt unendlich viele Möglichkeiten, diese auf ein Bild abzubilden. Eine solche Visualisierung ist die _Q-Kugel,_ hier wird jede Amplitude durch einen Blob auf der Oberfläche einer Kugel dargestellt. Die Größe des Kleckses ist proportional zum Betrag der Amplitude, und die Farbe ist proportional zur Phase der Amplitude. Die Amplituden für $|00\\rangle$ und $|11\\rangle$ sind gleich, und alle anderen Amplituden sind 0:"
   ]
  },
  {
   "cell_type": "code",
   "execution_count": 24,
   "metadata": {},
   "outputs": [
    {
     "data": {
      "image/png": "[encoded data removed]",
      "text/plain": [
       "<Figure size 504x504 with 2 Axes>"
      ]
     },
     "execution_count": 24,
     "metadata": {},
     "output_type": "execute_result"
    }
   ],
   "source": [
    "from qiskit.visualization import plot_state_qsphere\n",
    "plot_state_qsphere(final_state)"
   ]
  },
  {
   "cell_type": "markdown",
   "metadata": {},
   "source": [
    "Hier können wir deutlich die Korrelation zwischen den Qubits sehen. Die Form der Q-Sphäre hat keine Bedeutung, sie ist einfach eine nette Art, unsere Blobs anzuordnen; die Anzahl der `0` im Zustand ist proportional zur Position des Zustands auf der Z-Achse, so dass wir hier sehen können, dass die Amplitude von $|00\\rangle$ am oberen Pol der Kugel liegt und die Amplitude von $|11\\rangle$ am unteren Pol der Kugel."
   ]
  },
  {
   "cell_type": "markdown",
   "metadata": {},
   "source": [
    "### 3.4 Übung: <a id=\"ex3\"></a>\n",
    "1. Erstellen Sie eine Quantenschaltung, die den Bell-Zustand erzeugt: $\\tfrac{1}{\\sqrt{2}}(|01\\rangle + |10\\rangle)$.\n",
    "   Verwenden Sie den Zustandsvektorsimulator, um Ihr Ergebnis zu überprüfen.\n",
    "   \n",
    "2. Die Schaltung, die Sie in Frage 1 erstellt haben, transformiert den Zustand $|00\\rangle$ in $\\tfrac{1}{\\sqrt{2}}(|01\\rangle + |10\\rangle)$. Berechnen Sie die Unitarität dieser Schaltung mithilfe des Simulators von Qiskit. Überprüfen Sie, ob diese Unitary tatsächlich die korrekte Transformation durchführt.\n",
    "\n",
    "3.  Überlegen Sie, wie Sie einen Zustandsvektor visuell darstellen können. Können Sie eine interessante Visualisierung entwerfen, aus der Sie den Betrag und die Phase der einzelnen Amplituden ablesen können?"
   ]
  },
  {
   "cell_type": "markdown",
   "metadata": {},
   "source": [
    "## 4 Quanten-Teleportation: <a id=\"ex5\"></a>\n",
    "\n",
    "#### Die Bell-Basis\n",
    "\n",
    "\n",
    "In der Übung 3.4.1 hatten wir gesehen: Indem wir die beiden Qubits am Anfang wahlweise per X-Gatter ändern, erhalten wir weitere Bell-Zustände. Insgesamt heißt das nichts anderes als: Die ursprüngliche H-CNOT-Schaltung bildet die Zustände der Computational Basis auf folgende 2-Qubit-Basis ab:\n",
    "\n",
    "  - $|00\\rangle \\rightarrow \\tfrac{1}{\\sqrt{2}}(|00\\rangle + |11\\rangle) =: |\\Phi^+\\rangle$\n",
    "  - $|10\\rangle \\rightarrow \\tfrac{1}{\\sqrt{2}}(|01\\rangle + |10\\rangle) =: |\\Psi^+\\rangle$\n",
    "  - $|01\\rangle \\rightarrow \\tfrac{1}{\\sqrt{2}}(|00\\rangle - |11\\rangle) =: |\\Phi^-\\rangle$\n",
    "  - $|11\\rangle \\rightarrow \\tfrac{1}{\\sqrt{2}}(|01\\rangle - |10\\rangle) =: |\\Psi^-\\rangle$\n",
    "\n",
    "Diese Bell-Basis ist sehr zentral in der Quanteninformationstheorie. U.a. wird sie für die Quanten-Teleportation verwendet.\n",
    "\n",
    "#### Ziel der Quanten-Teleportation\n",
    "\n",
    "Alice möchte Quanteninformationen an Bob senden. Angenommen, sie möchte den Qubit-Zustand senden\n",
    "\n",
    "$\\vert q\\rangle = a\\vert0\\rangle + b\\vert1\\rangle$. \n",
    "\n",
    "Dabei werden Informationen über $a$ und $b$ an Bob weitergegeben.\n",
    "\n",
    "Es gibt ein Theorem in der Quantenmechanik, das besagt, dass man nicht einfach eine exakte Kopie eines unbekannten Quantenzustands erstellen kann. Dies ist als No-Cloning-Theorem bekannt. Als Ergebnis können wir sehen, dass Alice nicht einfach eine Kopie von $\\vert q\\rangle$ erstellen und Bob die Kopie geben kann. Wir können nur klassische Zustände kopieren (keine Superpositionen).\n",
    "\n",
    "Indem Alice jedoch zwei klassische Bits und ein verschränktes Qubit-Paar nutzt, kann sie ihren Zustand $\\vert\\ q\\rangle$ an Bob übertragen. Wir nennen das Teleportation, weil Bob am Ende $\\vert q\\rangle$ haben wird und Alice nicht mehr.\n",
    "\n",
    "Um ein Quantenbit zu übertragen, müssen Alice und Bob einen Drittanbieter (Telamon) verwenden, um ihnen ein verschränktes Qubit-Paar zu senden. Alice führt dann einige Operationen an ihrem Qubit durch, sendet die Ergebnisse über einen klassischen Kommunikationskanal an Bob, und Bob führt dann einige Operationen auf seiner Seite durch, um Alices Qubit zu empfangen.\n",
    "\n",
    "![teleportation_doodle](../assets/05-MehrQubitGates_Verschraenkung/tele1.jpg)\n",
    "<center>Copyright 2021, Qiskit Development Team. </center>\n",
    "\n",
    "#### Ablauf (skizziert)\n",
    "\n",
    "Die Quantenteleportation beginnt mit der Tatsache, dass Alice $|q\\rangle = a|0\\rangle + b|1\\rangle$ (ein zufälliges Qubit) an Bob senden muss. Sie kennt den Zustand des Qubits nicht. Dafür nehmen Alice und Bob die Hilfe eines Drittanbieters (Telamon) in Anspruch. Telamon bereitet ein Paar verschränkter Qubits für Alice und Bob vor. Die verschränkten Qubits könnten in Dirac-Notation geschrieben werden als:\n",
    "\n",
    "$$ |\\psi \\rangle = \\frac{1}{\\sqrt{2}} (|00\\rangle + |11\\rangle) $$\n",
    "\n",
    "Alice und Bob besitzen jeweils ein Qubit des verschränkten Paares (als A bzw. B bezeichnet).\n",
    "\n",
    "$$|\\psi\\rangle = \\frac{1}{\\sqrt{2}} (|0\\rangle_A |0\\rangle_B + |1\\rangle_A |1\\rangle_B) $$\n",
    "\n",
    "Dadurch entsteht ein Drei-Qubit-Quantensystem, bei dem Alice die ersten beiden Qubits und Bob das letzte hat.\n",
    "\n",
    "$$ \\begin{align*}\n",
    "|q\\rangle \\otimes |\\psi\\rangle &= \\frac{1}{\\sqrt{2}} (a |0\\rangle \\otimes (|00\\rangle + |11\\rangle) + b |1\\rangle \\otimes (|00\\rangle + |11\\rangle))\\\\\n",
    "&= \\frac{1}{\\sqrt{2}} (a|000\\rangle + a|011\\rangle + b|100\\rangle + b|111\\rangle)\n",
    "\\end{align*}$$\n",
    "\n",
    "Dies kann man übrigens auch in Alice' Bell-Basis umschreiben (die Rechnung sparen wir uns, mehr dazu bei den Verweisen):\n",
    "\n",
    "$$  \\begin{align*}\n",
    "|q\\rangle \\otimes |\\psi\\rangle\n",
    "&=   \\\\ \n",
    " & \\phantom{ + } |\\Phi^+_A\\rangle (a|0\\rangle_B + b|1\\rangle_B) \\hphantom{\\quad )} \\\\[4pt]\n",
    " & + |\\Psi^+_A\\rangle (a|1\\rangle_B + b|0\\rangle_B) \\hphantom{\\quad )}\\\\[4pt]\n",
    " & + |\\Phi^-_A\\rangle (a|0\\rangle_B - b|1\\rangle_B) \\hphantom{\\quad )}\\\\[4pt]\n",
    " & + |\\Psi^-_A\\rangle (a|1\\rangle_B - b|0\\rangle_B) \\quad \\\\\n",
    "\\end{align*}$$\n",
    "\n",
    "Wir erkennen: Neben den Bell-Zuständen stehen jeweils die Amplituden von $|q\\rangle$ (mehr oder weniger) ... und zwar an Bobs Qubit!\n",
    "Alice misst deshalb die ersten beiden Qubits (die sie besitzt) **in der Bell-Basis** . Die Schaltung dazu ist nichts anderes, als die Inverse der H-CNOT-Schaltung von oben:\n"
   ]
  },
  {
   "cell_type": "code",
   "execution_count": 21,
   "metadata": {},
   "outputs": [
    {
     "data": {
      "text/html": [
       "<pre style=\"word-wrap: normal;white-space: pre;background: #fff0;line-height: 1.1;font-family: &quot;Courier New&quot;,Courier,monospace\">          ┌───┐ ░ ┌─┐   \n",
       "q_0: ──■──┤ H ├─░─┤M├───\n",
       "     ┌─┴─┐└───┘ ░ └╥┘┌─┐\n",
       "q_1: ┤ X ├──────░──╫─┤M├\n",
       "     └───┘      ░  ║ └╥┘\n",
       "c: 2/══════════════╩══╩═\n",
       "                   0  1 </pre>"
      ],
      "text/plain": [
       "          ┌───┐ ░ ┌─┐   \n",
       "q_0: ──■──┤ H ├─░─┤M├───\n",
       "     ┌─┴─┐└───┘ ░ └╥┘┌─┐\n",
       "q_1: ┤ X ├──────░──╫─┤M├\n",
       "     └───┘      ░  ║ └╥┘\n",
       "c: 2/══════════════╩══╩═\n",
       "                   0  1 "
      ]
     },
     "execution_count": 21,
     "metadata": {},
     "output_type": "execute_result"
    }
   ],
   "source": [
    "qc = QuantumCircuit(2, 2)\n",
    "qc.cx(0,1)\n",
    "qc.h(0)\n",
    "\n",
    "qc.barrier()\n",
    "qc.measure(0,0) # extract XOR value\n",
    "qc.measure(1,1)\n",
    "\n",
    "qc.draw()"
   ]
  },
  {
   "cell_type": "markdown",
   "metadata": {},
   "source": [
    "Nach der Projektion auf Alice' Bell-Basis sieht der 3-Qubit-Zustand wie folgt aus (die Rechnung sparen wir uns)\n",
    "\n",
    "$$  \\begin{align*}\n",
    "\\text{Projektion auf Bell-Basis} (|q\\rangle \\otimes |\\psi\\rangle)\n",
    "&=   \\\\ \\frac{1}{2}(\n",
    " & \\phantom{+} |00\\rangle (a|0\\rangle + b|1\\rangle) \\hphantom{\\quad )} \\\\\n",
    " & + |01\\rangle (a|1\\rangle + b|0\\rangle) \\hphantom{\\quad )}\\\\[4pt]\n",
    " & + |10\\rangle (a|0\\rangle - b|1\\rangle) \\hphantom{\\quad )}\\\\[4pt]\n",
    " & + |11\\rangle (a|1\\rangle - b|0\\rangle) \\quad )\\\\\n",
    "\\end{align*}$$\n",
    "\n",
    "Nach der Alice' Messung kollabiert Bobs Qubit also in einen dieser vier Terme. In dem Alice Bob nun über den klassischen Weg mitteilt welche Term dieses ist (sie kennt den konkreten Bell-Zustand durch ihre Messung) kann Bob das ursprüngliche Qubit $|q\\rangle$ über geeignete _lokale_ Operationen wiederherstellen. "
   ]
  },
  {
   "cell_type": "markdown",
   "metadata": {},
   "source": [
    "## 5. Verweise\n",
    "\n",
    "[1] Asher Peres, Daniel R. Terno, _Quantum Information and Relativity Theory,_ 2004, https://arxiv.org/abs/quant-ph/0212023\n",
    "\n",
    "[2] Wikipedia, Quantum teleportation, https://en.wikipedia.org/wiki/Quantum_teleportation\n"
   ]
  },
  {
   "cell_type": "markdown",
   "metadata": {},
   "source": [
    "## Qiskit"
   ]
  },
  {
   "cell_type": "code",
   "execution_count": 35,
   "metadata": {},
   "outputs": [
    {
     "data": {
      "text/plain": [
       "{'qiskit-terra': '0.16.4',\n",
       " 'qiskit-aer': '0.7.6',\n",
       " 'qiskit-ignis': '0.5.2',\n",
       " 'qiskit-ibmq-provider': '0.12.1',\n",
       " 'qiskit-aqua': '0.8.2',\n",
       " 'qiskit': '0.24.0'}"
      ]
     },
     "execution_count": 35,
     "metadata": {},
     "output_type": "execute_result"
    }
   ],
   "source": [
    "import qiskit\n",
    "qiskit.__qiskit_version__"
   ]
  },
  {
   "cell_type": "markdown",
   "metadata": {},
   "source": [
    "## Copyright\n",
    "\n",
    "Copyright 2021 Dual Software GmbH and SVA System Vertrieb Alexander GmbH\n",
    "\n",
    "Licensed under the Apache License, Version 2.0 (the \"License\"); you may not use this file except in compliance with the License. You may obtain a copy of the License at http://www.apache.org/licenses/LICENSE-2.0.\n",
    "\n",
    "Unless required by applicable law or agreed to in writing, software distributed under the License is distributed on an \"AS IS\" BASIS, WITHOUT WARRANTIES OR CONDITIONS OF ANY KIND, either express or implied. See the License for the specific language governing permissions and limitations under the License."
   ]
  }
 ],
 "metadata": {
  "kernelspec": {
   "display_name": "Python 3",
   "language": "python",
   "name": "python3"
  },
  "language_info": {
   "codemirror_mode": {
    "name": "ipython",
    "version": 3
   },
   "file_extension": ".py",
   "mimetype": "text/x-python",
   "name": "python",
   "nbconvert_exporter": "python",
   "pygments_lexer": "ipython3",
   "version": "3.8.10"
  }
 },
 "nbformat": 4,
 "nbformat_minor": 4
}
