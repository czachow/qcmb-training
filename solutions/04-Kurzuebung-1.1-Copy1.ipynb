{
 "cells": [
  {
   "cell_type": "markdown",
   "id": "ec348f16-7a52-47c8-8f89-6cb78ccf68b2",
   "metadata": {},
   "source": [
    "1. Schreiben Sie das H-Gatter als die äußeren Produkte der Vektoren |0⟩, |1⟩, |+⟩ und |−⟩."
   ]
  },
  {
   "cell_type": "markdown",
   "id": "00069bd3-f88c-4a73-81a6-2828240c294b",
   "metadata": {},
   "source": [
    "- $H = |+\\rangle\\langle0| + |-\\rangle\\langle1|$"
   ]
  },
  {
   "cell_type": "code",
   "execution_count": 1,
   "id": "e6a3fd9c-2a01-4665-b63c-7271da10f1ae",
   "metadata": {},
   "outputs": [],
   "source": [
    "import numpy as np"
   ]
  },
  {
   "cell_type": "code",
   "execution_count": 6,
   "id": "42dba8c1-3d3a-472b-9d61-30983a530e2e",
   "metadata": {},
   "outputs": [],
   "source": [
    "zero = np.array([1, 0])\n",
    "one = np.array([0, 1])\n",
    "plus = 1./np.sqrt(2) * np.array([1., 1.])\n",
    "minus = 1./np.sqrt(2) * np.array([1., -1.])"
   ]
  },
  {
   "cell_type": "code",
   "execution_count": 12,
   "id": "c64c9d1c-0018-472f-b2cc-438650dfb947",
   "metadata": {},
   "outputs": [
    {
     "data": {
      "text/plain": [
       "array([[ 0.70710678,  0.70710678],\n",
       "       [ 0.70710678, -0.70710678]])"
      ]
     },
     "execution_count": 12,
     "metadata": {},
     "output_type": "execute_result"
    }
   ],
   "source": [
    "np.tensordot(plus, zero, axes=0) +np.tensordot(minus, one, axes=0)"
   ]
  },
  {
   "cell_type": "code",
   "execution_count": 15,
   "id": "63a7d1c7-36d6-4363-ac3e-5c3d904cb8b4",
   "metadata": {},
   "outputs": [
    {
     "data": {
      "text/plain": [
       "array([[0.70710678, 0.        ],\n",
       "       [0.70710678, 0.        ]])"
      ]
     },
     "execution_count": 15,
     "metadata": {},
     "output_type": "execute_result"
    }
   ],
   "source": [
    "np.einsum(\"i,j\", plus, zero)"
   ]
  },
  {
   "cell_type": "code",
   "execution_count": null,
   "id": "1093ea34-e849-436e-bb9a-4d1448feeef5",
   "metadata": {},
   "outputs": [],
   "source": []
  }
 ],
 "metadata": {
  "kernelspec": {
   "display_name": "Python 3 (ipykernel)",
   "language": "python",
   "name": "python3"
  },
  "language_info": {
   "codemirror_mode": {
    "name": "ipython",
    "version": 3
   },
   "file_extension": ".py",
   "mimetype": "text/x-python",
   "name": "python",
   "nbconvert_exporter": "python",
   "pygments_lexer": "ipython3",
   "version": "3.9.7"
  },
  "widgets": {
   "application/vnd.jupyter.widget-state+json": {
    "state": {},
    "version_major": 2,
    "version_minor": 0
   }
  }
 },
 "nbformat": 4,
 "nbformat_minor": 5
}
