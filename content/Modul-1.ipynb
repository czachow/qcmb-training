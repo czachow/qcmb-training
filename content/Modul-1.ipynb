{
 "cells": [
  {
   "cell_type": "markdown",
   "metadata": {},
   "source": [
    "# Einführung in das Quantencomputing\n",
    "# Modul 1\n",
    "\n",
    "Eine Schulungsserie der Meetup-Gruppe **[Quantum Computing meets Business - Rhineland](https://www.meetup.com/de-DE/Quantum-Computing-meets-Business-Rhineland/)**\n",
    "\n",
    "\n",
    "Themen:\n",
    "- Geschichte der Quantencomputer\n",
    "- Inhalt der Schulung\n",
    "- Atome der Logik"
   ]
  },
  {
   "cell_type": "markdown",
   "metadata": {},
   "source": [
    "## Vorbereitung der Umgebung ##"
   ]
  },
  {
   "cell_type": "code",
   "execution_count": 2,
   "metadata": {},
   "outputs": [],
   "source": [
    "if 'google.colab' in str(get_ipython()):\n",
    "    !pip install qiskit --quiet\n",
    "    !pip install git+https://github.com/qiskit-community/qiskit-textbook.git#subdirectory=qiskit-textbook-src --quiet\n",
    "    !pip install numexpr"
   ]
  },
  {
   "cell_type": "markdown",
   "metadata": {},
   "source": [
    "## Die Geschichte der Quantencomputer ##"
   ]
  },
  {
   "cell_type": "markdown",
   "metadata": {},
   "source": [
    "** Vor 40 Jahren ** erkannten Physiker, dass normale Computer immer an ihre Grenzen stoßen werden, wenn sie Naturprozesse in ihren kleinsten Strukturen berechnen bzw. simulieren. U.a. der legendäre **Nobelpreisträger Richard Feynmann ** postulierte daher eine vollkommen neuartige Rechenmaschine: Ein Computer der nicht auf den Gesetzen der Booleschen Logik, sondern **ein Computer, der auf den Gesetzen der Quantenmechanik basiert**. Ein Quantencomputer!\n",
    "\n",
    "In der folgenden Jahren wurden viele der theoretischen Konzepte entwickelt. Die wir Ihnen in den nächsten Sessions vorstellen werden. Die praktische Umsetzung der Quantencomputer blieb für viele Jahre ein fast aussichtsloses Unterfangen.\n",
    "\n",
    "**1995 entdeckte Peter Shaw, den ersten monumentalen Quanten Algorthimus**. Er wies nach, dass das Problem der Primzahlzerlagung mit einem Quantencomputer exponentiell schneller gelöst werden kann, als mit jedem herkömmlichen Algorithmus. Durch diese Entdeckung setzte ein Boom in dem Forschungszweig ein.\n",
    "\n",
    "\n"
   ]
  },
  {
   "cell_type": "markdown",
   "metadata": {},
   "source": [
    "## Inhalt der Schulung \"Einführung in das Quanten-Computing\" ##"
   ]
  },
  {
   "cell_type": "markdown",
   "metadata": {},
   "source": [
    "**Folgende Themen werden wir behandeln:**\n",
    "\n",
    "  * Grundlagen der Quantenmechanik\n",
    "    * Was ist ein Qubit?\n",
    "    * Messungen in der Quantenmechanik\n",
    "  * Operationen auf Qubits: 1-Qubit-Gatter, 2-Qubit-Gatter\n",
    "  * Einfache QC-Schaltungen / einfache Qiskit-Programme\n",
    "    * Unser Lehrmaterial basiert auf IBM Textbook und IBMs Qiskit\n",
    "    * Wir setzen grundlegende Programmierkenntnisse voraus. Insbesonsere sollten Sie in der Lage sein einfache Python Programme lesen bzw. verstehen zu können\n",
    "  * Mathematische Grundlagen: \n",
    "    * Komplexe Zahlen:$ \\sqrt{-1} = i $\n",
    "    * Lineare Algebra: Vektor- /Zustandsraum, Basis, Matrizen, Eigenwerte / -vektoren\n",
    "    * **Wir setzen keine „Höhere“ Mathematik voraus**. Das bedeutet aber auch, dass wir einiges an Höherer Mathematik einführen werden.\n",
    "  * Wichtige Quanten-Algorithmen\n",
    "    * Grover-Algorithmus?\n",
    "    * Quanten-Fourietransformation?\n",
    "    * Variational Algorithms?"
   ]
  },
  {
   "cell_type": "markdown",
   "metadata": {},
   "source": [
    "## Die Atome der Logik ##"
   ]
  },
  {
   "cell_type": "markdown",
   "metadata": {},
   "source": [
    "Wenn Sie der Meinung sind, dass die Quantenmechanik eine Herausforderung darstellt, sind Sie nicht allein. Alle unsere Intuitionen basieren auf alltäglichen Erfahrungen und können daher das Verhalten von Kugeln und Bananen besser verstehen als Atome oder Elektronen. Obwohl Quantenobjekte zunächst zufällig und chaotisch wirken können, folgen sie einfach einem anderen Regelwerk. Sobald wir diese Regeln kennen, können wir sie verwenden, um neue und leistungsstarke Technologien zu erstellen. Quantum Computing wird das revolutionärste Beispiel dafür sein."
   ]
  },
  {
   "cell_type": "markdown",
   "metadata": {},
   "source": [
    "![image1](images/atoms10.png)\n"
   ]
  },
  {
   "cell_type": "markdown",
   "metadata": {},
   "source": [
    "**Frage: Was ist ein Bit?**\n",
    "\n",
    "**Antwort: Die kleinste Einheit für Information: entweder ```0``` oder ```1```.**\n",
    "\n",
    "Die Idee, dass Informationen als eine Reihe von ```0```en and ```1``en gespeichert und verarbeitet werden können, ist eine ziemlich große konzeptionelle Hürde, aber die meisten Menschen wissen es heute, ohne darüber nachzudenken. Ausgehend davon können wir uns Bits vorstellen, die den Regeln der Quantenmechanik entsprechen. Diese Quantenbits oder * Qubits * ermöglichen es uns dann, Informationen auf neue und unterschiedliche Weise zu verarbeiten.\n",
    "\n",
    "Wir werden tiefer in die Welt der Qubits eintauchen. Dafür brauchen wir eine Möglichkeit, um zu verfolgen, was sie tun, wenn wir Tore anwenden. Der mächtigste Weg, dies zu tun, ist die Verwendung der mathematischen Sprache von Vektoren und Matrizen."
   ]
  },
  {
   "cell_type": "markdown",
   "metadata": {},
   "source": [
    "![image2](images/bloch.png)"
   ]
  },
  {
   "cell_type": "markdown",
   "metadata": {},
   "source": [
    "Dieses Kapitel ist am effektivsten für Leser, die bereits mit Vektoren und Matrizen vertraut sind. Diejenigen, die nicht vertraut sind, werden wahrscheinlich auch in Ordnung sein, obwohl es nützlich sein kann, von Zeit zu Zeit unsere [Einführung in die lineare Algebra für das Quantencomputing](XAnhang-linear_algebra.ipynb) zu konsultieren.\n",
    "\n",
    "Da wir Qiskit verwenden werden, unser Python-basiertes Framework für Quantencomputer, wäre es auch nützlich, die Grundlagen von Python zu kennen. Diejenigen, die eine Grundierung benötigen, können die [Einführung in Python- und Jupyter-Notebook](XAnhang-python-and-jupyter-notebooks.ipynb) konsultieren."
   ]
  },
  {
   "cell_type": "markdown",
   "metadata": {},
   "source": [
    "Das Programmieren eines Quantencomputers ist mittlerweile etwas, das jeder bequem von zu Hause aus tun kann.\n",
    "\n",
    "Aber was soll man schaffen? Was ist überhaupt ein Quantenprogramm? Was ist eigentlich ein Quantencomputer?\n",
    "\n",
    "Diese Fragen können durch Vergleiche mit Standard-Digitalcomputern beantwortet werden. Leider verstehen die meisten Menschen auch nicht, wie digitale Computer funktionieren. In diesem Artikel werden die Grundprinzipien dieser Geräte erläutert. Um uns später beim Übergang zum Quantencomputer zu helfen, verwenden wir dieselben Tools wie für Quantencomputer."
   ]
  },
  {
   "cell_type": "markdown",
   "metadata": {},
   "source": [
    "### Inhalt\n",
    "\n",
    "1. [Informationen in Bits aufteilen](#bits)\n",
    "2. [Berechnung als Diagramm](#diagram)\n",
    "3. [Ihr erster Quantenschaltkreis](#first-circuit)\n",
    "4. [Beispiel: Addiererschaltung](#adder)       \n",
    "  4.1 [Codierung einer Eingabe](#encoding)    \n",
    "  4.2 [Erinnerung wie man addiert](#remembering-add)    \n",
    "  4.3 [Addieren mit Qiskit](#adding-qiskit)\n",
    " "
   ]
  },
  {
   "cell_type": "markdown",
   "metadata": {},
   "source": [
    "Im Folgenden finden Sie einige Python-Codes, die wir ausführen müssen, wenn wir den Code auf dieser Seite verwenden möchten:"
   ]
  },
  {
   "cell_type": "code",
   "execution_count": 3,
   "metadata": {},
   "outputs": [],
   "source": [
    "from qiskit import QuantumCircuit, execute, Aer\n",
    "from qiskit.visualization import plot_histogram"
   ]
  },
  {
   "cell_type": "markdown",
   "metadata": {},
   "source": [
    "### 1. Informationen in Bits aufteilen <a id=\"bits\"></a>\n",
    "\n",
    "Das erste, was wir wissen müssen, ist die Idee von Bits. Dies ist das einfachste Alphabet der Welt. Mit nur zwei Zeichen, 0 und 1, können wir jede Information darstellen.\n",
    "\n",
    "Ein Beispiel sind Zahlen. Sie sind es wahrscheinlich gewohnt, eine Zahl durch eine Zeichenfolge mit den zehn Ziffern 0, 1, 2, 3, 4, 5, 6, 7, 8 und 9 darzustellen. In dieser Ziffernfolge gibt jede Ziffer an, wie oft die Zahl ist enthält eine bestimmte Potenz von zehn. Wenn wir zum Beispiel 9213 schreiben, meinen wir\n",
    "\n",
    "\n",
    "\n",
    "$$ 9000 + 200 + 10 + 3 $$\n",
    "\n",
    "\n",
    "\n",
    "oder, ausgedrückt in einer Weise, die die Zehnerpotenzen betont\n",
    "\n",
    "\n",
    "\n",
    "$$ (9\\times10^3) + (2\\times10^2) + (1\\times10^1) + (3\\times10^0) $$\n",
    "\n",
    "\n",
    "\n",
    "\n",
    "Obwohl wir dieses System normalerweise basierend auf der Nummer 10 verwenden, können wir eines genauso einfach basierend auf einer anderen Nummer verwenden. Das Binärzahlensystem basiert beispielsweise auf der Nummer zwei. Dies bedeutet, dass die beiden Zeichen 0 und 1 verwendet werden, um Zahlen als Vielfache von Zweierpotenzen auszudrücken. Beispielsweise wird 9213 zu 10001111111101, da\n",
    "\n",
    "\n",
    "\n",
    "$$ 9213  = (1 \\times 2^{13}) + (0 \\times 2^{12}) + (0 \\times 2^{11})+ (0 \\times 2^{10}) +(1 \\times 2^9) + (1 \\times 2^8) + (1 \\times 2^7) \\\\\\\\ \\,\\,\\,   + (1 \\times 2^6) + (1 \\times 2^5) + (1 \\times 2^4) + (1 \\times 2^3) + (1 \\times 2^2) + (0 \\times 2^1) + (1 \\times 2^0) $$\n",
    "\n",
    "\n",
    "\n",
    "Darin drücken wir Zahlen als Vielfache von 2, 4, 8, 16, 32 usw. anstelle von 10, 100, 1000 usw. aus.\n",
    "<a id=\"binary_widget\"> </a>"
   ]
  },
  {
   "cell_type": "code",
   "execution_count": 1,
   "metadata": {
    "scrolled": true
   },
   "outputs": [],
   "source": [
    "#from qiskit_textbook.widgets import binary_widget\n",
    "#binary_widget(nbits=5)"
   ]
  },
  {
   "cell_type": "markdown",
   "metadata": {},
   "source": [
    "Diese als Binärzeichenfolgen bezeichneten Bitfolgen können verwendet werden, um mehr als nur Zahlen darzustellen. Beispielsweise gibt es eine Möglichkeit, Text mithilfe von Bits darzustellen. Für jeden Buchstaben, jede Zahl oder jedes Interpunktionszeichen, das Sie verwenden möchten, können Sie mit [dieser Tabelle](https://www.ibm.com/support/knowledgecenter/en/ssw_aix_72/com.ibm.aix.networkcomm/conversion_table.htm) eine entsprechende Zeichenfolge mit höchstens acht Bits finden. Obwohl diese ziemlich willkürlich sind, ist dies ein weithin vereinbarter Standard. Tatsächlich wurde es verwendet, um diesen Artikel über das Internet an Sie zu übermitteln.\n",
    "\n",
    "So werden alle Informationen in Computern dargestellt. Ob Zahlen, Buchstaben, Bilder oder Ton, alles existiert in Form von Binärzeichenfolgen.\n",
    "\n",
    "Quantencomputer basieren wie unsere Standard-Digitalcomputer auf derselben Grundidee. Der Hauptunterschied besteht darin, dass sie * Qubits * verwenden, eine Erweiterung des Bits zur Quantenmechanik. Im Rest dieses Lehrbuchs werden wir untersuchen, was Qubits sind, was sie können und wie sie es tun. In diesem Abschnitt geht es jedoch überhaupt nicht um Quanten. Wir verwenden also nur Qubits, als wären sie Bits."
   ]
  },
  {
   "cell_type": "markdown",
   "metadata": {},
   "source": [
    "#### Kurze Übung\n",
    "1. Denken Sie an eine Zahl und versuchen Sie, sie binär aufzuschreiben.\n",
    "2. Wenn Sie $n$ Bits haben, in wie vielen verschiedenen Zuständen können sie sich befinden?"
   ]
  },
  {
   "cell_type": "markdown",
   "metadata": {},
   "source": [
    "### 2. Berechnung als Diagramm <a id=\"diagram\"> </a>\n",
    "\n",
    "Unabhängig davon, ob wir Qubits oder Bits verwenden, müssen wir sie manipulieren, um die Eingaben in die von uns benötigten Ausgaben umzuwandeln. Für die einfachsten Programme mit sehr wenigen Bits ist es nützlich, diesen Prozess in einem Diagramm darzustellen, das als * Schaltplan * bekannt ist. Diese haben Eingänge auf der linken Seite, Ausgänge auf der rechten Seite und Operationen, die durch arkane Symbole dazwischen dargestellt werden. Diese Operationen werden hauptsächlich aus historischen Gründen als \"Tore\" bezeichnet.\n",
    "\n",
    "Hier ist ein Beispiel dafür, wie eine Schaltung für standardmäßige bitbasierte Computer aussieht. Es wird nicht erwartet, dass Sie verstehen, was es tut. Es sollte Ihnen lediglich eine Vorstellung davon geben, wie diese Schaltkreise aussehen.\n",
    "\n",
    "![image3](images/classical_circuit.png)\n",
    "\n",
    "Für Quantencomputer verwenden wir dieselbe Grundidee, haben jedoch unterschiedliche Konventionen für die Darstellung von Eingaben, Ausgaben und Symbolen, die für Operationen verwendet werden. Hier ist die Quantenschaltung, die den gleichen Prozess wie oben darstellt.\n",
    "\n",
    "![image4](images/quantum_circuit.png)\n",
    "\n",
    "Im Rest dieses Abschnitts werden wir erklären, wie Schaltungen aufgebaut werden. Am Ende wissen Sie, wie Sie die obige Schaltung erstellen, was sie tut und warum sie nützlich ist."
   ]
  },
  {
   "cell_type": "markdown",
   "metadata": {},
   "source": [
    "### 3. Ihr erster Quantenschaltkreis <a id=\"first-circuit\"></a>"
   ]
  },
  {
   "cell_type": "markdown",
   "metadata": {},
   "source": [
    "In einer Schaltung müssen wir normalerweise drei Jobs ausführen: Zuerst die Eingabe codieren, dann eine tatsächliche Berechnung durchführen und schließlich eine Ausgabe extrahieren. Bei Ihrer ersten Quantenschaltung konzentrieren wir uns auf den letzten dieser Jobs. Wir beginnen mit der Erstellung einer Schaltung mit acht Qubits und acht Ausgängen."
   ]
  },
  {
   "cell_type": "code",
   "execution_count": 5,
   "metadata": {},
   "outputs": [],
   "source": [
    "n = 8\n",
    "n_q = n\n",
    "n_b = n\n",
    "qc_output = QuantumCircuit(n_q,n_b)"
   ]
  },
  {
   "cell_type": "markdown",
   "metadata": {},
   "source": [
    "Diese Schaltung, die wir `qc_output` genannt haben, wird von Qiskit mit `QuantumCircuit` erstellt. Die Zahl `n_q` definiert die Anzahl der Qubits in der Schaltung. Mit `n_b` definieren wir die Anzahl der Ausgangsbits, die wir am Ende aus der Schaltung extrahieren.\n",
    "\n",
    "Die Extraktion von Ausgängen in einer Quantenschaltung erfolgt unter Verwendung einer Operation, die als `measure` bezeichnet wird. Jede Messung weist ein bestimmtes Qubit an, einem bestimmten Ausgangsbit eine Ausgabe zu geben. Der folgende Code fügt jedem unserer acht Qubits eine `measure` -Operation hinzu. Die Qubits und Bits sind beide mit den Zahlen von 0 bis 7 gekennzeichnet (denn so machen Programmierer gerne Dinge). Der Befehl `qc.measure (j, j)` fügt unserer Schaltung `qc` eine Messung hinzu, die das Qubit `j` anweist, eine Ausgabe in das Bit `j` zu schreiben.\n"
   ]
  },
  {
   "cell_type": "code",
   "execution_count": 8,
   "metadata": {},
   "outputs": [],
   "source": [
    "for j in range(n):\n",
    "    qc_output.measure(j,j)"
   ]
  },
  {
   "cell_type": "markdown",
   "metadata": {},
   "source": [
    "Nachdem unsere Schaltung etwas enthält, schauen wir uns das an."
   ]
  },
  {
   "cell_type": "code",
   "execution_count": 9,
   "metadata": {},
   "outputs": [
    {
     "data": {
      "text/html": [
       "<pre style=\"word-wrap: normal;white-space: pre;background: #fff0;line-height: 1.1;font-family: &quot;Courier New&quot;,Courier,monospace\">        ┌─┐                     \n",
       "q_0: |0>┤M├─────────────────────\n",
       "        └╥┘┌─┐                  \n",
       "q_1: |0>─╫─┤M├──────────────────\n",
       "         ║ └╥┘┌─┐               \n",
       "q_2: |0>─╫──╫─┤M├───────────────\n",
       "         ║  ║ └╥┘┌─┐            \n",
       "q_3: |0>─╫──╫──╫─┤M├────────────\n",
       "         ║  ║  ║ └╥┘┌─┐         \n",
       "q_4: |0>─╫──╫──╫──╫─┤M├─────────\n",
       "         ║  ║  ║  ║ └╥┘┌─┐      \n",
       "q_5: |0>─╫──╫──╫──╫──╫─┤M├──────\n",
       "         ║  ║  ║  ║  ║ └╥┘┌─┐   \n",
       "q_6: |0>─╫──╫──╫──╫──╫──╫─┤M├───\n",
       "         ║  ║  ║  ║  ║  ║ └╥┘┌─┐\n",
       "q_7: |0>─╫──╫──╫──╫──╫──╫──╫─┤M├\n",
       "         ║  ║  ║  ║  ║  ║  ║ └╥┘\n",
       " c_0: 0 ═╩══╬══╬══╬══╬══╬══╬══╬═\n",
       "            ║  ║  ║  ║  ║  ║  ║ \n",
       " c_1: 0 ════╩══╬══╬══╬══╬══╬══╬═\n",
       "               ║  ║  ║  ║  ║  ║ \n",
       " c_2: 0 ═══════╩══╬══╬══╬══╬══╬═\n",
       "                  ║  ║  ║  ║  ║ \n",
       " c_3: 0 ══════════╩══╬══╬══╬══╬═\n",
       "                     ║  ║  ║  ║ \n",
       " c_4: 0 ═════════════╩══╬══╬══╬═\n",
       "                        ║  ║  ║ \n",
       " c_5: 0 ════════════════╩══╬══╬═\n",
       "                           ║  ║ \n",
       " c_6: 0 ═══════════════════╩══╬═\n",
       "                              ║ \n",
       " c_7: 0 ══════════════════════╩═\n",
       "                                </pre>"
      ],
      "text/plain": [
       "        ┌─┐                     \n",
       "q_0: |0>┤M├─────────────────────\n",
       "        └╥┘┌─┐                  \n",
       "q_1: |0>─╫─┤M├──────────────────\n",
       "         ║ └╥┘┌─┐               \n",
       "q_2: |0>─╫──╫─┤M├───────────────\n",
       "         ║  ║ └╥┘┌─┐            \n",
       "q_3: |0>─╫──╫──╫─┤M├────────────\n",
       "         ║  ║  ║ └╥┘┌─┐         \n",
       "q_4: |0>─╫──╫──╫──╫─┤M├─────────\n",
       "         ║  ║  ║  ║ └╥┘┌─┐      \n",
       "q_5: |0>─╫──╫──╫──╫──╫─┤M├──────\n",
       "         ║  ║  ║  ║  ║ └╥┘┌─┐   \n",
       "q_6: |0>─╫──╫──╫──╫──╫──╫─┤M├───\n",
       "         ║  ║  ║  ║  ║  ║ └╥┘┌─┐\n",
       "q_7: |0>─╫──╫──╫──╫──╫──╫──╫─┤M├\n",
       "         ║  ║  ║  ║  ║  ║  ║ └╥┘\n",
       " c_0: 0 ═╩══╬══╬══╬══╬══╬══╬══╬═\n",
       "            ║  ║  ║  ║  ║  ║  ║ \n",
       " c_1: 0 ════╩══╬══╬══╬══╬══╬══╬═\n",
       "               ║  ║  ║  ║  ║  ║ \n",
       " c_2: 0 ═══════╩══╬══╬══╬══╬══╬═\n",
       "                  ║  ║  ║  ║  ║ \n",
       " c_3: 0 ══════════╩══╬══╬══╬══╬═\n",
       "                     ║  ║  ║  ║ \n",
       " c_4: 0 ═════════════╩══╬══╬══╬═\n",
       "                        ║  ║  ║ \n",
       " c_5: 0 ════════════════╩══╬══╬═\n",
       "                           ║  ║ \n",
       " c_6: 0 ═══════════════════╩══╬═\n",
       "                              ║ \n",
       " c_7: 0 ══════════════════════╩═\n",
       "                                "
      ]
     },
     "execution_count": 9,
     "metadata": {},
     "output_type": "execute_result"
    }
   ],
   "source": [
    "qc_output.draw()"
   ]
  },
  {
   "cell_type": "markdown",
   "metadata": {},
   "source": [
    " Qubits werden immer initialisiert, um die Ausgabe ```0``` zu erhalten. Da wir in der obigen Schaltung nichts mit unseren Qubits machen, ist dies genau das Ergebnis, das wir erhalten, wenn wir sie messen. Wir können dies sehen, indem wir die Schaltung viele Male laufen lassen und die Ergebnisse in einem Histogramm darstellen. Wir werden feststellen, dass das Ergebnis immer ```00000000``` ist: eine ```0``` von jedem Qubit."
   ]
  },
  {
   "cell_type": "code",
   "execution_count": 10,
   "metadata": {},
   "outputs": [
    {
     "data": {
      "image/png": "[encoded data removed]",
      "text/plain": [
       "<Figure size 504x360 with 1 Axes>"
      ]
     },
     "execution_count": 10,
     "metadata": {},
     "output_type": "execute_result"
    }
   ],
   "source": [
    "counts = execute(qc_output,Aer.get_backend('qasm_simulator')).result().get_counts()\n",
    "plot_histogram(counts)"
   ]
  },
  {
   "cell_type": "markdown",
   "metadata": {},
   "source": [
    "Der Grund dafür, dass viele Male ausgeführt und das Ergebnis als Histogramm angezeigt wird, liegt darin, dass Quantencomputer möglicherweise zufällige Ergebnisse aufweisen. In diesem Fall erhalten wir mit Sicherheit nur das Ergebnis ```00000000```, da wir nichts Quantisches tun.\n",
    "\n",
    "Beachten Sie, dass dieses Ergebnis von einem Quantensimulator stammt, einem Standardcomputer, der berechnet, was ein idealer Quantencomputer tun würde. Simulationen sind nur für eine kleine Anzahl von Qubits (~ 30 Qubits) möglich, aber sie sind dennoch ein sehr nützliches Werkzeug beim Entwerfen Ihrer ersten Quantenschaltungen. Um auf einem realen Gerät ausgeführt zu werden, müssen Sie lediglich ```Aer.get_backend('qasm_simulator')``` durch das Backend-Objekt des Geräts ersetzen, das Sie verwenden möchten."
   ]
  },
  {
   "cell_type": "markdown",
   "metadata": {},
   "source": [
    "## 4 Beispiel: Addiererschaltung <a id=\"adder\"></a>\n",
    "### 4.1 Codierung einer Eingabe <a id=\"encoding\"></a>\n",
    "\n",
    "Schauen wir uns nun an, wie eine andere Binärzeichenfolge als Eingabe codiert wird. Dafür brauchen wir ein sogenanntes NICHT-Gatter. Dies ist die grundlegendste Operation, die Sie in einem Computer ausführen können. Es wird einfach der Bitwert umgedreht: ```0``` wird zu ``` 1``` und ```1``` wird zu ``` 0```. Für Qubits ist es eine Operation namens ```x```, die die Aufgabe des NOT übernimmt.\n",
    "\n",
    "Im Folgenden erstellen wir eine neue Schaltung für die Codierung und nennen sie `qc_encode`. Im Moment geben wir nur die Anzahl der Qubits an."
   ]
  },
  {
   "cell_type": "code",
   "execution_count": 11,
   "metadata": {},
   "outputs": [
    {
     "data": {
      "text/html": [
       "<pre style=\"word-wrap: normal;white-space: pre;background: #fff0;line-height: 1.1;font-family: &quot;Courier New&quot;,Courier,monospace\">             \n",
       "q_0: |0>─────\n",
       "             \n",
       "q_1: |0>─────\n",
       "             \n",
       "q_2: |0>─────\n",
       "             \n",
       "q_3: |0>─────\n",
       "             \n",
       "q_4: |0>─────\n",
       "             \n",
       "q_5: |0>─────\n",
       "             \n",
       "q_6: |0>─────\n",
       "        ┌───┐\n",
       "q_7: |0>┤ X ├\n",
       "        └───┘</pre>"
      ],
      "text/plain": [
       "             \n",
       "q_0: |0>─────\n",
       "             \n",
       "q_1: |0>─────\n",
       "             \n",
       "q_2: |0>─────\n",
       "             \n",
       "q_3: |0>─────\n",
       "             \n",
       "q_4: |0>─────\n",
       "             \n",
       "q_5: |0>─────\n",
       "             \n",
       "q_6: |0>─────\n",
       "        ┌───┐\n",
       "q_7: |0>┤ X ├\n",
       "        └───┘"
      ]
     },
     "execution_count": 11,
     "metadata": {},
     "output_type": "execute_result"
    }
   ],
   "source": [
    "qc_encode = QuantumCircuit(n)\n",
    "qc_encode.x(7)\n",
    "\n",
    "qc_encode.draw()"
   ]
  },
  {
   "cell_type": "markdown",
   "metadata": {},
   "source": [
    "Das Extrahieren der Ergebnisse kann mit der Schaltung erfolgen, die wir zuvor hatten: `qc_output`. Durch Hinzufügen der beiden Schaltkreise mit `qc_encode + qc_output` wird ein neuer Schaltkreis erstellt, der alles enthält, was zum Extrahieren eines am Ende hinzugefügten Ausgangs erforderlich ist."
   ]
  },
  {
   "cell_type": "code",
   "execution_count": 12,
   "metadata": {},
   "outputs": [
    {
     "data": {
      "text/html": [
       "<pre style=\"word-wrap: normal;white-space: pre;background: #fff0;line-height: 1.1;font-family: &quot;Courier New&quot;,Courier,monospace\">             ┌─┐                     \n",
       "q_0: |0>─────┤M├─────────────────────\n",
       "             └╥┘┌─┐                  \n",
       "q_1: |0>──────╫─┤M├──────────────────\n",
       "              ║ └╥┘┌─┐               \n",
       "q_2: |0>──────╫──╫─┤M├───────────────\n",
       "              ║  ║ └╥┘┌─┐            \n",
       "q_3: |0>──────╫──╫──╫─┤M├────────────\n",
       "              ║  ║  ║ └╥┘┌─┐         \n",
       "q_4: |0>──────╫──╫──╫──╫─┤M├─────────\n",
       "              ║  ║  ║  ║ └╥┘┌─┐      \n",
       "q_5: |0>──────╫──╫──╫──╫──╫─┤M├──────\n",
       "              ║  ║  ║  ║  ║ └╥┘┌─┐   \n",
       "q_6: |0>──────╫──╫──╫──╫──╫──╫─┤M├───\n",
       "        ┌───┐ ║  ║  ║  ║  ║  ║ └╥┘┌─┐\n",
       "q_7: |0>┤ X ├─╫──╫──╫──╫──╫──╫──╫─┤M├\n",
       "        └───┘ ║  ║  ║  ║  ║  ║  ║ └╥┘\n",
       " c_0: 0 ══════╩══╬══╬══╬══╬══╬══╬══╬═\n",
       "                 ║  ║  ║  ║  ║  ║  ║ \n",
       " c_1: 0 ═════════╩══╬══╬══╬══╬══╬══╬═\n",
       "                    ║  ║  ║  ║  ║  ║ \n",
       " c_2: 0 ════════════╩══╬══╬══╬══╬══╬═\n",
       "                       ║  ║  ║  ║  ║ \n",
       " c_3: 0 ═══════════════╩══╬══╬══╬══╬═\n",
       "                          ║  ║  ║  ║ \n",
       " c_4: 0 ══════════════════╩══╬══╬══╬═\n",
       "                             ║  ║  ║ \n",
       " c_5: 0 ═════════════════════╩══╬══╬═\n",
       "                                ║  ║ \n",
       " c_6: 0 ════════════════════════╩══╬═\n",
       "                                   ║ \n",
       " c_7: 0 ═══════════════════════════╩═\n",
       "                                     </pre>"
      ],
      "text/plain": [
       "             ┌─┐                     \n",
       "q_0: |0>─────┤M├─────────────────────\n",
       "             └╥┘┌─┐                  \n",
       "q_1: |0>──────╫─┤M├──────────────────\n",
       "              ║ └╥┘┌─┐               \n",
       "q_2: |0>──────╫──╫─┤M├───────────────\n",
       "              ║  ║ └╥┘┌─┐            \n",
       "q_3: |0>──────╫──╫──╫─┤M├────────────\n",
       "              ║  ║  ║ └╥┘┌─┐         \n",
       "q_4: |0>──────╫──╫──╫──╫─┤M├─────────\n",
       "              ║  ║  ║  ║ └╥┘┌─┐      \n",
       "q_5: |0>──────╫──╫──╫──╫──╫─┤M├──────\n",
       "              ║  ║  ║  ║  ║ └╥┘┌─┐   \n",
       "q_6: |0>──────╫──╫──╫──╫──╫──╫─┤M├───\n",
       "        ┌───┐ ║  ║  ║  ║  ║  ║ └╥┘┌─┐\n",
       "q_7: |0>┤ X ├─╫──╫──╫──╫──╫──╫──╫─┤M├\n",
       "        └───┘ ║  ║  ║  ║  ║  ║  ║ └╥┘\n",
       " c_0: 0 ══════╩══╬══╬══╬══╬══╬══╬══╬═\n",
       "                 ║  ║  ║  ║  ║  ║  ║ \n",
       " c_1: 0 ═════════╩══╬══╬══╬══╬══╬══╬═\n",
       "                    ║  ║  ║  ║  ║  ║ \n",
       " c_2: 0 ════════════╩══╬══╬══╬══╬══╬═\n",
       "                       ║  ║  ║  ║  ║ \n",
       " c_3: 0 ═══════════════╩══╬══╬══╬══╬═\n",
       "                          ║  ║  ║  ║ \n",
       " c_4: 0 ══════════════════╩══╬══╬══╬═\n",
       "                             ║  ║  ║ \n",
       " c_5: 0 ═════════════════════╩══╬══╬═\n",
       "                                ║  ║ \n",
       " c_6: 0 ════════════════════════╩══╬═\n",
       "                                   ║ \n",
       " c_7: 0 ═══════════════════════════╩═\n",
       "                                     "
      ]
     },
     "execution_count": 12,
     "metadata": {},
     "output_type": "execute_result"
    }
   ],
   "source": [
    "qc = qc_encode + qc_output\n",
    "qc.draw()"
   ]
  },
  {
   "cell_type": "markdown",
   "metadata": {},
   "source": [
    "Jetzt können wir die kombinierte Schaltung ausführen und die Ergebnisse betrachten."
   ]
  },
  {
   "cell_type": "code",
   "execution_count": 13,
   "metadata": {},
   "outputs": [
    {
     "data": {
      "image/png": "[encoded data removed]",
      "text/plain": [
       "<Figure size 504x360 with 1 Axes>"
      ]
     },
     "execution_count": 13,
     "metadata": {},
     "output_type": "execute_result"
    }
   ],
   "source": [
    "counts = execute(qc,Aer.get_backend('qasm_simulator')).result().get_counts()\n",
    "plot_histogram(counts)"
   ]
  },
  {
   "cell_type": "markdown",
   "metadata": {},
   "source": [
    "Jetzt gibt unser Computer stattdessen den String ```10000000``` aus.\n",
    "\n",
    "Das Bit, das wir umgedreht haben und das aus Qubit 7 stammt, befindet sich ganz links in der Zeichenfolge. Dies liegt daran, dass Qiskit die Bits in einer Zeichenfolge von rechts nach links nummeriert. Einige bevorzugen es, ihre Bits umgekehrt zu nummerieren, aber das System von Qiskit hat sicherlich seine Vorteile, wenn wir die Bits zur Darstellung von Zahlen verwenden. Konkret bedeutet dies, dass Qubit 7 uns sagt, wie viele $2^7$ s wir in unserer Zahl haben. Durch Umdrehen dieses Bits haben wir jetzt die Nummer 128 in unseren einfachen 8-Bit-Computer geschrieben.\n",
    "\n",
    "Versuchen Sie nun, eine andere Nummer für sich selbst zu schreiben. Sie könnten zum Beispiel Ihr Alter tun. Verwenden Sie einfach eine Suchmaschine, um herauszufinden, wie die Zahl in Binärform aussieht (wenn sie eine '0b' enthält, ignorieren Sie sie einfach), und fügen Sie dann auf der linken Seite einige Nullen hinzu, wenn Sie jünger als 64 sind."
   ]
  },
  {
   "cell_type": "code",
   "execution_count": 14,
   "metadata": {},
   "outputs": [
    {
     "data": {
      "text/html": [
       "<pre style=\"word-wrap: normal;white-space: pre;background: #fff0;line-height: 1.1;font-family: &quot;Courier New&quot;,Courier,monospace\">             \n",
       "q_0: |0>─────\n",
       "        ┌───┐\n",
       "q_1: |0>┤ X ├\n",
       "        └───┘\n",
       "q_2: |0>─────\n",
       "             \n",
       "q_3: |0>─────\n",
       "             \n",
       "q_4: |0>─────\n",
       "        ┌───┐\n",
       "q_5: |0>┤ X ├\n",
       "        └───┘\n",
       "q_6: |0>─────\n",
       "             \n",
       "q_7: |0>─────\n",
       "             </pre>"
      ],
      "text/plain": [
       "             \n",
       "q_0: |0>─────\n",
       "        ┌───┐\n",
       "q_1: |0>┤ X ├\n",
       "        └───┘\n",
       "q_2: |0>─────\n",
       "             \n",
       "q_3: |0>─────\n",
       "             \n",
       "q_4: |0>─────\n",
       "        ┌───┐\n",
       "q_5: |0>┤ X ├\n",
       "        └───┘\n",
       "q_6: |0>─────\n",
       "             \n",
       "q_7: |0>─────\n",
       "             "
      ]
     },
     "execution_count": 14,
     "metadata": {},
     "output_type": "execute_result"
    }
   ],
   "source": [
    "qc_encode = QuantumCircuit(n)\n",
    "qc_encode.x(1)\n",
    "qc_encode.x(5)\n",
    "\n",
    "qc_encode.draw()"
   ]
  },
  {
   "cell_type": "markdown",
   "metadata": {},
   "source": [
    "Jetzt wissen wir, wie man Informationen in einem Computer verschlüsselt. Der nächste Schritt besteht darin, es zu verarbeiten: Eine Eingabe, die wir codiert haben, in eine Ausgabe umzuwandeln, die wir benötigen."
   ]
  },
  {
   "cell_type": "markdown",
   "metadata": {},
   "source": [
    "### 4.2 Erinnerung wie man addiert  <a id=\"remembering-add\"></a>"
   ]
  },
  {
   "cell_type": "markdown",
   "metadata": {},
   "source": [
    "Um Eingaben in Ausgaben umzuwandeln, müssen wir ein Problem lösen. Lassen Sie uns einige grundlegende Berechnungen anstellen. In der Grundschule haben Sie gelernt, große mathematische Probleme in überschaubare Teile zu zerlegen. Wie würden Sie beispielsweise Folgendes lösen?\n",
    "\n",
    "```\n",
    "   9213\n",
    "+  1854\n",
    "=  ????\n",
    "```\n",
    "\n",
    "Eine Möglichkeit besteht darin, es Ziffer für Ziffer von rechts nach links zu tun. Also fangen wir mit 3+4 an\n",
    "```\n",
    "   9213\n",
    "+  1854\n",
    "=  ???7\n",
    "```\n",
    "\n",
    "Und dann 1+5\n",
    "```\n",
    "   9213\n",
    "+  1854\n",
    "=  ??67\n",
    "```\n",
    "\n",
    "Dann haben wir 2+8 = 10. Da dies eine zweistellige Antwort ist, müssen wir die eine in die nächste Spalte übertragen.\n",
    "\n",
    "```\n",
    "   9213\n",
    "+  1854\n",
    "=  ?067\n",
    "   ¹\n",
    "```\n",
    "\n",
    "Schließlich haben wir 9+1+1=11 und erhalten unsere Antwort\n",
    "\n",
    "```\n",
    "   9213\n",
    "+  1854\n",
    "= 11067\n",
    "  ¹\n",
    "```\n",
    "\n",
    "Dies mag nur eine einfache Ergänzung sein, zeigt aber die Prinzipien hinter allen Algorithmen. Unabhängig davon, ob der Algorithmus mathematische Probleme löst oder Text oder Bilder verarbeitet, teilen wir große Aufgaben immer in kleine und einfache Schritte auf.\n",
    "\n",
    "Um auf einem Computer ausgeführt zu werden, müssen Algorithmen auf die kleinstmöglichen und einfachsten Schritte kompiliert werden. Um zu sehen, wie diese aussehen, führen wir das obige Additionsproblem erneut aus, jedoch in binärer Form.\n",
    "\n",
    "\n",
    "```\n",
    "   10001111111101\n",
    "+  00011100111110\n",
    "                                    \n",
    "= ??????????????\n",
    "```\n",
    "\n",
    "Beachten Sie, dass die zweite Zahl links eine Reihe zusätzlicher Nullen enthält. Dies dient nur dazu, die beiden Zeichenfolgen gleich lang zu machen.\n",
    "\n",
    "Unsere erste Aufgabe ist es, die 1+0 für die rechte Spalte zu machen. In der Binärdatei lautet die Antwort wie in jedem Zahlensystem 1. Wir erhalten das gleiche Ergebnis für die 0+1 der zweiten Spalte.\n",
    "\n",
    "```\n",
    "   10001111111101\n",
    "+  00011100111110\n",
    "\n",
    "=  ????????????11\n",
    "```\n",
    "\n",
    "Als nächstes haben wir 1+1. Wie Sie sicherlich wissen, ist 1+1=2. In Binärform wird die Zahl 2 ```10``` geschrieben und benötigt daher zwei Bits. Dies bedeutet, dass wir die 1 tragen müssen, genau wie wir es für die Zahl 10 in Dezimalzahl tun würden.\n",
    "\n",
    "```\n",
    "   10001111111101\n",
    "+  00011100111110\n",
    "=  ???????????011\n",
    "             ¹\n",
    "```\n",
    "\n",
    "In der nächsten Spalte müssen wir nun ```1+1+1``` berechnen. Dies bedeutet, dass drei Zahlen addiert werden, sodass die Dinge für unseren Computer immer komplizierter werden. Aber wir können es immer noch zu einfacheren Operationen kompilieren und dies auf eine Weise tun, bei der wir immer nur zwei Bits addieren müssen. Dazu können wir nur mit den ersten beiden Einsen beginnen.\n",
    "\n",
    "```\n",
    "   1\n",
    "+  1\n",
    "= 10\n",
    "```\n",
    "\n",
    "Jetzt müssen wir diese ```10``` zur endgültigen ```1``` hinzufügen, was mit unserer üblichen Methode zum Durchlaufen der Spalten erfolgen kann.\n",
    "\n",
    "```\n",
    "  10\n",
    "+ 01\n",
    "= 11\n",
    "```\n",
    "\n",
    "Die endgültige Antwort lautet ```11``` (auch als 3 bekannt).\n",
    "\n",
    "Jetzt können wir zum Rest des Problems zurückkehren. Mit der Antwort von ```11``` haben wir ein weiteres Übertragsbit.\n",
    "\n",
    "```\n",
    "   10001111111101\n",
    "+  00011100111110\n",
    "=  ??????????1011\n",
    "            ¹¹\n",
    "```\n",
    "\n",
    "Jetzt haben wir also noch 1+1+1 zu tun. Aber wir wissen bereits, wie das geht, also ist es keine große Sache.\n",
    "\n",
    "Alles, was bisher noch übrig ist, wissen wir bereits. Dies liegt daran, dass Sie nur vier mögliche Dinge berechnen müssen, wenn Sie alles in zwei Bits aufteilen. Hier sind die vier Grundsummen (wir schreiben alle Antworten mit zwei Bits, um konsistent zu sein).\n",
    "\n",
    "```\n",
    "0+0 = 00 (dezimal ist dies 0+0 = 0)\n",
    "0+1 = 01 (dezimal ist dies 0+1 = 1)\n",
    "1+0 = 01 (dezimal ist dies 1+0 = 1)\n",
    "1+1 = 10 (dezimal ist dies 1+1 = 2)\n",
    "```\n",
    "\n",
    "Dies wird als * Halbaddierer * bezeichnet. Wenn unser Computer dies implementieren kann und viele von ihnen miteinander verketten kann, kann er alles hinzufügen."
   ]
  },
  {
   "cell_type": "markdown",
   "metadata": {},
   "source": [
    "### 4.3 Addieren mit Qiskit <a id=\"adding-qiskit\"></a>"
   ]
  },
  {
   "cell_type": "markdown",
   "metadata": {},
   "source": [
    "Lassen Sie uns mit Qiskit unseren eigenen Halbaddierer erstellen. Dies umfasst einen Teil der Schaltung, der die Eingabe codiert, einen Teil, der den Algorithmus ausführt, und einen Teil, der das Ergebnis extrahiert. Der erste Teil muss geändert werden, wenn wir eine neue Eingabe verwenden möchten, der Rest bleibt jedoch immer gleich."
   ]
  },
  {
   "cell_type": "markdown",
   "metadata": {},
   "source": [
    "![half adder implemented on a quantum circuit](images/half-adder.svg)"
   ]
  },
  {
   "cell_type": "markdown",
   "metadata": {},
   "source": [
    "Die zwei Bits, die wir hinzufügen möchten, sind in den Qubits 0 und 1 codiert. Das obige Beispiel codiert eine ```1``` in diesen beiden Qubits und versucht daher, die Lösung von ```1+1``` zu finden. Das Ergebnis ist eine Folge von zwei Bits, die wir aus den Qubits 2 und 3 auslesen werden. Sie müssen nur noch das eigentliche Programm ausfüllen, das sich in der Leerstelle in der Mitte befindet.\n",
    "\n",
    "Die gestrichelten Linien im Bild dienen nur zur Unterscheidung der verschiedenen Teile der Schaltung (obwohl sie auch interessantere Verwendungen haben können). Sie werden mit dem Befehl \"Barriere\" erstellt.\n",
    "\n",
    "Die Grundoperationen des Rechnens sind als Logikgatter bekannt. Wir haben das NOT-Gatter bereits verwendet, aber dies reicht nicht aus, um unseren Halbaddierer zu machen. Wir konnten es nur verwenden, um die Antworten manuell aufzuschreiben. Da wir möchten, dass der Computer die eigentliche Datenverarbeitung für uns übernimmt, benötigen wir einige leistungsstärkere Gates.\n",
    "\n",
    "Um zu sehen, was wir brauchen, schauen wir uns noch einmal an, was unser Halbaddierer tun muss.\n",
    "\n",
    "```\n",
    "0 + 0 = 00\n",
    "0 + 1 = 01\n",
    "1 + 0 = 01\n",
    "1 + 1 = 10\n",
    "```\n",
    "\n",
    "Das Bit ganz rechts in allen vier dieser Antworten wird vollständig davon bestimmt, ob die beiden hinzugefügten Bits gleich oder verschieden sind. Für ```0+0``` und ```1+1```, wo die beiden Bits gleich sind, kommt das am weitesten rechts stehende Bit der Antwort mit ```0``` heraus. Für ```0+1``` und ```1+0```, wo wir verschiedene Bitwerte hinzufügen, ist das Bit ganz rechts ```1```.\n",
    "\n",
    "Um diesen Teil unserer Lösung richtig zu machen, benötigen wir etwas, das herausfinden kann, ob zwei Bits unterschiedlich sind oder nicht. Traditionell wird dies beim Studium der digitalen Berechnung als XOR-Gatter bezeichnet.\n",
    "\n",
    "| Eingabe 1 | Eingabe 2 | XOR-Ausgabe |\n",
    "|: -------: |: -------: |: ------: |\n",
    "| 0 | 0 | 0 |\n",
    "| 0 | 1 | 1 |\n",
    "| 1 | 0 | 1 |\n",
    "| 1 | 1 | 0 |\n",
    "\n",
    "In Quantencomputern wird die Arbeit des XOR-Gatters durch das Controlled-NOT-Gatter erledigt. Da dies ein ziemlich langer Name ist, nennen wir ihn normalerweise nur CNOT. In Qiskit heißt es ```cx```, was noch kürzer ist. In Schaltplänen wird es wie in der Abbildung unten gezeichnet."
   ]
  },
  {
   "cell_type": "code",
   "execution_count": 16,
   "metadata": {},
   "outputs": [
    {
     "data": {
      "text/html": [
       "<pre style=\"word-wrap: normal;white-space: pre;background: #fff0;line-height: 1.1;font-family: &quot;Courier New&quot;,Courier,monospace\">             \n",
       "q_0: |0>──■──\n",
       "        ┌─┴─┐\n",
       "q_1: |0>┤ X ├\n",
       "        └───┘</pre>"
      ],
      "text/plain": [
       "             \n",
       "q_0: |0>──■──\n",
       "        ┌─┴─┐\n",
       "q_1: |0>┤ X ├\n",
       "        └───┘"
      ]
     },
     "execution_count": 16,
     "metadata": {},
     "output_type": "execute_result"
    }
   ],
   "source": [
    "qc_cnot = QuantumCircuit(2)\n",
    "qc_cnot.cx(0,1)\n",
    "qc_cnot.draw()"
   ]
  },
  {
   "cell_type": "markdown",
   "metadata": {},
   "source": [
    "Dies wird auf ein Paar Qubits angewendet. Man fungiert als Kontroll-Qubit (dies ist das mit dem kleinen Punkt). Das andere fungiert als *Ziel-Qubit* (mit dem großen Kreis).\n",
    "\n",
    "Es gibt mehrere Möglichkeiten, die Wirkung des CNOT zu erklären. Eine ist zu sagen, dass es seine zwei Eingangsbits betrachtet, um zu sehen, ob sie gleich oder verschieden sind. Als nächstes überschreibt es das Ziel-Qubit mit der Antwort. Das Ziel wird ```0```, wenn sie gleich sind, und ```1```, wenn sie unterschiedlich sind.\n",
    "\n",
    "<img src=\"images/cnot_xor.svg\">\n",
    "\n",
    "Eine andere Möglichkeit, das CNOT zu erklären, besteht darin, zu sagen, dass es ein NICHT auf dem Ziel ausführt, wenn die Steuerung ```1``` ist, und nichts anderes tut. Diese Erklärung ist genauso gültig wie die vorherige (tatsächlich gibt sie dem Gatter seinen Namen).\n",
    "\n",
    "Probieren Sie den CNOT selbst aus, indem Sie alle möglichen Eingaben ausprobieren. Hier ist zum Beispiel eine Schaltung, die den CNOT mit dem Eingang ```01``` testet."
   ]
  },
  {
   "cell_type": "code",
   "execution_count": 19,
   "metadata": {},
   "outputs": [
    {
     "data": {
      "text/html": [
       "<pre style=\"word-wrap: normal;white-space: pre;background: #fff0;line-height: 1.1;font-family: &quot;Courier New&quot;,Courier,monospace\">        ┌───┐ ░            ░       \n",
       "q_0: |0>┤ X ├─░───■────────░───────\n",
       "        ├───┤ ░   │        ░       \n",
       "q_1: |0>┤ X ├─░───┼────■───░───────\n",
       "        └───┘ ░ ┌─┴─┐┌─┴─┐ ░ ┌─┐   \n",
       "q_2: |0>──────░─┤ X ├┤ X ├─░─┤M├───\n",
       "              ░ └───┘└───┘ ░ └╥┘┌─┐\n",
       "q_3: |0>──────░────────────░──╫─┤M├\n",
       "              ░            ░  ║ └╥┘\n",
       " c_0: 0 ══════════════════════╩══╬═\n",
       "                                 ║ \n",
       " c_1: 0 ═════════════════════════╩═\n",
       "                                   </pre>"
      ],
      "text/plain": [
       "        ┌───┐ ░            ░       \n",
       "q_0: |0>┤ X ├─░───■────────░───────\n",
       "        ├───┤ ░   │        ░       \n",
       "q_1: |0>┤ X ├─░───┼────■───░───────\n",
       "        └───┘ ░ ┌─┴─┐┌─┴─┐ ░ ┌─┐   \n",
       "q_2: |0>──────░─┤ X ├┤ X ├─░─┤M├───\n",
       "              ░ └───┘└───┘ ░ └╥┘┌─┐\n",
       "q_3: |0>──────░────────────░──╫─┤M├\n",
       "              ░            ░  ║ └╥┘\n",
       " c_0: 0 ══════════════════════╩══╬═\n",
       "                                 ║ \n",
       " c_1: 0 ═════════════════════════╩═\n",
       "                                   "
      ]
     },
     "execution_count": 19,
     "metadata": {},
     "output_type": "execute_result"
    }
   ],
   "source": [
    "qc_ha = QuantumCircuit(4,2)\n",
    "# encode inputs in qubits 0 and 1\n",
    "qc_ha.x(0) # For a=0, remove this line. For a=1, leave it.\n",
    "qc_ha.x(1) # For b=0, remove this line. For b=1, leave it.\n",
    "qc_ha.barrier()\n",
    "# use cnots to write the XOR of the inputs on qubit 2\n",
    "qc_ha.cx(0,2)\n",
    "qc_ha.cx(1,2)\n",
    "qc_ha.barrier()\n",
    "# extract outputs\n",
    "qc_ha.measure(2,0) # extract XOR value\n",
    "qc_ha.measure(3,1)\n",
    "\n",
    "qc_ha.draw()"
   ]
  },
  {
   "cell_type": "markdown",
   "metadata": {},
   "source": [
    "Wir sind jetzt auf halbem Weg zu einem voll funktionsfähigen Halbaddierer. Wir haben nur noch den anderen Teil der Ausgabe zu erledigen: den, der auf Qubit 3 leben wird.\n",
    "\n",
    "Wenn Sie sich die vier möglichen Summen noch einmal ansehen, werden Sie feststellen, dass es nur einen Fall gibt, für den dies ```1``` anstelle von ```0``` ist: ```1 + 1``` = ```10```. Es passiert nur, wenn beide Bits, die wir hinzufügen, ```1``` sind.\n",
    "\n",
    "Um diesen Teil der Ausgabe zu berechnen, könnten wir unseren Computer dazu bringen, zu prüfen, ob beide Eingaben ```1``` sind. Wenn dies der Fall ist - und nur wenn dies der Fall ist -, müssen wir auf Qubit 3 ein NOT-Gatter ausführen. Dadurch wird es nur für diesen Fall auf den erforderlichen Wert von ```1``` umgedreht, sodass wir die Ausgabe erhalten, die wir benötigen.\n",
    "\n",
    "Dafür brauchen wir ein neues Gate: wie ein CNOT, aber gesteuert auf zwei Qubits anstatt nur auf einem. Dies führt nur dann ein NICHT auf dem Ziel-Qubit durch, wenn sich beide Steuerelemente im Zustand ```1``` befinden. Dieses neue Gatter heißt *Toffoli*. Für diejenigen unter Ihnen, die mit Booleschen Logikgattern vertraut sind, ist es im Grunde ein UND-Gatter.\n",
    "\n",
    "In Qiskit wird der Toffoli mit dem Befehl `ccx` dargestellt."
   ]
  },
  {
   "cell_type": "code",
   "execution_count": 21,
   "metadata": {},
   "outputs": [
    {
     "data": {
      "text/html": [
       "<pre style=\"word-wrap: normal;white-space: pre;background: #fff0;line-height: 1.1;font-family: &quot;Courier New&quot;,Courier,monospace\">        ┌───┐ ░                 ░       \n",
       "q_0: |0>┤ X ├─░───■─────────■───░───────\n",
       "        ├───┤ ░   │         │   ░       \n",
       "q_1: |0>┤ X ├─░───┼────■────■───░───────\n",
       "        └───┘ ░ ┌─┴─┐┌─┴─┐  │   ░ ┌─┐   \n",
       "q_2: |0>──────░─┤ X ├┤ X ├──┼───░─┤M├───\n",
       "              ░ └───┘└───┘┌─┴─┐ ░ └╥┘┌─┐\n",
       "q_3: |0>──────░───────────┤ X ├─░──╫─┤M├\n",
       "              ░           └───┘ ░  ║ └╥┘\n",
       " c_0: 0 ═══════════════════════════╩══╬═\n",
       "                                      ║ \n",
       " c_1: 0 ══════════════════════════════╩═\n",
       "                                        </pre>"
      ],
      "text/plain": [
       "        ┌───┐ ░                 ░       \n",
       "q_0: |0>┤ X ├─░───■─────────■───░───────\n",
       "        ├───┤ ░   │         │   ░       \n",
       "q_1: |0>┤ X ├─░───┼────■────■───░───────\n",
       "        └───┘ ░ ┌─┴─┐┌─┴─┐  │   ░ ┌─┐   \n",
       "q_2: |0>──────░─┤ X ├┤ X ├──┼───░─┤M├───\n",
       "              ░ └───┘└───┘┌─┴─┐ ░ └╥┘┌─┐\n",
       "q_3: |0>──────░───────────┤ X ├─░──╫─┤M├\n",
       "              ░           └───┘ ░  ║ └╥┘\n",
       " c_0: 0 ═══════════════════════════╩══╬═\n",
       "                                      ║ \n",
       " c_1: 0 ══════════════════════════════╩═\n",
       "                                        "
      ]
     },
     "execution_count": 21,
     "metadata": {},
     "output_type": "execute_result"
    }
   ],
   "source": [
    "qc_ha = QuantumCircuit(4,2)\n",
    "# encode inputs in qubits 0 and 1\n",
    "qc_ha.x(0) # For a=0, remove the this line. For a=1, leave it.\n",
    "qc_ha.x(1) # For b=0, remove the this line. For b=1, leave it.\n",
    "qc_ha.barrier()\n",
    "# use cnots to write the XOR of the inputs on qubit 2\n",
    "qc_ha.cx(0,2)\n",
    "qc_ha.cx(1,2)\n",
    "# use ccx to write the AND of the inputs on qubit 3\n",
    "qc_ha.ccx(0,1,3)\n",
    "qc_ha.barrier()\n",
    "# extract outputs\n",
    "qc_ha.measure(2,0) # extract XOR value\n",
    "qc_ha.measure(3,1) # extract AND value\n",
    "\n",
    "qc_ha.draw()"
   ]
  },
  {
   "cell_type": "markdown",
   "metadata": {},
   "source": [
    "In diesem Beispiel berechnen wir  ```1+1```, da die beiden Eingangsbits beide ```1``` sind. Mal sehen, was wir bekommen."
   ]
  },
  {
   "cell_type": "code",
   "execution_count": 22,
   "metadata": {},
   "outputs": [
    {
     "data": {
      "image/png": "[encoded data removed]",
      "text/plain": [
       "<Figure size 504x360 with 1 Axes>"
      ]
     },
     "execution_count": 22,
     "metadata": {},
     "output_type": "execute_result"
    }
   ],
   "source": [
    "counts = execute(qc_ha,Aer.get_backend('qasm_simulator')).result().get_counts()\n",
    "plot_histogram(counts)"
   ]
  },
  {
   "cell_type": "markdown",
   "metadata": {},
   "source": [
    "Das Ergebnis ist ```10```, die binäre Darstellung der Zahl 2. Wir haben einen Computer gebaut, der das berühmte mathematische Problem 1 + 1 lösen kann!\n",
    "\n",
    "Jetzt können Sie es mit den anderen drei möglichen Eingaben ausprobieren und zeigen, dass unser Algorithmus auch für diese die richtigen Ergebnisse liefert.\n",
    "\n",
    "Der Halbaddierer enthält alles, was Sie zum Addieren benötigen. Mit den Gattern NOT, CNOT und Toffoli können wir Programme erstellen, die eine beliebige Anzahl von Zahlen beliebiger Größe addieren.\n",
    "\n",
    "Diese drei Gatter reichen aus, um auch beim Rechnen alles andere zu erledigen. Wir können sogar auf das CNOT verzichten. Außerdem wird das NOT-Gatter nur benötigt, um Bits mit dem Wert ```1``` zu erstellen. Das Toffoli-Gatter ist im Wesentlichen das Atom der Mathematik. Es ist das einfachste Element, aus dem jede andere Problemlösungstechnik zusammengestellt werden kann.\n",
    "\n",
    "Wie wir sehen werden, teilen wir beim Quantencomputing das Atom."
   ]
  },
  {
   "cell_type": "code",
   "execution_count": 23,
   "metadata": {},
   "outputs": [
    {
     "data": {
      "text/plain": [
       "{'qiskit-terra': '0.12.0',\n",
       " 'qiskit-aer': '0.4.0',\n",
       " 'qiskit-ignis': '0.2.0',\n",
       " 'qiskit-ibmq-provider': '0.4.6',\n",
       " 'qiskit-aqua': '0.6.4',\n",
       " 'qiskit': '0.15.0'}"
      ]
     },
     "execution_count": 23,
     "metadata": {},
     "output_type": "execute_result"
    }
   ],
   "source": [
    "import qiskit\n",
    "qiskit.__qiskit_version__"
   ]
  }
 ],
 "metadata": {
  "kernelspec": {
   "display_name": "Python 3",
   "language": "python",
   "name": "python3"
  },
  "language_info": {
   "codemirror_mode": {
    "name": "ipython",
    "version": 3
   },
   "file_extension": ".py",
   "mimetype": "text/x-python",
   "name": "python",
   "nbconvert_exporter": "python",
   "pygments_lexer": "ipython3",
   "version": "3.6.9"
  }
 },
 "nbformat": 4,
 "nbformat_minor": 2
}
