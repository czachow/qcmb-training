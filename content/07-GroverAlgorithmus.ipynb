{
 "cells": [
  {
   "cell_type": "markdown",
   "metadata": {
    "tags": [
     "remove_cell"
    ]
   },
   "source": [
    "# Modul 07 - Der Grover-Algorithmus\n",
    "\n",
    "Eine Schulungsserie der Meetup-Gruppe **[Quantum Computing meets Business - Rhineland](https://www.meetup.com/de-DE/Quantum-Computing-meets-Business-Rhineland/)**\n",
    "\n",
    "(Adapted from [qiskit-textbook](https://github.com/qiskit-community/qiskit-textbook))"
   ]
  },
  {
   "cell_type": "code",
   "execution_count": 49,
   "metadata": {},
   "outputs": [
    {
     "data": {
      "text/html": [
       "<style>\n",
       "details {\n",
       "    display: block;\n",
       "    border: 1px solid black;\n",
       "    background-color: #eaeaff;\n",
       "    padding: 0.5em;\n",
       "    text-align: center;\n",
       "    margin: 0 8em;\n",
       "    cursor: pointer;\n",
       "}\n",
       "</style>\n"
      ],
      "text/plain": [
       "<IPython.core.display.HTML object>"
      ]
     },
     "metadata": {},
     "output_type": "display_data"
    }
   ],
   "source": [
    "run ./00-Inhalt_Tools.ipynb"
   ]
  },
  {
   "cell_type": "markdown",
   "metadata": {},
   "source": [
    "In diesem Abschnitt stellen wir den Grover-Algorithmus vor und wie er verwendet werden kann, um unstrukturierte Suchprobleme zu lösen. Anschließend implementieren wir den Quantenalgorithmus mit Qiskit und führen ihn auf einem Simulator und auf Hardware aus.\n",
    "\n",
    "## Inhalt\n",
    "\n",
    "1. [Einführung](#introduction)\n",
    "2. [Beispiel: 2 Qubits](#2qubits)    \n",
    "   2.1 [Simulation](#2qubits-simulation)    \n",
    "   2.2 [Hardware](#2qubits-device)    \n",
    "3. [Beispiel: 3 Qubits](#3qubits)     \n",
    "   3.1 [Simulation](#3qubits-simulation)    \n",
    "   3.2 [Hardware](#3qubits-device)    \n",
    "4. [Aufgaben](#problems)\n",
    "5. [Ein Sudoku mit dem Grover-Algorithmus lösen](#sudoku)\n",
    "5. [Verweise](#references)\n"
   ]
  },
  {
   "cell_type": "markdown",
   "metadata": {},
   "source": [
    "## 1. Einführung <a id='introduction'></a>\n",
    "\n",
    "Sie haben wahrscheinlich gehört, dass einer der vielen Vorteile, die ein Quantencomputer gegenüber einem klassischen Computer hat, seine überlegene Geschwindigkeit beim Durchsuchen von Datenbanken ist. Grovers Algorithmus demonstriert diese Fähigkeit. Dieser Algorithmus kann ein unstrukturiertes Suchproblem quadratisch beschleunigen, aber seine Verwendung geht darüber hinaus; Es kann als allgemeiner Trick oder Unterprogramm dienen, um quadratische Laufzeitverbesserungen für eine Vielzahl anderer Algorithmen zu erhalten. Dies wird als Amplitudenverstärkungstrick (Amplitude amplification) bezeichnet."
   ]
  },
  {
   "cell_type": "markdown",
   "metadata": {},
   "source": [
    "### Unstrukturierte Suche\n",
    "\n",
    "Angenommen, Sie erhalten eine große Liste mit $N$-Elementen. Unter diesen Gegenständen gibt es einen Gegenstand mit einer einzigartigen Eigenschaft, den wir ausfindig machen möchten; wir nennen dies den Gewinner $w$. Stellen Sie sich jedes Element in der Liste als Kästchen in einer bestimmten Farbe vor. Angenommen, alle Elemente in der Liste sind grau, außer dem Gewinner $w$, der lila ist.\n",
    "\n",
    "<float>\n",
    "    <center>\n",
    "        <img src=\"../assets/07-Grover-Algorithmus/grover_list.png\" style=\"width:800px\"/>\n",
    "        <figcaption>\n",
    "            Copyright 2021, Qiskit Development Team.\n",
    "        </figcaption>\n",
    "    </center>\n",
    "</float>\n",
    "\n",
    "Um das violette Kästchen – das *markierte Element* – mit klassischer Berechnung zu finden, müsste man durchschnittlich $N/2$ dieser Kästchen nacheinander prüfen, und im schlimmsten Fall alle $N$ davon. Auf einem Quantencomputer hingegen können wir mit Grovers Amplitudenverstärkungstrick das markierte Objekt in etwa $\\sqrt{N}$ Schritten finden. Eine quadratische Beschleunigung ist in der Tat eine erhebliche Zeitersparnis beim Auffinden markierter Elemente in langen Listen. Außerdem verwendet der Algorithmus nicht die interne Struktur der Liste, was sie *generisch* macht; deshalb liefert er für viele klassische Probleme sofort eine quadratische Quantenbeschleunigung."
   ]
  },
  {
   "cell_type": "markdown",
   "metadata": {},
   "source": [
    "### Erstellen eines Orakels\n",
    "\n",
    "Für die Beispiele in dieser Session besteht unsere „Datenbank“ aus allen möglichen Rechenbasiszuständen, in denen sich unsere Qubits befinden können. Wenn wir beispielsweise 3 Qubits haben, besteht unsere Liste aus den Zuständen $|000\\rangle, |001\\rangle , \\dots |111\\rangle$ (also die Zustände $|0\\rangle \\rightarrow |7\\rangle$).\n",
    "\n",
    "Der Grover-Algorithmus verwendet ein \"Orakel\" (eine Subroutine), das eine negative Phase zu den Lösungszuständen hinzufügt und alle anderen Zustände nicht verändert, d.h. jeder Zustand $|x\\rangle$ der Standardbasis (computational basis) wird zu:\n",
    "\n",
    "$$\n",
    "U_\\omega|x\\rangle = \\bigg\\{\n",
    "\\begin{aligned}\n",
    "\\phantom{-}|x\\rangle \\quad \\text{falls} \\; x \\neq \\omega \\\\\n",
    "-|x\\rangle \\quad \\text{falls} \\; x = \\omega \\\\\n",
    "\\end{aligned}\n",
    "$$\n",
    "\n",
    "Dieses Orakel ist eine diagonale Matrix, in der der Eintrag, der dem markierten Element entspricht, eine negative Phase hat. Wenn wir beispielsweise drei Qubits und $\\omega = \\text{101}$ haben, hat unser Orakel die folgende Matrix:\n",
    "\n",
    "$$\n",
    "U_\\omega = \n",
    "\\begin{bmatrix}\n",
    "1 & 0 & 0 & 0 & 0 & 0 & 0 & 0 \\\\\n",
    "0 & 1 & 0 & 0 & 0 & 0 & 0 & 0 \\\\\n",
    "0 & 0 & 1 & 0 & 0 & 0 & 0 & 0 \\\\\n",
    "0 & 0 & 0 & 1 & 0 & 0 & 0 & 0 \\\\\n",
    "0 & 0 & 0 & 0 & 1 & 0 & 0 & 0 \\\\\n",
    "0 & 0 & 0 & 0 & 0 & -1 & 0 & 0 \\\\\n",
    "0 & 0 & 0 & 0 & 0 & 0 & 1 & 0 \\\\\n",
    "0 & 0 & 0 & 0 & 0 & 0 & 0 & 1 \\\\\n",
    "\\end{bmatrix}\n",
    "\\begin{aligned}\n",
    "\\\\\n",
    "\\\\\n",
    "\\\\\n",
    "\\\\\n",
    "\\\\\n",
    "\\\\\n",
    "\\leftarrow \\omega = \\text{101}\\\\\n",
    "\\\\\n",
    "\\\\\n",
    "\\\\\n",
    "\\end{aligned}\n",
    "$$\n",
    "\n",
    "Natürlich wissen wir normalerweise am Anfang nicht, wo sich der $-1$-Eintrag befindet. Wir wissen nur, dass das Orakel diese Form besitzen _muss_.  \n",
    "\n",
    "Was Grovers Algorithmus so leistungsfähig macht, ist, wie einfach es ist, ein Problem in ein Orakel dieser Form umzuwandeln. Es gibt viele Rechenprobleme, bei denen es schwierig ist, eine Lösung zu _finden_, aber relativ einfach, eine Lösung zu _verifizieren_. Beispielsweise können wir eine Lösung für ein [Sudoku](https://en.wikipedia.org/wiki/Sudoku) leicht überprüfen, indem wir überprüfen, ob alle Regeln erfüllt sind. Wir müssen also nicht im Vorfeld wissen, welche Kandidaten markiert sind, wir brauchen nur ein paar einfache Kriterien mit denen wir sie überprüfen können!\n",
    "\n",
    "Für das Problem können wir eine Funktion $f$ erstellen, die eine vorgeschlagene Lösung $x$ nimmt und $f(x) = 0$ zurückgibt, wenn $x$ keine Lösung ist ($x \\neq \\omega$) und $ f(x) = 1$ für eine gültige Lösung ($x = \\omega$). Unser Orakel kann dann wie folgt beschrieben werden:\n",
    "\n",
    "$$\n",
    "U_\\omega|x\\rangle = (-1)^{f(x)}|x\\rangle\n",
    "$$\n",
    "\n",
    "und die Matrix des Orakels wird eine diagonale Matrix der Form sein:\n",
    "\n",
    "$$\n",
    "U_\\omega = \n",
    "\\begin{bmatrix}\n",
    "(-1)^{f(0)} &   0         & \\cdots &   0         \\\\\n",
    "0           & (-1)^{f(1)} & \\cdots &   0         \\\\\n",
    "\\vdots      &   0         & \\ddots & \\vdots      \\\\\n",
    "0           &   0         & \\cdots & (-1)^{f(2^n-1)} \\\\\n",
    "\\end{bmatrix}\n",
    "$$"
   ]
  },
  {
   "cell_type": "markdown",
   "metadata": {},
   "source": [
    "#### Schaltungsaufbau eines Grover-Orakels\n",
    "\n",
    "Wenn wir unsere klassische Funktion $f(x)$ haben, können wir sie in eine umkehrbare Schaltung der Form umwandeln:\n",
    "\n",
    "<float>\n",
    "    <center>\n",
    "        <img src=\"../assets/07-Grover-Algorithmus/grover_boolean_oracle.svg\" style=\"width:800px\"/>\n",
    "        <figcaption>\n",
    "            Copyright 2021, Qiskit Development Team.\n",
    "        </figcaption>\n",
    "    </center>\n",
    "</float>   \n",
    "    \n",
    "Wenn wir das untere „Ausgabe“-Qubit in den Zustand $|{-}\\rangle$ initialisieren, verwandelt der \"Phasen-Kickback-Effekt\" der negative Eigenwert von $|{-}\\rangle$ in die negative Phase des  Grover-Orakels:\n",
    "\n",
    "<float>\n",
    "    <center>\n",
    "        <img src=\"../assets/07-Grover-Algorithmus/grover_phase_oracle.svg\" style=\"width:800px\"/>\n",
    "        <figcaption>\n",
    "            Copyright 2021, Qiskit Development Team.\n",
    "        </figcaption>\n",
    "    </center>\n",
    "</float> \n",
    "\n",
    "Wir ignorieren dann das Hilfs-Qubit ($|{-}\\rangle$).\n",
    "Richtig verstehen, können wir das erst, wenn wir uns den Phasen-Kickback genauer ansehen."
   ]
  },
  {
   "cell_type": "markdown",
   "metadata": {},
   "source": [
    "\n",
    "\n",
    "#### Der Phasen-Kickback-Effekt\n",
    "\n",
    "Beim Kickback wird der Eigenwert, der durch ein Gate zu einem Qubit hinzugefügt wird, durch einen kontrollierten Vorgang in ein anderes Qubit „zurückgeworfen“. Wir haben zum Beispiel gesehen, dass die Ausführung eines X-Gatters an einem Qubit im $|{-}\\rangle$-Zustand diesem die Phase $-1$ verleiht:\n",
    "\n",
    "$$\n",
    "X|{-}\\rangle = -|{-}\\rangle\n",
    "$$\n",
    "\n",
    "Für die kontrollierte Version des $ X $ -Gatters (CNOT) bedeutet das: Wenn sich unser Kontroll-Qubit entweder in $|0\\rangle$ oder $|1\\rangle$ befindet, wirkt sich diese Phase auf den gesamten Zustand aus, es handelt sich jedoch um eine globale Phase und hat keine beobachtbaren Auswirkungen:\n",
    "\n",
    "$$\n",
    "\\begin{aligned}\n",
    "\\text{CX}|{-}0\\rangle = \\text{CNOT}|{-}0\\rangle & = |{-}\\rangle \\otimes |0\\rangle \\\\\n",
    "                        & = |{-}0\\rangle \\\\\n",
    "                        \\quad & \\\\\n",
    "\\text{CX}|{-}1\\rangle = \\text{CNOT}|{-}1\\rangle & = X|{-}\\rangle \\otimes |1\\rangle \\\\\n",
    "                        & = -|{-}\\rangle \\otimes |1\\rangle \\\\\n",
    "                        & = -|{-}1\\rangle \\\\\n",
    "\\end{aligned}\n",
    "$$\n",
    "\n",
    "Der interessante Effekt entsteht, wenn unser Kontroll-Qubit überlagert ist. Die Komponente des Kontroll-Qubits, die in Richtung $|1\\rangle$ liegt, wendet diesen Phasenfaktor auf das *entsprechende* Ziel-Qubit an. Dieser angewandte Phasenfaktor führt wiederum eine relative Phase in das Kontroll-Qubit ein:\n",
    "\n",
    "$$\n",
    "\\begin{aligned}\n",
    "\\text{CNOT}|{-}{+}\\rangle & = \\tfrac{1}{\\sqrt{2}}(\\text{CNOT}|{-}0\\rangle + \\text{CNOT}|{-}1\\rangle) \\\\\n",
    "                           & = \\tfrac{1}{\\sqrt{2}}(|{-}0\\rangle + X|{-}1\\rangle) \\\\\n",
    "                           & = \\tfrac{1}{\\sqrt{2}}(|{-}0\\rangle -|{-}1\\rangle) \\\\\n",
    "\\end{aligned}\n",
    "$$\n",
    "\n",
    "Dies kann dann als zwei separierbaren Qubit-Zustände geschrieben werden:\n",
    "\n",
    "$$\n",
    "\\begin{aligned}\n",
    "\\text{CNOT}|{-}{+}\\rangle & = |{-}\\rangle \\otimes \\tfrac{1}{\\sqrt{2}}(|{0}\\rangle - |1\\rangle )\\\\\n",
    "                           & = |{-}{-}\\rangle \\\\\n",
    "\\end{aligned}\n",
    "$$\n",
    "\n",
    "Wir sehen: Der X-Eigenwert $-1$ des Ausgabe-Qubits $|-\\rangle$ wurde als relative / lokale Phase auf den ursprünglichen Zustand $|+\\rangle$ des Kontroll-Qubits zurückgeworfen! \n",
    "Und genau die gleiche Strategie wenden wir an, um ein Grover-Orakel $ U_\\omega $ zu implementieren: Wir müssen \"nur\" eine Funktion $f$ konstruieren, die ein X-Gatter kontrolliert (genauso wie es der vorige symbolische Schaltkreis beschreibt). Wie man das macht, erfahren wir weiter unten.\n",
    "\n",
    "Im nächsten Teil dieses Kapitels werden wir die Kernkonzepte des Algorithmus kennenlernen. Dabei wird deutlich werden, warum ein Orakel in der vorgestellten Form die richtige Lösung nach und nach verstärkt und die falschen Lösungskandidaten nach und nach unterdrückt. Wir werden außerdem ein simples Beispielorakel erstellen, bei denen wir vorher $\\omega$ kennen, und uns nicht darum kümmern, ob diese Orakel nützlich ist oder nicht. Am Ende des Kapitels behandeln wir ein kurzes Beispiel, in dem wir ein Orakel erstellen, um ein echtes Problem zu lösen (Sudoku)."
   ]
  },
  {
   "cell_type": "markdown",
   "metadata": {},
   "source": [
    "### Amplitudenverstärkung (Amplitude Amplification)\n",
    "\n",
    "Wie funktioniert der Algorithmus? Bevor wir uns die Liste der Lösungskandidaten ansehen, haben wir keine Ahnung, wo sich die echte Lösung befindet. Daher ist jede Vermutung für seinen Ort so gut wie jede andere auch. Wir starten daher mit einer gleichmäßigen Superposition: \n",
    "$|s \\rangle = \\frac{1}{\\sqrt{N}} \\sum_{x = 0}^{N -1} | x \\rangle.$\n",
    "\n",
    "Wenn wir an dieser Stelle in der Standardbasis $\\{ |x \\rangle \\}$ messen würden, würde diese Superposition nach der Born-Regel mit der gleichen Wahrscheinlichkeit von $\\frac{1}{N} = \\frac{1}{2^n}$ in jeden der Basiszustände kollabieren. Unsere Chancen, den richtigen Wert $\\omega$ zu erraten, sind daher $1$ in $2^n$, wie zu erwarten war. Daher müssten wir im Durchschnitt etwa $N/2 = 2^{n-1}$ Versuche machen, um das richtige Element zu erraten. Das ist die gleiche Situation, wie für den klassischen Algorithmus.\n",
    "\n",
    "Verwenden wir nun das Verfahren namens Amplitudenverstärkung, so können wir diese Wahrscheinlichkeit mit dem Quantencomputer erheblich erhöhen. Das Verfahren dehnt (verstärkt) die Amplitude des markierten Elements iterativ, wodurch die Amplitude der anderen Elemente verringert wird, sodass die Messung des Endzustands mit ziemlicher Sicherheit das richtige Element zurückgibt.\n",
    "\n",
    "Dieser Algorithmus hat eine schöne geometrische Interpretation in Bezug auf zwei Reflexionen, die eine Drehung in einer zweidimensionalen Ebene erzeugen. Die einzigen zwei Sonderzustände, die wir berücksichtigen müssen, sind der Gewinner $| \\omega \\rangle$ und die gleichmäßige Superposition $| s \\rangle$. Diese beiden Vektoren spannen eine zweidimensionale Ebene im Vektorraum $\\mathbb{C}^N$ auf. Sie stehen nicht ganz senkrecht, weil $| \\omega \\rangle$ auch in der Überlagerung mit der Amplitude $\\frac{1}{\\sqrt{N}}$ vorkommt. Wir können jedoch einen zusätzlichen Zustand $|s'\\rangle$ einführen, der in der Spanne dieser beiden Vektoren liegt, die senkrecht zu $|\\omega \\rangle$ ist, und wird aus $|s \\rangle$ durch Entfernen von $|\\omega \\rangle$ und Neuskalierung erhalten.\n",
    "\n",
    "**Schritt 1**: Der Vorgang der Amplitudenverstärkung beginnt in der gleichmäßigen Überlagerung $| s \\rangle$, das sich leicht aus $| s\\rangle=H^{\\otimes n} | 0 \\rangle^n$ konstruieren lässt.\n",
    "\n",
    "<float>\n",
    "    <center>\n",
    "        <img src=\"../assets/07-Grover-Algorithmus/grover_step1.jpg\" style=\"width:800px\"/>\n",
    "        <figcaption>\n",
    "            Copyright 2021, Qiskit Development Team.\n",
    "        </figcaption>\n",
    "    </center>\n",
    "</float> \n",
    "\n",
    "Die linke Grafik entspricht der zweidimensionalen Ebene, die von den senkrechten Vektoren $| \\omega \\rangle$ und $|s'\\rangle$ aufgespannt wird, was es erlaubt, den Anfangszustand als $|s\\rangle = \\sin \\theta | \\omega \\rangle + \\cos\\theta | s' \\rangle$ auszudrücken, wobei $\\theta = \\arcsin \\langle s | \\omega \\rangle = \\arcsin \\frac{1}{\\sqrt{N}}$. Für große $N$ bedeutet das, dass $ \\theta $ in der Größenordnung von $ \\frac{1}{\\sqrt{N}} $ ist! Diese Eigenschaft ist für die Performance des Grover-Algorithmus entscheidend (s.u.). \n",
    "Die rechte Grafik ist ein Balkendiagramm der Amplituden des Zustands $| s\\rangle$.\n",
    "\n",
    "**Schritt 2**: Wir wenden die Orakelreflexion $U_f$ auf den Zustand $|s\\rangle$ an.\n",
    "\n",
    "<float>\n",
    "    <center>\n",
    "        <img src=\"../assets/07-Grover-Algorithmus/grover_step2.jpg\" style=\"width:800px\"/>\n",
    "        <figcaption>\n",
    "            Copyright 2021, Qiskit Development Team.\n",
    "        </figcaption>\n",
    "    </center>\n",
    "</float> \n",
    "\n",
    "Geometrisch entspricht dies einer Spiegelung des Zustands $|s\\rangle$ an $|s'\\rangle$. Diese Transformation bedeutet, dass die Amplitude vor dem $|\\omega\\rangle$-Zustand negativ wird, was wiederum bedeutet, dass die durchschnittliche Amplitude (durch eine gestrichelte Linie angezeigt) verringert wurde.\n",
    "\n",
    "**Schritt 3**: Wir wenden nun eine zusätzliche Reflexion ($U_s$) über den Zustand $|s\\rangle$ an: $U_s = 2|s\\rangle\\langle s| - I $ . Diese Transformation bildet den Zustand auf $U_s U_f| s \\rangle$ ab und vervollständigt die Transformation.\n",
    "\n",
    "<float>\n",
    "    <center>\n",
    "        <img src=\"../assets/07-Grover-Algorithmus/grover_step3.jpg\" style=\"width:800px\"/>\n",
    "        <figcaption>\n",
    "            Copyright 2021, Qiskit Development Team.\n",
    "        </figcaption>\n",
    "    </center>\n",
    "</float> \n",
    "\n",
    "Zwei Spiegelungen entsprechen immer einer Drehung. Die Transformation $U_s U_f$ dreht den Anfangszustand $|s\\rangle$ näher zum Gewinner $|\\omega\\rangle$. Die Wirkung der Reflexion $U_s$ im Amplituden-Balkendiagramm kann als Reflexion über die mittlere Amplitude verstanden werden. Da die mittlere Amplitude durch die erste Reflexion abgesenkt wurde, hebt diese Transformation die negative Amplitude von $|\\omega\\rangle$ auf etwa das Dreifache ihres ursprünglichen Wertes an (also um etwa $\\frac{3}{\\sqrt{N}}$), während sie die anderen Amplituden absenkt. Wir gehen dann zu **Schritt 2**, um die Anwendung zu wiederholen. Dieser Vorgang wird mehrmals wiederholt, um den Gewinner zu ermitteln.\n",
    "\n",
    "Nach $t$ Schritten befinden wir uns im Zustand $|\\psi_t\\rangle$ wo: $| \\psi_t \\rangle = (U_s U_f)^t | s \\rangle.$\n",
    "\n",
    "Wie oft müssen wir die Rotation anwenden? Es stellt sich heraus, dass ungefähr $\\sqrt{N}$ Rotationen ausreichen: Wir haben gesehen, dass die Amplitude von $| \\omega \\rangle$ in $|\\psi_t\\rangle$ nach der ersten Grover-Iteration in der Größenordnung $\\frac{1}{\\sqrt{N}}$ angewachsen ist. D.h. auch der Drehwinkel $ \\theta $ ist bei jeder Grover-Iteration von der Größenordnung $\\frac{1}{\\sqrt{N}}$. Das hatten wir bereits oben festgestellt. Wenn wir die Iteration also in der Größenordnung $ t \\sim \\sqrt{N} $ anwenden haben wir $|\\psi_t\\rangle$ maximal in die Richtung von $ | \\omega \\rangle$ gedreht. Eine Messung von $|\\psi_t\\rangle$ ergibt dann mit großer Wahrscheinlichkeit die Lösung $ \\omega $. Die quadratische Beschleunigung des Grover-Algorithmus kommt also direkt aus der Hilbertraum-Eigenschaft der Quantenmechanik. Wir arbeiten hier in erster Linie mit Amplituden, für die der Satz des Pythagoras gilt. Erst durch die Messung am Ende ergeben sich daraus die Wahrscheinlichkeiten.\n",
    "\n",
    "Für den Fall, dass es mehrere Lösungen gibt, $M$, kann gezeigt werden, dass ungefähr $\\sqrt{(N/M)}$ Rotationen ausreichen.\n",
    "\n",
    "<float>\n",
    "    <center>\n",
    "        <img src=\"../assets/07-Grover-Algorithmus/grover_circuit_high_level.png\" style=\"width:800px\"/>\n",
    "        <figcaption>\n",
    "            Copyright 2021, Qiskit Development Team.\n",
    "        </figcaption>\n",
    "    </center>\n",
    "</float> \n",
    "\n",
    "Man kann übrigens formal beweisen, dass kein generischer Quanten-Suchalgorithmus mit einer Orakel-Strategie schneller ist, als der Grover-Algorithmus! So gesehen ist $ \\sqrt{N} = 2^{n/2} $ auch eine Art Schranke für die maximale generische Interferenzgeschwindigkeit der Quantenmechanik. "
   ]
  },
  {
   "cell_type": "markdown",
   "metadata": {},
   "source": [
    "## 2. Beispiel: 2 Qubits <a id='2qubits'></a>\n",
    "\n",
    "Schauen wir uns zunächst den Fall des Grover-Algorithmus für $N=4$ an, der mit 2 Qubits realisiert wird. In diesem speziellen Fall ist nur <b>eine Rotation</b> erforderlich, um den Anfangszustand $|s\\rangle$ zum Gewinner $|w\\rangle$[3] zu rotieren:\n",
    "\n",
    "- Nach der obigen Einführung haben wir im Fall $N=4$ $$\\theta = \\arcsin \\frac{1}{2} = \\frac{\\pi}{6}.$$\n",
    "- Nach $t$ Schritten haben wir $$(U_s U_\\omega)^t | s\\rangle=\\sin\\theta_t| \\omega\\rangle + \\cos\\theta_t | s' \\rangle ,$$wobei $$\\theta_t = (2t+1)\\theta.$$\n",
    "- Um $| \\omega \\rangle$ benötigen wir $\\theta_t = \\frac{\\pi}{2}$, was mit oben eingefügtem $\\theta=\\frac{\\pi}{6}$ zu $t=1$ führt. Das bedeutet, dass nach $t=1$ Rotation das gesuchte Element gefunden wird.\n",
    "\n",
    "Wir werden nun ein Beispiel mit einem bestimmten Orakel durchgehen."
   ]
  },
  {
   "cell_type": "markdown",
   "metadata": {},
   "source": [
    "#### Orakel für $\\lvert \\omega \\rangle = \\lvert 11 \\rangle$\n",
    "Betrachten wir den Fall $\\lvert w \\rangle = \\lvert 11 \\rangle$. Das Orakel $U_\\omega$ verhält sich in diesem Fall wie folgt:\n",
    "\n",
    "$$U_\\omega | s \\rangle = U_\\omega \\frac{1}{2}\\left( |00\\rangle + |01\\rangle + |10\\rangle + |11\\rangle \\right) = \\frac{1}{2}\\left( |00\\rangle + |01\\rangle + |10\\rangle - |11\\rangle \\right).$$\n",
    "\n",
    "Als Matrix sieht das Orakel wie folgt aus: \n",
    "\n",
    "$$\n",
    "U_\\omega = \n",
    "\\begin{bmatrix}\n",
    "1 & 0 & 0 & 0 \\\\\n",
    "0 & 1 & 0 & 0 \\\\\n",
    "0 & 0 & 1 & 0 \\\\\n",
    "0 & 0 & 0 & -1 \\\\\n",
    "\\end{bmatrix}\n",
    "$$\n",
    "\n",
    ", wir kennen es bereits als das kontrollierte Z-Gate. In diesem Beispiel ist unser Orakel also einfach das kontrollierte Z-Gate:\n",
    "\n",
    "<float>\n",
    "    <center>\n",
    "        <img src=\"../assets/07-Grover-Algorithmus/grover_circuit_2qbuits_oracle_11.svg\" style=\"height:200px\"/>\n",
    "        <figcaption>\n",
    "            Copyright 2021, Qiskit Development Team.\n",
    "        </figcaption>\n",
    "    </center>\n",
    "</float> \n",
    "\n",
    "In diesem Beispiel gehen wir davon aus, den Zustand  $\\lvert \\omega \\rangle = \\lvert 11 \\rangle$ im Vorfeld zu kennen. Natürlich wissen wir genau das normalerweise nicht. Stattdessen kennen wir Regeln, mit denen man jeden Lösungskandidaten verifizieren kann. Für unser simples Beispiel würde so eine Regel lauten\n",
    "\n",
    "$$\n",
    "  \\text{Bit 1} \\text{ UND } \\text{Bit 2} = 1\n",
    "$$\n",
    "\n",
    "Unsere Grover-Schaltung prüft diese Regel für jeden Lösungskandidaten gleichzeitig. Die  Gleichung in diesem Beispiel ist so einfach, dass wir die Lösung sofort kennen. Aber stellen Sie sich ein ganzes Boolesches Gleichungssystem mit mehreren unbekannten Bits vor. Dieses \"nSAT\"-Problem ist erwiesener Maßen exponentiell schwierig zu lösen und der Grover-Algorithmus bietet hier zumindest eine quadratische Beschleunigung.  "
   ]
  },
  {
   "cell_type": "markdown",
   "metadata": {},
   "source": [
    "#### Reflektion $U_s$\n",
    "Um die Schaltung zu vervollständigen, müssen wir noch die zusätzliche Spiegelung $U_s = 2|s\\rangle\\langle s| - I$ implementieren. Da dies eine Reflexion über $|s\\rangle$ ist, wollen wir jedem Zustand orthogonal zu $|s\\rangle$ eine negative Phase hinzufügen.\n",
    "\n",
    "Eine Möglichkeit, dies zu tun, besteht darin, die Operation zu verwenden, die den Zustand $|s\\rangle \\rightarrow |0\\rangle$ transformiert, von dem wir bereits wissen, dass es das Hadamard-Gatter ist, das auf jedes Qubit angewendet wird:\n",
    "\n",
    "$$H^{\\otimes n}|s\\rangle = |0\\rangle$$\n",
    "\n",
    "Dann wenden wir eine Schaltung an, die den Zuständen orthogonal zu $|0\\rangle$ eine negative Phase hinzufügt:\n",
    "\n",
    "$$U_0 \\frac{1}{2}\\left( \\lvert 00 \\rangle + \\lvert 01 \\rangle + \\lvert 10 \\rangle + \\lvert 11 \\rangle \\right) = \\frac{1}{2}\\left( \\lvert 00 \\rangle - \\lvert 01 \\rangle - \\lvert 10 \\rangle - \\lvert 11 \\rangle \\right)$$\n",
    "\n",
    "d.h. die Vorzeichen jedes Zustands sind umgedreht, außer $\\lvert 00 \\rangle$. Eine Möglichkeit, $U_0$ zu implementieren, ist die folgende Schaltung:\n",
    "\n",
    "<float>\n",
    "    <center>\n",
    "        <img src=\"../assets/07-Grover-Algorithmus/grover_circuit_2qbuits_reflection_0.svg\" style=\"height:200px\"/>\n",
    "        <figcaption>\n",
    "            Copyright 2021, Qiskit Development Team.\n",
    "        </figcaption>\n",
    "    </center>\n",
    "</float> \n",
    "\n",
    "Zur Erinnerung:\n",
    "$$\n",
    "Z = \\begin{bmatrix} 1 & 0 \\\\ 0 & -1 \\end{bmatrix}\n",
    "$$\n",
    "\n",
    "Schließlich führen wir die Operation durch, die den Zustand $|0\\rangle \\rightarrow |s\\rangle$ (wieder das H-Gatter) umwandelt:\n",
    "\n",
    "$$H^{\\otimes n}U_0 H^{\\otimes n} = U_s$$\n",
    "\n",
    "Die komplette Schaltung für $U_s$ sieht so aus:\n",
    "\n",
    "<float>\n",
    "    <center>\n",
    "        <img src=\"../assets/07-Grover-Algorithmus/grover_circuit_2qbuits_reflection.svg\" style=\"height:200px\"/>\n",
    "        <figcaption>\n",
    "            Copyright 2021, Qiskit Development Team.\n",
    "        </figcaption>\n",
    "    </center>\n",
    "</float> "
   ]
  },
  {
   "cell_type": "markdown",
   "metadata": {},
   "source": [
    "#### Vollständiger Schaltkreis für $\\lvert w \\rangle = |11\\rangle$\n",
    "Da im speziellen Fall von $N=4$ nur eine Drehung erforderlich ist, können wir die obigen Komponenten kombinieren, um die vollständige Schaltung für Grovers Algorithmus für den Fall $\\lvert w \\rangle = |11\\rangle$ aufzubauen:\n",
    "\n",
    "<float>\n",
    "    <center>\n",
    "        <img src=\"../assets/07-Grover-Algorithmus/grover_circuit_2qubits_full_11.svg\" style=\"height:200px\"/>\n",
    "        <figcaption>\n",
    "            Copyright 2021, Qiskit Development Team.\n",
    "        </figcaption>\n",
    "    </center>\n",
    "</float> "
   ]
  },
  {
   "cell_type": "markdown",
   "metadata": {},
   "source": [
    "### Kurzübung\n",
    "1. Begründen Sie die Schaltung für die Reflektion $U_0$.\n",
    "2. Was müsste man an dem vollständigen Schaltkreis ändern, um nach dem Zustand  $\\lvert w \\rangle = |00\\rangle$ zu suchen?"
   ]
  },
  {
   "cell_type": "markdown",
   "metadata": {},
   "source": [
    "### 2.1 Qiskit-Implementierung\n",
    "\n",
    "Wir implementieren nun Grovers Algorithmus für den obigen Fall von 2 Qubits für $\\lvert \\omega \\rangle = |11\\rangle$."
   ]
  },
  {
   "cell_type": "code",
   "execution_count": 2,
   "metadata": {},
   "outputs": [],
   "source": [
    "#initialization\n",
    "import matplotlib.pyplot as plt\n",
    "import numpy as np\n",
    "\n",
    "# importing Qiskit\n",
    "from qiskit import IBMQ, Aer, transpile\n",
    "from qiskit import QuantumCircuit, ClassicalRegister, QuantumRegister\n",
    "from qiskit.providers.ibmq import least_busy\n",
    "\n",
    "# import basic plot tools\n",
    "from qiskit.visualization import plot_histogram"
   ]
  },
  {
   "cell_type": "markdown",
   "metadata": {},
   "source": [
    "Wir beginnen mit der Vorbereitung eines Quantenschaltkreises mit zwei Qubits:"
   ]
  },
  {
   "cell_type": "code",
   "execution_count": 3,
   "metadata": {},
   "outputs": [],
   "source": [
    "n = 2\n",
    "grover_circuit = QuantumCircuit(n)"
   ]
  },
  {
   "cell_type": "markdown",
   "metadata": {},
   "source": [
    "Dann müssen wir nur noch die Befehle für die oben abgebildete Schaltung schreiben. Zuerst müssen wir den Zustand $|s\\rangle$ initialisieren. Lassen Sie uns eine allgemeine Funktion (für eine beliebige Anzahl von Qubits) erstellen, damit wir sie später wieder verwenden können:"
   ]
  },
  {
   "cell_type": "code",
   "execution_count": 3,
   "metadata": {
    "tags": [
     "thebelab-init"
    ]
   },
   "outputs": [],
   "source": [
    "def initialize_s(qc, qubits):\n",
    "    \"\"\"Apply a H-gate to 'qubits' in qc\"\"\"\n",
    "    for q in qubits:\n",
    "        qc.h(q)\n",
    "    return qc"
   ]
  },
  {
   "cell_type": "code",
   "execution_count": 4,
   "metadata": {},
   "outputs": [
    {
     "data": {
      "image/png": "[encoded data removed]",
      "text/plain": [
       "<Figure size 203.683x200.667 with 1 Axes>"
      ]
     },
     "execution_count": 4,
     "metadata": {},
     "output_type": "execute_result"
    }
   ],
   "source": [
    "grover_circuit = initialize_s(grover_circuit, [0,1])\n",
    "grover_circuit.draw(\"mpl\")"
   ]
  },
  {
   "cell_type": "markdown",
   "metadata": {},
   "source": [
    "Wenden Sie das Orakel für $|w\\rangle = |11\\rangle$ an. Dieses Orakel ist spezifisch für 2 Qubits:"
   ]
  },
  {
   "cell_type": "code",
   "execution_count": 5,
   "metadata": {},
   "outputs": [
    {
     "data": {
      "image/png": "[encoded data removed]",
      "text/plain": [
       "<Figure size 287.294x200.667 with 1 Axes>"
      ]
     },
     "execution_count": 5,
     "metadata": {},
     "output_type": "execute_result"
    }
   ],
   "source": [
    "grover_circuit.cz(0,1) # Oracle\n",
    "grover_circuit.draw(\"mpl\")"
   ]
  },
  {
   "cell_type": "markdown",
   "metadata": {},
   "source": [
    "<span id=\"general_diffuser\"></span>Wir wollen jetzt den Diffusor ($U_s$) anwenden. Wie bei der Schaltung, die $|s\\rangle$ initialisiert, erstellen wir einen allgemeinen Diffusor (für eine beliebige Anzahl von Qubits), damit wir ihn später in anderen Problemen verwenden können."
   ]
  },
  {
   "cell_type": "code",
   "execution_count": 6,
   "metadata": {
    "tags": [
     "thebelab-init"
    ]
   },
   "outputs": [
    {
     "data": {
      "image/png": "[encoded data removed]",
      "text/plain": [
       "<Figure size 621.739x200.667 with 1 Axes>"
      ]
     },
     "execution_count": 6,
     "metadata": {},
     "output_type": "execute_result"
    }
   ],
   "source": [
    "# Diffusion operator (U_s)\n",
    "grover_circuit.h([0,1])\n",
    "grover_circuit.z([0,1])\n",
    "grover_circuit.cz(0,1)\n",
    "grover_circuit.h([0,1])\n",
    "grover_circuit.draw(\"mpl\")"
   ]
  },
  {
   "cell_type": "markdown",
   "metadata": {},
   "source": [
    "Dies ist unsere fertige Schaltung."
   ]
  },
  {
   "cell_type": "markdown",
   "metadata": {},
   "source": [
    "### 2.1.1 Experimentieren Sie mit Simulatoren <a id='2qubits-simulation'></a>\n",
    "\n",
    "Lassen Sie uns die Schaltung in der Simulation ausführen. Zuerst können wir überprüfen, ob wir den richtigen Zustandsvektor haben:"
   ]
  },
  {
   "cell_type": "code",
   "execution_count": 7,
   "metadata": {},
   "outputs": [
    {
     "name": "stdout",
     "output_type": "stream",
     "text": [
      "Statevector([1.96261557e-16-3.69778549e-32j,\n",
      "             2.22044605e-16+1.22464680e-16j,\n",
      "             1.96261557e-16+1.22464680e-16j,\n",
      "             1.00000000e+00-2.44929360e-16j],\n",
      "            dims=(2, 2))\n"
     ]
    }
   ],
   "source": [
    "sim = Aer.get_backend('aer_simulator')\n",
    "# we need to make a copy of the circuit with the 'save_statevector'\n",
    "# instruction to run on the Aer simulator\n",
    "grover_circuit_sim = grover_circuit.copy()\n",
    "grover_circuit_sim.save_statevector()\n",
    "result = sim.run(grover_circuit_sim).result()\n",
    "statevec = result.get_statevector()\n",
    "\n",
    "print(statevec)"
   ]
  },
  {
   "cell_type": "markdown",
   "metadata": {},
   "source": [
    "Wie erwartet ist die Amplitude jedes Zustands, der nicht $|11\\rangle$ ist, 0, was bedeutet, dass wir eine 100%ige Chance haben, $|11\\rangle$ zu messen:"
   ]
  },
  {
   "cell_type": "code",
   "execution_count": 8,
   "metadata": {},
   "outputs": [
    {
     "data": {
      "image/png": "[encoded data removed]",
      "text/plain": [
       "<Figure size 700x500 with 1 Axes>"
      ]
     },
     "execution_count": 8,
     "metadata": {},
     "output_type": "execute_result"
    }
   ],
   "source": [
    "grover_circuit.measure_all()\n",
    "\n",
    "aer_sim = Aer.get_backend('aer_simulator')\n",
    "result = aer_sim.run(grover_circuit).result()\n",
    "counts = result.get_counts()\n",
    "plot_histogram(counts)"
   ]
  },
  {
   "cell_type": "markdown",
   "metadata": {},
   "source": [
    "### 2.1.2 Experimentieren mit realen Geräten <a id='2qubits-device'></a>\n",
    "\n",
    "Wir können die Schaltung mit einem echten Gerät wie unten ausführen."
   ]
  },
  {
   "cell_type": "code",
   "execution_count": 15,
   "metadata": {
    "tags": [
     "uses-hardware"
    ]
   },
   "outputs": [
    {
     "name": "stdout",
     "output_type": "stream",
     "text": [
      "Running on current least busy device:  ibmq_belem\n"
     ]
    }
   ],
   "source": [
    "# Load IBM Q account and get the least busy backend device\n",
    "provider = IBMQ.load_account()\n",
    "provider = IBMQ.get_provider(\"ibm-q\")\n",
    "device = least_busy(provider.backends(filters=lambda x: int(x.configuration().n_qubits) >= 3 and \n",
    "                                   not x.configuration().simulator and x.status().operational==True))\n",
    "print(\"Running on current least busy device: \", device)"
   ]
  },
  {
   "cell_type": "code",
   "execution_count": 11,
   "metadata": {
    "tags": [
     "uses-hardware"
    ]
   },
   "outputs": [
    {
     "name": "stdout",
     "output_type": "stream",
     "text": [
      "Job Status: job has successfully run\n"
     ]
    }
   ],
   "source": [
    "# Run our circuit on the least busy backend. Monitor the execution of the job in the queue\n",
    "from qiskit.tools.monitor import job_monitor\n",
    "transpiled_grover_circuit = transpile(grover_circuit, device, optimization_level=3)\n",
    "job = device.run(transpiled_grover_circuit)\n",
    "job_monitor(job, interval=2)"
   ]
  },
  {
   "cell_type": "code",
   "execution_count": 12,
   "metadata": {
    "tags": [
     "uses-hardware"
    ]
   },
   "outputs": [
    {
     "data": {
      "image/png": "[encoded data removed]",
      "text/plain": [
       "<Figure size 504x360 with 1 Axes>"
      ]
     },
     "execution_count": 12,
     "metadata": {},
     "output_type": "execute_result"
    }
   ],
   "source": [
    "# Get the results from the computation\n",
    "results = job.result()\n",
    "answer = results.get_counts(grover_circuit)\n",
    "plot_histogram(answer)"
   ]
  },
  {
   "cell_type": "markdown",
   "metadata": {},
   "source": [
    "Wir bestätigen, dass in den meisten Fällen der Zustand $|11\\rangle$ gemessen wird. Die anderen Ergebnisse sind auf Fehler in der Quantenberechnung zurückzuführen.\n",
    "\n",
    "## 3. Beispiel: 3 Qubits <a id='3qubits'></a>\n",
    "\n",
    "Wir gehen nun das Beispiel von Grovers Algorithmus für 3 Qubits mit zwei markierten Zuständen $\\lvert101\\rangle$ und $\\lvert110\\rangle$ durch, wobei wir der in Referenz [2] gefundenen Implementierung folgen. Der Quantenschaltkreis zur Lösung des Problems mit einem Phasenorakel lautet:\n",
    "\n",
    "<float>\n",
    "    <center>\n",
    "        <img src=\"../assets/07-Grover-Algorithmus/grover_circuit_3qubits.png\" style=\"height:200px\"/>\n",
    "        <figcaption>\n",
    "            Copyright 2021, Qiskit Development Team.\n",
    "        </figcaption>\n",
    "    </center>\n",
    "</float> \n",
    "\n",
    "1. Wende Hadamard-Gatter auf $3$-Qubits an, die mit $\\lvert000\\rangle$ initialisiert wurden, um eine einheitliche Überlagerung zu erzeugen:\n",
    "  $$\\lvert \\psi_1 \\rangle = \\frac{1}{\\sqrt{8}} \\left( \n",
    "    \\lvert000\\rangle + \\lvert001\\rangle + \\lvert010\\rangle + \\lvert011\\rangle + \n",
    "    \\lvert100\\rangle + \\lvert101\\rangle + \\lvert110\\rangle + \\lvert111\\rangle \\right) $$\n",
    "2. Markiere Zustände $\\lvert101\\rangle$ und $\\lvert110\\rangle$ mit einem Phasenorakel:\n",
    "  $$\\lvert \\psi_2 \\rangle = \\frac{1}{\\sqrt{8}} \\left( \n",
    "    \\lvert000\\rangle + \\lvert001\\rangle + \\lvert010\\rangle + \\lvert011\\rangle + \n",
    "    \\lvert100\\rangle - \\lvert101\\rangle - \\lvert110\\rangle + \\lvert111\\rangle \\right) $$\n",
    "3. Führe Reflexion um die mittlere Amplitude durch:\n",
    "\n",
    "    A. Wende Hadamard-Gatter auf die Qubits an\n",
    "      $$\\lvert \\psi_{3a} \\rangle = \\frac{1}{2} \\left( \n",
    "        \\lvert000\\rangle +\\lvert011\\rangle +\\lvert100\\rangle -\\lvert111\\rangle \\right) $$\n",
    "    B. Wende X-Gatter auf die Qubits an\n",
    "      $$\\lvert \\psi_{3b} \\rangle = \\frac{1}{2} \\left( \n",
    "        -\\lvert000\\rangle +\\lvert011\\rangle +\\lvert100\\rangle +\\lvert111\\rangle \\right) $$\n",
    "    C. Wende ein doppelt kontrolliertes Z-Gate zwischen den Qubits 1, 2 (Kontrollen) und 3 (Ziel) an\n",
    "      $$\\lvert \\psi_{3c} \\rangle = \\frac{1}{2} \\left( \n",
    "        -\\lvert000\\rangle +\\lvert011\\rangle +\\lvert100\\rangle -\\lvert111\\rangle \\right) $$\n",
    "    D. Wende X-Gatter auf die Qubits an\n",
    "      $$\\lvert \\psi_{3d} \\rangle = \\frac{1}{2} \\left( \n",
    "        -\\lvert000\\rangle +\\lvert011\\rangle +\\lvert100\\rangle -\\lvert111\\rangle \\right) $$\n",
    "    C. Wende Hadamard-Gatter auf die Qubits an\n",
    "      $$\\lvert \\psi_{3e} \\rangle = \\frac{1}{\\sqrt{2}} \\left( \n",
    "        -\\lvert101\\rangle -\\lvert110\\rangle \\right) $$\n",
    "4. Messe die $3$-Qubits, um die Zustände $\\lvert101\\rangle$ und abzurufen $\\lvert110\\rangle$\n",
    "\n",
    "Dabei ist zu beachten, dass wir, da es 2 Lösungen und 8 Möglichkeiten gibt, nur eine Iteration ausführen müssen (Schritte 2 und 3)."
   ]
  },
  {
   "cell_type": "markdown",
   "metadata": {},
   "source": [
    "### 3.1 Qiskit-Implementierung<a id='3qubit-implementation'></a>\n",
    "\n",
    "Wir implementieren nun den Grover-Algorithmus für das obige [Beispiel](#3qubits) für $3$-Qubits und suchen nach zwei markierten Zuständen $\\lvert101\\rangle$ und $\\lvert110\\rangle$. \n",
    "**Hinweis:** Wir müssen bedenken, dass Qiskit seine Qubits umgekehrt zu dieser Ressource ordnet, sodass der gezeichnete Schaltkreis um die Horizontale gedreht erscheint.\n",
    "\n",
    "Wir erstellen ein Phasenorakel, das die Zustände $\\lvert101\\rangle$ und $\\lvert110\\rangle$ als Ergebnisse markiert (Schritt 1)."
   ]
  },
  {
   "cell_type": "code",
   "execution_count": 41,
   "metadata": {},
   "outputs": [],
   "source": [
    "qc = QuantumCircuit(3)\n",
    "qc.cz(0, 2)\n",
    "qc.cz(1, 2)\n",
    "oracle_ex3 = qc.to_gate()\n",
    "oracle_ex3.name = \"U_w\""
   ]
  },
  {
   "cell_type": "markdown",
   "metadata": {},
   "source": [
    "Im letzten Abschnitt haben wir einen spezifischen Diffusor für 2 Qubits verwendet, in der Zelle darunter erstellen wir einen allgemeinen Diffusor für eine beliebige Anzahl von Qubits.\n",
    "\n",
    "<details>\n",
    "<summary> Details: Erstellen eines allgemeinen Diffusors (zum Erweitern klicken)</summary>\n",
    "    \n",
    "Wir können $U_s$ aus $U_0$ erstellen:\n",
    "\n",
    "$$ U_s = H^{\\otimes n} U_0 H^{\\otimes n} $$\n",
    "\n",
    "Und ein mehrfach gesteuertes Z-Gate ($MCZ$) invertiert die Phase des Zustands $|11\\dots 1\\rangle$:\n",
    "\n",
    "$$\n",
    "MCZ = \n",
    "\\begin{bmatrix}\n",
    " 1 & 0 & 0 & \\cdots & 0 \\\\\n",
    " 0 & 1 & 0 & \\cdots & 0 \\\\\n",
    " \\vdots & \\vdots & \\vdots & \\ddots & \\vdots \\\\\n",
    " 0 & 0 & 0 & \\cdots & -1 \\\\\n",
    "\\end{bmatrix}\n",
    "\\begin{aligned}\n",
    "\\\\\n",
    "\\\\\n",
    "\\\\\n",
    "\\leftarrow \\text{Negative Phase hinzufügen zu} \\; |11\\dots 1\\rangle\\\\\n",
    "\\end{aligned}\n",
    "$$\n",
    "\n",
    "Das Anwenden eines X-Gatters auf jedes Qubit führt die Transformation durch:\n",
    "\n",
    "$$\n",
    "\\begin{aligned}\n",
    "|00\\dots 0\\rangle & \\rightarrow |11\\dots 1\\rangle\\\\\n",
    "|11\\dots 1\\rangle & \\rightarrow |00\\dots 0\\rangle\n",
    "\\end{aligned}\n",
    "$$\n",
    "\n",
    "Also:\n",
    "\n",
    "$$ U_0 = - X^{\\otimes n} (MCZ) X^{\\otimes n} $$\n",
    "\n",
    "Wenn wir diese Eigenschaften zusammen verwenden, können wir $U_s$ mit H-Gattern, X-Gattern und einem einzelnen mehrfach kontrollierten Z-Gatter erstellen:\n",
    "\n",
    "$$ U_s = - H^{\\otimes n} U_0 H^{\\otimes n} = H^{\\otimes n} X^{\\otimes n} (MCZ) X^{\\otimes n} H^{\\otimes n} $$\n",
    "    \n",
    "Dabei können wir die globale Phase von -1 ignorieren.\n",
    "\n",
    "</details>"
   ]
  },
  {
   "cell_type": "code",
   "execution_count": 4,
   "metadata": {},
   "outputs": [],
   "source": [
    "def diffuser(nqubits):\n",
    "    qc = QuantumCircuit(nqubits)\n",
    "    # Apply transformation |s> -> |00..0> (H-gates)\n",
    "    for qubit in range(nqubits):\n",
    "        qc.h(qubit)\n",
    "    # Apply transformation |00..0> -> |11..1> (X-gates)\n",
    "    for qubit in range(nqubits):\n",
    "        qc.x(qubit)\n",
    "    # Do multi-controlled-Z gate\n",
    "    qc.h(nqubits-1)\n",
    "    qc.mct(list(range(nqubits-1)), nqubits-1)  # multi-controlled-toffoli\n",
    "    qc.h(nqubits-1)\n",
    "    # Apply transformation |11..1> -> |00..0>\n",
    "    for qubit in range(nqubits):\n",
    "        qc.x(qubit)\n",
    "    # Apply transformation |00..0> -> |s>\n",
    "    for qubit in range(nqubits):\n",
    "        qc.h(qubit)\n",
    "    # We will return the diffuser as a gate\n",
    "    U_s = qc.to_gate()\n",
    "    U_s.name = \"U_s\"\n",
    "    return U_s"
   ]
  },
  {
   "cell_type": "markdown",
   "metadata": {},
   "source": [
    "Nun setzen wir die Teile zusammen, indem wir am Anfang der Schaltung eine gleichmäßige Überlagerung erzeugen und am Ende eine Messung vornehmen.\n",
    "Dabei müssen wir beachten, dass wir nur eine Iteration ausführen müssen, da es 2 Lösungen und 8 Möglichkeiten gibt."
   ]
  },
  {
   "cell_type": "code",
   "execution_count": 11,
   "metadata": {},
   "outputs": [
    {
     "data": {
      "image/png": "[encoded data removed]",
      "text/plain": [
       "<Figure size 747.609x367.889 with 1 Axes>"
      ]
     },
     "execution_count": 11,
     "metadata": {},
     "output_type": "execute_result"
    }
   ],
   "source": [
    "n = 3\n",
    "grover_circuit = QuantumCircuit(n)\n",
    "grover_circuit = initialize_s(grover_circuit, [0,1,2])\n",
    "grover_circuit.append(oracle_ex3, [0,1,2])\n",
    "grover_circuit.append(diffuser(n), [0,1,2])\n",
    "grover_circuit.measure_all()\n",
    "grover_circuit.draw(\"mpl\")"
   ]
  },
  {
   "cell_type": "markdown",
   "metadata": {},
   "source": [
    "### 3.1.1 Experimentieren mit Simulatoren  <a id='3qubits-simulation'></a>\n",
    "\n",
    "Wir können die obige Schaltung auf dem Simulator ausführen."
   ]
  },
  {
   "cell_type": "code",
   "execution_count": 12,
   "metadata": {},
   "outputs": [
    {
     "data": {
      "image/png": "[encoded data removed]",
      "text/plain": [
       "<Figure size 700x500 with 1 Axes>"
      ]
     },
     "execution_count": 12,
     "metadata": {},
     "output_type": "execute_result"
    }
   ],
   "source": [
    "aer_sim = Aer.get_backend('aer_simulator')\n",
    "transpiled_grover_circuit = transpile(grover_circuit, aer_sim)\n",
    "results = aer_sim.run(transpiled_grover_circuit).result()\n",
    "counts = results.get_counts()\n",
    "plot_histogram(counts)"
   ]
  },
  {
   "cell_type": "markdown",
   "metadata": {},
   "source": [
    "Wie wir sehen können, entdeckt der Algorithmus unsere markierten Zustände $\\lvert101\\rangle$ und $\\lvert110\\rangle$."
   ]
  },
  {
   "cell_type": "markdown",
   "metadata": {},
   "source": [
    "### 3.1.2 Experimentieren mit realen Geräten <a id='3qubits-device'></a>\n",
    "\n",
    "Wir können die Schaltung wie folgt auf dem realen Gerät ausführen."
   ]
  },
  {
   "cell_type": "code",
   "execution_count": 17,
   "metadata": {
    "tags": [
     "uses-hardware"
    ]
   },
   "outputs": [
    {
     "name": "stdout",
     "output_type": "stream",
     "text": [
      "least busy backend:  ibmq_manila\n"
     ]
    }
   ],
   "source": [
    "backend = least_busy(provider.backends(filters=lambda x: int(x.configuration().n_qubits) >= 3 and \n",
    "                                   not x.configuration().simulator and x.status().operational==True))\n",
    "print(\"least busy backend: \", backend)"
   ]
  },
  {
   "cell_type": "code",
   "execution_count": 18,
   "metadata": {
    "tags": [
     "uses-hardware"
    ]
   },
   "outputs": [
    {
     "name": "stdout",
     "output_type": "stream",
     "text": [
      "Job Status: job has successfully run\n"
     ]
    }
   ],
   "source": [
    "# Run our circuit on the least busy backend. Monitor the execution of the job in the queue\n",
    "from qiskit.tools.monitor import job_monitor\n",
    "transpiled_grover_circuit = transpile(grover_circuit, device, optimization_level=3)\n",
    "job = device.run(transpiled_grover_circuit)\n",
    "job_monitor(job, interval=2)"
   ]
  },
  {
   "cell_type": "code",
   "execution_count": 19,
   "metadata": {
    "tags": [
     "uses-hardware"
    ]
   },
   "outputs": [
    {
     "data": {
      "image/png": "[encoded data removed]",
      "text/plain": [
       "<Figure size 504x360 with 1 Axes>"
      ]
     },
     "execution_count": 19,
     "metadata": {},
     "output_type": "execute_result"
    }
   ],
   "source": [
    "# Get the results from the computation\n",
    "results = job.result()\n",
    "answer = results.get_counts(grover_circuit)\n",
    "plot_histogram(answer)"
   ]
  },
  {
   "cell_type": "markdown",
   "metadata": {},
   "source": [
    "Wie wir (hoffentlich) sehen können, besteht eine höhere Wahrscheinlichkeit, $\\lvert101\\rangle$ und $\\lvert110\\rangle$ zu messen. Die anderen Ergebnisse sind auf Fehler in der Quantenberechnung zurückzuführen."
   ]
  },
  {
   "cell_type": "markdown",
   "metadata": {},
   "source": [
    "## 4. Übung <a id='problems'></a>\n",
    "\n",
    "Die Funktion „blackbox_grover_oracle(nqubits)“ gibt für eine Anzahl von Qubits („nqubits“) ein unbekanntes Orakel mit eindeutiger Lösung zurück. \n",
    "\n",
    "1. Passen Sie das letzte Beispiel an (mit `initialize_s` und `diffuser`), indem Sie `blackbox_grover_oracle(4)` verwenden\n",
    "    1. Wie viele Iterationen benötigen wir, um diese Lösung mit einer Wahrscheinlichkeit von > 90 % zu messen? Wieviele Iterationen würde der klassische Algorithmus benötigen?\n",
    "    2. Verwenden Sie den Algorithmus von Grover, um diesen Lösungszustand zu finden.\n",
    "    3. Was passiert, wenn wir mehr Iterationen anwenden, als wir in Aufgabe 1a oben berechnet haben? Warum?\n",
    "\n",
    "\n",
    "2. Passen Sie Ihren letzten Code an und erstellen Sie eine Funktion, `grover_solver(nqubits, iterations)`, bei der folgende Parameter als Eingabe verwendet werden:\n",
    "    - Die Anzahl von Qubits (`nqubits`)\n",
    "    - Eine ganze Zahl von Iterationen (`iterations`)\n",
    "    \n",
    "    und gibt einen „QuantumCircuit“ zurück, der den Grover-Algorithmus auf dem „Orakel“-Gatter `blackbox_grover_oracle(nqubits)` mit „iterations“-Iterationen ausführt.\n",
    "    \n",
    "3. Geben Sie sich mit Hilfe dieser Funktion das Histogram nach diversen Grover-Iterationen aus. Überprüfen Sie Ihre Aussage von 1c."
   ]
  },
  {
   "cell_type": "code",
   "execution_count": 58,
   "metadata": {},
   "outputs": [],
   "source": [
    "# Code zu den Aufgaben vervollständigen ...\n",
    "\n",
    "nqubits = 4\n",
    "iterations = #...\n",
    "\n",
    "qbit_arr = range(nqubits)\n",
    "grover_circuit = QuantumCircuit(nqubits)\n",
    "#...\n",
    "\n",
    "for i in range(iterations):\n",
    "    pass\n",
    "    #...\n",
    "#...\n",
    "\n",
    "grover_circuit.draw(\"mpl\")"
   ]
  },
  {
   "cell_type": "code",
   "execution_count": 59,
   "metadata": {},
   "outputs": [],
   "source": [
    "# Code zu den Aufgaben vervollständigen ...\n",
    "\n",
    "aer_sim = Aer.get_backend('aer_simulator')\n",
    "\n",
    "#...\n",
    "\n",
    "plot_histogram(counts)"
   ]
  },
  {
   "cell_type": "code",
   "execution_count": 50,
   "metadata": {},
   "outputs": [],
   "source": [
    "# Code zu den Aufgaben vervollständigen ...\n",
    "\n",
    "def grover_solver(nqubits, iterations):\n",
    "    qbit_arr = range(nqubits)\n",
    "    grover_circuit = QuantumCircuit(nqubits)\n",
    "\n",
    "    #...\n",
    "    \n",
    "    return grover_circuit\n",
    "\n",
    "grover_circuit = grover_solver(nqubits=4, iterations=2)\n",
    "grover_circuit.draw(\"mpl\")"
   ]
  },
  {
   "cell_type": "code",
   "execution_count": 60,
   "metadata": {},
   "outputs": [],
   "source": [
    "# Code zu den Aufgaben ...\n",
    "\n",
    "plot_histogram(counts)"
   ]
  },
  {
   "cell_type": "markdown",
   "metadata": {},
   "source": [
    "## 5. Sudoku mit Grovers Algorithmus lösen <a id=\"sudoku\"></a>\n",
    "\n",
    "Die bisher in diesem Kapitel verwendeten Orakel wurden mit vorheriger Kenntnis ihrer Lösungen erstellt. Wir werden nun ein einfaches Problem mit dem Grover-Algorithmus lösen, für das wir die Lösung nicht unbedingt vorher kennen. Unser Problem ist ein 2×2 binäres Sudoku, das in unserem Fall zwei einfache Regeln hat:\n",
    "\n",
    "- Keine Spalte darf denselben Wert zweimal enthalten\n",
    "- Keine Zeile darf denselben Wert zweimal enthalten\n",
    "\n",
    "Wenn wir jedem Quadrat in unserem Sudoku eine Variable zuweisen:\n",
    "\n",
    "<float>\n",
    "    <center>\n",
    "        <img src=\"../assets/07-Grover-Algorithmus/binary_sudoku.png\" style=\"height:200px\"/>\n",
    "        <figcaption>\n",
    "            Copyright 2021, Qiskit Development Team.\n",
    "        </figcaption>\n",
    "    </center>\n",
    "</float> \n",
    "\n",
    "Wir möchten, dass unsere Schaltung eine Lösung für dieses Sudoku ausgibt.\n",
    "\n",
    "Dieser Ansatz, den Grover-Algorithmus zur Lösung dieses Problems zu verwenden, ist zwar nicht praktikabel (Sie können die Lösung wahrscheinlich in Ihrem Kopf finden!), der Zweck dieses Beispiels jedoch darin besteht, die Konvertierung klassischer [Entscheidungsprobleme](https://en.wikipedia.org/wiki/Decision_problem) in Orakel für Grovers Algorithmus.\n",
    "\n",
    "### 5.1 Das Problem in einen Schaltkreis verwandeln\n",
    "\n",
    "Wir möchten ein Orakel erstellen, dass uns bei der Lösung dieses Problems hilft, und wir beginnen mit der Erstellung einer Schaltung, die eine korrekte Lösung identifiziert. Ähnlich wie wir in unserem Kapitel \"01-Uebersicht_Einfuehrung\" einen klassischen Addierer mit Quantenschaltkreisen erstellt haben, müssen wir einfach eine _klassische_ Funktion in einer Quantenschaltung erstellen, die prüft, ob der Zustand unserer variablen Bits eine gültige Lösung ist.\n",
    "\n",
    "Da wir beide Spalten und beide Zeilen überprüfen müssen, gibt es 4 Bedingungen, die wir überprüfen müssen:\n",
    "\n",
    "```\n",
    "v0 ≠ v1 # entlang der oberen Reihe prüfen\n",
    "v2 ≠ v3 # entlang der unteren Reihe prüfen\n",
    "v0 ≠ v2 # linke Spalte unten prüfen\n",
    "v1 ≠ v3 # siehe rechte Spalte unten\n",
    "```\n",
    "\n",
    "Wir müssen bedenken, dass wir klassische (Rechenbasis-)Zustände vergleichen. Der Einfachheit halber können wir diese Reihe von Vergleichen in eine Liste von Klauseln kompilieren:"
   ]
  },
  {
   "cell_type": "code",
   "execution_count": 23,
   "metadata": {
    "tags": [
     "thebelab-init"
    ]
   },
   "outputs": [],
   "source": [
    "clause_list = [[0,1],\n",
    "               [0,2],\n",
    "               [1,3],\n",
    "               [2,3]]"
   ]
  },
  {
   "cell_type": "markdown",
   "metadata": {},
   "source": [
    "Wir werden den Wert jeder Variable einem Bit in unserer Schaltung zuweisen. Um diese Klauseln rechnerisch zu überprüfen, verwenden wir das 'XOR'-Gatter (wir sind in der Einführung > Atome der Logik darauf gestoßen)."
   ]
  },
  {
   "cell_type": "code",
   "execution_count": 24,
   "metadata": {
    "tags": [
     "thebelab-init"
    ]
   },
   "outputs": [],
   "source": [
    "def XOR(qc, a, b, output):\n",
    "    qc.cx(a, output)\n",
    "    qc.cx(b, output)"
   ]
  },
  {
   "cell_type": "markdown",
   "metadata": {},
   "source": [
    "Wir können einfach überprüfen, dass das `output0`-Bit in der folgenden Schaltung nur gekippt wird, wenn `input0 ≠ input1`:"
   ]
  },
  {
   "cell_type": "code",
   "execution_count": 26,
   "metadata": {},
   "outputs": [
    {
     "data": {
      "image/png": "[encoded data removed]",
      "text/plain": [
       "<Figure size 248.972x204.68 with 1 Axes>"
      ]
     },
     "execution_count": 26,
     "metadata": {},
     "output_type": "execute_result"
    }
   ],
   "source": [
    "# We will use separate registers to name the bits\n",
    "in_qubits = QuantumRegister(2, name='input')\n",
    "out_qubit = QuantumRegister(1, name='output')\n",
    "qc = QuantumCircuit(in_qubits, out_qubit)\n",
    "XOR(qc, in_qubits[0], in_qubits[1], out_qubit)\n",
    "qc.draw(\"mpl\")"
   ]
  },
  {
   "cell_type": "markdown",
   "metadata": {},
   "source": [
    "Diese Schaltung prüft, ob `input0 == input1` und speichert die Ausgabe in \"output0\". Um jede Klausel zu überprüfen, wiederholen wir diese Schaltung für jede Paarung in `clause_list` und speichern die Ausgabe in einem neuen Bit:"
   ]
  },
  {
   "cell_type": "code",
   "execution_count": 27,
   "metadata": {},
   "outputs": [
    {
     "data": {
      "image/png": "[encoded data removed]",
      "text/plain": [
       "<Figure size 567.332x505.68 with 1 Axes>"
      ]
     },
     "execution_count": 27,
     "metadata": {},
     "output_type": "execute_result"
    }
   ],
   "source": [
    "# Create separate registers to name bits\n",
    "var_qubits = QuantumRegister(4, name='v')  # variable bits\n",
    "clause_qubits = QuantumRegister(4, name='c')  # bits to store clause-checks\n",
    "\n",
    "# Create quantum circuit\n",
    "qc = QuantumCircuit(var_qubits, clause_qubits)\n",
    "\n",
    "# Use XOR gate to check each clause\n",
    "i = 0\n",
    "for clause in clause_list:\n",
    "    XOR(qc, clause[0], clause[1], clause_qubits[i])\n",
    "    i += 1\n",
    "\n",
    "qc.draw(\"mpl\")"
   ]
  },
  {
   "cell_type": "markdown",
   "metadata": {},
   "source": [
    "Der Endzustand der Bits `c0, c1, c2, c3` wird nur dann alle `1` sein, wenn die Zuweisungen von `v0, v1, v2, v3` eine Lösung für das Sudoku sind. Um unsere Prüfschaltung zu vervollständigen, möchten wir, dass ein einzelnes Bit `1` ist, wenn (und nur wenn) alle Klauseln erfüllt sind. Auf diese Weise können wir nur ein Bit betrachten, um zu sehen, ob unsere Zuweisung eine Lösung ist. Wir können dies mit einem mehrfach gesteuerten Toffoli-Gatter tun:"
   ]
  },
  {
   "cell_type": "code",
   "execution_count": 28,
   "metadata": {},
   "outputs": [
    {
     "data": {
      "image/png": "[encoded data removed]",
      "text/plain": [
       "<Figure size 635.895x565.88 with 1 Axes>"
      ]
     },
     "execution_count": 28,
     "metadata": {},
     "output_type": "execute_result"
    }
   ],
   "source": [
    "# Create separate registers to name bits\n",
    "var_qubits = QuantumRegister(4, name='v')\n",
    "clause_qubits = QuantumRegister(4, name='c')\n",
    "output_qubit = QuantumRegister(1, name='out')\n",
    "qc = QuantumCircuit(var_qubits, clause_qubits, output_qubit)\n",
    "\n",
    "# Compute clauses\n",
    "i = 0\n",
    "for clause in clause_list:\n",
    "    XOR(qc, clause[0], clause[1], clause_qubits[i])\n",
    "    i += 1\n",
    "\n",
    "# Flip 'output' bit if all clauses are satisfied\n",
    "qc.mct(clause_qubits, output_qubit)\n",
    "\n",
    "qc.draw(\"mpl\")"
   ]
  },
  {
   "cell_type": "markdown",
   "metadata": {},
   "source": [
    "Die obige Schaltung nimmt als Eingabe eine Anfangszuweisung der Bits `v0`, `v1`, `v2` und `v3`, und alle anderen Bits sollten auf `0` initialisiert werden. Nach dem Ausführen der Schaltung sagt uns der Zustand des `out0`-Bits, ob diese Zuordnung eine Lösung ist oder nicht; `out0 = 0` bedeutet die Zuweisung _ist_ keine Lösung und `out0 = 1` bedeutet die Zuweisung _ist_ eine Lösung.\n",
    "\n",
    "**Wichtig:** Bevor wir fortfahren, ist es wichtig, dass wir die Schaltung vollständig verstehen und davon überzeugt sind, dass sie wie im obigen Absatz beschrieben funktioniert."
   ]
  },
  {
   "cell_type": "markdown",
   "metadata": {},
   "source": [
    "### 5.2 Uncomputing und Vollendung des Orakels\n",
    "\n",
    "Wir können diese Prüfschaltung nun mit [phase kickback](https://learn.qiskit.org/course/ch-gates/phase-kickback) in ein Grover-Orakel verwandeln. Um es noch einmal zusammenzufassen, wir haben 3 Register:\n",
    "- Ein Register, das unsere Sudoku-Variablen speichert (wir sagen $x = v_3, v_2, v_1, v_0$)\n",
    "- Ein Register, das unsere Klauseln speichert (dies beginnt im Zustand $|0000\\rangle$, den wir mit $|0\\rangle$ abkürzen)\n",
    "- Und ein Qubit ($|\\text{out}_0\\rangle$), das wir verwendet haben, um die Ausgabe unserer Prüfschaltung zu speichern.\n",
    "\n",
    "Um ein Orakel zu erstellen, benötigen wir unsere Schaltung ($U_\\omega$), um die Transformation durchzuführen:\n",
    "\n",
    "$$\n",
    "U_\\omega|x\\rangle|0\\rangle|\\text{out}_0\\rangle = |x\\rangle|0\\rangle|\\text{out}_0\\oplus f(x)\\rangle\n",
    "$$\n",
    "\n",
    "Wenn wir das `out0`-Qubit auf den Überlagerungszustand $|{-}\\rangle$ setzen, haben wir:\n",
    "\n",
    "$$\n",
    "\\begin{aligned}\n",
    "U_\\omega|x\\rangle|0\\rangle|{-}\\rangle \n",
    "&= U_\\omega|x\\rangle|0\\rangle\\otimes\\tfrac{1}{\\sqrt{2}}(|0\\rangle - |1\\rangle)\\\\\n",
    "&= |x\\rangle|0\\rangle\\otimes\\tfrac{1}{\\sqrt{2}}(|0\\oplus f(x)\\rangle - |1\\oplus f(x)\\rangle)\n",
    "\\end{aligned}\n",
    "$$\n",
    "\n",
    "Wenn $f(x) = 0$, dann haben wir den Zustand:\n",
    "\n",
    "$$\n",
    "\\begin{aligned}\n",
    "&= |x\\rangle|0\\rangle\\otimes \\tfrac{1}{\\sqrt{2}}(|0\\rangle - |1\\rangle)\\\\\n",
    "&= |x\\rangle|0\\rangle|-\\rangle\\\\\n",
    "\\end{aligned}\n",
    "$$\n",
    "\n",
    "\n",
    "(d.h. keine Änderung). Aber wenn $f(x) = 1$ (d. h. $x = \\omega$), führen wir eine negative Phase in das $|{-}\\rangle$-Qubit ein:\n",
    "\n",
    "$$\n",
    "\\begin{aligned}\n",
    "&= \\phantom{-}|x\\rangle|0\\rangle\\otimes\\tfrac{1}{\\sqrt{2}}(|1\\rangle - |0\\rangle)\\\\\n",
    "&= \\phantom{-}|x\\rangle|0\\rangle\\otimes -\\tfrac{1}{\\sqrt{2}}(|0\\rangle - |1\\rangle)\\\\\n",
    "&= -|x\\rangle|0\\rangle|-\\rangle\\\\\n",
    "\\end{aligned}\n",
    "$$\n",
    "\n",
    "Dies ist ein funktionierendes Orakel, das zwei Hilfsregister im Zustand verwendet $|0\\rangle|{-}\\rangle$:\n",
    "\n",
    "$$\n",
    "U_\\omega|x\\rangle|0\\rangle|{-}\\rangle = \\Bigg\\{\n",
    "\\begin{aligned}\n",
    "\\phantom{-}|x\\rangle|0\\rangle|-\\rangle \\quad \\text{for} \\; x \\neq \\omega \\\\\n",
    "-|x\\rangle|0\\rangle|-\\rangle \\quad \\text{for} \\; x = \\omega \\\\\n",
    "\\end{aligned}\n",
    "$$\n",
    "\n",
    "Um unsere Prüfschaltung an ein Grover-Orakel anzupassen, müssen wir sicherstellen, dass die Bits im zweiten Register (`c`) nach der Berechnung immer in den Zustand $|0000\\rangle$ zurückkehren. Dazu wiederholen wir einfach den Teil der Schaltung, der die Klauseln berechnet, die `c0 = c1 = c2 = c3 = 0` garantieren, nachdem unsere Schaltung gelaufen ist. Wir nennen diesen Schritt _'uncomputation'_."
   ]
  },
  {
   "cell_type": "code",
   "execution_count": 29,
   "metadata": {},
   "outputs": [
    {
     "data": {
      "image/png": "[encoded data removed]",
      "text/plain": [
       "<Figure size 1133.07x626.08 with 1 Axes>"
      ]
     },
     "execution_count": 29,
     "metadata": {},
     "output_type": "execute_result"
    }
   ],
   "source": [
    "var_qubits = QuantumRegister(4, name='v')\n",
    "clause_qubits = QuantumRegister(4, name='c')\n",
    "output_qubit = QuantumRegister(1, name='out')\n",
    "cbits = ClassicalRegister(4, name='cbits')\n",
    "qc = QuantumCircuit(var_qubits, clause_qubits, output_qubit, cbits)\n",
    "\n",
    "def sudoku_oracle(qc, clause_list, clause_qubits):\n",
    "    # Compute clauses\n",
    "    i = 0\n",
    "    for clause in clause_list:\n",
    "        XOR(qc, clause[0], clause[1], clause_qubits[i])\n",
    "        i += 1\n",
    "\n",
    "    # Flip 'output' bit if all clauses are satisfied\n",
    "    qc.mct(clause_qubits, output_qubit)\n",
    "\n",
    "    # Uncompute clauses to reset clause-checking bits to 0\n",
    "    i = 0\n",
    "    for clause in clause_list:\n",
    "        XOR(qc, clause[0], clause[1], clause_qubits[i])\n",
    "        i += 1\n",
    "\n",
    "sudoku_oracle(qc, clause_list, clause_qubits)\n",
    "qc.draw(\"mpl\")"
   ]
  },
  {
   "cell_type": "markdown",
   "metadata": {},
   "source": [
    "Zusammenfassend führt die obige Schaltung aus:\n",
    "\n",
    "$$\n",
    "U_\\omega|x\\rangle|0\\rangle|\\text{out}_0\\rangle = \\Bigg\\{\n",
    "\\begin{aligned}\n",
    "|x\\rangle|0\\rangle|\\text{out}_0\\rangle \\quad \\text{for} \\; x \\neq \\omega \\\\\n",
    "|x\\rangle|0\\rangle\\otimes X|\\text{out}_0\\rangle \\quad \\text{for} \\; x = \\omega \\\\\n",
    "\\end{aligned}\n",
    "$$\n",
    "\n",
    "und wenn der Anfangszustand von $|\\text{out}_0\\rangle = |{-}\\rangle$:\n",
    "\n",
    "$$\n",
    "U_\\omega|x\\rangle|0\\rangle|{-}\\rangle = \\Bigg\\{\n",
    "\\begin{aligned}\n",
    "\\phantom{-}|x\\rangle|0\\rangle|-\\rangle \\quad \\text{for} \\; x \\neq \\omega \\\\\n",
    "-|x\\rangle|0\\rangle|-\\rangle \\quad \\text{for} \\; x = \\omega \\\\\n",
    "\\end{aligned}\n",
    "$$"
   ]
  },
  {
   "cell_type": "markdown",
   "metadata": {},
   "source": [
    "### 5.3 Der vollständige Algorithmus\n",
    "\n",
    "Jetzt müssen Sie nur noch dieses Orakel in Grovers Algorithmus einfügen!"
   ]
  },
  {
   "cell_type": "code",
   "execution_count": 30,
   "metadata": {},
   "outputs": [
    {
     "data": {
      "image/png": "[encoded data removed]",
      "text/plain": [
       "<Figure size 2818.67x626.08 with 1 Axes>"
      ]
     },
     "execution_count": 30,
     "metadata": {},
     "output_type": "execute_result"
    }
   ],
   "source": [
    "var_qubits = QuantumRegister(4, name='v')\n",
    "clause_qubits = QuantumRegister(4, name='c')\n",
    "output_qubit = QuantumRegister(1, name='out')\n",
    "cbits = ClassicalRegister(4, name='cbits')\n",
    "qc = QuantumCircuit(var_qubits, clause_qubits, output_qubit, cbits)\n",
    "\n",
    "# Initialize 'out0' in state |->\n",
    "qc.initialize([1, -1]/np.sqrt(2), output_qubit)\n",
    "\n",
    "# Initialize qubits in state |s>\n",
    "qc.h(var_qubits)\n",
    "qc.barrier()  # for visual separation\n",
    "\n",
    "## First Iteration\n",
    "# Apply our oracle\n",
    "sudoku_oracle(qc, clause_list, clause_qubits)\n",
    "qc.barrier()  # for visual separation\n",
    "# Apply our diffuser\n",
    "qc.append(diffuser(4), [0,1,2,3])\n",
    "\n",
    "## Second Iteration\n",
    "sudoku_oracle(qc, clause_list, clause_qubits)\n",
    "qc.barrier()  # for visual separation\n",
    "# Apply our diffuser\n",
    "qc.append(diffuser(4), [0,1,2,3])\n",
    "\n",
    "# Measure the variable qubits\n",
    "qc.measure(var_qubits, cbits)\n",
    "\n",
    "qc.draw(\"mpl\", fold=-1)"
   ]
  },
  {
   "cell_type": "code",
   "execution_count": 31,
   "metadata": {
    "scrolled": false
   },
   "outputs": [
    {
     "data": {
      "image/png": "[encoded data removed]",
      "text/plain": [
       "<Figure size 504x360 with 1 Axes>"
      ]
     },
     "execution_count": 31,
     "metadata": {},
     "output_type": "execute_result"
    }
   ],
   "source": [
    "# Simulate and plot results\n",
    "aer_simulator = Aer.get_backend('aer_simulator')\n",
    "transpiled_qc = transpile(qc, aer_simulator)\n",
    "result = aer_sim.run(transpiled_qc).result()\n",
    "plot_histogram(result.get_counts())"
   ]
  },
  {
   "cell_type": "markdown",
   "metadata": {},
   "source": [
    "Es gibt zwei Bitfolgen mit einer viel höheren Messwahrscheinlichkeit als alle anderen, nämlich `0110` und `1001`. Diese entsprechen den Aufgaben:\n",
    "```\n",
    "v0 = 0\n",
    "v1 = 1\n",
    "v2 = 1\n",
    "v3 = 0\n",
    "```\n",
    "und\n",
    "```\n",
    "v0 = 1\n",
    "v1 = 0\n",
    "v2 = 0\n",
    "v3 = 1\n",
    "```\n",
    "Das sind die beiden Lösungen für unser Sudoku! Das Ziel dieses Abschnitts ist es zu zeigen, wie wir Grover-Orakel aus realen Problemen erstellen können. Während dieses spezifische Problem trivial ist, kann der Prozess auf jedes Entscheidungsproblem angewendet werden (wobei ausreichend große Schaltungen zugelassen werden). Um es noch einmal zusammenzufassen, die Schritte sind:\n",
    "\n",
    "1. Erstellen Sie einen umkehrbaren klassischen Schaltkreis, der eine korrekte Lösung identifiziert\n",
    "2. Verwenden Sie Phasen-Kickback und Uncomputation, um diese Schaltung in ein Orakel zu verwandeln\n",
    "3. Verwenden Sie Grovers Algorithmus, um dieses Orakel zu lösen"
   ]
  },
  {
   "cell_type": "markdown",
   "metadata": {},
   "source": [
    "## 6. Verweise <a id='references'></a>\n",
    "\n",
    "1. L. K. Grover (1996), \"A fast quantum mechanical algorithm for database search\", Proceedings of the 28th Annual ACM Symposium on the Theory of Computing (STOC 1996), [doi:10.1145/237814.237866](http://doi.acm.org/10.1145/237814.237866), [arXiv:quant-ph/9605043](https://arxiv.org/abs/quant-ph/9605043)\n",
    "2. C. Figgatt, D. Maslov, K. A. Landsman, N. M. Linke, S. Debnath & C. Monroe (2017), \"Complete 3-Qubit Grover search on a programmable quantum computer\", Nature Communications, Vol 8, Art 1918, [doi:10.1038/s41467-017-01904-7](https://doi.org/10.1038/s41467-017-01904-7), [arXiv:1703.10535 ](https://arxiv.org/abs/1703.10535)\n",
    "3. I. Chuang & M. Nielsen, \"Quantum Computation and Quantum Information\", Cambridge: Cambridge University Press, 2000."
   ]
  },
  {
   "cell_type": "code",
   "execution_count": 28,
   "metadata": {},
   "outputs": [
    {
     "data": {
      "text/html": [
       "<h3>Version Information</h3><table><tr><th>Qiskit Software</th><th>Version</th></tr><tr><td><code>qiskit-terra</code></td><td>0.24.1</td></tr><tr><td><code>qiskit-aer</code></td><td>0.12.0</td></tr><tr><td><code>qiskit-ignis</code></td><td>0.7.0</td></tr><tr><td><code>qiskit-ibmq-provider</code></td><td>0.20.2</td></tr><tr><td><code>qiskit</code></td><td>0.43.1</td></tr><tr><th>System information</th></tr><tr><td>Python version</td><td>3.8.8</td></tr><tr><td>Python compiler</td><td>Clang 11.0.1 </td></tr><tr><td>Python build</td><td>default, Feb 20 2021 16:12:38</td></tr><tr><td>OS</td><td>Darwin</td></tr><tr><td>CPUs</td><td>6</td></tr><tr><td>Memory (Gb)</td><td>32.0</td></tr><tr><td colspan='2'>Thu Jun 22 09:58:57 2023 CEST</td></tr></table>"
      ],
      "text/plain": [
       "<IPython.core.display.HTML object>"
      ]
     },
     "metadata": {},
     "output_type": "display_data"
    }
   ],
   "source": [
    "import qiskit.tools.jupyter\n",
    "%qiskit_version_table"
   ]
  }
 ],
 "metadata": {
  "kernelspec": {
   "display_name": "Python 3",
   "language": "python",
   "name": "python3"
  },
  "language_info": {
   "codemirror_mode": {
    "name": "ipython",
    "version": 3
   },
   "file_extension": ".py",
   "mimetype": "text/x-python",
   "name": "python",
   "nbconvert_exporter": "python",
   "pygments_lexer": "ipython3",
   "version": "3.8.10"
  }
 },
 "nbformat": 4,
 "nbformat_minor": 2
}
