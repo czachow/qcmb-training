{
 "metadata": {
  "language_info": {
   "codemirror_mode": {
    "name": "ipython",
    "version": 3
   },
   "file_extension": ".py",
   "mimetype": "text/x-python",
   "name": "python",
   "nbconvert_exporter": "python",
   "pygments_lexer": "ipython3",
   "version": "3.7.7-final"
  },
  "orig_nbformat": 2,
  "kernelspec": {
   "name": "python3",
   "display_name": "Python 3"
  }
 },
 "nbformat": 4,
 "nbformat_minor": 2,
 "cells": [
  {
   "source": [
    "# Session 1 #\n",
    "\n",
    "Themen:\n",
    "- Einleitung\n",
    "- Qubit- und Quantenzustände\n",
    "- Lineare Algebra "
   ],
   "cell_type": "markdown",
   "metadata": {}
  },
  {
   "source": [
    "Vorbereitung der Umgebung"
   ],
   "cell_type": "markdown",
   "metadata": {}
  },
  {
   "cell_type": "code",
   "execution_count": null,
   "metadata": {},
   "outputs": [],
   "source": [
    "if 'google.colab' in str(get_ipython()):\n",
    "    !pip install qiskit --quiet"
   ]
  },
  {
   "source": [
    "## Einleitung ##"
   ],
   "cell_type": "markdown",
   "metadata": {}
  },
  {
   "source": [
    "## Qubit- und Quantenzustände ##"
   ],
   "cell_type": "markdown",
   "metadata": {}
  },
  {
   "source": [
    "## Lineare Algebra ##"
   ],
   "cell_type": "markdown",
   "metadata": {}
  }
 ]
}