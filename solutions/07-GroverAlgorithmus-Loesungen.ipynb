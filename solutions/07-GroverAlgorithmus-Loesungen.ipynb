{
 "cells": [
  {
   "cell_type": "markdown",
   "metadata": {},
   "source": [
    "# Lösungen zum Modul 07 - Der Grover-Algorithmus\n",
    "\n",
    "Eine Schulungsserie der Meetup-Gruppe **[Quantum Computing meets Business - Rhineland](https://www.meetup.com/de-DE/Quantum-Computing-meets-Business-Rhineland/)**"
   ]
  },
  {
   "cell_type": "markdown",
   "metadata": {},
   "source": [
    "## 4. Übung <a id='problems'></a>\n",
    "\n",
    "Die Funktion „blackbox_grover_oracle(nqubits)“ gibt für eine Anzahl von Qubits („nqubits“) ein unbekanntes Orakel mit eindeutiger Lösung zurück. \n",
    "\n",
    "1. Passen Sie das letzte Beispiel an (mit `initialize_s` und `diffuser`), indem Sie `blackbox_grover_oracle(4)` verwenden"
   ]
  },
  {
   "cell_type": "code",
   "execution_count": null,
   "metadata": {},
   "outputs": [],
   "source": [
    "#initialization\n",
    "import matplotlib.pyplot as plt\n",
    "import numpy as np\n",
    "\n",
    "# importing Qiskit\n",
    "from qiskit import IBMQ, Aer, transpile\n",
    "from qiskit import QuantumCircuit, ClassicalRegister, QuantumRegister\n",
    "from qiskit.providers.ibmq import least_busy\n",
    "\n",
    "# import basic plot tools\n",
    "from qiskit.visualization import plot_histogram"
   ]
  },
  {
   "cell_type": "code",
   "execution_count": null,
   "metadata": {},
   "outputs": [],
   "source": [
    "# initialization\n",
    "def initialize_s(qc, qubits):\n",
    "    \"\"\"Apply a H-gate to 'qubits' in qc\"\"\"\n",
    "    for q in qubits:\n",
    "        qc.h(q)\n",
    "    return qc"
   ]
  },
  {
   "cell_type": "code",
   "execution_count": null,
   "metadata": {},
   "outputs": [],
   "source": [
    "# diffuser\n",
    "def diffuser(nqubits):\n",
    "    qc = QuantumCircuit(nqubits)\n",
    "    # Apply transformation |s> -> |00..0> (H-gates)\n",
    "    for qubit in range(nqubits):\n",
    "        qc.h(qubit)\n",
    "    # Apply transformation |00..0> -> |11..1> (X-gates)\n",
    "    for qubit in range(nqubits):\n",
    "        qc.x(qubit)\n",
    "    # Do multi-controlled-Z gate\n",
    "    qc.h(nqubits-1)\n",
    "    qc.mct(list(range(nqubits-1)), nqubits-1)  # multi-controlled-toffoli\n",
    "    qc.h(nqubits-1)\n",
    "    # Apply transformation |11..1> -> |00..0>\n",
    "    for qubit in range(nqubits):\n",
    "        qc.x(qubit)\n",
    "    # Apply transformation |00..0> -> |s>\n",
    "    for qubit in range(nqubits):\n",
    "        qc.h(qubit)\n",
    "    # We will return the diffuser as a gate\n",
    "    U_s = qc.to_gate()\n",
    "    U_s.name = \"U_s\"\n",
    "    return U_s"
   ]
  },
  {
   "cell_type": "code",
   "execution_count": null,
   "metadata": {},
   "outputs": [],
   "source": [
    "# Muss im Notebook der Session ausgeführt werden (wg. initialize_s und diffuser)\n",
    "\n",
    "nqubits = 4\n",
    "iterations = 3\n",
    "\n",
    "qbit_arr = range(nqubits)\n",
    "grover_circuit = QuantumCircuit(nqubits)\n",
    "grover_circuit = initialize_s(grover_circuit, qbit_arr)\n",
    "oracle = blackbox_grover_oracle(nqubits)\n",
    "diffuser_gate = diffuser(nqubits)\n",
    "\n",
    "for i in range(iterations):\n",
    "    grover_circuit.append(oracle, qbit_arr)\n",
    "    grover_circuit.append(diffuser_gate, qbit_arr)\n",
    "\n",
    "grover_circuit.measure_all()\n",
    "grover_circuit.draw(\"mpl\")"
   ]
  },
  {
   "cell_type": "code",
   "execution_count": null,
   "metadata": {},
   "outputs": [],
   "source": [
    "aer_sim = Aer.get_backend('aer_simulator')\n",
    "transpiled_grover_circuit = transpile(grover_circuit, aer_sim)\n",
    "results = aer_sim.run(transpiled_grover_circuit).result()\n",
    "counts = results.get_counts()\n",
    "plot_histogram(counts)"
   ]
  },
  {
   "cell_type": "markdown",
   "metadata": {},
   "source": [
    "2. Passen Sie Ihr letztes Listing an und erstellen Sie eine Funktion, `grover_solver(nqubits, iterations)`, bei der folgende Parameter als Eingabe verwendet werden:\n",
    "    - Die Anzahl von Qubits (`nqubits`)\n",
    "    - Eine ganze Zahl von Iterationen (`iterations`)\n",
    "    \n",
    "    und gibt einen „QuantumCircuit“ zurück, der den Grover-Algorithmus auf dem „Orakel“-Gatter `blackbox_grover_oracle(nqubits)` mit „iterations“-Iterationen ausführt.\n",
    "    \n",
    "3. Geben Sie sich mit Hilfe dieser Funktion das Histogram nach diversen Grover-Iterationen aus. Überprüfen Sie Ihre Aussage von 1c."
   ]
  },
  {
   "cell_type": "code",
   "execution_count": null,
   "metadata": {},
   "outputs": [],
   "source": [
    "# Muss im Notebook der Session ausgeführt werden (wg. initialize_s und diffuser)\n",
    "\n",
    "def grover_solver(nqubits, iterations):\n",
    "    qbit_arr = range(nqubits)\n",
    "    grover_circuit = QuantumCircuit(nqubits)\n",
    "    grover_circuit = initialize_s(grover_circuit, qbit_arr)\n",
    "    oracle = blackbox_grover_oracle(nqubits)\n",
    "    diffuser_gate = diffuser(nqubits)\n",
    "    \n",
    "    for i in range(iterations):\n",
    "        grover_circuit.append(oracle, qbit_arr)\n",
    "        grover_circuit.append(diffuser_gate, qbit_arr)\n",
    "\n",
    "    grover_circuit.measure_all()\n",
    "    return grover_circuit\n",
    "\n",
    "grover_circuit = grover_solver(nqubits=4, iterations=3)\n",
    "\n",
    "# Evtl. in eigener Notebook-cell ausführen:\n",
    "grover_circuit.draw(\"mpl\")\n",
    "\n",
    "aer_sim = Aer.get_backend('aer_simulator')\n",
    "transpiled_grover_circuit = transpile(grover_circuit, aer_sim)\n",
    "results = aer_sim.run(transpiled_grover_circuit).result()\n",
    "\n",
    "counts = results.get_counts()\n",
    "\n",
    "grover_circuit.draw(\"mpl\")"
   ]
  },
  {
   "cell_type": "code",
   "execution_count": null,
   "metadata": {},
   "outputs": [],
   "source": [
    "# Muss im Notebook der Session ausgeführt werden (wg. initialize_s und diffuser)\n",
    "\n",
    "# Falls es zuviele Werte gibt, dann per sortierter Liste:\n",
    "counts_sorted = sorted(counts.items(), key=lambda x:x[1], reverse=True)\n",
    "print(counts_sorted)\n",
    "\n",
    "# Ansonsten als Histogramm\n",
    "plot_histogram(counts)"
   ]
  }
 ],
 "metadata": {
  "kernelspec": {
   "display_name": "Python 3",
   "language": "python",
   "name": "python3"
  },
  "language_info": {
   "codemirror_mode": {
    "name": "ipython",
    "version": 3
   },
   "file_extension": ".py",
   "mimetype": "text/x-python",
   "name": "python",
   "nbconvert_exporter": "python",
   "pygments_lexer": "ipython3",
   "version": "3.8.8"
  }
 },
 "nbformat": 4,
 "nbformat_minor": 4
}
