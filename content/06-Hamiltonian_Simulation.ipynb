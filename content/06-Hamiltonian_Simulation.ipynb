{
 "cells": [
  {
   "cell_type": "markdown",
   "metadata": {
    "tags": [
     "remove_cell"
    ]
   },
   "source": [
    "# Modul 06 - Hamiltonian Simulation\n",
    "\n",
    "Eine Schulungsserie der Meetup-Gruppe **[Quantum Computing meets Business - Rhineland](https://www.meetup.com/de-DE/Quantum-Computing-meets-Business-Rhineland/)**\n",
    "\n",
    "(Adapted from [qiskit-textbook](https://github.com/qiskit-community/qiskit-textbook))"
   ]
  },
  {
   "cell_type": "code",
   "execution_count": null,
   "metadata": {},
   "outputs": [],
   "source": [
    "run ./00-Inhalt_Tools.ipynb"
   ]
  },
  {
   "cell_type": "markdown",
   "metadata": {},
   "source": [
    "## Inhaltsverzeichnis\n",
    "\n",
    "1. [Ising Modell](#isingmodel)\n",
    "2. [Schrödinger Gleichung](#schroedinger)\n",
    "\n",
    "\n",
    "## 1. Das Ising Model <a id=\"isingmodel\"></a>\n",
    "\n",
    "Magneten sind Materialien mit denen wir schon im Kindesalter spielen und die für uns selbstverständlich sind. Aus physikalischer Sicht sind magnetische Materialien jedoch ein komplexes Phänomen, welches erst durch die Entdeckung der Quatenmechanik vollständig erklärt werden konnte. Dahingegen ist das Phänomen des Elektromagnetismus weitgehend durch Schulphysik erklärbar. \n",
    "\n",
    "Zur Beschreibung von Materialien mit magnetischen Eigenschaften wurden im Laufe der Zeit verschiedene Modelle entwickelt. Das Einfachste von ihnen ist das sog. Ising-Modell. Das Ising Modell besteht aus mehreren Spins, die miteinander wechselwirken. Zusätzlich gibt es ein externes Magnetfeld, welches die einzelnen Spins beeinflusst. \n",
    "\n",
    "Wie alle quantenmechanischen Systeme wird das gesamte Verhalten des Ising-Modells durch seinen Hamilton Operator beschrieben. Dieser Operator beschreibt die Wechselwirkungen der einzelnen Systembestandteile untereinander und mit der Umgebung. Für das Ising Modell ergibt er sich wie folgt: \n",
    "\n",
    "$$\n",
    "\\hat{H} = \\sum_{<j,k>} J \\sigma^z_j \\sigma^z_k + \\sum_j h \\sigma^x_j \n",
    "$$\n",
    "\n",
    "Hierbei ist $J$ die Stärke der Wechselwirkung zwischen den Spins und $h$ die Stärke des externen Magnetfelds. Die einzelnen Spins werden hierbei von den Pauli Operatoren $\\sigma^{\\alpha}_j$ mit $\\alpha \\in \\lbrace x, y, z\\rbrace$ beschrieben. "
   ]
  },
  {
   "cell_type": "markdown",
   "metadata": {},
   "source": [
    "## 2. Die Schrödinger Gleichung <a id=\"schroedinger\"></a>\n",
    "\n",
    "Die Schrödinger Gleichung ist eine der fundamentalsten Gleichungen der Quantenmechanik. Sie beschreibt die zeitliche Entwicklung jedes Quantensystems. Im Allgemeinen hat sie die folgende Form:\n",
    "\n",
    "$$\n",
    "\\hat{H} \\lvert \\psi (t) \\rangle = -i\\hbar \\frac{\\partial}{\\partial t} \\lvert \\psi (t) \\rangle ,\n",
    "$$\n",
    "\n",
    "hierbei beschreibt $\\lvert \\psi \\rangle$ den Zustandsvektor des Systems und $\\hat{H}$ den bereits oben beschriebenen Hamilton Operator des Systems. Dieser Operator beschreibt das System im Hinblick auf die möglichen Interaktionen mit sich selbst bzw. der Umgebung. Falls dieser Operator nicht von der Zeit abhängig ist, lässt sich die Gleichung formal lösen als:\n",
    "\n",
    "$$\n",
    "\\lvert \\psi (t) \\rangle = \\exp \\left( -i\\hbar t \\hat{H} \\right) \\lvert \\psi (t=0) \\rangle .\n",
    "$$\n",
    "\n",
    "Kennt man also den Anfangszustand eines Systems und den Hamilton-Operator lässt sich der Zustand des Systems zu jeder beliebigen Zeit durch die obige Gleichung berechnen. In der Praxis steht man jedoch meist vor dem Problem, dass die Gleichung nicht direkt berechenbar ist. An dieser Stelle wollen wir nun den Quantencomputer nutzen, um die Gleichung zu berechnen. Die grundsätzliche Idee ist wie folgt: Zunächst nutzen einen Quantenschaltkreis, um den Zustand zum Zeitpunkt null also den Anfangszustand zu erstellen. Dann erstellen wir einen Schaltkreis, welcher die zeitliche Entwicklung des Systems beschreibt und messen schlussendlich den Endzustand. Aus der Messung des Endzustands können wir diesen Rekonstruieren und haben das System damit simuliert. "
   ]
  },
  {
   "cell_type": "markdown",
   "metadata": {},
   "source": [
    "## 3. Trotter Approximierung <a id=\"trotter_approximation\"></a>"
   ]
  },
  {
   "cell_type": "markdown",
   "metadata": {},
   "source": [
    "## 4. Verweise\n",
    "\n",
    "[1] "
   ]
  },
  {
   "cell_type": "markdown",
   "metadata": {},
   "source": [
    "## Qiskit"
   ]
  },
  {
   "cell_type": "code",
   "execution_count": 17,
   "metadata": {},
   "outputs": [
    {
     "name": "stderr",
     "output_type": "stream",
     "text": [
      "/Applications/anaconda3/envs/qcmb-training/lib/python3.8/site-packages/ipykernel/ipkernel.py:283: DeprecationWarning: `should_run_async` will not call `transform_cell` automatically in the future. Please pass the result to `transformed_cell` argument and any exception that happen during thetransform in `preprocessing_exc_tuple` in IPython 7.17 and above.\n",
      "  and should_run_async(code)\n"
     ]
    },
    {
     "data": {
      "text/plain": [
       "{'qiskit-terra': '0.16.4',\n",
       " 'qiskit-aer': '0.7.4',\n",
       " 'qiskit-ignis': '0.5.2',\n",
       " 'qiskit-ibmq-provider': '0.11.1',\n",
       " 'qiskit-aqua': '0.8.2',\n",
       " 'qiskit': '0.23.5'}"
      ]
     },
     "execution_count": 17,
     "metadata": {},
     "output_type": "execute_result"
    }
   ],
   "source": [
    "import qiskit\n",
    "qiskit.__qiskit_version__"
   ]
  },
  {
   "cell_type": "markdown",
   "metadata": {},
   "source": [
    "## Copyright\n",
    "\n",
    "Copyright 2021 Dual Software GmbH and SVA System Vertrieb Alexander GmbH\n",
    "\n",
    "Licensed under the Apache License, Version 2.0 (the \"License\"); you may not use this file except in compliance with the License. You may obtain a copy of the License at http://www.apache.org/licenses/LICENSE-2.0.\n",
    "\n",
    "Unless required by applicable law or agreed to in writing, software distributed under the License is distributed on an \"AS IS\" BASIS, WITHOUT WARRANTIES OR CONDITIONS OF ANY KIND, either express or implied. See the License for the specific language governing permissions and limitations under the License."
   ]
  }
 ],
 "metadata": {
  "kernelspec": {
   "display_name": "Python 3",
   "language": "python",
   "name": "python3"
  },
  "language_info": {
   "codemirror_mode": {
    "name": "ipython",
    "version": 3
   },
   "file_extension": ".py",
   "mimetype": "text/x-python",
   "name": "python",
   "nbconvert_exporter": "python",
   "pygments_lexer": "ipython3",
   "version": "3.8.3"
  }
 },
 "nbformat": 4,
 "nbformat_minor": 4
}
