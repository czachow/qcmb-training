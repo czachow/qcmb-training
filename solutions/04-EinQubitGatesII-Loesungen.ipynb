{
 "cells": [
  {
   "cell_type": "markdown",
   "id": "b06f0788",
   "metadata": {},
   "source": [
    "# Modul 04 - 1-Qubit Gatter II\n",
    "\n",
    "Eine Schulungsserie der Meetup-Gruppe **[Quantum Computing meets Business - Rhineland](https://www.meetup.com/de-DE/Quantum-Computing-meets-Business-Rhineland/)**\n",
    "\n",
    "(Adapted from [qiskit-textbook](https://github.com/qiskit-community/qiskit-textbook))"
   ]
  },
  {
   "cell_type": "code",
   "execution_count": null,
   "id": "22badbd5",
   "metadata": {},
   "outputs": [],
   "source": [
    "run ./00-Inhalt_Tools.ipynb"
   ]
  },
  {
   "cell_type": "markdown",
   "id": "d374c0e9",
   "metadata": {},
   "source": [
    "### Kurzübung 1"
   ]
  },
  {
   "cell_type": "markdown",
   "id": "ec348f16-7a52-47c8-8f89-6cb78ccf68b2",
   "metadata": {},
   "source": [
    "1. Schreiben Sie das H-Gatter als die äußeren Produkte der Vektoren |0⟩, |1⟩, |+⟩ und |−⟩."
   ]
  },
  {
   "cell_type": "markdown",
   "id": "00069bd3-f88c-4a73-81a6-2828240c294b",
   "metadata": {},
   "source": [
    "- $H = |+\\rangle\\langle0| + |-\\rangle\\langle1|$"
   ]
  },
  {
   "cell_type": "markdown",
   "id": "956f539a",
   "metadata": {},
   "source": [
    "2. Zeigen Sie, dass die Anwendung der Folge von Gattern HZH, auf einen beliebigen Qubit-Zustand äquivalent zur Anwendung eines X-Gatters ist."
   ]
  },
  {
   "cell_type": "markdown",
   "id": "13d3c03d",
   "metadata": {},
   "source": [
    "Durch Matrix Multiplikation: $HZH = \\tfrac{1}{\\sqrt{2}}\\begin{bmatrix} 1 & 1 \\\\ 1 & -1 \\end{bmatrix}\\begin{bmatrix} 1 & 0 \\\\ 0 & -1 \\end{bmatrix}\\tfrac{1}{\\sqrt{2}}\\begin{bmatrix} 1 & 1 \\\\ 1 & -1 \\end{bmatrix} = \\begin{bmatrix} 0 & 1 \\\\ 1 & 0 \\end{bmatrix} = X$"
   ]
  },
  {
   "cell_type": "markdown",
   "id": "72775340",
   "metadata": {},
   "source": [
    "3. Finden Sie eine Kombination von X-, Z- und H-Gattern, die äquivalent zu einem Y-Gatter ist (ohne Berücksichtigung der globalen Phase)."
   ]
  },
  {
   "cell_type": "code",
   "execution_count": null,
   "id": "69d04b0a",
   "metadata": {},
   "outputs": [],
   "source": [
    "from qiskit import QuantumCircuit, execute, Aer\n",
    "from qiskit_textbook.tools import array_to_latex\n",
    "qc = QuantumCircuit(1)\n",
    "# Begin sequence of gates\n",
    "qc.h(0)\n",
    "qc.x(0)\n",
    "qc.z(0)\n",
    "qc.h(0)\n",
    "\n",
    "svsim = Aer.get_backend('statevector_simulator')\n",
    "qobj = assemble(qc)\n",
    "state = svsim.run(qobj).result().get_statevector()\n",
    "plot_bloch_multivector(state)\n",
    "# See combined unitary\n",
    "simulator = Aer.get_backend('unitary_simulator')\n",
    "result = execute(qc, simulator).result()\n",
    "unitary = result.get_unitary()\n",
    "array_to_latex(unitary)\n",
    "# Is equivalent to Y-gate by factor of i\n",
    "array_to_latex(unitary*1j)"
   ]
  },
  {
   "cell_type": "code",
   "execution_count": null,
   "id": "65769cb7",
   "metadata": {},
   "outputs": [],
   "source": [
    "from qiskit import QuantumCircuit, assemble, Aer\n",
    "from math import pi, sqrt\n",
    "from qiskit.visualization import plot_bloch_multivector, plot_histogram\n",
    "qc = QuantumCircuit(1)\n",
    "# Begin sequence of gates\n",
    "qc.h(0)\n",
    "qc.x(0)\n",
    "qc.z(0)\n",
    "qc.h(0)\n",
    "\n",
    "svsim = Aer.get_backend('statevector_simulator')\n",
    "qobj = assemble(qc)\n",
    "state = svsim.run(qobj).result().get_statevector()\n",
    "plot_bloch_multivector(state)"
   ]
  },
  {
   "cell_type": "markdown",
   "id": "c114301f",
   "metadata": {},
   "source": [
    "### Kurzübung 2"
   ]
  },
  {
   "cell_type": "markdown",
   "id": "7a779a10",
   "metadata": {},
   "source": [
    "2. Benutzen Sie Qiskit, um die Wahrscheinlichkeit der Messung eines |0⟩-Qubits in den Zuständen |+⟩ und |−⟩ darzustellen (Tipp: Sie sollten .get_counts() und plot_histogram() benutzen)"
   ]
  },
  {
   "cell_type": "code",
   "execution_count": null,
   "id": "4da579f8",
   "metadata": {},
   "outputs": [],
   "source": [
    "from qiskit import QuantumCircuit, execute, Aer\n",
    "from qiskit.visualization import plot_histogram\n",
    "import numpy as np\n",
    "\n",
    "qc = QuantumCircuit(1,1) # erstellt eine Schaltung mit 1 Qubit und 1 Bit\n",
    "initial_state = [1,1]/np.sqrt(2) # Definiere den Initialzustand als |+> ([1,-1]/np.sqrt(2) wird zu |->)\n",
    "qc.initialize(initial_state, 0) # Initialisierung\n",
    "qc.measure(0,0) # Messe Qubit 0 und speichere das Ergebnis in Bit 0\n",
    "\n",
    "backend = Aer.get_backend('qasm_simulator') # Simulator auswählen\n",
    "counts = execute(qc,backend).result().get_counts() # Ausführung der Simulation und Ausgabe der counts\n",
    "plot_histogram(counts) # Darstellung der Ergebnisse als Histogramm"
   ]
  },
  {
   "cell_type": "markdown",
   "id": "239c7665",
   "metadata": {},
   "source": [
    "3. Versuchen Sie, eine Funktion zu erstellen, die in der Y-Basis misst."
   ]
  },
  {
   "cell_type": "code",
   "execution_count": null,
   "id": "ecaeec29",
   "metadata": {},
   "outputs": [],
   "source": [
    "from qiskit import QuantumCircuit, execute, Aer\n",
    "from qiskit.visualization import plot_histogram, plot_bloch_multivector\n",
    "import math\n",
    "\n",
    "def y_measure(qc, qubit, cbit):\n",
    "    qc.sdg(qubit)\n",
    "    qc.h(qubit)\n",
    "    qc.measure(qubit, cbit)\n",
    "\n",
    "\n",
    "qc = QuantumCircuit(1,1) # create quantum circuit with one qubit and one classical bit\n",
    "initial_state = [1/math.sqrt(2), -1j/math.sqrt(2)] # define our initial state (1 in Y-basis)\n",
    "qc.initialize(initial_state, 0) # add initialization operation to qubit 0\n",
    "y_measure(qc, 0,0) # measure qubit 0 and store the results in classical bit 0\n",
    "\n",
    "backend = Aer.get_backend('statevector_simulator') # Tell Qiskit how to simulate our circuit\n",
    "result = execute(qc,backend).result() # Do the simulation, returning the result\n",
    "display(plot_histogram(result.get_counts())) # Display the results in a histogram\n",
    "plot_bloch_multivector(result.get_statevector())\n"
   ]
  }
 ],
 "metadata": {
  "kernelspec": {
   "display_name": "Python 3 (ipykernel)",
   "language": "python",
   "name": "python3"
  },
  "language_info": {
   "codemirror_mode": {
    "name": "ipython",
    "version": 3
   },
   "file_extension": ".py",
   "mimetype": "text/x-python",
   "name": "python",
   "nbconvert_exporter": "python",
   "pygments_lexer": "ipython3",
   "version": "3.9.7"
  },
  "widgets": {
   "application/vnd.jupyter.widget-state+json": {
    "state": {},
    "version_major": 2,
    "version_minor": 0
   }
  }
 },
 "nbformat": 4,
 "nbformat_minor": 5
}
