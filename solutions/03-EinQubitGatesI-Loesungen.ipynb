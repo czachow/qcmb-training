{
 "cells": [
  {
   "attachments": {},
   "cell_type": "markdown",
   "id": "f0d2575b",
   "metadata": {},
   "source": [
    "# Modul 03 - 1-Qubit Gatter I - Lösungen\n",
    "\n",
    "Eine Schulungsserie der Meetup-Gruppe **[Quantum Computing meets Business - Rhineland](https://www.meetup.com/de-DE/Quantum-Computing-meets-Business-Rhineland/)**\n",
    "\n",
    "(Adapted from [qiskit-textbook](https://github.com/qiskit-community/qiskit-textbook))"
   ]
  },
  {
   "cell_type": "code",
   "execution_count": 1,
   "id": "2b60b198",
   "metadata": {},
   "outputs": [
    {
     "data": {
      "text/html": [
       "<style>\n",
       "details {\n",
       "    display: block;\n",
       "    border: 1px solid black;\n",
       "    background-color: #eaeaff;\n",
       "    padding: 0.5em;\n",
       "    text-align: center;\n",
       "    margin: 0 8em;\n",
       "    cursor: pointer;\n",
       "}\n",
       "</style>\n"
      ],
      "text/plain": [
       "<IPython.core.display.HTML object>"
      ]
     },
     "metadata": {},
     "output_type": "display_data"
    }
   ],
   "source": [
    "run ../content/00-Inhalt_Tools.ipynb"
   ]
  },
  {
   "attachments": {},
   "cell_type": "markdown",
   "id": "f77b5f36-c07f-4653-baf8-5cc3cf105321",
   "metadata": {},
   "source": [
    "1. Prüfen Sie ob |+⟩ und |−⟩ Eigenzustände des X-Gatters sind."
   ]
  },
  {
   "attachments": {},
   "cell_type": "markdown",
   "id": "1d39a7ce-9b83-4e95-bf85-868c2566da6d",
   "metadata": {},
   "source": [
    "- $X|+\\rangle = \\tfrac{1}{\\sqrt{2}}(X|0\\rangle + X|1\\rangle) = \\tfrac{1}{\\sqrt{2}}(|1\\rangle + |0\\rangle) = |+\\rangle$\n",
    "- $X|-\\rangle = \\tfrac{1}{\\sqrt{2}}(X|0\\rangle - X|1\\rangle) = \\tfrac{1}{\\sqrt{2}}(|1\\rangle - |0\\rangle) = -|-\\rangle$\n"
   ]
  },
  {
   "attachments": {},
   "cell_type": "markdown",
   "id": "97fb372e-e4a0-41db-b002-7445518a21db",
   "metadata": {},
   "source": [
    "2. Welche Eigenwerte haben sie?"
   ]
  },
  {
   "attachments": {},
   "cell_type": "markdown",
   "id": "e508c321-a85b-4196-b435-1fae18aa09e5",
   "metadata": {},
   "source": [
    "- $|+\\rangle$ hat den Eigenwert +1 und $|-\\rangle$ hat den Eigenwert -1"
   ]
  },
  {
   "attachments": {},
   "cell_type": "markdown",
   "id": "c6fa9eb1-24a2-4f59-8e6e-4b3412e2d577",
   "metadata": {},
   "source": [
    "4. Finden Sie die Eigenzustände des Y-Gatters und ihre Koordinaten auf der Blochkugel."
   ]
  },
  {
   "attachments": {},
   "cell_type": "markdown",
   "id": "09ce39d7-cc18-490e-bcfe-7ec42f44fdc2",
   "metadata": {},
   "source": [
    "- $\\tfrac{1}{\\sqrt{2}}(|0\\rangle + i|1\\rangle)$, Bloch coords = `[0,1,0]`\n",
    "- $\\tfrac{1}{\\sqrt{2}}(|0\\rangle - i|1\\rangle)$, Bloch coords = `[0,-1,0]`"
   ]
  },
  {
   "attachments": {},
   "cell_type": "markdown",
   "id": "c9b91e22",
   "metadata": {},
   "source": [
    "## Qiskit"
   ]
  },
  {
   "cell_type": "code",
   "execution_count": null,
   "id": "d2b6e869",
   "metadata": {},
   "outputs": [],
   "source": [
    "import qiskit\n",
    "qiskit.__qiskit_version__"
   ]
  },
  {
   "attachments": {},
   "cell_type": "markdown",
   "id": "7b72273e",
   "metadata": {},
   "source": [
    "## Copyright\n",
    "\n",
    "Copyright 2021 Dual Software GmbH and SVA System Vertrieb Alexander GmbH\n",
    "\n",
    "Licensed under the Apache License, Version 2.0 (the \"License\"); you may not use this file except in compliance with the License. You may obtain a copy of the License at http://www.apache.org/licenses/LICENSE-2.0.\n",
    "\n",
    "Unless required by applicable law or agreed to in writing, software distributed under the License is distributed on an \"AS IS\" BASIS, WITHOUT WARRANTIES OR CONDITIONS OF ANY KIND, either express or implied. See the License for the specific language governing permissions and limitations under the License."
   ]
  },
  {
   "attachments": {},
   "cell_type": "markdown",
   "id": "4c48868f",
   "metadata": {},
   "source": []
  }
 ],
 "metadata": {
  "kernelspec": {
   "display_name": "Python 3 (ipykernel)",
   "language": "python",
   "name": "python3"
  },
  "language_info": {
   "codemirror_mode": {
    "name": "ipython",
    "version": 3
   },
   "file_extension": ".py",
   "mimetype": "text/x-python",
   "name": "python",
   "nbconvert_exporter": "python",
   "pygments_lexer": "ipython3",
   "version": "3.8.8"
  },
  "widgets": {
   "application/vnd.jupyter.widget-state+json": {
    "state": {},
    "version_major": 2,
    "version_minor": 0
   }
  }
 },
 "nbformat": 4,
 "nbformat_minor": 5
}
