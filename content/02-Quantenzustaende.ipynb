{
 "cells": [
  {
   "cell_type": "markdown",
   "metadata": {},
   "source": [
    "# Modul 2 - Quantenzustände\n",
    "\n",
    "Eine Schulungsserie der Meetup-Gruppe **[Quantum Computing meets Business - Rhineland](https://www.meetup.com/de-DE/Quantum-Computing-meets-Business-Rhineland/)**\n",
    "\n",
    "\n",
    "Themen:\n",
    "- Quantenzustände"
   ]
  },
  {
   "cell_type": "code",
   "execution_count": 1,
   "metadata": {},
   "outputs": [
    {
     "output_type": "display_data",
     "data": {
      "text/plain": "<IPython.core.display.HTML object>",
      "text/html": "<style>\ndetails {\n    display: block;\n    border: 1px solid black;\n    background-color: #eaeaff;\n    padding: 0.5em;\n    text-align: center;\n    margin: 0 8em;\n    cursor: pointer;\n}\n</style>\n"
     },
     "metadata": {}
    }
   ],
   "source": [
    "%run ./00-Inhalt_Tools.ipynb"
   ]
  },
  {
   "cell_type": "markdown",
   "metadata": {},
   "source": [
    "## Quantenzustände\n",
    "\n",
    "Sie wissen jetzt etwas über Bits und darüber, wie unsere vertrauten digitalen Computer funktionieren.\n",
    "All die komplexen Variablen, Objekte und Datenstrukturen, die in moderner Software verwendet werden, sind im Grunde alle nur große Haufen von Bits.\n",
    "Diejenigen von uns, die sich mit Quantencomputern beschäftigen, nennen diese klassische Variablen. \n",
    "Die Computer, die sie verwenden, wie der, den Sie zum Lesen dieses Artikels benutzen, nennen wir klassische Computer.\n",
    "\n",
    "In Quantencomputern ist unsere grundlegende Variable das Qubit: eine Quantenvariante des Bits.\n",
    "Diese haben genau die gleichen Einschränkungen wie normale Bits: Sie können nur eine einzige binäre Information speichern und können immer nur eine 0 oder 1 ausgeben.\n",
    "Allerdings können sie auch auf eine Weise manipuliert werden, die nur durch die Quantenmechanik beschrieben werden kann. \n",
    "Dies gibt uns neue Gatter, mit denen wir spielen können und die es uns ermöglichen, neue Wege zu finden, Algorithmen zu entwerfen.\n",
    "\n",
    "Um diese neuen Gatter vollständig zu verstehen, müssen wir zunächst verstehen, wie man Qubit-Zustände aufschreibt.\n",
    "Hierfür werden wir die Mathematik der Vektoren, Matrizen und komplexen Zahlen verwenden.\n",
    "Obwohl wir diese Konzepte nach und nach einführen werden, wäre es am besten, wenn Sie bereits mit ihnen vertraut sind. \n",
    "Wenn Sie eine tiefer gehende Erklärung oder eine Auffrischung benötigen, finden Sie den Leitfaden hier.\n",
    "\n",
    "**Inhalt**\n",
    "\n",
    "1. [Klassisch vs. Quantenbits](#cvsq)     \n",
    "    1.1 [Zustandsvektoren](#statevectors)      \n",
    "    1.2 [Qubit-Notation](#Notation)    \n",
    "    1.3 [Qubits mit Qiskit erforschen](#exploring-qubits)    \n",
    "2. [Die Regeln der Messung](#rules-measurement)    \n",
    "    2.1 [Eine sehr wichtige Regel](#important-rule)    \n",
    "    2.2 [Die Implikationen dieser Regel](#implications)\n",
    "3. [Die Bloch-Sphäre](#bloch-sphere)    \n",
    "    3.1 [Beschreiben des eingeschränkten Qubit-Zustands](#bloch-sphere-1)     \n",
    "    3.2 [Visuelle Darstellung eines Qubit-Zustands](#bloch-sphere-2)     "
   ]
  },
  {
   "cell_type": "markdown",
   "metadata": {},
   "source": [
    "## 1. Klassisch vs. Quantenbits <a id=\"cvsq\"></a>\n",
    "\n",
    "### 1.1 Zustandsvektoren<a id=\"statevectors\"></a>\n",
    "\n",
    "In der Quantenphysik benutzen wir _Zustandsvektoren_, um den Zustand unseres Systems zu beschreiben. \n",
    "\n",
    "<float>\n",
    "    <center>\n",
    "        <img src=\"../assets/02-Quantenzustaende_LineareAlgebraI/car_track_1.jpg\" style=\"width:800px\"/>\n",
    "        <figcaption>\n",
    "            Verfolgung eines Autos mit Skalaren, Copyright 2021, Qiskit Development Team.\n",
    "        </figcaption>\n",
    "    </center>\n",
    "</float>\n",
    "\n",
    "Angenommen, wir wollen die Position eines Autos entlang einer Bahn beschreiben, so ist dies ein klassisches System, also könnten wir eine Zahl $x$ verwenden:\n",
    "\n",
    "$$ x=4 $$\n",
    "\n",
    "Alternativ könnten wir stattdessen eine Sammlung von Zahlen in einem Vektor verwenden, der _Zustandsvektor_ genannt wird. \n",
    "\n",
    "<float>\n",
    "    <center>\n",
    "        <img src=\"../assets/02-Quantenzustaende_LineareAlgebraI/car_track_2.jpg\" style=\"width:800px\"/>\n",
    "        <figcaption>\n",
    "            Verfolgung eines Autos mit Vektoren, Copyright 2021, Qiskit Development Team.\n",
    "        </figcaption>\n",
    "    </center>\n",
    "</float>\n",
    "\n",
    "Jedes Element im Zustandsvektor enthält die Wahrscheinlichkeit, das Auto an einem bestimmten Ort zu finden:\n",
    "\n",
    "$$\n",
    "    |x\\rangle = \\begin{bmatrix} 0 \\\\ \\vdots \\\\ 0 \\\\ 1 \\\\ 0 \\\\ \\vdots \\\\ 0 \\end{bmatrix} \n",
    "                \\begin{matrix} \\\\  \\\\  \\\\ \\leftarrow \\\\ \\\\  \\\\  \\\\ \\end{matrix}\n",
    "                \\begin{matrix} \\\\  \\\\ \n",
    "                    \\text{Wahrscheinlichkeit, dass} \\\\ \n",
    "                    \\text{Auto ist bei} \\\\ \\\\ \n",
    "                    \\text{Position 4} \\\\ \\\\  \\\\ \n",
    "                \\end{matrix}   \n",
    "$$\n",
    "\n",
    "Dies ist nicht auf die Position beschränkt, wir könnten auch einen Zustandsvektor mit allen möglichen Geschwindigkeiten, die das Auto haben könnte, und allen möglichen Farben, die das Auto haben könnte, aufbewahren.\n",
    "Bei klassischen Systemen (wie dem obigen Auto-Beispiel) ist das eine dumme Sache, da man dafür riesige Vektoren behalten muss, wenn man eigentlich nur eine Zahl braucht. \n",
    "Aber wie wir in diesem Kapitel sehen werden, sind Zustandsvektoren zufällig ein sehr guter Weg, um Quantensysteme, einschließlich Quantencomputer, im Auge zu behalten.\n",
    "\n",
    "### 1.2 Qubit-Notation <a id=\"notation\"></a>\n",
    "\n",
    "Klassische Bits haben immer einen vollständig wohldefinierten Zustand: Sie sind zu jedem Zeitpunkt während einer Berechnung entweder `0` oder `1`. \n",
    "Es gibt kein weiteres Detail, das wir dem Zustand eines Bits hinzufügen können als dies. \n",
    "Um also den Zustand eines klassischen Bits (`c`) aufzuschreiben, können wir einfach diese beiden Binärwerte verwenden. Zum Beispiel:\n",
    "\n",
    "$$c = 0$$\n",
    "\n",
    "Diese Einschränkung ist für Quantenbits aufgehoben.\n",
    "Ob wir eine `0` oder eine `1` von einem Qubit erhalten, muss nur dann wohldefiniert sein, wenn eine Messung durchgeführt wird, um eine Ausgabe zu erhalten.\n",
    "Zu diesem Zeitpunkt muss es sich auf eine der beiden Optionen festlegen.\n",
    "Zu allen anderen Zeiten wird sein Zustand etwas Komplexeres sein, als durch einen einfachen Binärwert erfasst werden kann.\n",
    "\n",
    "Um zu sehen, wie man diese beschreiben kann, können wir uns zunächst auf die beiden einfachsten Fälle konzentrieren. \n",
    "Wie wir im letzten Abschnitt gesehen haben, ist es möglich, ein Qubit in einem Zustand zu präparieren, bei dem es definitiv das Ergebnis `0` liefert, wenn es gemessen wird.\n",
    "\n",
    "Wir brauchen einen Namen für diesen Zustand.\n",
    "Seien wir phantasielos und nennen ihn $0$.\n",
    "In ähnlicher Weise gibt es einen Qubit-Zustand, der mit Sicherheit eine `1` ausgibt.\n",
    "Nennen wir diesen $1$. Diese beiden Zustände schließen sich gegenseitig völlig aus.\n",
    "Entweder gibt das Qubit definitiv eine ```0``` aus, oder es gibt definitiv eine ```1``` aus.\n",
    "Es gibt keine Überschneidung. \n",
    "Eine Möglichkeit, dies mathematisch darzustellen, ist die Verwendung zweier orthogonaler Vektoren.\n",
    "\n",
    "$$ |0\\rangle = \\begin{bmatrix} 1 \\\\ 0 \\end{bmatrix} \\, \\, \\, \\, |1\\rangle =\\begin{bmatrix} 0 \\\\ 1 \\end{bmatrix}. $$\n",
    "\n",
    "Das ist eine Menge Notation, die man auf einmal verinnerlichen muss.\n",
    "Lassen Sie uns zunächst die seltsamen $|$ und $\\rangle$ auspacken.\n",
    "Ihre Aufgabe ist im Wesentlichen nur, uns daran zu erinnern, dass wir über die Vektoren sprechen, die Qubit-Zustände mit den Bezeichnungen $0$ und $1$ darstellen.\n",
    "Das hilft uns, sie von Dingen wie den Bit-Werten ```0``` und ```1``` oder den Zahlen 0 und 1 zu unterscheiden.\n",
    "Es ist Teil der von Dirac eingeführten Bra-Ket-Notation.\n",
    "\n",
    "Wenn Sie mit Vektoren nicht vertraut sind, können Sie sich diese im Grunde nur als Listen von Zahlen vorstellen, die wir nach bestimmten Regeln manipulieren. \n",
    "Wenn Sie mit Vektoren aus dem Physikunterricht in der Schule vertraut sind, werden Sie wissen, dass Vektoren aufgrund dieser Regeln gut geeignet sind, um Größen mit einem Betrag und einer Richtung zu beschreiben.\n",
    "Zum Beispiel wird die Geschwindigkeit eines Objekts perfekt mit einem Vektor beschrieben.\n",
    "Die Art und Weise, wie wir Vektoren für Quantenzustände verwenden, ist jedoch etwas anders als diese, also halten Sie nicht zu sehr an Ihrer bisherigen Intuition fest.\n",
    "Es ist an der Zeit, etwas Neues zu tun!\n",
    "\n",
    "Mit Vektoren können wir komplexere Zustände als nur $|0\\rangle$ und $|1\\rangle$ beschreiben.\n",
    "Betrachten Sie zum Beispiel den Vektor\n",
    "\n",
    "$$ |q_0\\rangle = \\begin{bmatrix} \\tfrac{1}{\\sqrt{2}} \\\\ \\tfrac{i}{\\sqrt{2}} \\end{bmatrix}.$$\n",
    "\n",
    "Um zu verstehen, was dieser Zustand bedeutet, müssen wir die mathematischen Regeln für die Manipulation von Vektoren anwenden.\n",
    "Insbesondere müssen wir verstehen, wie man Vektoren addiert und wie man sie mit Skalaren multipliziert.\n",
    "\n",
    "<p>\n",
    "    <details>\n",
    "    <summary>Reminder: Matrixaddition und Multiplikation mit Skalaren (Klick hier für Vergrößerung)</summary>\n",
    "    <p>\n",
    "        Um zwei Vektoren zu addieren, addieren wir ihre Elemente zusammen:\n",
    "        $$ \n",
    "            |a\\rangle = \\begin{bmatrix}a_0 \\\\ a_1 \\\\ \\vdots \\\\ a_n \\end{bmatrix}, \\quad\n",
    "            |b\\rangle = \\begin{bmatrix}b_0 \\\\ b_1 \\\\ \\vdots \\\\ b_n \\end{bmatrix}\n",
    "        $$\n",
    "        $$ |a\\rangle + |b\\rangle = \\begin{bmatrix}a_0 + b_0 \\\\ a_1 + b_1 \\\\ \\vdots \\\\ a_n + b_n \\end{bmatrix} $$\n",
    "    </p>\n",
    "    <p>\n",
    "        Und um einen Vektor mit einem Skalar zu multiplizieren, multiplizieren wir jedes Element mit dem Skalar:\n",
    "        $$ x|a\\rangle = \\begin{bmatrix}x \\times a_0 \\\\ x \\times  a_1 \\\\ \\vdots \\\\ x \\times  a_n \\end{bmatrix} $$\n",
    "    </p>\n",
    "    <p>\n",
    "        Mit diesen beiden Regeln lässt sich der Vektor $|q_0\\rangle$ (wie oben gezeigt) umschreiben:\n",
    "        $$\n",
    "        \\begin{aligned} \n",
    "            |q_0\\rangle & = \\tfrac{1}{\\sqrt{2}}|0\\rangle + \\tfrac{i}{\\sqrt{2}}|1\\rangle \\\\\n",
    "                        & = \\tfrac{1}{\\sqrt{2}}\\begin{bmatrix}1\\\\0\\end{bmatrix} + \n",
    "                            \\tfrac{i}{\\sqrt{2}}\\begin{bmatrix}0\\\\1\\end{bmatrix}\\\\\n",
    "                        & = \\begin{bmatrix}\\tfrac{1}{\\sqrt{2}}\\\\0\\end{bmatrix} + \n",
    "                            \\begin{bmatrix}0\\\\\\tfrac{i}{\\sqrt{2}}\\end{bmatrix}\\\\\n",
    "                        & = \\begin{bmatrix}\\tfrac{1}{\\sqrt{2}} \\\\ \\tfrac{i}{\\sqrt{2}} \\end{bmatrix}\\\\\n",
    "        \\end{aligned}\n",
    "        $$\n",
    "    </details>\n",
    "</p>\n",
    "<p>\n",
    "    <details>\n",
    "    <summary>\n",
    "        Erinnerung: Orthonormalbasen (Klicken Sie hier, um zu erweitern)\n",
    "    </summary>\n",
    "    <p>\n",
    "        Es wurde bereits gesagt, dass die beiden Vektoren $|0\\rangle$ und $|1\\rangle$ orthonormal sind, das heißt, sie sind beide <i>orthogonal</i> und <i>normalisiert</i>. Orthogonal bedeutet, dass die Vektoren im rechten Winkel zueinander stehen:\n",
    "    </p>\n",
    "    <p>\n",
    "        <img src=\"../assets/02-Quantenzustaende_LineareAlgebraI/basis.svg\">\n",
    "    </p>\n",
    "    <p>\n",
    "        Und normalisiert bedeutet, dass ihre Beträge (Länge des Pfeils) gleich 1 sind. \n",
    "        Die beiden Vektoren $|0\\rangle$ und $|1\\rangle$ sind <i>linear unabhängig</i>, das heißt, wir können $|0\\rangle$ nicht durch $|1\\rangle$ beschreiben und umgekehrt. \n",
    "        Mit Hilfe der beiden Vektoren $|0\\rangle$ und $|1\\rangle$ und unseren Regeln der Addition und Multiplikation mit Skalaren können wir jedoch alle möglichen Vektoren im 2D-Raum beschreiben:\n",
    "    </p>\n",
    "    <p>\n",
    "        <img src=\"../assets/02-Quantenzustaende_LineareAlgebraI/basis2.svg\">\n",
    "    </p>\n",
    "    <p>\n",
    "        Da die Vektoren $|0\\rangle$ und $|1\\rangle$ linear unabhängig sind und mit Hilfe von Vektoraddition und Skalarmultiplikation jeden beliebigen Vektor im 2D-Raum beschreiben können, sagen wir, die Vektoren $|0\\rangle$ und $|1\\rangle$ bilden eine <i>Basis</i>. \n",
    "        Da sie in diesem Fall beide orthogonal und normalisiert sind, nennen wir sie eine <i>orthonormale Basis</i>.\n",
    "    </details>\n",
    "</p>\n",
    "\n",
    "Da die Zustände $|0\\rangle$ und $|1\\rangle$ eine orthonormale Basis bilden, können wir jeden 2D-Vektor mit einer Kombination aus diesen beiden Zuständen darstellen. \n",
    "Dies erlaubt uns, den Zustand unseres Qubits in der alternativen Form zu schreiben:\n",
    "\n",
    "$$ |q_0\\rangle = \\tfrac{1}{\\sqrt{2}}|0\\rangle + \\tfrac{i}{\\sqrt{2}}|1\\rangle $$\n",
    "\n",
    "Dieser Vektor, $|q_0\\rangle$, wird der Zustandsvektor des Qubits genannt, er sagt uns alles, was wir über dieses Qubit wissen können. \n",
    "Im Moment können wir nur ein paar einfache Schlüsse über dieses spezielle Beispiel eines Zustandsvektors ziehen: Er ist nicht ganz $|0\\rangle$ und nicht ganz $|1\\rangle$.\n",
    "Stattdessen wird er durch eine Linearkombination aus beiden beschrieben. \n",
    "In der Quantenmechanik beschreiben wir solche Linearkombinationen typischerweise mit dem Wort \"Superposition\".\n",
    "\n",
    "Obwohl unser Beispielzustand $|q_0\\rangle$ als eine Superposition von $|0\\rangle$ und $|1\\rangle$ ausgedrückt werden kann, ist er nicht weniger ein eindeutiger und wohldefinierter Qubit-Zustand als diese.\n",
    "Um dies zu sehen, können wir beginnen zu erforschen, wie ein Qubit manipuliert werden kann.\n",
    "\n",
    "### 1.3 Qubits mit Qiskit erforschen <a id=\"exploring-qubits\"></a>\n",
    "\n",
    "Zuerst müssen wir alle Werkzeuge importieren, die wir benötigen:"
   ]
  },
  {
   "cell_type": "code",
   "execution_count": 15,
   "metadata": {},
   "outputs": [],
   "source": [
    "from qiskit import QuantumCircuit, execute, Aer, QiskitError\n",
    "from qiskit.visualization import plot_histogram, plot_bloch_vector\n",
    "from math import sqrt, pi"
   ]
  },
  {
   "cell_type": "markdown",
   "metadata": {},
   "source": [
    "In Qiskit verwenden wir das Objekt `QuantumCircuit`, um unsere Schaltungen zu speichern.\n",
    "Dies ist im Wesentlichen eine Liste der Quantenoperationen auf unserer Schaltung und der Qubits, auf welche die angewendet werden."
   ]
  },
  {
   "cell_type": "code",
   "execution_count": 3,
   "metadata": {},
   "outputs": [],
   "source": [
    "qc = QuantumCircuit(1) # Erstellen einer Quantenschaltung mit einem Qubit"
   ]
  },
  {
   "cell_type": "markdown",
   "metadata": {},
   "source": [
    "In unseren Quantenschaltungen beginnen unsere Qubits immer mit dem Zustand $|0\\rangle$.\n",
    "Mit der Methode `initialize()` können wir diesen in einen beliebigen Zustand überführen. \n",
    "Wir geben `initialize()` den gewünschten Vektor in Form einer Liste und sagen ihm, welche(s) Qubit(s) wir in diesem Zustand initialisieren wollen:"
   ]
  },
  {
   "cell_type": "code",
   "execution_count": 4,
   "metadata": {},
   "outputs": [
    {
     "output_type": "execute_result",
     "data": {
      "text/plain": [
       "<Figure size 133.526x84.28 with 1 Axes>"
      ],
      "image/svg+xml": "<?xml version=\"1.0\" encoding=\"utf-8\" standalone=\"no\"?>\n<!DOCTYPE svg PUBLIC \"-//W3C//DTD SVG 1.1//EN\"\n  \"http://www.w3.org/Graphics/SVG/1.1/DTD/svg11.dtd\">\n<!-- Created with matplotlib (https://matplotlib.org/) -->\n<svg height=\"78.0314pt\" version=\"1.1\" viewBox=\"0 0 115.212136 78.0314\" width=\"115.212136pt\" xmlns=\"http://www.w3.org/2000/svg\" xmlns:xlink=\"http://www.w3.org/1999/xlink\">\n <metadata>\n  <rdf:RDF xmlns:cc=\"http://creativecommons.org/ns#\" xmlns:dc=\"http://purl.org/dc/elements/1.1/\" xmlns:rdf=\"http://www.w3.org/1999/02/22-rdf-syntax-ns#\">\n   <cc:Work>\n    <dc:type rdf:resource=\"http://purl.org/dc/dcmitype/StillImage\"/>\n    <dc:date>2021-06-15T08:54:48.308982</dc:date>\n    <dc:format>image/svg+xml</dc:format>\n    <dc:creator>\n     <cc:Agent>\n      <dc:title>Matplotlib v3.3.4, https://matplotlib.org/</dc:title>\n     </cc:Agent>\n    </dc:creator>\n   </cc:Work>\n  </rdf:RDF>\n </metadata>\n <defs>\n  <style type=\"text/css\">*{stroke-linecap:butt;stroke-linejoin:round;}</style>\n </defs>\n <g id=\"figure_1\">\n  <g id=\"patch_1\">\n   <path d=\"M 0 78.0314 \nL 115.212136 78.0314 \nL 115.212136 0 \nL 0 0 \nz\n\" style=\"fill:#ffffff;\"/>\n  </g>\n  <g id=\"axes_1\">\n   <g id=\"line2d_1\">\n    <path clip-path=\"url(#pd9a28f6290)\" d=\"M 53.470936 43.5608 \nL 103.467036 43.5608 \n\" style=\"fill:none;stroke:#000000;stroke-linecap:square;stroke-width:2;\"/>\n   </g>\n   <g id=\"patch_2\">\n    <path clip-path=\"url(#pd9a28f6290)\" d=\"M 63.242901 58.332375 \nL 92.786051 58.332375 \nL 92.786051 28.789225 \nL 63.242901 28.789225 \nz\n\" style=\"fill:#bb8bff;stroke:#bb8bff;stroke-linejoin:miter;stroke-width:1.5;\"/>\n   </g>\n   <g id=\"text_1\">\n    <g clip-path=\"url(#pd9a28f6290)\">\n     <!-- $|\\psi\\rangle$ -->\n     <g transform=\"translate(68.979476 42.574328)scale(0.13 -0.13)\">\n      <defs>\n       <path d=\"M 21 76.421875 \nL 21 -23.578125 \nL 12.703125 -23.578125 \nL 12.703125 76.421875 \nz\n\" id=\"DejaVuSans-124\"/>\n       <path d=\"M 24.859375 -1.21875 \nQ 13.921875 0.59375 9.625 5.328125 \nQ 4.34375 11.140625 6.640625 23 \nL 12.796875 54.6875 \nL 21.875 54.6875 \nL 15.765625 23.34375 \nQ 14.0625 14.40625 17.484375 10.6875 \nQ 20.515625 7.46875 26.421875 6.78125 \nL 35.6875 54.6875 \nL 44.625 54.6875 \nL 35.359375 6.84375 \nQ 41.890625 7.515625 45.75 10.75 \nQ 50.734375 14.84375 52.390625 23.390625 \nL 58.453125 54.6875 \nL 67.53125 54.6875 \nL 61.375 23.046875 \nQ 58.984375 10.75 51.5625 5.375 \nQ 44.875 0.53125 33.796875 -1.171875 \nL 29.984375 -20.796875 \nL 21.046875 -20.796875 \nz\n\" id=\"DejaVuSans-Oblique-968\"/>\n       <path d=\"M 30.078125 31.34375 \nL 16.3125 -13.1875 \nL 8.015625 -13.1875 \nL 21.78125 31.34375 \nL 8.015625 75.875 \nL 16.3125 75.875 \nz\n\" id=\"DejaVuSans-10217\"/>\n      </defs>\n      <use transform=\"translate(0 0.578125)\" xlink:href=\"#DejaVuSans-124\"/>\n      <use transform=\"translate(33.691406 0.578125)\" xlink:href=\"#DejaVuSans-Oblique-968\"/>\n      <use transform=\"translate(99.658203 0.578125)\" xlink:href=\"#DejaVuSans-10217\"/>\n     </g>\n    </g>\n   </g>\n   <g id=\"text_2\">\n    <g clip-path=\"url(#pd9a28f6290)\">\n     <!-- $[0, 1]$ -->\n     <g transform=\"translate(67.734476 54.631245)scale(0.08 -0.08)\">\n      <defs>\n       <path d=\"M 8.59375 75.984375 \nL 29.296875 75.984375 \nL 29.296875 69 \nL 17.578125 69 \nL 17.578125 -6.203125 \nL 29.296875 -6.203125 \nL 29.296875 -13.1875 \nL 8.59375 -13.1875 \nz\n\" id=\"DejaVuSans-91\"/>\n       <path d=\"M 31.78125 66.40625 \nQ 24.171875 66.40625 20.328125 58.90625 \nQ 16.5 51.421875 16.5 36.375 \nQ 16.5 21.390625 20.328125 13.890625 \nQ 24.171875 6.390625 31.78125 6.390625 \nQ 39.453125 6.390625 43.28125 13.890625 \nQ 47.125 21.390625 47.125 36.375 \nQ 47.125 51.421875 43.28125 58.90625 \nQ 39.453125 66.40625 31.78125 66.40625 \nz\nM 31.78125 74.21875 \nQ 44.046875 74.21875 50.515625 64.515625 \nQ 56.984375 54.828125 56.984375 36.375 \nQ 56.984375 17.96875 50.515625 8.265625 \nQ 44.046875 -1.421875 31.78125 -1.421875 \nQ 19.53125 -1.421875 13.0625 8.265625 \nQ 6.59375 17.96875 6.59375 36.375 \nQ 6.59375 54.828125 13.0625 64.515625 \nQ 19.53125 74.21875 31.78125 74.21875 \nz\n\" id=\"DejaVuSans-48\"/>\n       <path d=\"M 11.71875 12.40625 \nL 22.015625 12.40625 \nL 22.015625 4 \nL 14.015625 -11.625 \nL 7.71875 -11.625 \nL 11.71875 4 \nz\n\" id=\"DejaVuSans-44\"/>\n       <path d=\"M 12.40625 8.296875 \nL 28.515625 8.296875 \nL 28.515625 63.921875 \nL 10.984375 60.40625 \nL 10.984375 69.390625 \nL 28.421875 72.90625 \nL 38.28125 72.90625 \nL 38.28125 8.296875 \nL 54.390625 8.296875 \nL 54.390625 0 \nL 12.40625 0 \nz\n\" id=\"DejaVuSans-49\"/>\n       <path d=\"M 30.421875 75.984375 \nL 30.421875 -13.1875 \nL 9.71875 -13.1875 \nL 9.71875 -6.203125 \nL 21.390625 -6.203125 \nL 21.390625 69 \nL 9.71875 69 \nL 9.71875 75.984375 \nz\n\" id=\"DejaVuSans-93\"/>\n      </defs>\n      <use transform=\"translate(0 0.015625)\" xlink:href=\"#DejaVuSans-91\"/>\n      <use transform=\"translate(39.013672 0.015625)\" xlink:href=\"#DejaVuSans-48\"/>\n      <use transform=\"translate(102.636719 0.015625)\" xlink:href=\"#DejaVuSans-44\"/>\n      <use transform=\"translate(153.90625 0.015625)\" xlink:href=\"#DejaVuSans-49\"/>\n      <use transform=\"translate(217.529297 0.015625)\" xlink:href=\"#DejaVuSans-93\"/>\n     </g>\n    </g>\n   </g>\n   <g id=\"text_3\">\n    <g clip-path=\"url(#pd9a28f6290)\">\n     <!-- q -->\n     <g transform=\"translate(34.064525 48.044784)scale(0.1625 -0.1625)\">\n      <defs>\n       <path d=\"M 14.796875 27.296875 \nQ 14.796875 17.390625 18.875 11.75 \nQ 22.953125 6.109375 30.078125 6.109375 \nQ 37.203125 6.109375 41.296875 11.75 \nQ 45.40625 17.390625 45.40625 27.296875 \nQ 45.40625 37.203125 41.296875 42.84375 \nQ 37.203125 48.484375 30.078125 48.484375 \nQ 22.953125 48.484375 18.875 42.84375 \nQ 14.796875 37.203125 14.796875 27.296875 \nz\nM 45.40625 8.203125 \nQ 42.578125 3.328125 38.25 0.953125 \nQ 33.9375 -1.421875 27.875 -1.421875 \nQ 17.96875 -1.421875 11.734375 6.484375 \nQ 5.515625 14.40625 5.515625 27.296875 \nQ 5.515625 40.1875 11.734375 48.09375 \nQ 17.96875 56 27.875 56 \nQ 33.9375 56 38.25 53.625 \nQ 42.578125 51.265625 45.40625 46.390625 \nL 45.40625 54.6875 \nL 54.390625 54.6875 \nL 54.390625 -20.796875 \nL 45.40625 -20.796875 \nz\n\" id=\"DejaVuSans-113\"/>\n      </defs>\n      <use xlink:href=\"#DejaVuSans-113\"/>\n     </g>\n    </g>\n   </g>\n  </g>\n </g>\n <defs>\n  <clipPath id=\"pd9a28f6290\">\n   <rect height=\"63.6314\" width=\"100.812136\" x=\"7.2\" y=\"7.2\"/>\n  </clipPath>\n </defs>\n</svg>\n",
      "image/png": "[encoded data removed]"
     },
     "metadata": {},
     "execution_count": 4
    }
   ],
   "source": [
    "qc = QuantumCircuit(1) # Erzeugen einer Quantenschaltung mit einem Qubit\n",
    "initial_state = [0,1] # Definieren Sie initial_state als |1>\n",
    "qc.initialize(initial_state, 0) # Initialisierungs-Operation auf das 0te Qubit anwenden\n",
    "qc.draw(\"mpl\") # Lassen Sie uns unsere Schaltung betrachten"
   ]
  },
  {
   "cell_type": "markdown",
   "metadata": {},
   "source": [
    "Wir können dann einen der Simulatoren von Qiskit verwenden, um den resultierenden Zustand unseres Qubits zu betrachten. \n",
    "Für den Anfang werden wir den Zustandsvektor-Simulator verwenden, aber wir werden die verschiedenen Simulatoren und ihre Verwendung später erklären."
   ]
  },
  {
   "cell_type": "code",
   "execution_count": 5,
   "metadata": {},
   "outputs": [],
   "source": [
    "backend = Aer.get_backend('statevector_simulator') # Qiskit mitteilen, wie unsere Schaltung simuliert werden soll"
   ]
  },
  {
   "cell_type": "markdown",
   "metadata": {},
   "source": [
    "Um die Ergebnisse unserer Schaltung zu erhalten, verwenden wir `execute`, um unsere Schaltung auszuführen, wobei wir die Schaltung und das Backend als Argumente angeben. \n",
    "Wir verwenden dann `.result()`, um das Ergebnis zu erhalten:"
   ]
  },
  {
   "cell_type": "code",
   "execution_count": 6,
   "metadata": {},
   "outputs": [],
   "source": [
    "qc = QuantumCircuit(1) # Erzeugen einer Quantenschaltung mit einem Qubit\n",
    "initial_state = [0,1] # Definieren Sie initial_state als |1>\n",
    "qc.initialize(initial_state, 0) # Initialisierungsoperation auf das 0. Qubit anwenden\n",
    "result = execute(qc,backend).result() # Führt die Simulation durch und gibt das Ergebnis zurück"
   ]
  },
  {
   "cell_type": "markdown",
   "metadata": {},
   "source": [
    "von `result`, können wir dann den endgültigen Zustandsvektor mit `.get_statevector()` erhalten:"
   ]
  },
  {
   "cell_type": "code",
   "execution_count": 7,
   "metadata": {},
   "outputs": [
    {
     "output_type": "stream",
     "name": "stdout",
     "text": [
      "[0.+0.j 1.+0.j]\n"
     ]
    }
   ],
   "source": [
    "qc = QuantumCircuit(1) # Erzeugen einer Quantenschaltung mit einem Qubit\n",
    "initial_state = [0,1] # Definieren Sie initial_state als |1>\n",
    "qc.initialize(initial_state, 0) # Initialisierungsoperation auf das 0. Qubit anwenden\n",
    "result = execute(qc,backend).result() # Führt die Simulation durch und gibt das Ergebnis zurück\n",
    "out_state = result.get_statevector()\n",
    "print(out_state) # Den ausgegebenen Zustandsvektor anzeigen"
   ]
  },
  {
   "cell_type": "markdown",
   "metadata": {},
   "source": [
    "**Hinweis:** \\\n",
    "Python verwendet `j` zur Darstellung von $i$ in komplexen Zahlen.\n",
    "Wir sehen einen Vektor mit zwei komplexen Elementen: `0.+0.j` = 0, und `1.+0.j` = 1.\n",
    "\n",
    "Lassen Sie uns nun unser Qubit wie in einem echten Quantencomputer messen und das Ergebnis sehen:"
   ]
  },
  {
   "cell_type": "code",
   "execution_count": 8,
   "metadata": {},
   "outputs": [
    {
     "output_type": "execute_result",
     "data": {
      "text/plain": [
       "<Figure size 297.479x144.48 with 1 Axes>"
      ],
      "image/svg+xml": "<?xml version=\"1.0\" encoding=\"utf-8\" standalone=\"no\"?>\n<!DOCTYPE svg PUBLIC \"-//W3C//DTD SVG 1.1//EN\"\n  \"http://www.w3.org/Graphics/SVG/1.1/DTD/svg11.dtd\">\n<!-- Created with matplotlib (https://matplotlib.org/) -->\n<svg height=\"123.4824pt\" version=\"1.1\" viewBox=\"0 0 238.996344 123.4824\" width=\"238.996344pt\" xmlns=\"http://www.w3.org/2000/svg\" xmlns:xlink=\"http://www.w3.org/1999/xlink\">\n <metadata>\n  <rdf:RDF xmlns:cc=\"http://creativecommons.org/ns#\" xmlns:dc=\"http://purl.org/dc/elements/1.1/\" xmlns:rdf=\"http://www.w3.org/1999/02/22-rdf-syntax-ns#\">\n   <cc:Work>\n    <dc:type rdf:resource=\"http://purl.org/dc/dcmitype/StillImage\"/>\n    <dc:date>2021-06-15T08:54:48.715444</dc:date>\n    <dc:format>image/svg+xml</dc:format>\n    <dc:creator>\n     <cc:Agent>\n      <dc:title>Matplotlib v3.3.4, https://matplotlib.org/</dc:title>\n     </cc:Agent>\n    </dc:creator>\n   </cc:Work>\n  </rdf:RDF>\n </metadata>\n <defs>\n  <style type=\"text/css\">*{stroke-linecap:butt;stroke-linejoin:round;}</style>\n </defs>\n <g id=\"figure_1\">\n  <g id=\"patch_1\">\n   <path d=\"M 0 123.4824 \nL 238.996344 123.4824 \nL 238.996344 0 \nL 0 0 \nz\n\" style=\"fill:#ffffff;\"/>\n  </g>\n  <g id=\"axes_1\">\n   <g id=\"patch_2\">\n    <path clip-path=\"url(#p0c78ba6fa7)\" d=\"M 195.890054 78.671697 \nL 207.707314 78.671697 \nL 201.798684 87.19376 \nz\n\" style=\"fill:#778899;\"/>\n   </g>\n   <g id=\"line2d_1\">\n    <path clip-path=\"url(#p0c78ba6fa7)\" d=\"M 86.353144 43.5608 \nL 227.251244 43.5608 \n\" style=\"fill:none;stroke:#000000;stroke-linecap:square;stroke-width:2;\"/>\n   </g>\n   <g id=\"line2d_2\">\n    <path clip-path=\"url(#p0c78ba6fa7)\" d=\"M 86.353144 87.534642 \nL 227.251244 87.534642 \n\" style=\"fill:none;stroke:#778899;stroke-linecap:square;stroke-width:2;\"/>\n   </g>\n   <g id=\"line2d_3\">\n    <path clip-path=\"url(#p0c78ba6fa7)\" d=\"M 86.353144 90.488957 \nL 227.251244 90.488957 \n\" style=\"fill:none;stroke:#778899;stroke-linecap:square;stroke-width:2;\"/>\n   </g>\n   <g id=\"patch_3\">\n    <path clip-path=\"url(#p0c78ba6fa7)\" d=\"M 147.484739 66.2863 \nL 165.210629 66.2863 \nL 165.210629 20.8353 \nL 147.484739 20.8353 \nz\n\" style=\"fill:#bdbdbd;opacity:0.6;\"/>\n   </g>\n   <g id=\"line2d_4\">\n    <path clip-path=\"url(#p0c78ba6fa7)\" d=\"M 203.275841 43.5608 \nL 203.275841 78.671697 \n\" style=\"fill:none;stroke:#778899;stroke-linecap:square;stroke-width:2;\"/>\n   </g>\n   <g id=\"line2d_5\">\n    <path clip-path=\"url(#p0c78ba6fa7)\" d=\"M 200.321526 43.5608 \nL 200.321526 78.671697 \n\" style=\"fill:none;stroke:#778899;stroke-linecap:square;stroke-width:2;\"/>\n   </g>\n   <g id=\"patch_4\">\n    <path clip-path=\"url(#p0c78ba6fa7)\" d=\"M 96.125109 58.332375 \nL 125.668259 58.332375 \nL 125.668259 28.789225 \nL 96.125109 28.789225 \nz\n\" style=\"fill:#bb8bff;stroke:#bb8bff;stroke-linejoin:miter;stroke-width:1.5;\"/>\n   </g>\n   <g id=\"patch_5\">\n    <path clip-path=\"url(#p0c78ba6fa7)\" d=\"M 187.027109 58.332375 \nL 216.570259 58.332375 \nL 216.570259 28.789225 \nL 187.027109 28.789225 \nz\n\" style=\"stroke:#000000;stroke-linejoin:miter;stroke-width:1.5;\"/>\n   </g>\n   <g id=\"patch_6\">\n    <path clip-path=\"url(#p0c78ba6fa7)\" d=\"M 212.138786 47.992272 \nC 212.138786 45.250959 211.048642 42.619118 209.11024 40.680716 \nC 207.171839 38.742314 204.539998 37.65217 201.798684 37.65217 \nC 199.05737 37.65217 196.425529 38.742314 194.487127 40.680716 \nC 192.548725 42.619118 191.458581 45.250959 191.458581 47.992272 \n\" style=\"fill:none;stroke:#ffffff;stroke-linejoin:miter;stroke-width:2;\"/>\n   </g>\n   <g id=\"line2d_6\">\n    <path clip-path=\"url(#p0c78ba6fa7)\" d=\"M 201.798684 47.992272 \nL 212.138786 37.65217 \n\" style=\"fill:none;stroke:#ffffff;stroke-linecap:square;stroke-width:2;\"/>\n   </g>\n   <g id=\"line2d_7\">\n    <path clip-path=\"url(#p0c78ba6fa7)\" d=\"M 156.347684 20.8353 \nL 156.347684 66.2863 \n\" style=\"fill:none;stroke:#000000;stroke-dasharray:3.7,1.6;stroke-dashoffset:0;\"/>\n   </g>\n   <g id=\"text_1\">\n    <g clip-path=\"url(#p0c78ba6fa7)\">\n     <!-- $|\\psi\\rangle$ -->\n     <g transform=\"translate(101.861684 42.574327)scale(0.13 -0.13)\">\n      <defs>\n       <path d=\"M 21 76.421875 \nL 21 -23.578125 \nL 12.703125 -23.578125 \nL 12.703125 76.421875 \nz\n\" id=\"DejaVuSans-124\"/>\n       <path d=\"M 24.859375 -1.21875 \nQ 13.921875 0.59375 9.625 5.328125 \nQ 4.34375 11.140625 6.640625 23 \nL 12.796875 54.6875 \nL 21.875 54.6875 \nL 15.765625 23.34375 \nQ 14.0625 14.40625 17.484375 10.6875 \nQ 20.515625 7.46875 26.421875 6.78125 \nL 35.6875 54.6875 \nL 44.625 54.6875 \nL 35.359375 6.84375 \nQ 41.890625 7.515625 45.75 10.75 \nQ 50.734375 14.84375 52.390625 23.390625 \nL 58.453125 54.6875 \nL 67.53125 54.6875 \nL 61.375 23.046875 \nQ 58.984375 10.75 51.5625 5.375 \nQ 44.875 0.53125 33.796875 -1.171875 \nL 29.984375 -20.796875 \nL 21.046875 -20.796875 \nz\n\" id=\"DejaVuSans-Oblique-968\"/>\n       <path d=\"M 30.078125 31.34375 \nL 16.3125 -13.1875 \nL 8.015625 -13.1875 \nL 21.78125 31.34375 \nL 8.015625 75.875 \nL 16.3125 75.875 \nz\n\" id=\"DejaVuSans-10217\"/>\n      </defs>\n      <use transform=\"translate(0 0.578125)\" xlink:href=\"#DejaVuSans-124\"/>\n      <use transform=\"translate(33.691406 0.578125)\" xlink:href=\"#DejaVuSans-Oblique-968\"/>\n      <use transform=\"translate(99.658203 0.578125)\" xlink:href=\"#DejaVuSans-10217\"/>\n     </g>\n    </g>\n   </g>\n   <g id=\"text_2\">\n    <g clip-path=\"url(#p0c78ba6fa7)\">\n     <!-- $[0, 1]$ -->\n     <g transform=\"translate(100.616684 54.631245)scale(0.08 -0.08)\">\n      <defs>\n       <path d=\"M 8.59375 75.984375 \nL 29.296875 75.984375 \nL 29.296875 69 \nL 17.578125 69 \nL 17.578125 -6.203125 \nL 29.296875 -6.203125 \nL 29.296875 -13.1875 \nL 8.59375 -13.1875 \nz\n\" id=\"DejaVuSans-91\"/>\n       <path d=\"M 31.78125 66.40625 \nQ 24.171875 66.40625 20.328125 58.90625 \nQ 16.5 51.421875 16.5 36.375 \nQ 16.5 21.390625 20.328125 13.890625 \nQ 24.171875 6.390625 31.78125 6.390625 \nQ 39.453125 6.390625 43.28125 13.890625 \nQ 47.125 21.390625 47.125 36.375 \nQ 47.125 51.421875 43.28125 58.90625 \nQ 39.453125 66.40625 31.78125 66.40625 \nz\nM 31.78125 74.21875 \nQ 44.046875 74.21875 50.515625 64.515625 \nQ 56.984375 54.828125 56.984375 36.375 \nQ 56.984375 17.96875 50.515625 8.265625 \nQ 44.046875 -1.421875 31.78125 -1.421875 \nQ 19.53125 -1.421875 13.0625 8.265625 \nQ 6.59375 17.96875 6.59375 36.375 \nQ 6.59375 54.828125 13.0625 64.515625 \nQ 19.53125 74.21875 31.78125 74.21875 \nz\n\" id=\"DejaVuSans-48\"/>\n       <path d=\"M 11.71875 12.40625 \nL 22.015625 12.40625 \nL 22.015625 4 \nL 14.015625 -11.625 \nL 7.71875 -11.625 \nL 11.71875 4 \nz\n\" id=\"DejaVuSans-44\"/>\n       <path d=\"M 12.40625 8.296875 \nL 28.515625 8.296875 \nL 28.515625 63.921875 \nL 10.984375 60.40625 \nL 10.984375 69.390625 \nL 28.421875 72.90625 \nL 38.28125 72.90625 \nL 38.28125 8.296875 \nL 54.390625 8.296875 \nL 54.390625 0 \nL 12.40625 0 \nz\n\" id=\"DejaVuSans-49\"/>\n       <path d=\"M 30.421875 75.984375 \nL 30.421875 -13.1875 \nL 9.71875 -13.1875 \nL 9.71875 -6.203125 \nL 21.390625 -6.203125 \nL 21.390625 69 \nL 9.71875 69 \nL 9.71875 75.984375 \nz\n\" id=\"DejaVuSans-93\"/>\n      </defs>\n      <use transform=\"translate(0 0.015625)\" xlink:href=\"#DejaVuSans-91\"/>\n      <use transform=\"translate(39.013672 0.015625)\" xlink:href=\"#DejaVuSans-48\"/>\n      <use transform=\"translate(102.636719 0.015625)\" xlink:href=\"#DejaVuSans-44\"/>\n      <use transform=\"translate(153.90625 0.015625)\" xlink:href=\"#DejaVuSans-49\"/>\n      <use transform=\"translate(217.529297 0.015625)\" xlink:href=\"#DejaVuSans-93\"/>\n     </g>\n    </g>\n   </g>\n   <g id=\"text_3\">\n    <g clip-path=\"url(#p0c78ba6fa7)\">\n     <!-- 0 -->\n     <g transform=\"translate(213.161434 82.303825)scale(0.104 -0.104)\">\n      <use xlink:href=\"#DejaVuSans-48\"/>\n     </g>\n    </g>\n   </g>\n   <g id=\"text_4\">\n    <g clip-path=\"url(#p0c78ba6fa7)\">\n     <!-- q -->\n     <g transform=\"translate(66.946733 48.044784)scale(0.1625 -0.1625)\">\n      <defs>\n       <path d=\"M 14.796875 27.296875 \nQ 14.796875 17.390625 18.875 11.75 \nQ 22.953125 6.109375 30.078125 6.109375 \nQ 37.203125 6.109375 41.296875 11.75 \nQ 45.40625 17.390625 45.40625 27.296875 \nQ 45.40625 37.203125 41.296875 42.84375 \nQ 37.203125 48.484375 30.078125 48.484375 \nQ 22.953125 48.484375 18.875 42.84375 \nQ 14.796875 37.203125 14.796875 27.296875 \nz\nM 45.40625 8.203125 \nQ 42.578125 3.328125 38.25 0.953125 \nQ 33.9375 -1.421875 27.875 -1.421875 \nQ 17.96875 -1.421875 11.734375 6.484375 \nQ 5.515625 14.40625 5.515625 27.296875 \nQ 5.515625 40.1875 11.734375 48.09375 \nQ 17.96875 56 27.875 56 \nQ 33.9375 56 38.25 53.625 \nQ 42.578125 51.265625 45.40625 46.390625 \nL 45.40625 54.6875 \nL 54.390625 54.6875 \nL 54.390625 -20.796875 \nL 45.40625 -20.796875 \nz\n\" id=\"DejaVuSans-113\"/>\n      </defs>\n      <use xlink:href=\"#DejaVuSans-113\"/>\n     </g>\n    </g>\n   </g>\n   <g id=\"text_5\">\n    <g clip-path=\"url(#p0c78ba6fa7)\">\n     <!-- meas -->\n     <g transform=\"translate(33.012163 93.495784)scale(0.1625 -0.1625)\">\n      <defs>\n       <path d=\"M 52 44.1875 \nQ 55.375 50.25 60.0625 53.125 \nQ 64.75 56 71.09375 56 \nQ 79.640625 56 84.28125 50.015625 \nQ 88.921875 44.046875 88.921875 33.015625 \nL 88.921875 0 \nL 79.890625 0 \nL 79.890625 32.71875 \nQ 79.890625 40.578125 77.09375 44.375 \nQ 74.3125 48.1875 68.609375 48.1875 \nQ 61.625 48.1875 57.5625 43.546875 \nQ 53.515625 38.921875 53.515625 30.90625 \nL 53.515625 0 \nL 44.484375 0 \nL 44.484375 32.71875 \nQ 44.484375 40.625 41.703125 44.40625 \nQ 38.921875 48.1875 33.109375 48.1875 \nQ 26.21875 48.1875 22.15625 43.53125 \nQ 18.109375 38.875 18.109375 30.90625 \nL 18.109375 0 \nL 9.078125 0 \nL 9.078125 54.6875 \nL 18.109375 54.6875 \nL 18.109375 46.1875 \nQ 21.1875 51.21875 25.484375 53.609375 \nQ 29.78125 56 35.6875 56 \nQ 41.65625 56 45.828125 52.96875 \nQ 50 49.953125 52 44.1875 \nz\n\" id=\"DejaVuSans-109\"/>\n       <path d=\"M 56.203125 29.59375 \nL 56.203125 25.203125 \nL 14.890625 25.203125 \nQ 15.484375 15.921875 20.484375 11.0625 \nQ 25.484375 6.203125 34.421875 6.203125 \nQ 39.59375 6.203125 44.453125 7.46875 \nQ 49.3125 8.734375 54.109375 11.28125 \nL 54.109375 2.78125 \nQ 49.265625 0.734375 44.1875 -0.34375 \nQ 39.109375 -1.421875 33.890625 -1.421875 \nQ 20.796875 -1.421875 13.15625 6.1875 \nQ 5.515625 13.8125 5.515625 26.8125 \nQ 5.515625 40.234375 12.765625 48.109375 \nQ 20.015625 56 32.328125 56 \nQ 43.359375 56 49.78125 48.890625 \nQ 56.203125 41.796875 56.203125 29.59375 \nz\nM 47.21875 32.234375 \nQ 47.125 39.59375 43.09375 43.984375 \nQ 39.0625 48.390625 32.421875 48.390625 \nQ 24.90625 48.390625 20.390625 44.140625 \nQ 15.875 39.890625 15.1875 32.171875 \nz\n\" id=\"DejaVuSans-101\"/>\n       <path d=\"M 34.28125 27.484375 \nQ 23.390625 27.484375 19.1875 25 \nQ 14.984375 22.515625 14.984375 16.5 \nQ 14.984375 11.71875 18.140625 8.90625 \nQ 21.296875 6.109375 26.703125 6.109375 \nQ 34.1875 6.109375 38.703125 11.40625 \nQ 43.21875 16.703125 43.21875 25.484375 \nL 43.21875 27.484375 \nz\nM 52.203125 31.203125 \nL 52.203125 0 \nL 43.21875 0 \nL 43.21875 8.296875 \nQ 40.140625 3.328125 35.546875 0.953125 \nQ 30.953125 -1.421875 24.3125 -1.421875 \nQ 15.921875 -1.421875 10.953125 3.296875 \nQ 6 8.015625 6 15.921875 \nQ 6 25.140625 12.171875 29.828125 \nQ 18.359375 34.515625 30.609375 34.515625 \nL 43.21875 34.515625 \nL 43.21875 35.40625 \nQ 43.21875 41.609375 39.140625 45 \nQ 35.0625 48.390625 27.6875 48.390625 \nQ 23 48.390625 18.546875 47.265625 \nQ 14.109375 46.140625 10.015625 43.890625 \nL 10.015625 52.203125 \nQ 14.9375 54.109375 19.578125 55.046875 \nQ 24.21875 56 28.609375 56 \nQ 40.484375 56 46.34375 49.84375 \nQ 52.203125 43.703125 52.203125 31.203125 \nz\n\" id=\"DejaVuSans-97\"/>\n       <path d=\"M 44.28125 53.078125 \nL 44.28125 44.578125 \nQ 40.484375 46.53125 36.375 47.5 \nQ 32.28125 48.484375 27.875 48.484375 \nQ 21.1875 48.484375 17.84375 46.4375 \nQ 14.5 44.390625 14.5 40.28125 \nQ 14.5 37.15625 16.890625 35.375 \nQ 19.28125 33.59375 26.515625 31.984375 \nL 29.59375 31.296875 \nQ 39.15625 29.25 43.1875 25.515625 \nQ 47.21875 21.78125 47.21875 15.09375 \nQ 47.21875 7.46875 41.1875 3.015625 \nQ 35.15625 -1.421875 24.609375 -1.421875 \nQ 20.21875 -1.421875 15.453125 -0.5625 \nQ 10.6875 0.296875 5.421875 2 \nL 5.421875 11.28125 \nQ 10.40625 8.6875 15.234375 7.390625 \nQ 20.0625 6.109375 24.8125 6.109375 \nQ 31.15625 6.109375 34.5625 8.28125 \nQ 37.984375 10.453125 37.984375 14.40625 \nQ 37.984375 18.0625 35.515625 20.015625 \nQ 33.0625 21.96875 24.703125 23.78125 \nL 21.578125 24.515625 \nQ 13.234375 26.265625 9.515625 29.90625 \nQ 5.8125 33.546875 5.8125 39.890625 \nQ 5.8125 47.609375 11.28125 51.796875 \nQ 16.75 56 26.8125 56 \nQ 31.78125 56 36.171875 55.265625 \nQ 40.578125 54.546875 44.28125 53.078125 \nz\n\" id=\"DejaVuSans-115\"/>\n      </defs>\n      <use xlink:href=\"#DejaVuSans-109\"/>\n      <use x=\"97.412109\" xlink:href=\"#DejaVuSans-101\"/>\n      <use x=\"158.935547\" xlink:href=\"#DejaVuSans-97\"/>\n      <use x=\"220.214844\" xlink:href=\"#DejaVuSans-115\"/>\n     </g>\n    </g>\n   </g>\n  </g>\n </g>\n <defs>\n  <clipPath id=\"p0c78ba6fa7\">\n   <rect height=\"109.0824\" width=\"224.596344\" x=\"7.2\" y=\"7.2\"/>\n  </clipPath>\n </defs>\n</svg>\n",
      "image/png": "[encoded data removed]"
     },
     "metadata": {},
     "execution_count": 8
    }
   ],
   "source": [
    "qc.measure_all()\n",
    "qc.draw(\"mpl\")"
   ]
  },
  {
   "cell_type": "markdown",
   "metadata": {},
   "source": [
    "Diesmal erhalten wir anstelle des Zustandsvektors die Zählerstände für die Ergebnisse `0` und `1` mit `.get_counts()`:"
   ]
  },
  {
   "cell_type": "code",
   "execution_count": 9,
   "metadata": {},
   "outputs": [
    {
     "output_type": "execute_result",
     "data": {
      "text/plain": [
       "<Figure size 504x360 with 1 Axes>"
      ],
      "image/svg+xml": "<?xml version=\"1.0\" encoding=\"utf-8\" standalone=\"no\"?>\n<!DOCTYPE svg PUBLIC \"-//W3C//DTD SVG 1.1//EN\"\n  \"http://www.w3.org/Graphics/SVG/1.1/DTD/svg11.dtd\">\n<!-- Created with matplotlib (https://matplotlib.org/) -->\n<svg height=\"306.204471pt\" version=\"1.1\" viewBox=\"0 0 460.72125 306.204471\" width=\"460.72125pt\" xmlns=\"http://www.w3.org/2000/svg\" xmlns:xlink=\"http://www.w3.org/1999/xlink\">\n <metadata>\n  <rdf:RDF xmlns:cc=\"http://creativecommons.org/ns#\" xmlns:dc=\"http://purl.org/dc/elements/1.1/\" xmlns:rdf=\"http://www.w3.org/1999/02/22-rdf-syntax-ns#\">\n   <cc:Work>\n    <dc:type rdf:resource=\"http://purl.org/dc/dcmitype/StillImage\"/>\n    <dc:date>2021-06-15T08:54:48.916980</dc:date>\n    <dc:format>image/svg+xml</dc:format>\n    <dc:creator>\n     <cc:Agent>\n      <dc:title>Matplotlib v3.3.4, https://matplotlib.org/</dc:title>\n     </cc:Agent>\n    </dc:creator>\n   </cc:Work>\n  </rdf:RDF>\n </metadata>\n <defs>\n  <style type=\"text/css\">*{stroke-linecap:butt;stroke-linejoin:round;}</style>\n </defs>\n <g id=\"figure_1\">\n  <g id=\"patch_1\">\n   <path d=\"M 0 306.204471 \nL 460.72125 306.204471 \nL 460.72125 0 \nL 0 0 \nz\n\" style=\"fill:none;\"/>\n  </g>\n  <g id=\"axes_1\">\n   <g id=\"patch_2\">\n    <path d=\"M 62.92125 279 \nL 453.52125 279 \nL 453.52125 7.2 \nL 62.92125 7.2 \nz\n\" style=\"fill:#ffffff;\"/>\n   </g>\n   <g id=\"matplotlib.axis_1\">\n    <g id=\"xtick_1\">\n     <g id=\"line2d_1\">\n      <defs>\n       <path d=\"M 0 0 \nL 0 3.5 \n\" id=\"me449c7539c\" style=\"stroke:#000000;stroke-width:0.8;\"/>\n      </defs>\n      <g>\n       <use style=\"stroke:#000000;stroke-width:0.8;\" x=\"258.22125\" xlink:href=\"#me449c7539c\" y=\"279\"/>\n      </g>\n     </g>\n     <g id=\"text_1\">\n      <!-- 1 -->\n      <g transform=\"translate(260.328128 298.008658)rotate(-70)scale(0.14 -0.14)\">\n       <defs>\n        <path d=\"M 12.40625 8.296875 \nL 28.515625 8.296875 \nL 28.515625 63.921875 \nL 10.984375 60.40625 \nL 10.984375 69.390625 \nL 28.421875 72.90625 \nL 38.28125 72.90625 \nL 38.28125 8.296875 \nL 54.390625 8.296875 \nL 54.390625 0 \nL 12.40625 0 \nz\n\" id=\"DejaVuSans-49\"/>\n       </defs>\n       <use xlink:href=\"#DejaVuSans-49\"/>\n      </g>\n     </g>\n    </g>\n   </g>\n   <g id=\"matplotlib.axis_2\">\n    <g id=\"ytick_1\">\n     <g id=\"line2d_2\">\n      <path clip-path=\"url(#pcec5c55233)\" d=\"M 62.92125 279 \nL 453.52125 279 \n\" style=\"fill:none;stroke:#b0b0b0;stroke-dasharray:2.96,1.28;stroke-dashoffset:0;stroke-width:0.8;\"/>\n     </g>\n     <g id=\"line2d_3\">\n      <defs>\n       <path d=\"M 0 0 \nL -3.5 0 \n\" id=\"m868939ecc2\" style=\"stroke:#000000;stroke-width:0.8;\"/>\n      </defs>\n      <g>\n       <use style=\"stroke:#000000;stroke-width:0.8;\" x=\"62.92125\" xlink:href=\"#m868939ecc2\" y=\"279\"/>\n      </g>\n     </g>\n     <g id=\"text_2\">\n      <!-- 0.00 -->\n      <g transform=\"translate(24.749375 284.318906)scale(0.14 -0.14)\">\n       <defs>\n        <path d=\"M 31.78125 66.40625 \nQ 24.171875 66.40625 20.328125 58.90625 \nQ 16.5 51.421875 16.5 36.375 \nQ 16.5 21.390625 20.328125 13.890625 \nQ 24.171875 6.390625 31.78125 6.390625 \nQ 39.453125 6.390625 43.28125 13.890625 \nQ 47.125 21.390625 47.125 36.375 \nQ 47.125 51.421875 43.28125 58.90625 \nQ 39.453125 66.40625 31.78125 66.40625 \nz\nM 31.78125 74.21875 \nQ 44.046875 74.21875 50.515625 64.515625 \nQ 56.984375 54.828125 56.984375 36.375 \nQ 56.984375 17.96875 50.515625 8.265625 \nQ 44.046875 -1.421875 31.78125 -1.421875 \nQ 19.53125 -1.421875 13.0625 8.265625 \nQ 6.59375 17.96875 6.59375 36.375 \nQ 6.59375 54.828125 13.0625 64.515625 \nQ 19.53125 74.21875 31.78125 74.21875 \nz\n\" id=\"DejaVuSans-48\"/>\n        <path d=\"M 10.6875 12.40625 \nL 21 12.40625 \nL 21 0 \nL 10.6875 0 \nz\n\" id=\"DejaVuSans-46\"/>\n       </defs>\n       <use xlink:href=\"#DejaVuSans-48\"/>\n       <use x=\"63.623047\" xlink:href=\"#DejaVuSans-46\"/>\n       <use x=\"95.410156\" xlink:href=\"#DejaVuSans-48\"/>\n       <use x=\"159.033203\" xlink:href=\"#DejaVuSans-48\"/>\n      </g>\n     </g>\n    </g>\n    <g id=\"ytick_2\">\n     <g id=\"line2d_4\">\n      <path clip-path=\"url(#pcec5c55233)\" d=\"M 62.92125 222.375 \nL 453.52125 222.375 \n\" style=\"fill:none;stroke:#b0b0b0;stroke-dasharray:2.96,1.28;stroke-dashoffset:0;stroke-width:0.8;\"/>\n     </g>\n     <g id=\"line2d_5\">\n      <g>\n       <use style=\"stroke:#000000;stroke-width:0.8;\" x=\"62.92125\" xlink:href=\"#m868939ecc2\" y=\"222.375\"/>\n      </g>\n     </g>\n     <g id=\"text_3\">\n      <!-- 0.25 -->\n      <g transform=\"translate(24.749375 227.693906)scale(0.14 -0.14)\">\n       <defs>\n        <path d=\"M 19.1875 8.296875 \nL 53.609375 8.296875 \nL 53.609375 0 \nL 7.328125 0 \nL 7.328125 8.296875 \nQ 12.9375 14.109375 22.625 23.890625 \nQ 32.328125 33.6875 34.8125 36.53125 \nQ 39.546875 41.84375 41.421875 45.53125 \nQ 43.3125 49.21875 43.3125 52.78125 \nQ 43.3125 58.59375 39.234375 62.25 \nQ 35.15625 65.921875 28.609375 65.921875 \nQ 23.96875 65.921875 18.8125 64.3125 \nQ 13.671875 62.703125 7.8125 59.421875 \nL 7.8125 69.390625 \nQ 13.765625 71.78125 18.9375 73 \nQ 24.125 74.21875 28.421875 74.21875 \nQ 39.75 74.21875 46.484375 68.546875 \nQ 53.21875 62.890625 53.21875 53.421875 \nQ 53.21875 48.921875 51.53125 44.890625 \nQ 49.859375 40.875 45.40625 35.40625 \nQ 44.1875 33.984375 37.640625 27.21875 \nQ 31.109375 20.453125 19.1875 8.296875 \nz\n\" id=\"DejaVuSans-50\"/>\n        <path d=\"M 10.796875 72.90625 \nL 49.515625 72.90625 \nL 49.515625 64.59375 \nL 19.828125 64.59375 \nL 19.828125 46.734375 \nQ 21.96875 47.46875 24.109375 47.828125 \nQ 26.265625 48.1875 28.421875 48.1875 \nQ 40.625 48.1875 47.75 41.5 \nQ 54.890625 34.8125 54.890625 23.390625 \nQ 54.890625 11.625 47.5625 5.09375 \nQ 40.234375 -1.421875 26.90625 -1.421875 \nQ 22.3125 -1.421875 17.546875 -0.640625 \nQ 12.796875 0.140625 7.71875 1.703125 \nL 7.71875 11.625 \nQ 12.109375 9.234375 16.796875 8.0625 \nQ 21.484375 6.890625 26.703125 6.890625 \nQ 35.15625 6.890625 40.078125 11.328125 \nQ 45.015625 15.765625 45.015625 23.390625 \nQ 45.015625 31 40.078125 35.4375 \nQ 35.15625 39.890625 26.703125 39.890625 \nQ 22.75 39.890625 18.8125 39.015625 \nQ 14.890625 38.140625 10.796875 36.28125 \nz\n\" id=\"DejaVuSans-53\"/>\n       </defs>\n       <use xlink:href=\"#DejaVuSans-48\"/>\n       <use x=\"63.623047\" xlink:href=\"#DejaVuSans-46\"/>\n       <use x=\"95.410156\" xlink:href=\"#DejaVuSans-50\"/>\n       <use x=\"159.033203\" xlink:href=\"#DejaVuSans-53\"/>\n      </g>\n     </g>\n    </g>\n    <g id=\"ytick_3\">\n     <g id=\"line2d_6\">\n      <path clip-path=\"url(#pcec5c55233)\" d=\"M 62.92125 165.75 \nL 453.52125 165.75 \n\" style=\"fill:none;stroke:#b0b0b0;stroke-dasharray:2.96,1.28;stroke-dashoffset:0;stroke-width:0.8;\"/>\n     </g>\n     <g id=\"line2d_7\">\n      <g>\n       <use style=\"stroke:#000000;stroke-width:0.8;\" x=\"62.92125\" xlink:href=\"#m868939ecc2\" y=\"165.75\"/>\n      </g>\n     </g>\n     <g id=\"text_4\">\n      <!-- 0.50 -->\n      <g transform=\"translate(24.749375 171.068906)scale(0.14 -0.14)\">\n       <use xlink:href=\"#DejaVuSans-48\"/>\n       <use x=\"63.623047\" xlink:href=\"#DejaVuSans-46\"/>\n       <use x=\"95.410156\" xlink:href=\"#DejaVuSans-53\"/>\n       <use x=\"159.033203\" xlink:href=\"#DejaVuSans-48\"/>\n      </g>\n     </g>\n    </g>\n    <g id=\"ytick_4\">\n     <g id=\"line2d_8\">\n      <path clip-path=\"url(#pcec5c55233)\" d=\"M 62.92125 109.125 \nL 453.52125 109.125 \n\" style=\"fill:none;stroke:#b0b0b0;stroke-dasharray:2.96,1.28;stroke-dashoffset:0;stroke-width:0.8;\"/>\n     </g>\n     <g id=\"line2d_9\">\n      <g>\n       <use style=\"stroke:#000000;stroke-width:0.8;\" x=\"62.92125\" xlink:href=\"#m868939ecc2\" y=\"109.125\"/>\n      </g>\n     </g>\n     <g id=\"text_5\">\n      <!-- 0.75 -->\n      <g transform=\"translate(24.749375 114.443906)scale(0.14 -0.14)\">\n       <defs>\n        <path d=\"M 8.203125 72.90625 \nL 55.078125 72.90625 \nL 55.078125 68.703125 \nL 28.609375 0 \nL 18.3125 0 \nL 43.21875 64.59375 \nL 8.203125 64.59375 \nz\n\" id=\"DejaVuSans-55\"/>\n       </defs>\n       <use xlink:href=\"#DejaVuSans-48\"/>\n       <use x=\"63.623047\" xlink:href=\"#DejaVuSans-46\"/>\n       <use x=\"95.410156\" xlink:href=\"#DejaVuSans-55\"/>\n       <use x=\"159.033203\" xlink:href=\"#DejaVuSans-53\"/>\n      </g>\n     </g>\n    </g>\n    <g id=\"ytick_5\">\n     <g id=\"line2d_10\">\n      <path clip-path=\"url(#pcec5c55233)\" d=\"M 62.92125 52.5 \nL 453.52125 52.5 \n\" style=\"fill:none;stroke:#b0b0b0;stroke-dasharray:2.96,1.28;stroke-dashoffset:0;stroke-width:0.8;\"/>\n     </g>\n     <g id=\"line2d_11\">\n      <g>\n       <use style=\"stroke:#000000;stroke-width:0.8;\" x=\"62.92125\" xlink:href=\"#m868939ecc2\" y=\"52.5\"/>\n      </g>\n     </g>\n     <g id=\"text_6\">\n      <!-- 1.00 -->\n      <g transform=\"translate(24.749375 57.818906)scale(0.14 -0.14)\">\n       <use xlink:href=\"#DejaVuSans-49\"/>\n       <use x=\"63.623047\" xlink:href=\"#DejaVuSans-46\"/>\n       <use x=\"95.410156\" xlink:href=\"#DejaVuSans-48\"/>\n       <use x=\"159.033203\" xlink:href=\"#DejaVuSans-48\"/>\n      </g>\n     </g>\n    </g>\n    <g id=\"text_7\">\n     <!-- Probabilities -->\n     <g transform=\"translate(17.837813 185.855781)rotate(-90)scale(0.14 -0.14)\">\n      <defs>\n       <path d=\"M 19.671875 64.796875 \nL 19.671875 37.40625 \nL 32.078125 37.40625 \nQ 38.96875 37.40625 42.71875 40.96875 \nQ 46.484375 44.53125 46.484375 51.125 \nQ 46.484375 57.671875 42.71875 61.234375 \nQ 38.96875 64.796875 32.078125 64.796875 \nz\nM 9.8125 72.90625 \nL 32.078125 72.90625 \nQ 44.34375 72.90625 50.609375 67.359375 \nQ 56.890625 61.8125 56.890625 51.125 \nQ 56.890625 40.328125 50.609375 34.8125 \nQ 44.34375 29.296875 32.078125 29.296875 \nL 19.671875 29.296875 \nL 19.671875 0 \nL 9.8125 0 \nz\n\" id=\"DejaVuSans-80\"/>\n       <path d=\"M 41.109375 46.296875 \nQ 39.59375 47.171875 37.8125 47.578125 \nQ 36.03125 48 33.890625 48 \nQ 26.265625 48 22.1875 43.046875 \nQ 18.109375 38.09375 18.109375 28.8125 \nL 18.109375 0 \nL 9.078125 0 \nL 9.078125 54.6875 \nL 18.109375 54.6875 \nL 18.109375 46.1875 \nQ 20.953125 51.171875 25.484375 53.578125 \nQ 30.03125 56 36.53125 56 \nQ 37.453125 56 38.578125 55.875 \nQ 39.703125 55.765625 41.0625 55.515625 \nz\n\" id=\"DejaVuSans-114\"/>\n       <path d=\"M 30.609375 48.390625 \nQ 23.390625 48.390625 19.1875 42.75 \nQ 14.984375 37.109375 14.984375 27.296875 \nQ 14.984375 17.484375 19.15625 11.84375 \nQ 23.34375 6.203125 30.609375 6.203125 \nQ 37.796875 6.203125 41.984375 11.859375 \nQ 46.1875 17.53125 46.1875 27.296875 \nQ 46.1875 37.015625 41.984375 42.703125 \nQ 37.796875 48.390625 30.609375 48.390625 \nz\nM 30.609375 56 \nQ 42.328125 56 49.015625 48.375 \nQ 55.71875 40.765625 55.71875 27.296875 \nQ 55.71875 13.875 49.015625 6.21875 \nQ 42.328125 -1.421875 30.609375 -1.421875 \nQ 18.84375 -1.421875 12.171875 6.21875 \nQ 5.515625 13.875 5.515625 27.296875 \nQ 5.515625 40.765625 12.171875 48.375 \nQ 18.84375 56 30.609375 56 \nz\n\" id=\"DejaVuSans-111\"/>\n       <path d=\"M 48.6875 27.296875 \nQ 48.6875 37.203125 44.609375 42.84375 \nQ 40.53125 48.484375 33.40625 48.484375 \nQ 26.265625 48.484375 22.1875 42.84375 \nQ 18.109375 37.203125 18.109375 27.296875 \nQ 18.109375 17.390625 22.1875 11.75 \nQ 26.265625 6.109375 33.40625 6.109375 \nQ 40.53125 6.109375 44.609375 11.75 \nQ 48.6875 17.390625 48.6875 27.296875 \nz\nM 18.109375 46.390625 \nQ 20.953125 51.265625 25.265625 53.625 \nQ 29.59375 56 35.59375 56 \nQ 45.5625 56 51.78125 48.09375 \nQ 58.015625 40.1875 58.015625 27.296875 \nQ 58.015625 14.40625 51.78125 6.484375 \nQ 45.5625 -1.421875 35.59375 -1.421875 \nQ 29.59375 -1.421875 25.265625 0.953125 \nQ 20.953125 3.328125 18.109375 8.203125 \nL 18.109375 0 \nL 9.078125 0 \nL 9.078125 75.984375 \nL 18.109375 75.984375 \nz\n\" id=\"DejaVuSans-98\"/>\n       <path d=\"M 34.28125 27.484375 \nQ 23.390625 27.484375 19.1875 25 \nQ 14.984375 22.515625 14.984375 16.5 \nQ 14.984375 11.71875 18.140625 8.90625 \nQ 21.296875 6.109375 26.703125 6.109375 \nQ 34.1875 6.109375 38.703125 11.40625 \nQ 43.21875 16.703125 43.21875 25.484375 \nL 43.21875 27.484375 \nz\nM 52.203125 31.203125 \nL 52.203125 0 \nL 43.21875 0 \nL 43.21875 8.296875 \nQ 40.140625 3.328125 35.546875 0.953125 \nQ 30.953125 -1.421875 24.3125 -1.421875 \nQ 15.921875 -1.421875 10.953125 3.296875 \nQ 6 8.015625 6 15.921875 \nQ 6 25.140625 12.171875 29.828125 \nQ 18.359375 34.515625 30.609375 34.515625 \nL 43.21875 34.515625 \nL 43.21875 35.40625 \nQ 43.21875 41.609375 39.140625 45 \nQ 35.0625 48.390625 27.6875 48.390625 \nQ 23 48.390625 18.546875 47.265625 \nQ 14.109375 46.140625 10.015625 43.890625 \nL 10.015625 52.203125 \nQ 14.9375 54.109375 19.578125 55.046875 \nQ 24.21875 56 28.609375 56 \nQ 40.484375 56 46.34375 49.84375 \nQ 52.203125 43.703125 52.203125 31.203125 \nz\n\" id=\"DejaVuSans-97\"/>\n       <path d=\"M 9.421875 54.6875 \nL 18.40625 54.6875 \nL 18.40625 0 \nL 9.421875 0 \nz\nM 9.421875 75.984375 \nL 18.40625 75.984375 \nL 18.40625 64.59375 \nL 9.421875 64.59375 \nz\n\" id=\"DejaVuSans-105\"/>\n       <path d=\"M 9.421875 75.984375 \nL 18.40625 75.984375 \nL 18.40625 0 \nL 9.421875 0 \nz\n\" id=\"DejaVuSans-108\"/>\n       <path d=\"M 18.3125 70.21875 \nL 18.3125 54.6875 \nL 36.8125 54.6875 \nL 36.8125 47.703125 \nL 18.3125 47.703125 \nL 18.3125 18.015625 \nQ 18.3125 11.328125 20.140625 9.421875 \nQ 21.96875 7.515625 27.59375 7.515625 \nL 36.8125 7.515625 \nL 36.8125 0 \nL 27.59375 0 \nQ 17.1875 0 13.234375 3.875 \nQ 9.28125 7.765625 9.28125 18.015625 \nL 9.28125 47.703125 \nL 2.6875 47.703125 \nL 2.6875 54.6875 \nL 9.28125 54.6875 \nL 9.28125 70.21875 \nz\n\" id=\"DejaVuSans-116\"/>\n       <path d=\"M 56.203125 29.59375 \nL 56.203125 25.203125 \nL 14.890625 25.203125 \nQ 15.484375 15.921875 20.484375 11.0625 \nQ 25.484375 6.203125 34.421875 6.203125 \nQ 39.59375 6.203125 44.453125 7.46875 \nQ 49.3125 8.734375 54.109375 11.28125 \nL 54.109375 2.78125 \nQ 49.265625 0.734375 44.1875 -0.34375 \nQ 39.109375 -1.421875 33.890625 -1.421875 \nQ 20.796875 -1.421875 13.15625 6.1875 \nQ 5.515625 13.8125 5.515625 26.8125 \nQ 5.515625 40.234375 12.765625 48.109375 \nQ 20.015625 56 32.328125 56 \nQ 43.359375 56 49.78125 48.890625 \nQ 56.203125 41.796875 56.203125 29.59375 \nz\nM 47.21875 32.234375 \nQ 47.125 39.59375 43.09375 43.984375 \nQ 39.0625 48.390625 32.421875 48.390625 \nQ 24.90625 48.390625 20.390625 44.140625 \nQ 15.875 39.890625 15.1875 32.171875 \nz\n\" id=\"DejaVuSans-101\"/>\n       <path d=\"M 44.28125 53.078125 \nL 44.28125 44.578125 \nQ 40.484375 46.53125 36.375 47.5 \nQ 32.28125 48.484375 27.875 48.484375 \nQ 21.1875 48.484375 17.84375 46.4375 \nQ 14.5 44.390625 14.5 40.28125 \nQ 14.5 37.15625 16.890625 35.375 \nQ 19.28125 33.59375 26.515625 31.984375 \nL 29.59375 31.296875 \nQ 39.15625 29.25 43.1875 25.515625 \nQ 47.21875 21.78125 47.21875 15.09375 \nQ 47.21875 7.46875 41.1875 3.015625 \nQ 35.15625 -1.421875 24.609375 -1.421875 \nQ 20.21875 -1.421875 15.453125 -0.5625 \nQ 10.6875 0.296875 5.421875 2 \nL 5.421875 11.28125 \nQ 10.40625 8.6875 15.234375 7.390625 \nQ 20.0625 6.109375 24.8125 6.109375 \nQ 31.15625 6.109375 34.5625 8.28125 \nQ 37.984375 10.453125 37.984375 14.40625 \nQ 37.984375 18.0625 35.515625 20.015625 \nQ 33.0625 21.96875 24.703125 23.78125 \nL 21.578125 24.515625 \nQ 13.234375 26.265625 9.515625 29.90625 \nQ 5.8125 33.546875 5.8125 39.890625 \nQ 5.8125 47.609375 11.28125 51.796875 \nQ 16.75 56 26.8125 56 \nQ 31.78125 56 36.171875 55.265625 \nQ 40.578125 54.546875 44.28125 53.078125 \nz\n\" id=\"DejaVuSans-115\"/>\n      </defs>\n      <use xlink:href=\"#DejaVuSans-80\"/>\n      <use x=\"58.552734\" xlink:href=\"#DejaVuSans-114\"/>\n      <use x=\"97.416016\" xlink:href=\"#DejaVuSans-111\"/>\n      <use x=\"158.597656\" xlink:href=\"#DejaVuSans-98\"/>\n      <use x=\"222.074219\" xlink:href=\"#DejaVuSans-97\"/>\n      <use x=\"283.353516\" xlink:href=\"#DejaVuSans-98\"/>\n      <use x=\"346.830078\" xlink:href=\"#DejaVuSans-105\"/>\n      <use x=\"374.613281\" xlink:href=\"#DejaVuSans-108\"/>\n      <use x=\"402.396484\" xlink:href=\"#DejaVuSans-105\"/>\n      <use x=\"430.179688\" xlink:href=\"#DejaVuSans-116\"/>\n      <use x=\"469.388672\" xlink:href=\"#DejaVuSans-105\"/>\n      <use x=\"497.171875\" xlink:href=\"#DejaVuSans-101\"/>\n      <use x=\"558.695312\" xlink:href=\"#DejaVuSans-115\"/>\n     </g>\n    </g>\n   </g>\n   <g id=\"patch_3\">\n    <path clip-path=\"url(#pcec5c55233)\" d=\"M 80.675795 279 \nL 435.766705 279 \nL 435.766705 52.5 \nL 80.675795 52.5 \nz\n\" style=\"fill:#648fff;\"/>\n   </g>\n   <g id=\"patch_4\">\n    <path d=\"M 62.92125 279 \nL 62.92125 7.2 \n\" style=\"fill:none;stroke:#000000;stroke-linecap:square;stroke-linejoin:miter;stroke-width:0.8;\"/>\n   </g>\n   <g id=\"patch_5\">\n    <path d=\"M 453.52125 279 \nL 453.52125 7.2 \n\" style=\"fill:none;stroke:#000000;stroke-linecap:square;stroke-linejoin:miter;stroke-width:0.8;\"/>\n   </g>\n   <g id=\"patch_6\">\n    <path d=\"M 62.92125 279 \nL 453.52125 279 \n\" style=\"fill:none;stroke:#000000;stroke-linecap:square;stroke-linejoin:miter;stroke-width:0.8;\"/>\n   </g>\n   <g id=\"patch_7\">\n    <path d=\"M 62.92125 7.2 \nL 453.52125 7.2 \n\" style=\"fill:none;stroke:#000000;stroke-linecap:square;stroke-linejoin:miter;stroke-width:0.8;\"/>\n   </g>\n   <g id=\"text_8\">\n    <!-- 1.000 -->\n    <g transform=\"translate(243.907187 39.095313)scale(0.1 -0.1)\">\n     <use xlink:href=\"#DejaVuSans-49\"/>\n     <use x=\"63.623047\" xlink:href=\"#DejaVuSans-46\"/>\n     <use x=\"95.410156\" xlink:href=\"#DejaVuSans-48\"/>\n     <use x=\"159.033203\" xlink:href=\"#DejaVuSans-48\"/>\n     <use x=\"222.65625\" xlink:href=\"#DejaVuSans-48\"/>\n    </g>\n   </g>\n  </g>\n </g>\n <defs>\n  <clipPath id=\"pcec5c55233\">\n   <rect height=\"271.8\" width=\"390.6\" x=\"62.92125\" y=\"7.2\"/>\n  </clipPath>\n </defs>\n</svg>\n",
      "image/png": "[encoded data removed]"
     },
     "metadata": {},
     "execution_count": 9
    }
   ],
   "source": [
    "result = execute(qc,backend).result()\n",
    "counts = result.get_counts()\n",
    "plot_histogram(counts)"
   ]
  },
  {
   "cell_type": "markdown",
   "metadata": {},
   "source": [
    "Wir können sehen, dass wir (wenig überraschend) eine 100%ige Chance haben, $|1\\rangle$ zu messen.\n",
    "Dieses Mal wollen wir stattdessen unser Qubit in eine Superposition bringen und sehen, was passiert.\n",
    "Wir werden den Zustand $|q_0\\rangle$ von früher in diesem Abschnitt verwenden:\n",
    "\n",
    "$$ |q_0\\rangle = \\tfrac{1}{\\sqrt{2}}|0\\rangle + \\tfrac{i}{\\sqrt{2}}|1\\rangle $$\n",
    "\n",
    "Wir müssen diese Amplituden zu einer Python-Liste hinzufügen. \n",
    "Um eine komplexe Amplitude hinzuzufügen, verwenden wir `complex` und geben den Real- und Imaginärteil als Argumente an:"
   ]
  },
  {
   "cell_type": "code",
   "execution_count": 10,
   "metadata": {},
   "outputs": [],
   "source": [
    "initial_state = [1/sqrt(2), 1j/sqrt(2)] # Zustand definieren |q_0>"
   ]
  },
  {
   "cell_type": "markdown",
   "metadata": {},
   "source": [
    "Und wir wiederholen dann die Schritte zur Initialisierung des Qubits wie zuvor:"
   ]
  },
  {
   "cell_type": "code",
   "execution_count": 11,
   "metadata": {},
   "outputs": [
    {
     "output_type": "stream",
     "name": "stdout",
     "text": [
      "[0.70710678+0.j         0.        +0.70710678j]\n"
     ]
    }
   ],
   "source": [
    "qc = QuantumCircuit(1) # Muss qc redefinieren\n",
    "qc.initialize(initial_state, 0) # Initialisiere das 0. Qubit im Zustand `initial_state`\n",
    "state = execute(qc,backend).result().get_statevector() # Führt die Schaltung aus\n",
    "print(state) # Das Ergebnis drucken"
   ]
  },
  {
   "cell_type": "code",
   "execution_count": 12,
   "metadata": {},
   "outputs": [
    {
     "output_type": "execute_result",
     "data": {
      "text/plain": [
       "<Figure size 504x360 with 1 Axes>"
      ],
      "image/svg+xml": "<?xml version=\"1.0\" encoding=\"utf-8\" standalone=\"no\"?>\n<!DOCTYPE svg PUBLIC \"-//W3C//DTD SVG 1.1//EN\"\n  \"http://www.w3.org/Graphics/SVG/1.1/DTD/svg11.dtd\">\n<!-- Created with matplotlib (https://matplotlib.org/) -->\n<svg height=\"311.523377pt\" version=\"1.1\" viewBox=\"0 0 460.72125 311.523377\" width=\"460.72125pt\" xmlns=\"http://www.w3.org/2000/svg\" xmlns:xlink=\"http://www.w3.org/1999/xlink\">\n <metadata>\n  <rdf:RDF xmlns:cc=\"http://creativecommons.org/ns#\" xmlns:dc=\"http://purl.org/dc/elements/1.1/\" xmlns:rdf=\"http://www.w3.org/1999/02/22-rdf-syntax-ns#\">\n   <cc:Work>\n    <dc:type rdf:resource=\"http://purl.org/dc/dcmitype/StillImage\"/>\n    <dc:date>2021-06-15T08:54:49.104733</dc:date>\n    <dc:format>image/svg+xml</dc:format>\n    <dc:creator>\n     <cc:Agent>\n      <dc:title>Matplotlib v3.3.4, https://matplotlib.org/</dc:title>\n     </cc:Agent>\n    </dc:creator>\n   </cc:Work>\n  </rdf:RDF>\n </metadata>\n <defs>\n  <style type=\"text/css\">*{stroke-linecap:butt;stroke-linejoin:round;}</style>\n </defs>\n <g id=\"figure_1\">\n  <g id=\"patch_1\">\n   <path d=\"M 0 311.523377 \nL 460.72125 311.523377 \nL 460.72125 0 \nL 0 0 \nz\n\" style=\"fill:none;\"/>\n  </g>\n  <g id=\"axes_1\">\n   <g id=\"patch_2\">\n    <path d=\"M 62.92125 284.318906 \nL 453.52125 284.318906 \nL 453.52125 12.518906 \nL 62.92125 12.518906 \nz\n\" style=\"fill:#ffffff;\"/>\n   </g>\n   <g id=\"matplotlib.axis_1\">\n    <g id=\"xtick_1\">\n     <g id=\"line2d_1\">\n      <defs>\n       <path d=\"M 0 0 \nL 0 3.5 \n\" id=\"me580e26501\" style=\"stroke:#000000;stroke-width:0.8;\"/>\n      </defs>\n      <g>\n       <use style=\"stroke:#000000;stroke-width:0.8;\" x=\"139.857614\" xlink:href=\"#me580e26501\" y=\"284.318906\"/>\n      </g>\n     </g>\n     <g id=\"text_1\">\n      <!-- 0 -->\n      <g transform=\"translate(141.964491 303.327564)rotate(-70)scale(0.14 -0.14)\">\n       <defs>\n        <path d=\"M 31.78125 66.40625 \nQ 24.171875 66.40625 20.328125 58.90625 \nQ 16.5 51.421875 16.5 36.375 \nQ 16.5 21.390625 20.328125 13.890625 \nQ 24.171875 6.390625 31.78125 6.390625 \nQ 39.453125 6.390625 43.28125 13.890625 \nQ 47.125 21.390625 47.125 36.375 \nQ 47.125 51.421875 43.28125 58.90625 \nQ 39.453125 66.40625 31.78125 66.40625 \nz\nM 31.78125 74.21875 \nQ 44.046875 74.21875 50.515625 64.515625 \nQ 56.984375 54.828125 56.984375 36.375 \nQ 56.984375 17.96875 50.515625 8.265625 \nQ 44.046875 -1.421875 31.78125 -1.421875 \nQ 19.53125 -1.421875 13.0625 8.265625 \nQ 6.59375 17.96875 6.59375 36.375 \nQ 6.59375 54.828125 13.0625 64.515625 \nQ 19.53125 74.21875 31.78125 74.21875 \nz\n\" id=\"DejaVuSans-48\"/>\n       </defs>\n       <use xlink:href=\"#DejaVuSans-48\"/>\n      </g>\n     </g>\n    </g>\n    <g id=\"xtick_2\">\n     <g id=\"line2d_2\">\n      <g>\n       <use style=\"stroke:#000000;stroke-width:0.8;\" x=\"376.584886\" xlink:href=\"#me580e26501\" y=\"284.318906\"/>\n      </g>\n     </g>\n     <g id=\"text_2\">\n      <!-- 1 -->\n      <g transform=\"translate(378.691764 303.327564)rotate(-70)scale(0.14 -0.14)\">\n       <defs>\n        <path d=\"M 12.40625 8.296875 \nL 28.515625 8.296875 \nL 28.515625 63.921875 \nL 10.984375 60.40625 \nL 10.984375 69.390625 \nL 28.421875 72.90625 \nL 38.28125 72.90625 \nL 38.28125 8.296875 \nL 54.390625 8.296875 \nL 54.390625 0 \nL 12.40625 0 \nz\n\" id=\"DejaVuSans-49\"/>\n       </defs>\n       <use xlink:href=\"#DejaVuSans-49\"/>\n      </g>\n     </g>\n    </g>\n   </g>\n   <g id=\"matplotlib.axis_2\">\n    <g id=\"ytick_1\">\n     <g id=\"line2d_3\">\n      <path clip-path=\"url(#p89d3d4040d)\" d=\"M 62.92125 284.318906 \nL 453.52125 284.318906 \n\" style=\"fill:none;stroke:#b0b0b0;stroke-dasharray:2.96,1.28;stroke-dashoffset:0;stroke-width:0.8;\"/>\n     </g>\n     <g id=\"line2d_4\">\n      <defs>\n       <path d=\"M 0 0 \nL -3.5 0 \n\" id=\"m00bb9405f6\" style=\"stroke:#000000;stroke-width:0.8;\"/>\n      </defs>\n      <g>\n       <use style=\"stroke:#000000;stroke-width:0.8;\" x=\"62.92125\" xlink:href=\"#m00bb9405f6\" y=\"284.318906\"/>\n      </g>\n     </g>\n     <g id=\"text_3\">\n      <!-- 0.00 -->\n      <g transform=\"translate(24.749375 289.637813)scale(0.14 -0.14)\">\n       <defs>\n        <path d=\"M 10.6875 12.40625 \nL 21 12.40625 \nL 21 0 \nL 10.6875 0 \nz\n\" id=\"DejaVuSans-46\"/>\n       </defs>\n       <use xlink:href=\"#DejaVuSans-48\"/>\n       <use x=\"63.623047\" xlink:href=\"#DejaVuSans-46\"/>\n       <use x=\"95.410156\" xlink:href=\"#DejaVuSans-48\"/>\n       <use x=\"159.033203\" xlink:href=\"#DejaVuSans-48\"/>\n      </g>\n     </g>\n    </g>\n    <g id=\"ytick_2\">\n     <g id=\"line2d_5\">\n      <path clip-path=\"url(#p89d3d4040d)\" d=\"M 62.92125 216.368906 \nL 453.52125 216.368906 \n\" style=\"fill:none;stroke:#b0b0b0;stroke-dasharray:2.96,1.28;stroke-dashoffset:0;stroke-width:0.8;\"/>\n     </g>\n     <g id=\"line2d_6\">\n      <g>\n       <use style=\"stroke:#000000;stroke-width:0.8;\" x=\"62.92125\" xlink:href=\"#m00bb9405f6\" y=\"216.368906\"/>\n      </g>\n     </g>\n     <g id=\"text_4\">\n      <!-- 0.15 -->\n      <g transform=\"translate(24.749375 221.687813)scale(0.14 -0.14)\">\n       <defs>\n        <path d=\"M 10.796875 72.90625 \nL 49.515625 72.90625 \nL 49.515625 64.59375 \nL 19.828125 64.59375 \nL 19.828125 46.734375 \nQ 21.96875 47.46875 24.109375 47.828125 \nQ 26.265625 48.1875 28.421875 48.1875 \nQ 40.625 48.1875 47.75 41.5 \nQ 54.890625 34.8125 54.890625 23.390625 \nQ 54.890625 11.625 47.5625 5.09375 \nQ 40.234375 -1.421875 26.90625 -1.421875 \nQ 22.3125 -1.421875 17.546875 -0.640625 \nQ 12.796875 0.140625 7.71875 1.703125 \nL 7.71875 11.625 \nQ 12.109375 9.234375 16.796875 8.0625 \nQ 21.484375 6.890625 26.703125 6.890625 \nQ 35.15625 6.890625 40.078125 11.328125 \nQ 45.015625 15.765625 45.015625 23.390625 \nQ 45.015625 31 40.078125 35.4375 \nQ 35.15625 39.890625 26.703125 39.890625 \nQ 22.75 39.890625 18.8125 39.015625 \nQ 14.890625 38.140625 10.796875 36.28125 \nz\n\" id=\"DejaVuSans-53\"/>\n       </defs>\n       <use xlink:href=\"#DejaVuSans-48\"/>\n       <use x=\"63.623047\" xlink:href=\"#DejaVuSans-46\"/>\n       <use x=\"95.410156\" xlink:href=\"#DejaVuSans-49\"/>\n       <use x=\"159.033203\" xlink:href=\"#DejaVuSans-53\"/>\n      </g>\n     </g>\n    </g>\n    <g id=\"ytick_3\">\n     <g id=\"line2d_7\">\n      <path clip-path=\"url(#p89d3d4040d)\" d=\"M 62.92125 148.418906 \nL 453.52125 148.418906 \n\" style=\"fill:none;stroke:#b0b0b0;stroke-dasharray:2.96,1.28;stroke-dashoffset:0;stroke-width:0.8;\"/>\n     </g>\n     <g id=\"line2d_8\">\n      <g>\n       <use style=\"stroke:#000000;stroke-width:0.8;\" x=\"62.92125\" xlink:href=\"#m00bb9405f6\" y=\"148.418906\"/>\n      </g>\n     </g>\n     <g id=\"text_5\">\n      <!-- 0.30 -->\n      <g transform=\"translate(24.749375 153.737813)scale(0.14 -0.14)\">\n       <defs>\n        <path d=\"M 40.578125 39.3125 \nQ 47.65625 37.796875 51.625 33 \nQ 55.609375 28.21875 55.609375 21.1875 \nQ 55.609375 10.40625 48.1875 4.484375 \nQ 40.765625 -1.421875 27.09375 -1.421875 \nQ 22.515625 -1.421875 17.65625 -0.515625 \nQ 12.796875 0.390625 7.625 2.203125 \nL 7.625 11.71875 \nQ 11.71875 9.328125 16.59375 8.109375 \nQ 21.484375 6.890625 26.8125 6.890625 \nQ 36.078125 6.890625 40.9375 10.546875 \nQ 45.796875 14.203125 45.796875 21.1875 \nQ 45.796875 27.640625 41.28125 31.265625 \nQ 36.765625 34.90625 28.71875 34.90625 \nL 20.21875 34.90625 \nL 20.21875 43.015625 \nL 29.109375 43.015625 \nQ 36.375 43.015625 40.234375 45.921875 \nQ 44.09375 48.828125 44.09375 54.296875 \nQ 44.09375 59.90625 40.109375 62.90625 \nQ 36.140625 65.921875 28.71875 65.921875 \nQ 24.65625 65.921875 20.015625 65.03125 \nQ 15.375 64.15625 9.8125 62.3125 \nL 9.8125 71.09375 \nQ 15.4375 72.65625 20.34375 73.4375 \nQ 25.25 74.21875 29.59375 74.21875 \nQ 40.828125 74.21875 47.359375 69.109375 \nQ 53.90625 64.015625 53.90625 55.328125 \nQ 53.90625 49.265625 50.4375 45.09375 \nQ 46.96875 40.921875 40.578125 39.3125 \nz\n\" id=\"DejaVuSans-51\"/>\n       </defs>\n       <use xlink:href=\"#DejaVuSans-48\"/>\n       <use x=\"63.623047\" xlink:href=\"#DejaVuSans-46\"/>\n       <use x=\"95.410156\" xlink:href=\"#DejaVuSans-51\"/>\n       <use x=\"159.033203\" xlink:href=\"#DejaVuSans-48\"/>\n      </g>\n     </g>\n    </g>\n    <g id=\"ytick_4\">\n     <g id=\"line2d_9\">\n      <path clip-path=\"url(#p89d3d4040d)\" d=\"M 62.92125 80.468906 \nL 453.52125 80.468906 \n\" style=\"fill:none;stroke:#b0b0b0;stroke-dasharray:2.96,1.28;stroke-dashoffset:0;stroke-width:0.8;\"/>\n     </g>\n     <g id=\"line2d_10\">\n      <g>\n       <use style=\"stroke:#000000;stroke-width:0.8;\" x=\"62.92125\" xlink:href=\"#m00bb9405f6\" y=\"80.468906\"/>\n      </g>\n     </g>\n     <g id=\"text_6\">\n      <!-- 0.45 -->\n      <g transform=\"translate(24.749375 85.787812)scale(0.14 -0.14)\">\n       <defs>\n        <path d=\"M 37.796875 64.3125 \nL 12.890625 25.390625 \nL 37.796875 25.390625 \nz\nM 35.203125 72.90625 \nL 47.609375 72.90625 \nL 47.609375 25.390625 \nL 58.015625 25.390625 \nL 58.015625 17.1875 \nL 47.609375 17.1875 \nL 47.609375 0 \nL 37.796875 0 \nL 37.796875 17.1875 \nL 4.890625 17.1875 \nL 4.890625 26.703125 \nz\n\" id=\"DejaVuSans-52\"/>\n       </defs>\n       <use xlink:href=\"#DejaVuSans-48\"/>\n       <use x=\"63.623047\" xlink:href=\"#DejaVuSans-46\"/>\n       <use x=\"95.410156\" xlink:href=\"#DejaVuSans-52\"/>\n       <use x=\"159.033203\" xlink:href=\"#DejaVuSans-53\"/>\n      </g>\n     </g>\n    </g>\n    <g id=\"ytick_5\">\n     <g id=\"line2d_11\">\n      <path clip-path=\"url(#p89d3d4040d)\" d=\"M 62.92125 12.518906 \nL 453.52125 12.518906 \n\" style=\"fill:none;stroke:#b0b0b0;stroke-dasharray:2.96,1.28;stroke-dashoffset:0;stroke-width:0.8;\"/>\n     </g>\n     <g id=\"line2d_12\">\n      <g>\n       <use style=\"stroke:#000000;stroke-width:0.8;\" x=\"62.92125\" xlink:href=\"#m00bb9405f6\" y=\"12.518906\"/>\n      </g>\n     </g>\n     <g id=\"text_7\">\n      <!-- 0.60 -->\n      <g transform=\"translate(24.749375 17.837812)scale(0.14 -0.14)\">\n       <defs>\n        <path d=\"M 33.015625 40.375 \nQ 26.375 40.375 22.484375 35.828125 \nQ 18.609375 31.296875 18.609375 23.390625 \nQ 18.609375 15.53125 22.484375 10.953125 \nQ 26.375 6.390625 33.015625 6.390625 \nQ 39.65625 6.390625 43.53125 10.953125 \nQ 47.40625 15.53125 47.40625 23.390625 \nQ 47.40625 31.296875 43.53125 35.828125 \nQ 39.65625 40.375 33.015625 40.375 \nz\nM 52.59375 71.296875 \nL 52.59375 62.3125 \nQ 48.875 64.0625 45.09375 64.984375 \nQ 41.3125 65.921875 37.59375 65.921875 \nQ 27.828125 65.921875 22.671875 59.328125 \nQ 17.53125 52.734375 16.796875 39.40625 \nQ 19.671875 43.65625 24.015625 45.921875 \nQ 28.375 48.1875 33.59375 48.1875 \nQ 44.578125 48.1875 50.953125 41.515625 \nQ 57.328125 34.859375 57.328125 23.390625 \nQ 57.328125 12.15625 50.6875 5.359375 \nQ 44.046875 -1.421875 33.015625 -1.421875 \nQ 20.359375 -1.421875 13.671875 8.265625 \nQ 6.984375 17.96875 6.984375 36.375 \nQ 6.984375 53.65625 15.1875 63.9375 \nQ 23.390625 74.21875 37.203125 74.21875 \nQ 40.921875 74.21875 44.703125 73.484375 \nQ 48.484375 72.75 52.59375 71.296875 \nz\n\" id=\"DejaVuSans-54\"/>\n       </defs>\n       <use xlink:href=\"#DejaVuSans-48\"/>\n       <use x=\"63.623047\" xlink:href=\"#DejaVuSans-46\"/>\n       <use x=\"95.410156\" xlink:href=\"#DejaVuSans-54\"/>\n       <use x=\"159.033203\" xlink:href=\"#DejaVuSans-48\"/>\n      </g>\n     </g>\n    </g>\n    <g id=\"text_8\">\n     <!-- Probabilities -->\n     <g transform=\"translate(17.837813 191.174688)rotate(-90)scale(0.14 -0.14)\">\n      <defs>\n       <path d=\"M 19.671875 64.796875 \nL 19.671875 37.40625 \nL 32.078125 37.40625 \nQ 38.96875 37.40625 42.71875 40.96875 \nQ 46.484375 44.53125 46.484375 51.125 \nQ 46.484375 57.671875 42.71875 61.234375 \nQ 38.96875 64.796875 32.078125 64.796875 \nz\nM 9.8125 72.90625 \nL 32.078125 72.90625 \nQ 44.34375 72.90625 50.609375 67.359375 \nQ 56.890625 61.8125 56.890625 51.125 \nQ 56.890625 40.328125 50.609375 34.8125 \nQ 44.34375 29.296875 32.078125 29.296875 \nL 19.671875 29.296875 \nL 19.671875 0 \nL 9.8125 0 \nz\n\" id=\"DejaVuSans-80\"/>\n       <path d=\"M 41.109375 46.296875 \nQ 39.59375 47.171875 37.8125 47.578125 \nQ 36.03125 48 33.890625 48 \nQ 26.265625 48 22.1875 43.046875 \nQ 18.109375 38.09375 18.109375 28.8125 \nL 18.109375 0 \nL 9.078125 0 \nL 9.078125 54.6875 \nL 18.109375 54.6875 \nL 18.109375 46.1875 \nQ 20.953125 51.171875 25.484375 53.578125 \nQ 30.03125 56 36.53125 56 \nQ 37.453125 56 38.578125 55.875 \nQ 39.703125 55.765625 41.0625 55.515625 \nz\n\" id=\"DejaVuSans-114\"/>\n       <path d=\"M 30.609375 48.390625 \nQ 23.390625 48.390625 19.1875 42.75 \nQ 14.984375 37.109375 14.984375 27.296875 \nQ 14.984375 17.484375 19.15625 11.84375 \nQ 23.34375 6.203125 30.609375 6.203125 \nQ 37.796875 6.203125 41.984375 11.859375 \nQ 46.1875 17.53125 46.1875 27.296875 \nQ 46.1875 37.015625 41.984375 42.703125 \nQ 37.796875 48.390625 30.609375 48.390625 \nz\nM 30.609375 56 \nQ 42.328125 56 49.015625 48.375 \nQ 55.71875 40.765625 55.71875 27.296875 \nQ 55.71875 13.875 49.015625 6.21875 \nQ 42.328125 -1.421875 30.609375 -1.421875 \nQ 18.84375 -1.421875 12.171875 6.21875 \nQ 5.515625 13.875 5.515625 27.296875 \nQ 5.515625 40.765625 12.171875 48.375 \nQ 18.84375 56 30.609375 56 \nz\n\" id=\"DejaVuSans-111\"/>\n       <path d=\"M 48.6875 27.296875 \nQ 48.6875 37.203125 44.609375 42.84375 \nQ 40.53125 48.484375 33.40625 48.484375 \nQ 26.265625 48.484375 22.1875 42.84375 \nQ 18.109375 37.203125 18.109375 27.296875 \nQ 18.109375 17.390625 22.1875 11.75 \nQ 26.265625 6.109375 33.40625 6.109375 \nQ 40.53125 6.109375 44.609375 11.75 \nQ 48.6875 17.390625 48.6875 27.296875 \nz\nM 18.109375 46.390625 \nQ 20.953125 51.265625 25.265625 53.625 \nQ 29.59375 56 35.59375 56 \nQ 45.5625 56 51.78125 48.09375 \nQ 58.015625 40.1875 58.015625 27.296875 \nQ 58.015625 14.40625 51.78125 6.484375 \nQ 45.5625 -1.421875 35.59375 -1.421875 \nQ 29.59375 -1.421875 25.265625 0.953125 \nQ 20.953125 3.328125 18.109375 8.203125 \nL 18.109375 0 \nL 9.078125 0 \nL 9.078125 75.984375 \nL 18.109375 75.984375 \nz\n\" id=\"DejaVuSans-98\"/>\n       <path d=\"M 34.28125 27.484375 \nQ 23.390625 27.484375 19.1875 25 \nQ 14.984375 22.515625 14.984375 16.5 \nQ 14.984375 11.71875 18.140625 8.90625 \nQ 21.296875 6.109375 26.703125 6.109375 \nQ 34.1875 6.109375 38.703125 11.40625 \nQ 43.21875 16.703125 43.21875 25.484375 \nL 43.21875 27.484375 \nz\nM 52.203125 31.203125 \nL 52.203125 0 \nL 43.21875 0 \nL 43.21875 8.296875 \nQ 40.140625 3.328125 35.546875 0.953125 \nQ 30.953125 -1.421875 24.3125 -1.421875 \nQ 15.921875 -1.421875 10.953125 3.296875 \nQ 6 8.015625 6 15.921875 \nQ 6 25.140625 12.171875 29.828125 \nQ 18.359375 34.515625 30.609375 34.515625 \nL 43.21875 34.515625 \nL 43.21875 35.40625 \nQ 43.21875 41.609375 39.140625 45 \nQ 35.0625 48.390625 27.6875 48.390625 \nQ 23 48.390625 18.546875 47.265625 \nQ 14.109375 46.140625 10.015625 43.890625 \nL 10.015625 52.203125 \nQ 14.9375 54.109375 19.578125 55.046875 \nQ 24.21875 56 28.609375 56 \nQ 40.484375 56 46.34375 49.84375 \nQ 52.203125 43.703125 52.203125 31.203125 \nz\n\" id=\"DejaVuSans-97\"/>\n       <path d=\"M 9.421875 54.6875 \nL 18.40625 54.6875 \nL 18.40625 0 \nL 9.421875 0 \nz\nM 9.421875 75.984375 \nL 18.40625 75.984375 \nL 18.40625 64.59375 \nL 9.421875 64.59375 \nz\n\" id=\"DejaVuSans-105\"/>\n       <path d=\"M 9.421875 75.984375 \nL 18.40625 75.984375 \nL 18.40625 0 \nL 9.421875 0 \nz\n\" id=\"DejaVuSans-108\"/>\n       <path d=\"M 18.3125 70.21875 \nL 18.3125 54.6875 \nL 36.8125 54.6875 \nL 36.8125 47.703125 \nL 18.3125 47.703125 \nL 18.3125 18.015625 \nQ 18.3125 11.328125 20.140625 9.421875 \nQ 21.96875 7.515625 27.59375 7.515625 \nL 36.8125 7.515625 \nL 36.8125 0 \nL 27.59375 0 \nQ 17.1875 0 13.234375 3.875 \nQ 9.28125 7.765625 9.28125 18.015625 \nL 9.28125 47.703125 \nL 2.6875 47.703125 \nL 2.6875 54.6875 \nL 9.28125 54.6875 \nL 9.28125 70.21875 \nz\n\" id=\"DejaVuSans-116\"/>\n       <path d=\"M 56.203125 29.59375 \nL 56.203125 25.203125 \nL 14.890625 25.203125 \nQ 15.484375 15.921875 20.484375 11.0625 \nQ 25.484375 6.203125 34.421875 6.203125 \nQ 39.59375 6.203125 44.453125 7.46875 \nQ 49.3125 8.734375 54.109375 11.28125 \nL 54.109375 2.78125 \nQ 49.265625 0.734375 44.1875 -0.34375 \nQ 39.109375 -1.421875 33.890625 -1.421875 \nQ 20.796875 -1.421875 13.15625 6.1875 \nQ 5.515625 13.8125 5.515625 26.8125 \nQ 5.515625 40.234375 12.765625 48.109375 \nQ 20.015625 56 32.328125 56 \nQ 43.359375 56 49.78125 48.890625 \nQ 56.203125 41.796875 56.203125 29.59375 \nz\nM 47.21875 32.234375 \nQ 47.125 39.59375 43.09375 43.984375 \nQ 39.0625 48.390625 32.421875 48.390625 \nQ 24.90625 48.390625 20.390625 44.140625 \nQ 15.875 39.890625 15.1875 32.171875 \nz\n\" id=\"DejaVuSans-101\"/>\n       <path d=\"M 44.28125 53.078125 \nL 44.28125 44.578125 \nQ 40.484375 46.53125 36.375 47.5 \nQ 32.28125 48.484375 27.875 48.484375 \nQ 21.1875 48.484375 17.84375 46.4375 \nQ 14.5 44.390625 14.5 40.28125 \nQ 14.5 37.15625 16.890625 35.375 \nQ 19.28125 33.59375 26.515625 31.984375 \nL 29.59375 31.296875 \nQ 39.15625 29.25 43.1875 25.515625 \nQ 47.21875 21.78125 47.21875 15.09375 \nQ 47.21875 7.46875 41.1875 3.015625 \nQ 35.15625 -1.421875 24.609375 -1.421875 \nQ 20.21875 -1.421875 15.453125 -0.5625 \nQ 10.6875 0.296875 5.421875 2 \nL 5.421875 11.28125 \nQ 10.40625 8.6875 15.234375 7.390625 \nQ 20.0625 6.109375 24.8125 6.109375 \nQ 31.15625 6.109375 34.5625 8.28125 \nQ 37.984375 10.453125 37.984375 14.40625 \nQ 37.984375 18.0625 35.515625 20.015625 \nQ 33.0625 21.96875 24.703125 23.78125 \nL 21.578125 24.515625 \nQ 13.234375 26.265625 9.515625 29.90625 \nQ 5.8125 33.546875 5.8125 39.890625 \nQ 5.8125 47.609375 11.28125 51.796875 \nQ 16.75 56 26.8125 56 \nQ 31.78125 56 36.171875 55.265625 \nQ 40.578125 54.546875 44.28125 53.078125 \nz\n\" id=\"DejaVuSans-115\"/>\n      </defs>\n      <use xlink:href=\"#DejaVuSans-80\"/>\n      <use x=\"58.552734\" xlink:href=\"#DejaVuSans-114\"/>\n      <use x=\"97.416016\" xlink:href=\"#DejaVuSans-111\"/>\n      <use x=\"158.597656\" xlink:href=\"#DejaVuSans-98\"/>\n      <use x=\"222.074219\" xlink:href=\"#DejaVuSans-97\"/>\n      <use x=\"283.353516\" xlink:href=\"#DejaVuSans-98\"/>\n      <use x=\"346.830078\" xlink:href=\"#DejaVuSans-105\"/>\n      <use x=\"374.613281\" xlink:href=\"#DejaVuSans-108\"/>\n      <use x=\"402.396484\" xlink:href=\"#DejaVuSans-105\"/>\n      <use x=\"430.179688\" xlink:href=\"#DejaVuSans-116\"/>\n      <use x=\"469.388672\" xlink:href=\"#DejaVuSans-105\"/>\n      <use x=\"497.171875\" xlink:href=\"#DejaVuSans-101\"/>\n      <use x=\"558.695312\" xlink:href=\"#DejaVuSans-115\"/>\n     </g>\n    </g>\n   </g>\n   <g id=\"patch_3\">\n    <path clip-path=\"url(#p89d3d4040d)\" d=\"M 80.675795 284.318906 \nL 199.039432 284.318906 \nL 199.039432 57.818906 \nL 80.675795 57.818906 \nz\n\" style=\"fill:#648fff;\"/>\n   </g>\n   <g id=\"patch_4\">\n    <path clip-path=\"url(#p89d3d4040d)\" d=\"M 317.403068 284.318906 \nL 435.766705 284.318906 \nL 435.766705 57.818906 \nL 317.403068 57.818906 \nz\n\" style=\"fill:#648fff;\"/>\n   </g>\n   <g id=\"patch_5\">\n    <path d=\"M 62.92125 284.318906 \nL 62.92125 12.518906 \n\" style=\"fill:none;stroke:#000000;stroke-linecap:square;stroke-linejoin:miter;stroke-width:0.8;\"/>\n   </g>\n   <g id=\"patch_6\">\n    <path d=\"M 453.52125 284.318906 \nL 453.52125 12.518906 \n\" style=\"fill:none;stroke:#000000;stroke-linecap:square;stroke-linejoin:miter;stroke-width:0.8;\"/>\n   </g>\n   <g id=\"patch_7\">\n    <path d=\"M 62.92125 284.318906 \nL 453.52125 284.318906 \n\" style=\"fill:none;stroke:#000000;stroke-linecap:square;stroke-linejoin:miter;stroke-width:0.8;\"/>\n   </g>\n   <g id=\"patch_8\">\n    <path d=\"M 62.92125 12.518906 \nL 453.52125 12.518906 \n\" style=\"fill:none;stroke:#000000;stroke-linecap:square;stroke-linejoin:miter;stroke-width:0.8;\"/>\n   </g>\n   <g id=\"text_9\">\n    <!-- 0.500 -->\n    <g transform=\"translate(125.543551 44.414219)scale(0.1 -0.1)\">\n     <use xlink:href=\"#DejaVuSans-48\"/>\n     <use x=\"63.623047\" xlink:href=\"#DejaVuSans-46\"/>\n     <use x=\"95.410156\" xlink:href=\"#DejaVuSans-53\"/>\n     <use x=\"159.033203\" xlink:href=\"#DejaVuSans-48\"/>\n     <use x=\"222.65625\" xlink:href=\"#DejaVuSans-48\"/>\n    </g>\n   </g>\n   <g id=\"text_10\">\n    <!-- 0.500 -->\n    <g transform=\"translate(362.270824 44.414219)scale(0.1 -0.1)\">\n     <use xlink:href=\"#DejaVuSans-48\"/>\n     <use x=\"63.623047\" xlink:href=\"#DejaVuSans-46\"/>\n     <use x=\"95.410156\" xlink:href=\"#DejaVuSans-53\"/>\n     <use x=\"159.033203\" xlink:href=\"#DejaVuSans-48\"/>\n     <use x=\"222.65625\" xlink:href=\"#DejaVuSans-48\"/>\n    </g>\n   </g>\n  </g>\n </g>\n <defs>\n  <clipPath id=\"p89d3d4040d\">\n   <rect height=\"271.8\" width=\"390.6\" x=\"62.92125\" y=\"12.518906\"/>\n  </clipPath>\n </defs>\n</svg>\n",
      "image/png": "[encoded data removed]"
     },
     "metadata": {},
     "execution_count": 12
    }
   ],
   "source": [
    "results = execute(qc,backend).result().get_counts()\n",
    "plot_histogram(results)"
   ]
  },
  {
   "cell_type": "markdown",
   "metadata": {},
   "source": [
    "Wir können sehen, dass wir die gleiche Wahrscheinlichkeit haben, entweder $|0\\rangle$ oder $|1\\rangle$ zu messen.\n",
    "Um dies zu erklären, müssen wir über die Messung sprechen.\n",
    "\n",
    "\n",
    "## 2. Die Regeln des Messens <a id=\"regeln-zum-messen\"></a>\n",
    "\n",
    "### 2.1 Eine sehr wichtige Regel <a id=\"wichtig-regel\"></a>\n",
    "\n",
    "Für die Messung gibt es eine einfache Regel.\n",
    "Um die Wahrscheinlichkeit zu finden, einen Zustand $|\\psi \\rangle$ im Zustand $|x\\rangle$ zu messen, betrachten wir:\n",
    "\n",
    "$$ p(|x\\rangle) = | \\langle x| \\psi \\rangle|^2 $$\n",
    "\n",
    "Die Symbole $\\langle$ und $|$ sagen uns, dass $\\langle x |$ ein Zeilenvektor ist.\n",
    "In der Quantenmechanik nennen wir die Spaltenvektoren _kets_ und die Zeilenvektoren _bras_.\n",
    "Zusammen bilden sie die _bra-ket_-Notation.\n",
    "Jedes Ket $|a\\rangle$ hat eine entsprechende BH $\\langle a|$, und wir konvertieren zwischen ihnen mit Hilfe der konjugierten Transponierung.\n",
    "\n",
    "<details>\n",
    "    <summary>\n",
    "        Erinnerung: Das innere Produkt (Klicken Sie hier, um zu erweitern)\n",
    "    </summary>\n",
    "    <p>\n",
    "        Es gibt verschiedene Möglichkeiten, Vektoren zu multiplizieren, hier verwenden wir das <i>innere Produkt</i>. \n",
    "        Das innere Produkt ist eine Verallgemeinerung des <i>Punktprodukts</i>, mit dem Sie vielleicht schon vertraut sind. \n",
    "        In dieser Anleitung verwenden wir das innere Produkt zwischen einem BH (Zeilenvektor) und einem Ket (Spaltenvektor), und es folgt dieser Regel:\n",
    "        $$\n",
    "            \\langle a| = \\begin{bmatrix}a_0^*, & a_1^*, & \\dots & a_n^* \\end{bmatrix}, \\quad\n",
    "            |b\\rangle = \\begin{bmatrix}b_0 \\\\ b_1 \\\\ \\vdots \\\\ b_n \\end{bmatrix}\n",
    "        $$\n",
    "        $$ \\langle a|b\\rangle = a_0^* b_0 + a_1^* b_1 \\dots a_n^* b_n $$\n",
    "    </p>\n",
    "    <p>\n",
    "        Wir sehen, dass das innere Produkt zweier Vektoren uns immer einen Skalar liefert. \n",
    "        Eine nützliche Sache, die man sich merken sollte, ist, dass das innere Produkt von zwei orthogonalen Vektoren 0 ist, wenn wir zum Beispiel die orthogonalen Vektoren $|0\\rangle$ und $|1\\rangle$ haben:\n",
    "        \n",
    "        $$\\langle1|0\\rangle = \\begin{bmatrix} 0 , & 1\\end{bmatrix}\\begin{bmatrix}1 \\\\ 0\\end{bmatrix} = 0$$\n",
    "    </p>\n",
    "    <p>\n",
    "        Zusätzlich ist zu beachten, dass die Vektoren $|0\\rangle$ und $|1\\rangle$ ebenfalls normiert sind (die Beträge sind gleich 1):\n",
    "    \n",
    "        $$\n",
    "        \\begin{aligned} \n",
    "            \\langle 0|0\\rangle & = \\begin{bmatrix} 1 , & 0\\end{bmatrix}\\begin{bmatrix}1 \\\\\\ 0\\end{bmatrix} = 1 \\\\\\\n",
    "            \\langle 1|1\\rangle & = \\begin{bmatrix} 0 , & 1\\end{bmatrix}\\begin{bmatrix}0 \\\\\\ 1\\end{bmatrix} = 1\n",
    "        \\end{aligned}\n",
    "        $$\n",
    "   </p>\n",
    "</details>\n",
    "\n",
    "In der obigen Gleichung kann $|x\\rangle$ ein beliebiger Qubit-Zustand sein.\n",
    "Um die Wahrscheinlichkeit der Messung von $|x\\rangle$ zu finden, nehmen wir das innere Produkt von $|x\\rangle$ und dem Zustand, den wir messen (in diesem Fall $|\\psi\\rangle$), und quadrieren dann den Betrag. \n",
    "Dies mag ein wenig umständlich erscheinen, aber es wird bald zur zweiten Natur werden.\n",
    "\n",
    "Wenn wir uns den Zustand $|q_0\\rangle$ von vorhin ansehen, sehen wir, dass die Wahrscheinlichkeit, $|0\\rangle$ zu messen, tatsächlich $0,5$ ist:\n",
    "\n",
    "$$\n",
    "\\begin{aligned}\n",
    "    |q_0\\rangle & = \\tfrac{1}{\\sqrt{2}}|0\\rangle + \\tfrac{i}{\\sqrt{2}}|1\\rangle \\langle 0| q_0 \\rangle  \n",
    "                & = \\tfrac{1}{\\sqrt{2}} \\langle 0|0\\rangle + \\tfrac{i}{\\sqrt{2}} \\langle 0|1\\rangle \\\\\n",
    "                & = \\tfrac{1}{\\sqrt{2}} \\cdot 1 +  \\tfrac{i}{\\sqrt{2}} \\cdot 0\\\\\n",
    "                & = \\tfrac{1}{\\sqrt{2}} \\langle 0| q_0 \\rangle|^2 & = \\tfrac{1}{2}\n",
    "\\end{aligned}\n",
    "$$\n",
    "\n",
    "Als Übung sollten Sie die Wahrscheinlichkeit der Messung von $|1\\rangle$ nachweisen.\n",
    "\n",
    "Diese Regel regelt, wie wir Informationen aus Quantenzuständen erhalten. \n",
    "Sie ist daher sehr wichtig für alles, was wir in der Quantenberechnung tun. \n",
    "Sie impliziert auch unmittelbar mehrere wichtige Fakten.\n",
    "\n",
    "### 2.2 Die Implikationen dieser Regel <a id=\"implications\"></a>\n",
    "#### 1. Normalisierung\n",
    "\n",
    "Die Regel zeigt uns, dass Amplituden mit Wahrscheinlichkeiten verbunden sind. Wenn wir wollen, dass die Wahrscheinlichkeiten sich zu 1 addieren (was sie sollten!), müssen wir sicherstellen, dass der Zustandsvektor richtig normalisiert ist. \n",
    "Genauer gesagt muss der Betrag des Zustandsvektors 1 sein.\n",
    "\n",
    "$$ \\langle\\psi|\\psi\\rangle = 1 \\\\ $$\n",
    "\n",
    "Dies erklärt die Faktoren von $\\sqrt{2}$, die Sie im Laufe dieses Kapitels gesehen haben. \n",
    "Wenn wir versuchen, `initialize()` einen Vektor zu geben, der nicht normalisiert ist, wird es uns einen Fehler liefern:"
   ]
  },
  {
   "cell_type": "code",
   "execution_count": 18,
   "metadata": {},
   "outputs": [
    {
     "output_type": "stream",
     "name": "stdout",
     "text": [
      "QiskitError:  'Sum of amplitudes-squared does not equal one.'\n"
     ]
    }
   ],
   "source": [
    "try: \n",
    "    vector = [1,1]\n",
    "    qc.initialize(vector, 0)\n",
    "except QiskitError as err:\n",
    "    print(\"QiskitError: \", err)"
   ]
  },
  {
   "cell_type": "markdown",
   "metadata": {},
   "source": [
    "### Schnellübung\n",
    "\n",
    "1. Erzeugen Sie einen Zustandsvektor, der eine $1/3$-Wahrscheinlichkeit für die Messung von $|0\\rangle$ ergibt.\n",
    "2. Erzeugen Sie einen anderen Zustandsvektor, der die gleichen Messwahrscheinlichkeiten ergibt.\n",
    "3. Prüfen Sie, dass die Messwahrscheinlichkeit $|1\\rangle$ für diese beiden Zustände $2/3$ beträgt."
   ]
  },
  {
   "cell_type": "code",
   "execution_count": null,
   "metadata": {},
   "outputs": [],
   "source": [
    "# Starten Sie hier!"
   ]
  },
  {
   "cell_type": "markdown",
   "metadata": {},
   "source": [
    "#### 2 Alternative Messung\n",
    "\n",
    "Die Messregel gibt uns die Wahrscheinlichkeit $p(|x\\rangle)$, dass ein Zustand $|\\psi\\rangle$ als $|x\\rangle$ gemessen wird. \n",
    "Nirgends sagt sie uns, dass $|x\\rangle$ nur entweder $|0\\rangle$ oder $|1\\rangle$ sein kann.\n",
    "\n",
    "Die Messungen, die wir bisher betrachtet haben, sind in der Tat nur eine von unendlich vielen möglichen Arten, ein Qubit zu messen. \n",
    "Für jedes orthogonale Paar von Zuständen können wir eine Messung definieren, die ein Qubit dazu veranlasst, zwischen den beiden zu wählen.\n",
    "\n",
    "Diese Möglichkeit wird im nächsten Abschnitt näher untersucht. \n",
    "Für den Moment sollten Sie sich einfach vor Augen halten, dass $|x\\rangle$ nicht darauf beschränkt ist, einfach $|0\\rangle$ oder $|1\\rangle$ zu sein."
   ]
  },
  {
   "cell_type": "markdown",
   "metadata": {},
   "source": [
    "#### 3 Globale Phase\n",
    "\n",
    "Wir wissen, dass die Messung des Zustands $|1\\rangle$ uns mit Sicherheit den Ausgang `1` liefert. Wir sind aber auch in der Lage, Zustände aufzuschreiben wie \n",
    "\n",
    "$$\\begin{bmatrix}0 \\\\\\ i\\end{bmatrix} = i|1\\rangle.$$\n",
    "\n",
    "Um zu sehen, wie sich das verhält, wenden wir die Messregel an.\n",
    "\n",
    "$$ |\\langle x| (i|1\\rangle) |^2 = | i \\langle x|1\\rangle|^2 = |\\langle x|1\\rangle|^2 $$\n",
    "\n",
    "Hier stellen wir fest, dass der Faktor von $i$ verschwindet, sobald wir den Betrag der komplexen Zahl nehmen. Dieser Effekt ist völlig unabhängig von dem gemessenen Zustand $|x\\rangle$. Es spielt keine Rolle, welche Messung wir betrachten, die Wahrscheinlichkeiten für den Zustand $i|1\\rangle$ sind identisch mit denen für $|1\\rangle$. Da Messungen die einzige Möglichkeit sind, einem Qubit Informationen zu entlocken, impliziert dies, dass diese beiden Zustände in jeder physikalisch relevanten Hinsicht äquivalent sind.\n",
    "\n",
    "Allgemeiner ausgedrückt, bezeichnen wir jeden Gesamtfaktor $\\gamma$ auf einen Zustand, für den $|\\gamma|=1$ gilt, als \"globale Phase\". Zustände, die sich nur durch eine globale Phase unterscheiden, sind physikalisch ununterscheidbar.\n",
    "\n",
    "$$ |\\langle x| ( \\gamma |a\\rangle) |^2 = | \\gamma \\langle x|a\\rangle|^2 = |\\langle x|a\\rangle|^2 $$\n",
    "\n",
    "Beachten Sie, dass dies ein Unterschied zur Phasendifferenz _zwischen_ Termen in einer Überlagerung ist, die als \"relative Phase\" bezeichnet wird. Dies wird relevant, sobald wir verschiedene Arten der Messung und mehrere Qubits betrachten.\n",
    "\n",
    "\n",
    "#### 4 Der Beobachtereffekt\n",
    "\n",
    "Wir wissen, dass die Amplituden Informationen über die Wahrscheinlichkeit enthalten, dass wir das Qubit in einem bestimmten Zustand vorfinden, aber sobald wir das Qubit gemessen haben, wissen wir mit Sicherheit, was der Zustand des Qubits ist. \n",
    "Wenn wir zum Beispiel ein Qubit in dem Zustand messen:\n",
    "\n",
    "$$ |q\\rangle = \\alpha|0\\rangle + \\beta|1\\rangle $$\n",
    "\n",
    "und finden es im Zustand $|0\\rangle$, so besteht bei erneuter Messung eine 100%ige Chance, das Qubit im Zustand $|0\\rangle$ zu finden. \n",
    "Das heißt, der Akt des Messens _verändert_ den Zustand unserer Qubits.\n",
    "\n",
    "$$ |q\\rangle = \\begin{bmatrix} \\alpha \\\\ \\beta \\end{bmatrix} \\xrightarrow{\\text{Measure}|0\\rangle} |q\\rangle = |0\\rangle = \\begin{bmatrix} 1 \\\\\\ 0 \\end{bmatrix} $$\n",
    "\n",
    "Wir bezeichnen dies manchmal als _Kollabieren_ des Zustands des Qubits. \n",
    "Es ist ein potenter Effekt und daher einer, der mit Bedacht eingesetzt werden muss.\n",
    "Würden wir zum Beispiel jedes unserer Qubits ständig messen, um ihren Wert an jedem Punkt einer Berechnung zu verfolgen, würden sie sich immer einfach in einem wohldefinierten Zustand von entweder $|0\\rangle$ oder $|1\\rangle$ befinden.\n",
    "Als solche würden sie sich nicht von klassischen Bits unterscheiden und unsere Berechnung könnte leicht durch eine klassische Berechnung ersetzt werden.\n",
    "Um eine echte Quantenberechnung zu erreichen, müssen wir den Qubits erlauben, komplexere Zustände zu erforschen. \n",
    "Messungen werden daher nur verwendet, wenn wir eine Ausgabe extrahieren müssen.\n",
    "Das bedeutet, dass wir oft alle Messungen an das Ende unserer Quantenschaltung setzen. \n",
    "\n",
    "Wir können dies mit dem Zustandsvektor-Simulator von Qiskit demonstrieren. \n",
    "Lassen Sie uns ein Qubit in Superposition initialisieren: "
   ]
  },
  {
   "cell_type": "code",
   "execution_count": null,
   "metadata": {},
   "outputs": [],
   "source": [
    "qc = QuantumCircuit(1) # Wir definieren qc neu\n",
    "initial_state = [0.+1.j/sqrt(2),1/sqrt(2)+0.j]\n",
    "qc.initialize(initial_state, 0)\n",
    "qc.draw(\"mpl\")"
   ]
  },
  {
   "cell_type": "markdown",
   "metadata": {},
   "source": [
    "Dies sollte unser Qubit in dem Zustand initialisieren:\n",
    "\n",
    "$$ |q\\rangle = \\tfrac{i}{\\sqrt{2}}|0\\rangle + \\tfrac{1}{\\sqrt{2}}|1\\rangle $$\n",
    "\n",
    "Wir können dies mit Hilfe des Simulators verifizieren:"
   ]
  },
  {
   "cell_type": "code",
   "execution_count": null,
   "metadata": {},
   "outputs": [],
   "source": [
    "state = execute(qc, backend).result().get_statevector()\n",
    "print(\"Qubit State = \" + str(state))"
   ]
  },
  {
   "cell_type": "markdown",
   "metadata": {},
   "source": [
    "Wir sehen hier, dass das Qubit im Zustand `[0.+0.70710678j 0.70710678+0.j]` initialisiert ist, was der Zustand ist, den wir erwartet haben.\n",
    "\n",
    "Lassen Sie uns nun dieses Qubit messen:"
   ]
  },
  {
   "cell_type": "code",
   "execution_count": null,
   "metadata": {},
   "outputs": [],
   "source": [
    "qc.measure_all()\n",
    "qc.draw(\"mpl\")"
   ]
  },
  {
   "cell_type": "markdown",
   "metadata": {},
   "source": [
    "Wenn wir diese gesamte Schaltung simulieren, können wir sehen, dass eine der Amplituden _immer_ 0 ist:"
   ]
  },
  {
   "cell_type": "code",
   "execution_count": null,
   "metadata": {},
   "outputs": [],
   "source": [
    "state = execute(qc, backend).result().get_statevector()\n",
    "print(\"State of Measured Qubit = \" + str(state))"
   ]
  },
  {
   "cell_type": "markdown",
   "metadata": {},
   "source": [
    "Sie können diese Zelle einige Male erneut ausführen, um das Qubit zu reinitialisieren und es erneut zu messen.\n",
    "Sie werden feststellen, dass beide Ergebnisse gleich wahrscheinlich sind, aber dass der Zustand des Qubits niemals eine Superposition von $|0\\rangle$ und $|1\\rangle$ ist.\n",
    "Interessanterweise bleibt die globale Phase auf dem Zustand $|0\\rangle$ erhalten, aber da dies eine globale Phase ist, können wir sie nie auf einem realen Quantencomputer messen.\n",
    "\n",
    "### Eine Anmerkung zu Quantensimulatoren\n",
    "\n",
    "Wir sehen, dass das Aufschreiben des Zustands eines Qubits zwei komplexe Zahlen erfordert, aber wenn wir einen echten Quantencomputer verwenden, werden wir immer nur eine Ja-oder-Nein-Antwort (`0` oder `1`) für jedes Qubit erhalten. \n",
    "Die Ausgabe eines 10-Qubit-Quantencomputers sieht wie folgt aus:\n",
    "\n",
    "`0110111110`\n",
    "\n",
    "Nur 10 Bits, keine Überlagerung oder komplexe Amplituden.\n",
    "Wenn wir einen echten Quantencomputer verwenden, können wir die Zustände unserer Qubits während der Berechnung nicht sehen, da dies sie zerstören würde! \n",
    "Dieses Verhalten ist nicht ideal zum Lernen, deshalb bietet Qiskit verschiedene Quantensimulatoren an: Der `qasm_simulator` verhält sich so, als ob Sie mit einem echten Quantencomputer interagieren würden, und erlaubt Ihnen nicht, `.get_statevector()` zu verwenden. \n",
    "Alternativ dazu erlaubt `statevector_simulator` (den wir in diesem Kapitel verwendet haben), die Quantenzustände vor der Messung zu betrachten, wie wir gesehen haben. "
   ]
  },
  {
   "cell_type": "markdown",
   "metadata": {},
   "source": [
    "## 3. Die Bloch-Kugel <a id=\"bloch-sphere\"></a>\n",
    "### 3.1. Beschreibung des eingeschränkten Qubit-Zustands <a id=\"bloch-sphere-1\"></a>\n",
    "\n",
    "Wir haben weiter oben in diesem Kapitel gesehen, dass der allgemeine Zustand eines Qubits ($|q\\rangle$) ist:\n",
    "\n",
    "$$ |q\\rangle = \\alpha|0\\rangle + \\beta|1\\rangle $$\n",
    "\n",
    "$$ \\alpha, \\beta \\in \\mathbb{C} $$\n",
    "\n",
    "(Die zweite Zeile sagt uns, dass $\\alpha$ und $\\beta$ komplexe Zahlen sind). \n",
    "Die ersten beiden Implikationen in Abschnitt 2 sagen uns, dass wir zwischen einigen dieser Zustände nicht unterscheiden können. \n",
    "Das bedeutet, dass wir in unserer Beschreibung des Qubits spezifischer sein können. \n",
    "\n",
    "Erstens: \n",
    "Da wir die globale Phase nicht messen können, können wir nur die Phasendifferenz zwischen den Zuständen $|0\\rangle$ und $|1\\rangle$ messen. \n",
    "Anstatt $\\alpha$ und $\\beta$ komplex zu machen, können wir sie auf die reellen Zahlen beschränken und einen Term hinzufügen, der uns die relative Phase zwischen ihnen angibt:\n",
    "\n",
    "$$ |q\\rangle = \\alpha|0\\rangle + e^{i\\phi}\\beta|1\\rangle $$\n",
    "\n",
    "$$ \\alpha, \\beta, \\phi \\in \\mathbb{R} $$\n",
    "\n",
    "Da der Qubit-Zustand schließlich normalisiert werden muss, d.h.\n",
    "\n",
    "$$ \\sqrt{\\alpha^2 + \\beta^2} = 1 $$\n",
    "\n",
    "können wir die trigonometrische Identität verwenden:\n",
    "\n",
    "$$ \\sqrt{\\sin^2{x} + \\cos^2{x}} = 1 $$\n",
    "\n",
    "um die reellen $\\alpha$ und $\\beta$ in Form einer Variablen, $\\theta$, zu beschreiben:\n",
    "\n",
    "$$ \\alpha = \\cos{\\tfrac{\\theta}{2}}, \\quad \\beta=\\sin{\\tfrac{\\theta}{2}} $$\n",
    "\n",
    "Daraus können wir den Zustand eines beliebigen Qubits mit den beiden Variablen $\\phi$ und $\\theta$ beschreiben:\n",
    "\n",
    "$$ \\cos{\\tfrac{\\theta}{2}}|0\\rangle + e^{i\\phi}\\sin{\\tfrac{\\theta}{2}}|1\\rangle $$\n",
    "\n",
    "$$ \\theta, \\phi \\in \\mathbb{R} $$\n",
    "\n",
    "\n",
    "### 3.2 Visuelle Darstellung eines Qubit-Zustands <a id=\"bloch-sphere-2\"></a>\n",
    "\n",
    "Wir wollen unseren allgemeinen Qubit-Zustand darstellen:\n",
    "\n",
    "$$ |Qubit \\rangle = \\cos{\\tfrac{\\theta}{2}}|0\\rangle + e^{i\\phi}\\sin{\\tfrac{\\theta}{2}}|1\\rangle $$\n",
    "\n",
    "Wenn wir $\\theta$ und $\\phi$ als Kugelkoordinaten interpretieren ($r = 1$, da der Betrag des Qubitzustands $1$ ist), können wir jeden einzelnen Qubitzustand auf der Oberfläche einer Kugel, der sogenannten _Bloch-Kugel, auftragen.\n",
    "\n",
    "Unten haben wir ein Qubit im Zustand $|{+}\\rangle$ eingezeichnet.\n",
    "In diesem Fall ist $\\theta = \\pi/2$ und $\\phi = 0$.\n",
    "\n",
    "(Qiskit hat eine Funktion zum Plotten einer Blochkugel, `plot_bloch_vector()`, aber zum Zeitpunkt des Schreibens nimmt sie nur kartesische Koordinaten.\n",
    "Wir haben eine Funktion eingefügt, die die Umwandlung automatisch vornimmt). "
   ]
  },
  {
   "cell_type": "code",
   "execution_count": null,
   "metadata": {},
   "outputs": [],
   "source": [
    "from qiskit.visualization import plot_bloch_vector\n",
    "coords = [pi/2,0,1] # [Theta, Phi, Radius]\n",
    "plot_bloch_vector(coords) # Bloch-Vektor mit sphärischen Koordinaten"
   ]
  },
  {
   "cell_type": "markdown",
   "metadata": {},
   "source": [
    "#### Warnung!\n",
    "Wenn man zum ersten Mal etwas über Qubit-Zustände lernt, ist es leicht, den _Zustandsvektor_ des Qubits mit seinem _Bloch-Vektor_ zu verwechseln.\n",
    "Denken Sie daran, dass der Zustandsvektor der in [1.1](#Anmerkung) beschriebene Vektor ist, der die Amplituden für die beiden Zustände enthält, in denen sich unser Qubit befinden kann. \n",
    "Der Bloch-Vektor ist ein Visualisierungswerkzeug, das den 2D-komplexen Zustandsvektor auf den realen 3D-Raum abbildet."
   ]
  },
  {
   "cell_type": "markdown",
   "metadata": {},
   "source": [
    "#### Schnell-Übung\n",
    "Verwenden Sie `plot_bloch_vector()`, um ein Qubit in den Zuständen darzustellen:\n",
    "1. $|0\\rangle$\n",
    "2. $|1\\rangle$\n",
    "3. $\\tfrac{1}{\\sqrt{2}}(|0\\rangle + |1\\rangle)$\n",
    "4. $\\tfrac{1}{\\sqrt{2}}(|0\\rangle - i|1\\rangle)$\n",
    "5. $\\tfrac{1}{\\sqrt{2}}\\begin{bmatrix}i\\\\1\\end{bmatrix}$"
   ]
  },
  {
   "cell_type": "code",
   "execution_count": null,
   "metadata": {},
   "outputs": [],
   "source": [
    "# Starten Sie hier!"
   ]
  },
  {
   "cell_type": "markdown",
   "metadata": {},
   "source": [
    "## Qiskit ##"
   ]
  },
  {
   "cell_type": "code",
   "execution_count": null,
   "metadata": {},
   "outputs": [],
   "source": [
    "import qiskit\n",
    "qiskit.__qiskit_version__"
   ]
  },
  {
   "cell_type": "markdown",
   "metadata": {},
   "source": [
    "## Copyright\n",
    "\n",
    "Copyright 2021 SVA System Vertrieb Alexander GmbH\n",
    "\n",
    "Licensed under the Apache License, Version 2.0 (the \"License\"); you may not use this file except in compliance with the License. You may obtain a copy of the License at http://www.apache.org/licenses/LICENSE-2.0.\n",
    "\n",
    "Unless required by applicable law or agreed to in writing, software distributed under the License is distributed on an \"AS IS\" BASIS, WITHOUT WARRANTIES OR CONDITIONS OF ANY KIND, either express or implied. See the License for the specific language governing permissions and limitations under the License.\n"
   ]
  }
 ],
 "metadata": {
  "kernelspec": {
   "name": "python3",
   "display_name": "Python 3.8.8 64-bit ('qcmb-training': conda)"
  },
  "language_info": {
   "codemirror_mode": {
    "name": "ipython",
    "version": 3
   },
   "file_extension": ".py",
   "mimetype": "text/x-python",
   "name": "python",
   "nbconvert_exporter": "python",
   "pygments_lexer": "ipython3",
   "version": "3.8.8"
  },
  "interpreter": {
   "hash": "7df1cf4de938356de47c46bf93ed6edf3bcb8be5740fb4557e4d948a34cd0218"
  }
 },
 "nbformat": 4,
 "nbformat_minor": 4
}