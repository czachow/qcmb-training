{
 "cells": [
  {
   "cell_type": "markdown",
   "metadata": {},
   "source": [
    "# Modul 0 - Inhalt und Tools\n",
    "\n",
    "Eine Schulungsserie der Meetup-Gruppe **[Quantum Computing meets Business - Rhineland](https://www.meetup.com/de-DE/Quantum-Computing-meets-Business-Rhineland/)**\n",
    "\n",
    "(Adapted from [qiskit-textbook](https://github.com/qiskit-community/qiskit-textbook))\n",
    "\n"
   ]
  },
  {
   "cell_type": "markdown",
   "metadata": {},
   "source": [
    "## Einleitung: \n",
    "\n",
    "Basierend auf dem Material des IBM [Qiskit-Textbook](https://github.com/qiskit-community/qiskit-textbook) haben wir hier kostenfreies Schulungsmaterial für unsere Meetup Gruppe geschaffen. Das Schulungsmaterial ist in deutscher Sprache gehalten und nutzt das Qiskit Framework. Die Schulung gibt einen Einblick in die Funktionsweise von Quantencomputer und ihrer Programmierung. "
   ]
  },
  {
   "cell_type": "markdown",
   "metadata": {},
   "source": [
    "## Voraussetzungen\n",
    "\n",
    "Die einzige Voraussetzung, um an der Schulung teilnehmen zu können, sind rudimentäre Kenntnisse in der Programmierung mit Python und in der Nutzung von Jupyter Notebooks. Im Appendix unter [Python und Jupyter](./99-1-Python_Jupyter.ipynb) lassen sich diese Kenntnisse nochmal auffrischen. "
   ]
  },
  {
   "cell_type": "markdown",
   "metadata": {},
   "source": [
    "## Inhaltverzeichnis\n",
    "\n",
    "1. [Uebersicht und Einfuehrung](./01-Uebersicht_Einfuehrung.ipynb)\n",
    "2. [Quantenzustaende](./02-Quantenzustaende.ipynb)\n",
    "3. [Ein Qubit Gates I](./03-EinQubitGatesI.ipynb)\n",
    "4. [Ein Qubit Gates II](./04-EinQubitGatesII.ipynb)\n",
    "5. [Mehr Qubit Gates und Verschraenkung](./02-MehrQubitsGates_Verschraenkung.ipynb)\n",
    "99. [Appendix](./99-0-Appendix.ipynb)\n",
    "    1. [Python und Jupyter](./99-1-Python_Jupyter.ipynb)\n",
    "    2. [Komplexe Zahlen](./99-2-KomplexeZahlen.ipynb)\n",
    "    3. [Lineare Algebra](./99-3-LineareAlgebra.ipynb)"
   ]
  },
  {
   "cell_type": "markdown",
   "metadata": {},
   "source": [
    "## Tools\n",
    "\n",
    "Unterschiedliche Tools für verschiedene Umgebungen. "
   ]
  },
  {
   "cell_type": "code",
   "execution_count": 1,
   "metadata": {},
   "outputs": [
    {
     "data": {
      "text/html": [
       "<style>\n",
       "details {\n",
       "    display: block;\n",
       "    border: 1px solid black;\n",
       "    background-color: #eaeaff;\n",
       "    padding: 0.5em;\n",
       "    text-align: center;\n",
       "    margin: 0 8em;\n",
       "    cursor: pointer;\n",
       "}\n",
       "</style>\n"
      ],
      "text/plain": [
       "<IPython.core.display.HTML object>"
      ]
     },
     "metadata": {},
     "output_type": "display_data"
    }
   ],
   "source": [
    "%%html\n",
    "<style>\n",
    "details {\n",
    "    display: block;\n",
    "    border: 1px solid black;\n",
    "    background-color: #eaeaff;\n",
    "    padding: 0.5em;\n",
    "    text-align: center;\n",
    "    margin: 0 8em;\n",
    "    cursor: pointer;\n",
    "}\n",
    "</style>"
   ]
  },
  {
   "cell_type": "code",
   "execution_count": 2,
   "metadata": {},
   "outputs": [],
   "source": [
    "# Suppress all Warnings\n",
    "\n",
    "from warnings import simplefilter\n",
    "simplefilter(\"ignore\")"
   ]
  },
  {
   "cell_type": "code",
   "execution_count": 3,
   "metadata": {},
   "outputs": [],
   "source": [
    "# Vorbereitung der Umgebung\n",
    "\n",
    "if 'google.colab' in str(get_ipython()):\n",
    "    !pip install qiskit==0.24.0 --quiet"
   ]
  },
  {
   "cell_type": "code",
   "execution_count": 7,
   "metadata": {},
   "outputs": [],
   "source": [
    "# Widgets\n",
    "import ipywidgets as widgets\n",
    "from math import sin, cos\n",
    "from qiskit.visualization import plot_bloch_vector\n",
    "\n",
    "def plot_bloch_vector_spherical(coords):\n",
    "    theta, phi, r = coords[0], coords[1], coords[2]\n",
    "    x = r*sin(theta)*cos(phi)\n",
    "    y = r*sin(theta)*sin(phi)\n",
    "    z = r*cos(theta)\n",
    "    output = widgets.Output()\n",
    "    return plot_bloch_vector([x,y,z])"
   ]
  },
  {
   "cell_type": "markdown",
   "metadata": {},
   "source": [
    "## Qiskit"
   ]
  },
  {
   "cell_type": "code",
   "execution_count": 5,
   "metadata": {},
   "outputs": [
    {
     "data": {
      "text/plain": [
       "{'qiskit-terra': '0.16.4',\n",
       " 'qiskit-aer': '0.7.6',\n",
       " 'qiskit-ignis': '0.5.2',\n",
       " 'qiskit-ibmq-provider': '0.12.1',\n",
       " 'qiskit-aqua': '0.8.2',\n",
       " 'qiskit': '0.24.0'}"
      ]
     },
     "execution_count": 5,
     "metadata": {},
     "output_type": "execute_result"
    }
   ],
   "source": [
    "import qiskit\n",
    "qiskit.__qiskit_version__"
   ]
  },
  {
   "cell_type": "markdown",
   "metadata": {},
   "source": [
    "## Copyright\n",
    "\n",
    "Copyright 2021 Dual Software GmbH and SVA System Vertrieb Alexander GmbH\n",
    "\n",
    "Licensed under the Apache License, Version 2.0 (the \"License\"); you may not use this file except in compliance with the License. You may obtain a copy of the License at http://www.apache.org/licenses/LICENSE-2.0.\n",
    "\n",
    "Unless required by applicable law or agreed to in writing, software distributed under the License is distributed on an \"AS IS\" BASIS, WITHOUT WARRANTIES OR CONDITIONS OF ANY KIND, either express or implied. See the License for the specific language governing permissions and limitations under the License.\n"
   ]
  },
  {
   "cell_type": "code",
   "execution_count": null,
   "metadata": {},
   "outputs": [],
   "source": []
  }
 ],
 "metadata": {
  "kernelspec": {
   "display_name": "qcmb-training",
   "language": "python",
   "name": "qcmb-training"
  },
  "language_info": {
   "codemirror_mode": {
    "name": "ipython",
    "version": 3
   },
   "file_extension": ".py",
   "mimetype": "text/x-python",
   "name": "python",
   "nbconvert_exporter": "python",
   "pygments_lexer": "ipython3",
   "version": "3.8.10"
  }
 },
 "nbformat": 4,
 "nbformat_minor": 4
}
