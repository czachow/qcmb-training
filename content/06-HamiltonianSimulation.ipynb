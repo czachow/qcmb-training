{
 "cells": [
  {
   "cell_type": "markdown",
   "metadata": {
    "tags": [
     "remove_cell"
    ]
   },
   "source": [
    "# Modul 06 - Hamiltonian Simulation\n",
    "\n",
    "Eine Schulungsserie der Meetup-Gruppe **[Quantum Computing meets Business - Rhineland](https://www.meetup.com/de-DE/Quantum-Computing-meets-Business-Rhineland/)**\n",
    "\n",
    "(Adapted from [qiskit-textbook](https://github.com/qiskit-community/qiskit-textbook))"
   ]
  },
  {
   "cell_type": "code",
   "execution_count": null,
   "metadata": {},
   "outputs": [],
   "source": [
    "run ./00-Inhalt_Tools.ipynb"
   ]
  },
  {
   "cell_type": "markdown",
   "metadata": {},
   "source": [
    "## Inhaltsverzeichnis\n",
    "\n",
    "1. [Ising Modell](#isingmodel)\n",
    "2. [Schrödinger Gleichung](#schroedinger)\n",
    "3. [Trotter Approximierung](#trotterization)\n",
    "\n",
    "\n",
    "## 1. Das Ising Model <a id=\"isingmodel\"></a>\n",
    "\n",
    "Magneten sind Materialien mit denen wir schon im Kindesalter spielen und die für uns selbstverständlich sind. Aus physikalischer Sicht sind magnetische Materialien jedoch ein komplexes Phänomen, welches erst durch die Entdeckung der Quatenmechanik vollständig erklärt werden konnte. Dahingegen ist das Phänomen des Elektromagnetismus weitgehend durch Schulphysik erklärbar. \n",
    "\n",
    "Zur Beschreibung von Materialien mit magnetischen Eigenschaften wurden im Laufe der Zeit verschiedene Modelle entwickelt. Das Einfachste von ihnen ist das sog. Ising-Modell. Das Ising Modell besteht aus mehreren Spins. Hierbei handelt es sich um quantenmechanische **Elementarmagneten**, welche bei Messung nur zwei mögliche Ausrichtungen besitzen. Diese Ausrichtungen werden als Spin-Up und Spin-Down bezeichnet. Mathematisch lassen sich die Spins durch die Pauli-Operatoren $\\sigma^{\\alpha}_j$ mit $\\alpha \\in \\{x, y, z\\}$ beschreiben. Untereinander wechselwirken die Spins mit ihren direkten Nachbarn. Zusätzlich unterliegen sie einem externen Magnetfeld, welches die einzelnen Spins beeinflusst. \n",
    "\n",
    "Wie alle quantenmechanischen Systeme wird das gesamte Verhalten des Ising-Modells durch seinen Hamilton Operator beschrieben. Dieser Operator beschreibt die Wechselwirkungen der einzelnen Systembestandteile untereinander und mit der Umgebung. Für das Ising Modell ergibt er sich wie folgt: \n",
    "\n",
    "$$\n",
    "\\hat{H} = \\sum_{<j,k>} J \\sigma^z_j \\sigma^z_k + \\sum_j h \\sigma^x_j \n",
    "$$\n",
    "\n",
    "Hierbei ist $J$ die Stärke der Wechselwirkung zwischen den Spins und $h$ die Stärke des externen Magnetfelds. Während die Interaktion der Spins entlang der z-Achse stattfindet, wirkt das externe Magnetfeld entlang der x-Achse. In der folgenden Abbildung sind die Wechselwirkungen und die Spins als Punkte mit Pfeil dargestellt. \n",
    "\n",
    "<float>\n",
    "    <center>\n",
    "        <img src=\"../assets/06-HamiltonianSimulation/ising_model.svg\" style=\"width:800px\"/>\n",
    "    </center>\n",
    "</float>"
   ]
  },
  {
   "cell_type": "markdown",
   "metadata": {},
   "source": [
    "## 2. Die Schrödinger Gleichung <a id=\"schroedinger\"></a>\n",
    "\n",
    "Die Schrödinger Gleichung ist eine der fundamentalsten Gleichungen der Quantenmechanik. Sie beschreibt die zeitliche Entwicklung jedes Quantensystems. Im Allgemeinen hat sie die folgende Form:\n",
    "\n",
    "$$\n",
    "\\hat{H} \\lvert \\psi (t) \\rangle = -i  \\frac{\\partial}{\\partial t} \\lvert \\psi (t) \\rangle ,\n",
    "$$\n",
    "\n",
    "hierbei beschreibt $\\lvert \\psi \\rangle$ den Zustandsvektor des Systems und $\\hat{H}$ den bereits oben beschriebenen Hamilton Operator des Systems. Dieser Operator beschreibt das System im Hinblick auf die möglichen Interaktionen mit sich selbst bzw. der Umgebung. Falls dieser Operator nicht von der Zeit abhängig ist, lässt sich die Gleichung formal lösen als:\n",
    "\n",
    "$$\n",
    "\\lvert \\psi (t) \\rangle = \\exp \\left( -i t \\hat{H} \\right) \\lvert \\psi (t=0) \\rangle .\n",
    "$$\n",
    "\n",
    "Dies ist möglich, da es sich bei Operatoren um eine Verallgemeinerung der Matrizen handelt und sich damit entsprechend Exponentiale berechnen lassen. Genauere Informationen zur Berechnung von Matrix-Exponentialen finden Sie im Anhang im Kapitel [99-3-LineareAlgebra](../content/99-3-LineareAlgebra.ipynb).\n",
    " \n",
    "Kennt man also den Anfangszustand eines Systems und den Hamilton-Operator lässt sich der Zustand des Systems zu jeder beliebigen Zeit durch die obige Gleichung berechnen. In der Praxis steht man jedoch meist vor dem Problem, dass die Gleichung nicht direkt berechenbar ist. An dieser Stelle wollen wir nun den Quantencomputer nutzen, um die Gleichung zu berechnen. Die grundsätzliche Idee ist wie folgt: Zunächst nutzen einen Quantenschaltkreis, um den Zustand zum Zeitpunkt null also den Anfangszustand zu erstellen. Dann erstellen wir einen Schaltkreis, welcher die zeitliche Entwicklung des Systems beschreibt und messen schlussendlich den Endzustand. Aus der Messung des Endzustands können wir diesen Rekonstruieren und haben das System damit simuliert. "
   ]
  },
  {
   "cell_type": "markdown",
   "metadata": {},
   "source": [
    "## 3. Klassische Lösung <a id=\"classicalsolution\"></a>\n",
    "\n",
    "Bevor wir nun in die Implementierung mit Qiskit einsteigen, wollen wir uns die Lösung des Problems mit klassischen Mitteln anschauen. Dazu müssen wir zunächst den Hamilton Operator als Matrix darstellen und können dann dessen Matrix-Exponential berechnen. Im Anschluss können wir dann den zu betrachtenden Anfangszustand definieren und uns dessen zeitliche Entwicklung anschauen. Aus Gründen der Einfachheit wollen wir ein System aus drei Spins mit dem Anfangszustand 100 simulieren. Die Kodiereung der Anfangszustands bedeutet, dass der erste Spin im Spin-down Zustand und die anderen um Spin-up Zustand sind. "
   ]
  },
  {
   "cell_type": "code",
   "execution_count": 4,
   "metadata": {},
   "outputs": [],
   "source": [
    "from sympy import Matrix, exp, symbols\n",
    "from sympy.physics.quantum import TensorProduct"
   ]
  },
  {
   "cell_type": "code",
   "execution_count": 5,
   "metadata": {},
   "outputs": [],
   "source": [
    "t, h, J = symbols(\"t, h, J\")"
   ]
  },
  {
   "cell_type": "code",
   "execution_count": 6,
   "metadata": {},
   "outputs": [],
   "source": [
    "x = Matrix([[0, 1], [1, 0]])\n",
    "y = Matrix([[0, -1j], [1j, 0]])\n",
    "z = Matrix([[1, 0], [0, -1]])\n",
    "o = Matrix([[1, 0], [0, 1]])"
   ]
  },
  {
   "cell_type": "code",
   "execution_count": 26,
   "metadata": {},
   "outputs": [
    {
     "data": {
      "text/latex": [
       "$\\displaystyle \\left[\\begin{matrix}1 & 0\\\\0 & -1\\end{matrix}\\right]$"
      ],
      "text/plain": [
       "Matrix([\n",
       "[1,  0],\n",
       "[0, -1]])"
      ]
     },
     "execution_count": 26,
     "metadata": {},
     "output_type": "execute_result"
    }
   ],
   "source": [
    "z"
   ]
  },
  {
   "cell_type": "code",
   "execution_count": 7,
   "metadata": {},
   "outputs": [],
   "source": [
    "zoo = TensorProduct(z, o, o)\n",
    "ozo = TensorProduct(o, z, o)\n",
    "ooz = TensorProduct(o, o, z)\n",
    "xoo = TensorProduct(x, o, o)\n",
    "oxo = TensorProduct(o, x, o)\n",
    "oox = TensorProduct(o, o, x)"
   ]
  },
  {
   "cell_type": "code",
   "execution_count": 18,
   "metadata": {},
   "outputs": [
    {
     "data": {
      "text/latex": [
       "$\\displaystyle \\left[\\begin{matrix}2 J & h & h & 0 & h & 0 & 0 & 0\\\\h & 0 & 0 & h & 0 & h & 0 & 0\\\\h & 0 & - 2 J & h & 0 & 0 & h & 0\\\\0 & h & h & 0 & 0 & 0 & 0 & h\\\\h & 0 & 0 & 0 & 0 & h & h & 0\\\\0 & h & 0 & 0 & h & - 2 J & 0 & h\\\\0 & 0 & h & 0 & h & 0 & 0 & h\\\\0 & 0 & 0 & h & 0 & h & h & 2 J\\end{matrix}\\right]$"
      ],
      "text/plain": [
       "Matrix([\n",
       "[2*J, h,    h, 0, h,    0, 0,   0],\n",
       "[  h, 0,    0, h, 0,    h, 0,   0],\n",
       "[  h, 0, -2*J, h, 0,    0, h,   0],\n",
       "[  0, h,    h, 0, 0,    0, 0,   h],\n",
       "[  h, 0,    0, 0, 0,    h, h,   0],\n",
       "[  0, h,    0, 0, h, -2*J, 0,   h],\n",
       "[  0, 0,    h, 0, h,    0, 0,   h],\n",
       "[  0, 0,    0, h, 0,    h, h, 2*J]])"
      ]
     },
     "execution_count": 18,
     "metadata": {},
     "output_type": "execute_result"
    }
   ],
   "source": [
    "H = J * (zoo * ozo + ozo * ooz) + h * (xoo + oxo + oox)\n",
    "H"
   ]
  },
  {
   "cell_type": "code",
   "execution_count": 17,
   "metadata": {},
   "outputs": [
    {
     "ename": "NotImplementedError",
     "evalue": "Exponentiation is implemented only for matrices for which the Jordan normal form can be computed",
     "output_type": "error",
     "traceback": [
      "\u001b[0;31m---------------------------------------------------------------------------\u001b[0m",
      "\u001b[0;31mTypeError\u001b[0m                                 Traceback (most recent call last)",
      "\u001b[0;32m/opt/miniforge3/envs/qcmb-training/lib/python3.8/site-packages/sympy/core/cache.py\u001b[0m in \u001b[0;36mwrapper\u001b[0;34m(*args, **kwargs)\u001b[0m\n\u001b[1;32m     71\u001b[0m             \u001b[0;32mtry\u001b[0m\u001b[0;34m:\u001b[0m\u001b[0;34m\u001b[0m\u001b[0;34m\u001b[0m\u001b[0m\n\u001b[0;32m---> 72\u001b[0;31m                 \u001b[0mretval\u001b[0m \u001b[0;34m=\u001b[0m \u001b[0mcfunc\u001b[0m\u001b[0;34m(\u001b[0m\u001b[0;34m*\u001b[0m\u001b[0margs\u001b[0m\u001b[0;34m,\u001b[0m \u001b[0;34m**\u001b[0m\u001b[0mkwargs\u001b[0m\u001b[0;34m)\u001b[0m\u001b[0;34m\u001b[0m\u001b[0;34m\u001b[0m\u001b[0m\n\u001b[0m\u001b[1;32m     73\u001b[0m             \u001b[0;32mexcept\u001b[0m \u001b[0mTypeError\u001b[0m \u001b[0;32mas\u001b[0m \u001b[0me\u001b[0m\u001b[0;34m:\u001b[0m\u001b[0;34m\u001b[0m\u001b[0;34m\u001b[0m\u001b[0m\n",
      "\u001b[0;31mTypeError\u001b[0m: unhashable type: 'MutableDenseMatrix'",
      "\nDuring handling of the above exception, another exception occurred:\n",
      "\u001b[0;31mTypeError\u001b[0m                                 Traceback (most recent call last)",
      "\u001b[0;32m/opt/miniforge3/envs/qcmb-training/lib/python3.8/site-packages/sympy/core/cache.py\u001b[0m in \u001b[0;36mwrapper\u001b[0;34m(*args, **kwargs)\u001b[0m\n\u001b[1;32m     71\u001b[0m             \u001b[0;32mtry\u001b[0m\u001b[0;34m:\u001b[0m\u001b[0;34m\u001b[0m\u001b[0;34m\u001b[0m\u001b[0m\n\u001b[0;32m---> 72\u001b[0;31m                 \u001b[0mretval\u001b[0m \u001b[0;34m=\u001b[0m \u001b[0mcfunc\u001b[0m\u001b[0;34m(\u001b[0m\u001b[0;34m*\u001b[0m\u001b[0margs\u001b[0m\u001b[0;34m,\u001b[0m \u001b[0;34m**\u001b[0m\u001b[0mkwargs\u001b[0m\u001b[0;34m)\u001b[0m\u001b[0;34m\u001b[0m\u001b[0;34m\u001b[0m\u001b[0m\n\u001b[0m\u001b[1;32m     73\u001b[0m             \u001b[0;32mexcept\u001b[0m \u001b[0mTypeError\u001b[0m \u001b[0;32mas\u001b[0m \u001b[0me\u001b[0m\u001b[0;34m:\u001b[0m\u001b[0;34m\u001b[0m\u001b[0;34m\u001b[0m\u001b[0m\n",
      "\u001b[0;31mTypeError\u001b[0m: unhashable type: 'MutableDenseMatrix'",
      "\nDuring handling of the above exception, another exception occurred:\n",
      "\u001b[0;31mMatrixError\u001b[0m                               Traceback (most recent call last)",
      "\u001b[0;32m/opt/miniforge3/envs/qcmb-training/lib/python3.8/site-packages/sympy/matrices/matrices.py\u001b[0m in \u001b[0;36mexp\u001b[0;34m(self)\u001b[0m\n\u001b[1;32m   1642\u001b[0m         \u001b[0;32mtry\u001b[0m\u001b[0;34m:\u001b[0m\u001b[0;34m\u001b[0m\u001b[0;34m\u001b[0m\u001b[0m\n\u001b[0;32m-> 1643\u001b[0;31m             \u001b[0mP\u001b[0m\u001b[0;34m,\u001b[0m \u001b[0mJ\u001b[0m \u001b[0;34m=\u001b[0m \u001b[0mself\u001b[0m\u001b[0;34m.\u001b[0m\u001b[0mjordan_form\u001b[0m\u001b[0;34m(\u001b[0m\u001b[0;34m)\u001b[0m\u001b[0;34m\u001b[0m\u001b[0;34m\u001b[0m\u001b[0m\n\u001b[0m\u001b[1;32m   1644\u001b[0m             \u001b[0mcells\u001b[0m \u001b[0;34m=\u001b[0m \u001b[0mJ\u001b[0m\u001b[0;34m.\u001b[0m\u001b[0mget_diag_blocks\u001b[0m\u001b[0;34m(\u001b[0m\u001b[0;34m)\u001b[0m\u001b[0;34m\u001b[0m\u001b[0;34m\u001b[0m\u001b[0m\n",
      "\u001b[0;32m/opt/miniforge3/envs/qcmb-training/lib/python3.8/site-packages/sympy/matrices/matrices.py\u001b[0m in \u001b[0;36mjordan_form\u001b[0;34m(self, calc_transform, **kwargs)\u001b[0m\n\u001b[1;32m    415\u001b[0m     \u001b[0;32mdef\u001b[0m \u001b[0mjordan_form\u001b[0m\u001b[0;34m(\u001b[0m\u001b[0mself\u001b[0m\u001b[0;34m,\u001b[0m \u001b[0mcalc_transform\u001b[0m\u001b[0;34m=\u001b[0m\u001b[0;32mTrue\u001b[0m\u001b[0;34m,\u001b[0m \u001b[0;34m**\u001b[0m\u001b[0mkwargs\u001b[0m\u001b[0;34m)\u001b[0m\u001b[0;34m:\u001b[0m\u001b[0;34m\u001b[0m\u001b[0;34m\u001b[0m\u001b[0m\n\u001b[0;32m--> 416\u001b[0;31m         \u001b[0;32mreturn\u001b[0m \u001b[0m_jordan_form\u001b[0m\u001b[0;34m(\u001b[0m\u001b[0mself\u001b[0m\u001b[0;34m,\u001b[0m \u001b[0mcalc_transform\u001b[0m\u001b[0;34m=\u001b[0m\u001b[0mcalc_transform\u001b[0m\u001b[0;34m,\u001b[0m \u001b[0;34m**\u001b[0m\u001b[0mkwargs\u001b[0m\u001b[0;34m)\u001b[0m\u001b[0;34m\u001b[0m\u001b[0;34m\u001b[0m\u001b[0m\n\u001b[0m\u001b[1;32m    417\u001b[0m \u001b[0;34m\u001b[0m\u001b[0m\n",
      "\u001b[0;32m/opt/miniforge3/envs/qcmb-training/lib/python3.8/site-packages/sympy/matrices/eigen.py\u001b[0m in \u001b[0;36m_jordan_form\u001b[0;34m(M, calc_transform, chop)\u001b[0m\n\u001b[1;32m   1194\u001b[0m         \u001b[0;32mif\u001b[0m \u001b[0mx\u001b[0m\u001b[0;34m.\u001b[0m\u001b[0mhas\u001b[0m\u001b[0;34m(\u001b[0m\u001b[0mCRootOf\u001b[0m\u001b[0;34m)\u001b[0m\u001b[0;34m:\u001b[0m\u001b[0;34m\u001b[0m\u001b[0;34m\u001b[0m\u001b[0m\n\u001b[0;32m-> 1195\u001b[0;31m             raise MatrixError(\n\u001b[0m\u001b[1;32m   1196\u001b[0m                 \u001b[0;34m\"Jordan normal form is not implemented if the matrix have \"\u001b[0m\u001b[0;34m\u001b[0m\u001b[0;34m\u001b[0m\u001b[0m\n",
      "\u001b[0;31mMatrixError\u001b[0m: Jordan normal form is not implemented if the matrix have eigenvalues in CRootOf form",
      "\nDuring handling of the above exception, another exception occurred:\n",
      "\u001b[0;31mNotImplementedError\u001b[0m                       Traceback (most recent call last)",
      "\u001b[0;32m/var/folders/4b/2r74vx6j7wv2t7vvmmnqfj2hjcb0wl/T/ipykernel_37666/3079028448.py\u001b[0m in \u001b[0;36m<module>\u001b[0;34m\u001b[0m\n\u001b[0;32m----> 1\u001b[0;31m \u001b[0mU\u001b[0m \u001b[0;34m=\u001b[0m \u001b[0mexp\u001b[0m\u001b[0;34m(\u001b[0m\u001b[0;34m-\u001b[0m\u001b[0;36m1j\u001b[0m \u001b[0;34m*\u001b[0m \u001b[0mt\u001b[0m \u001b[0;34m*\u001b[0m \u001b[0mH\u001b[0m\u001b[0;34m.\u001b[0m\u001b[0msubs\u001b[0m\u001b[0;34m(\u001b[0m\u001b[0;34m{\u001b[0m\u001b[0;34m\"h\"\u001b[0m\u001b[0;34m:\u001b[0m \u001b[0;36m1\u001b[0m\u001b[0;34m,\u001b[0m \u001b[0;34m\"J\"\u001b[0m\u001b[0;34m:\u001b[0m \u001b[0;34m-\u001b[0m\u001b[0;36m1\u001b[0m\u001b[0;34m}\u001b[0m\u001b[0;34m)\u001b[0m\u001b[0;34m)\u001b[0m\u001b[0;34m\u001b[0m\u001b[0;34m\u001b[0m\u001b[0m\n\u001b[0m\u001b[1;32m      2\u001b[0m \u001b[0mU\u001b[0m\u001b[0;34m\u001b[0m\u001b[0;34m\u001b[0m\u001b[0m\n",
      "\u001b[0;32m/opt/miniforge3/envs/qcmb-training/lib/python3.8/site-packages/sympy/core/cache.py\u001b[0m in \u001b[0;36mwrapper\u001b[0;34m(*args, **kwargs)\u001b[0m\n\u001b[1;32m     74\u001b[0m                 \u001b[0;32mif\u001b[0m \u001b[0;32mnot\u001b[0m \u001b[0me\u001b[0m\u001b[0;34m.\u001b[0m\u001b[0margs\u001b[0m \u001b[0;32mor\u001b[0m \u001b[0;32mnot\u001b[0m \u001b[0me\u001b[0m\u001b[0;34m.\u001b[0m\u001b[0margs\u001b[0m\u001b[0;34m[\u001b[0m\u001b[0;36m0\u001b[0m\u001b[0;34m]\u001b[0m\u001b[0;34m.\u001b[0m\u001b[0mstartswith\u001b[0m\u001b[0;34m(\u001b[0m\u001b[0;34m'unhashable type:'\u001b[0m\u001b[0;34m)\u001b[0m\u001b[0;34m:\u001b[0m\u001b[0;34m\u001b[0m\u001b[0;34m\u001b[0m\u001b[0m\n\u001b[1;32m     75\u001b[0m                     \u001b[0;32mraise\u001b[0m\u001b[0;34m\u001b[0m\u001b[0;34m\u001b[0m\u001b[0m\n\u001b[0;32m---> 76\u001b[0;31m                 \u001b[0mretval\u001b[0m \u001b[0;34m=\u001b[0m \u001b[0mfunc\u001b[0m\u001b[0;34m(\u001b[0m\u001b[0;34m*\u001b[0m\u001b[0margs\u001b[0m\u001b[0;34m,\u001b[0m \u001b[0;34m**\u001b[0m\u001b[0mkwargs\u001b[0m\u001b[0;34m)\u001b[0m\u001b[0;34m\u001b[0m\u001b[0;34m\u001b[0m\u001b[0m\n\u001b[0m\u001b[1;32m     77\u001b[0m             \u001b[0;32mreturn\u001b[0m \u001b[0mretval\u001b[0m\u001b[0;34m\u001b[0m\u001b[0;34m\u001b[0m\u001b[0m\n\u001b[1;32m     78\u001b[0m \u001b[0;34m\u001b[0m\u001b[0m\n",
      "\u001b[0;32m/opt/miniforge3/envs/qcmb-training/lib/python3.8/site-packages/sympy/core/function.py\u001b[0m in \u001b[0;36m__new__\u001b[0;34m(cls, *args, **options)\u001b[0m\n\u001b[1;32m    471\u001b[0m \u001b[0;34m\u001b[0m\u001b[0m\n\u001b[1;32m    472\u001b[0m         \u001b[0mevaluate\u001b[0m \u001b[0;34m=\u001b[0m \u001b[0moptions\u001b[0m\u001b[0;34m.\u001b[0m\u001b[0mget\u001b[0m\u001b[0;34m(\u001b[0m\u001b[0;34m'evaluate'\u001b[0m\u001b[0;34m,\u001b[0m \u001b[0mglobal_parameters\u001b[0m\u001b[0;34m.\u001b[0m\u001b[0mevaluate\u001b[0m\u001b[0;34m)\u001b[0m\u001b[0;34m\u001b[0m\u001b[0;34m\u001b[0m\u001b[0m\n\u001b[0;32m--> 473\u001b[0;31m         \u001b[0mresult\u001b[0m \u001b[0;34m=\u001b[0m \u001b[0msuper\u001b[0m\u001b[0;34m(\u001b[0m\u001b[0;34m)\u001b[0m\u001b[0;34m.\u001b[0m\u001b[0m__new__\u001b[0m\u001b[0;34m(\u001b[0m\u001b[0mcls\u001b[0m\u001b[0;34m,\u001b[0m \u001b[0;34m*\u001b[0m\u001b[0margs\u001b[0m\u001b[0;34m,\u001b[0m \u001b[0;34m**\u001b[0m\u001b[0moptions\u001b[0m\u001b[0;34m)\u001b[0m\u001b[0;34m\u001b[0m\u001b[0;34m\u001b[0m\u001b[0m\n\u001b[0m\u001b[1;32m    474\u001b[0m         \u001b[0;32mif\u001b[0m \u001b[0mevaluate\u001b[0m \u001b[0;32mand\u001b[0m \u001b[0misinstance\u001b[0m\u001b[0;34m(\u001b[0m\u001b[0mresult\u001b[0m\u001b[0;34m,\u001b[0m \u001b[0mcls\u001b[0m\u001b[0;34m)\u001b[0m \u001b[0;32mand\u001b[0m \u001b[0mresult\u001b[0m\u001b[0;34m.\u001b[0m\u001b[0margs\u001b[0m\u001b[0;34m:\u001b[0m\u001b[0;34m\u001b[0m\u001b[0;34m\u001b[0m\u001b[0m\n\u001b[1;32m    475\u001b[0m             \u001b[0mpr2\u001b[0m \u001b[0;34m=\u001b[0m \u001b[0mmin\u001b[0m\u001b[0;34m(\u001b[0m\u001b[0mcls\u001b[0m\u001b[0;34m.\u001b[0m\u001b[0m_should_evalf\u001b[0m\u001b[0;34m(\u001b[0m\u001b[0ma\u001b[0m\u001b[0;34m)\u001b[0m \u001b[0;32mfor\u001b[0m \u001b[0ma\u001b[0m \u001b[0;32min\u001b[0m \u001b[0mresult\u001b[0m\u001b[0;34m.\u001b[0m\u001b[0margs\u001b[0m\u001b[0;34m)\u001b[0m\u001b[0;34m\u001b[0m\u001b[0;34m\u001b[0m\u001b[0m\n",
      "\u001b[0;32m/opt/miniforge3/envs/qcmb-training/lib/python3.8/site-packages/sympy/core/cache.py\u001b[0m in \u001b[0;36mwrapper\u001b[0;34m(*args, **kwargs)\u001b[0m\n\u001b[1;32m     74\u001b[0m                 \u001b[0;32mif\u001b[0m \u001b[0;32mnot\u001b[0m \u001b[0me\u001b[0m\u001b[0;34m.\u001b[0m\u001b[0margs\u001b[0m \u001b[0;32mor\u001b[0m \u001b[0;32mnot\u001b[0m \u001b[0me\u001b[0m\u001b[0;34m.\u001b[0m\u001b[0margs\u001b[0m\u001b[0;34m[\u001b[0m\u001b[0;36m0\u001b[0m\u001b[0;34m]\u001b[0m\u001b[0;34m.\u001b[0m\u001b[0mstartswith\u001b[0m\u001b[0;34m(\u001b[0m\u001b[0;34m'unhashable type:'\u001b[0m\u001b[0;34m)\u001b[0m\u001b[0;34m:\u001b[0m\u001b[0;34m\u001b[0m\u001b[0;34m\u001b[0m\u001b[0m\n\u001b[1;32m     75\u001b[0m                     \u001b[0;32mraise\u001b[0m\u001b[0;34m\u001b[0m\u001b[0;34m\u001b[0m\u001b[0m\n\u001b[0;32m---> 76\u001b[0;31m                 \u001b[0mretval\u001b[0m \u001b[0;34m=\u001b[0m \u001b[0mfunc\u001b[0m\u001b[0;34m(\u001b[0m\u001b[0;34m*\u001b[0m\u001b[0margs\u001b[0m\u001b[0;34m,\u001b[0m \u001b[0;34m**\u001b[0m\u001b[0mkwargs\u001b[0m\u001b[0;34m)\u001b[0m\u001b[0;34m\u001b[0m\u001b[0;34m\u001b[0m\u001b[0m\n\u001b[0m\u001b[1;32m     77\u001b[0m             \u001b[0;32mreturn\u001b[0m \u001b[0mretval\u001b[0m\u001b[0;34m\u001b[0m\u001b[0;34m\u001b[0m\u001b[0m\n\u001b[1;32m     78\u001b[0m \u001b[0;34m\u001b[0m\u001b[0m\n",
      "\u001b[0;32m/opt/miniforge3/envs/qcmb-training/lib/python3.8/site-packages/sympy/core/function.py\u001b[0m in \u001b[0;36m__new__\u001b[0;34m(cls, *args, **options)\u001b[0m\n\u001b[1;32m    283\u001b[0m \u001b[0;34m\u001b[0m\u001b[0m\n\u001b[1;32m    284\u001b[0m         \u001b[0;32mif\u001b[0m \u001b[0mevaluate\u001b[0m\u001b[0;34m:\u001b[0m\u001b[0;34m\u001b[0m\u001b[0;34m\u001b[0m\u001b[0m\n\u001b[0;32m--> 285\u001b[0;31m             \u001b[0mevaluated\u001b[0m \u001b[0;34m=\u001b[0m \u001b[0mcls\u001b[0m\u001b[0;34m.\u001b[0m\u001b[0meval\u001b[0m\u001b[0;34m(\u001b[0m\u001b[0;34m*\u001b[0m\u001b[0margs\u001b[0m\u001b[0;34m)\u001b[0m\u001b[0;34m\u001b[0m\u001b[0;34m\u001b[0m\u001b[0m\n\u001b[0m\u001b[1;32m    286\u001b[0m             \u001b[0;32mif\u001b[0m \u001b[0mevaluated\u001b[0m \u001b[0;32mis\u001b[0m \u001b[0;32mnot\u001b[0m \u001b[0;32mNone\u001b[0m\u001b[0;34m:\u001b[0m\u001b[0;34m\u001b[0m\u001b[0;34m\u001b[0m\u001b[0m\n\u001b[1;32m    287\u001b[0m                 \u001b[0;32mreturn\u001b[0m \u001b[0mevaluated\u001b[0m\u001b[0;34m\u001b[0m\u001b[0;34m\u001b[0m\u001b[0m\n",
      "\u001b[0;32m/opt/miniforge3/envs/qcmb-training/lib/python3.8/site-packages/sympy/functions/elementary/exponential.py\u001b[0m in \u001b[0;36meval\u001b[0;34m(cls, arg)\u001b[0m\n\u001b[1;32m    275\u001b[0m         \u001b[0;32mfrom\u001b[0m \u001b[0msympy\u001b[0m \u001b[0;32mimport\u001b[0m \u001b[0mim\u001b[0m\u001b[0;34m,\u001b[0m \u001b[0mlogcombine\u001b[0m\u001b[0;34m,\u001b[0m \u001b[0mre\u001b[0m\u001b[0;34m\u001b[0m\u001b[0;34m\u001b[0m\u001b[0m\n\u001b[1;32m    276\u001b[0m         \u001b[0;32mif\u001b[0m \u001b[0misinstance\u001b[0m\u001b[0;34m(\u001b[0m\u001b[0marg\u001b[0m\u001b[0;34m,\u001b[0m \u001b[0mMatrixBase\u001b[0m\u001b[0;34m)\u001b[0m\u001b[0;34m:\u001b[0m\u001b[0;34m\u001b[0m\u001b[0;34m\u001b[0m\u001b[0m\n\u001b[0;32m--> 277\u001b[0;31m             \u001b[0;32mreturn\u001b[0m \u001b[0marg\u001b[0m\u001b[0;34m.\u001b[0m\u001b[0mexp\u001b[0m\u001b[0;34m(\u001b[0m\u001b[0;34m)\u001b[0m\u001b[0;34m\u001b[0m\u001b[0;34m\u001b[0m\u001b[0m\n\u001b[0m\u001b[1;32m    278\u001b[0m         \u001b[0;32melif\u001b[0m \u001b[0mglobal_parameters\u001b[0m\u001b[0;34m.\u001b[0m\u001b[0mexp_is_pow\u001b[0m\u001b[0;34m:\u001b[0m\u001b[0;34m\u001b[0m\u001b[0;34m\u001b[0m\u001b[0m\n\u001b[1;32m    279\u001b[0m             \u001b[0;32mreturn\u001b[0m \u001b[0mPow\u001b[0m\u001b[0;34m(\u001b[0m\u001b[0mS\u001b[0m\u001b[0;34m.\u001b[0m\u001b[0mExp1\u001b[0m\u001b[0;34m,\u001b[0m \u001b[0marg\u001b[0m\u001b[0;34m)\u001b[0m\u001b[0;34m\u001b[0m\u001b[0;34m\u001b[0m\u001b[0m\n",
      "\u001b[0;32m/opt/miniforge3/envs/qcmb-training/lib/python3.8/site-packages/sympy/matrices/matrices.py\u001b[0m in \u001b[0;36mexp\u001b[0;34m(self)\u001b[0m\n\u001b[1;32m   1644\u001b[0m             \u001b[0mcells\u001b[0m \u001b[0;34m=\u001b[0m \u001b[0mJ\u001b[0m\u001b[0;34m.\u001b[0m\u001b[0mget_diag_blocks\u001b[0m\u001b[0;34m(\u001b[0m\u001b[0;34m)\u001b[0m\u001b[0;34m\u001b[0m\u001b[0;34m\u001b[0m\u001b[0m\n\u001b[1;32m   1645\u001b[0m         \u001b[0;32mexcept\u001b[0m \u001b[0mMatrixError\u001b[0m\u001b[0;34m:\u001b[0m\u001b[0;34m\u001b[0m\u001b[0;34m\u001b[0m\u001b[0m\n\u001b[0;32m-> 1646\u001b[0;31m             raise NotImplementedError(\n\u001b[0m\u001b[1;32m   1647\u001b[0m                 \"Exponentiation is implemented only for matrices for which the Jordan normal form can be computed\")\n\u001b[1;32m   1648\u001b[0m \u001b[0;34m\u001b[0m\u001b[0m\n",
      "\u001b[0;31mNotImplementedError\u001b[0m: Exponentiation is implemented only for matrices for which the Jordan normal form can be computed"
     ]
    }
   ],
   "source": [
    "U = exp(-1j * t * H.subs({\"h\": 1, \"J\": -1}))\n",
    "U"
   ]
  },
  {
   "cell_type": "markdown",
   "metadata": {},
   "source": [
    "## 3. Die Trotter Approximierung <a id=\"trotterization\"></a>\n",
    "\n",
    "Während sich der Quantenschaltkreis für den Anfangszustand meist leicht erstellen lässt, ist der Schaltkreis für die zeitliche Entwicklung komplexer. Daher wollen wir zunächst dem mathematischen Objekt den Namen Zeitentwicklungsoperator $U_t$ geben:\n",
    "\n",
    "$$\n",
    "U_t = \\exp \\left( -i t \\hat{H} \\right).\n",
    "$$\n",
    "\n",
    "Da wir den Operator nicht direkt als Schaltkreis implementieren können, müssen wir einige Vereinfachungen vornehmen. Aus der Mathematik wissen wir, dass wir bei Vereinfachungen meistens Fehler machen, deren Größe von der relevanten Skala, hier die Zeit $t$, bestimmt wird. Ein einfacher Trick, um die Zeitschritte zu verkleinern ist den Zeitentwicklungsoperator mehrfach hintereinander für kurze Zeiten anzuwenden:\n",
    "\n",
    "$$ \n",
    "U_t = \\prod_{i=1}^{R} U_{t' = t/R}.\n",
    "$$\n",
    "\n",
    "Diesen neuen Operator $U_{t'}$ können wir nun weiter vereinfachen. Dazu schreiben wir uns diesen zunächst für das Ising Modell auf:\n",
    "\n",
    "$$\n",
    "U_{t'} = \\exp\\left( -i t' \\left(\\sum_{j=1}^{N-1} J \\sigma^z_j \\sigma^z_{j+1} + \\sum_{j=1}^{N} h \\sigma^x_j \\right)\\right). \n",
    "$$\n",
    "\n",
    "Als einfache Näherung können wir diesen Operator in zwei Teile teilen, zum einen den Teil mit der Interaktion von Qubits $H_{zz}$ und zum anderen den Teil mit der Wirkung der Magnetfelds $H_x$. Damit ergeben sich dann zwei Operatoren, die wir einzeln genauer anschauen können:\n",
    "\n",
    "$$\n",
    "U_{t'} = \\exp\\left( -i t' \\left( H_{zz} + H_{x} \\right)\\right) \\approx \\exp\\left( -i t' H_{zz} \\right) \\exp\\left( -i t' H_{x} \\right).\n",
    "$$\n",
    "\n",
    "Nun wollen wir uns zunächst den letzten der beiden Operatoren anschauen. Da der Operator $\\sigma^x_j$ nur einzelne Spins bzw. Qubits beeinflusst, lässt sich die Exponentialfunktion einfach auseinander ziehen:\n",
    "\n",
    "$$ \n",
    "\\exp\\left( -i t' H_{x} \\right) = \\exp\\left( -i t' \\sum_{j=1}^{N} h \\sigma^x_j \\right) = \\prod_{j=1}^{N} \\exp\\left( -i t' h \\sigma^x_j \\right). \n",
    "$$\n",
    "\n",
    "Aus der Mathematik wissen wir nun, dass es sich bei dem Operator $\\exp\\left( -i t' h \\sigma^x_j \\right)$ um eine Drehung um die x-Achse mit dem Winkel $\\theta = t' * h$ handelt. Diese können wir sehr einfach als $R_x\\left(\\theta\\right)$-Gatter implementieren. \n",
    "\n",
    "Der andere Operator erfordert komplexere Umformungen. Da hier das Produkt zweier Spin bzw. Qubit-Operatoren vorkommt, ist ein einfaches auseinanderziehen eigentlich nicht möglich. Aus mathematischer Sicht liegt dies an der fehlenden Kommutativität der Operatoren $\\left[ \\sigma^z_1 \\sigma^z_2, \\sigma^z_2 \\sigma^z_3 \\right] \\neq 0$. Da wir diesen Schritt jedoch trotzdem durchühren wollen, wird ein Fehler in der Größenordnung dieses sog. Kommutators entstehen. In erster Näherung wird dieser Fehler proportional zum Quadrat der Zeitschritte $t'$, der Kopplungskonstaten $J$ und dem Kommutator sein.\n",
    "\n",
    "$$\n",
    "\\exp\\left( -i t' H_{zz} \\right) = \\exp\\left( -i t' \\sum_{j=1}^{N-1} J \\sigma^z_j \\sigma^z_{j+1} \\right) \\approx \\prod_{j=1}^{N-1} \\exp\\left( -i t' J \\sigma^z_j \\sigma^z_{j+1} \\right)\n",
    "$$\n",
    "\n",
    "Falls wir den Fehler in diesem Schritt verkleinern wollen, können wir einerseits die Zeitskala $t'$ verkleinern oder eine Formel höherer Ordnung (siehe auch Suzuki-Trotter Formeln [MISSING REF]) verwenden. Dieser Operator sieht dem $R_z$-Gatter sehr ähnlich. Entsprechend wird es auch als $R_{zz}$-Gatter bezeichnet. Dieses Gatter lässt sich direkt in Qiskit implementieren und wir werden dann sehen, wie es weiter zerlegt werden kann. "
   ]
  },
  {
   "cell_type": "code",
   "execution_count": null,
   "metadata": {},
   "outputs": [],
   "source": []
  },
  {
   "cell_type": "code",
   "execution_count": null,
   "metadata": {},
   "outputs": [],
   "source": []
  },
  {
   "cell_type": "code",
   "execution_count": null,
   "metadata": {},
   "outputs": [],
   "source": []
  },
  {
   "cell_type": "markdown",
   "metadata": {},
   "source": [
    "## 4. Implementierung <a id=\"implementation\"></a>\n",
    "\n",
    "Nach so viel Mathematik und Rechnungen, wollen wir uns nun ein Beispiel anschauen. Dazu wählen wir ein System mit drei Qubits aus und wollen die zeitliche Entwicklung des Anfangszustands $100$ bacg der Zeit $t=\\pi$ berrechnen. Dazu müssen wir zunächst die benötigten Module von Qiskit importieren."
   ]
  },
  {
   "cell_type": "code",
   "execution_count": null,
   "metadata": {},
   "outputs": [],
   "source": [
    "from qiskit import QuantumCircuit"
   ]
  },
  {
   "cell_type": "markdown",
   "metadata": {},
   "source": [
    "### 4.1. Grundzustand <a id=\"groundstate\"></a>\n",
    "\n"
   ]
  },
  {
   "cell_type": "code",
   "execution_count": null,
   "metadata": {},
   "outputs": [],
   "source": [
    "groundstate = QuantumCircuit(3)\n",
    "groundstate.x(0)"
   ]
  },
  {
   "cell_type": "code",
   "execution_count": null,
   "metadata": {},
   "outputs": [],
   "source": []
  },
  {
   "cell_type": "markdown",
   "metadata": {},
   "source": [
    "## 4. Verweise\n",
    "\n",
    "[1] "
   ]
  },
  {
   "cell_type": "markdown",
   "metadata": {},
   "source": [
    "## Qiskit"
   ]
  },
  {
   "cell_type": "code",
   "execution_count": 17,
   "metadata": {},
   "outputs": [
    {
     "name": "stderr",
     "output_type": "stream",
     "text": [
      "/Applications/anaconda3/envs/qcmb-training/lib/python3.8/site-packages/ipykernel/ipkernel.py:283: DeprecationWarning: `should_run_async` will not call `transform_cell` automatically in the future. Please pass the result to `transformed_cell` argument and any exception that happen during thetransform in `preprocessing_exc_tuple` in IPython 7.17 and above.\n",
      "  and should_run_async(code)\n"
     ]
    },
    {
     "data": {
      "text/plain": [
       "{'qiskit-terra': '0.16.4',\n",
       " 'qiskit-aer': '0.7.4',\n",
       " 'qiskit-ignis': '0.5.2',\n",
       " 'qiskit-ibmq-provider': '0.11.1',\n",
       " 'qiskit-aqua': '0.8.2',\n",
       " 'qiskit': '0.23.5'}"
      ]
     },
     "execution_count": 17,
     "metadata": {},
     "output_type": "execute_result"
    }
   ],
   "source": [
    "import qiskit\n",
    "qiskit.__qiskit_version__"
   ]
  },
  {
   "cell_type": "markdown",
   "metadata": {},
   "source": [
    "## Copyright\n",
    "\n",
    "Copyright 2021 Dual Software GmbH and SVA System Vertrieb Alexander GmbH\n",
    "\n",
    "Licensed under the Apache License, Version 2.0 (the \"License\"); you may not use this file except in compliance with the License. You may obtain a copy of the License at http://www.apache.org/licenses/LICENSE-2.0.\n",
    "\n",
    "Unless required by applicable law or agreed to in writing, software distributed under the License is distributed on an \"AS IS\" BASIS, WITHOUT WARRANTIES OR CONDITIONS OF ANY KIND, either express or implied. See the License for the specific language governing permissions and limitations under the License."
   ]
  }
 ],
 "metadata": {
  "kernelspec": {
   "display_name": "Python 3",
   "language": "python",
   "name": "python3"
  },
  "language_info": {
   "codemirror_mode": {
    "name": "ipython",
    "version": 3
   },
   "file_extension": ".py",
   "mimetype": "text/x-python",
   "name": "python",
   "nbconvert_exporter": "python",
   "pygments_lexer": "ipython3",
   "version": "3.8.8"
  }
 },
 "nbformat": 4,
 "nbformat_minor": 4
}
