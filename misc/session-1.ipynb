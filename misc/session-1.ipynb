{
 "cells": [
  {
   "cell_type": "markdown",
   "metadata": {},
   "source": [
    "# Session 1 #\n",
    "\n",
    "Themen:\n",
    "- Einleitung\n",
    "- Qubit- und Quantenzustände\n",
    "- Lineare Algebra "
   ]
  },
  {
   "cell_type": "markdown",
   "metadata": {},
   "source": [
    "Vorbereitung der Umgebung"
   ]
  },
  {
   "cell_type": "code",
   "execution_count": 3,
   "metadata": {},
   "outputs": [],
   "source": [
    "if 'google.colab' in str(get_ipython()):\n",
    "    !pip install qiskit --quiet"
   ]
  },
  {
   "cell_type": "markdown",
   "metadata": {},
   "source": [
    "## Die Geschichte der Quantencomputer ##"
   ]
  },
  {
   "cell_type": "markdown",
   "metadata": {},
   "source": [
    "** Vor 40 Jahren ** erkannten Physiker, dass normale Computer immer an ihre Grenzen stoßen werden, wenn sie Naturprozesse in ihren kleinsten Strukturen berechnen bzw. simulieren. U.a. der legendäre **Nobelpreisträger Richard Feynmann ** postulierte daher eine vollkommen neuartige Rechenmaschine: Ein Computer der nicht auf den Gesetzen der Booleschen Logik, sondern **ein Computer, der auf den Gesetzen der Quantenmechanik basiert**. Ein Quantencomputer!\n",
    "\n",
    "In der folgenden Jahren wurden viele der theoretischen Konzepte entwickelt. Die wir Ihnen in den nächsten Sessions vorstellen werden. Die praktische Umsetzung der Quantencomputer blieb für viele Jahre ein fast aussichtsloses Unterfangen.\n",
    "\n",
    "**1995 entdeckte Peter Shaw, den ersten monumentalen Quanten Algorthimus**. Er wies nach, dass das Problem der Primzahlzerlagung mit einem Quantencomputer exponentiell schneller gelöst werden kann, als mit jedem herkömmlichen Algorithmus. Durch diese Entdeckung setzte ein Boom in dem Forschungszweig ein.\n",
    "\n",
    "\n"
   ]
  },
  {
   "cell_type": "markdown",
   "metadata": {},
   "source": [
    "## Inhalt der Schulung ##"
   ]
  },
  {
   "cell_type": "markdown",
   "metadata": {},
   "source": [
    "**Folgende Themen werden wir behandeln:**\n",
    "\n",
    "  * Grundlagen der Quantenmechanik\n",
    "    * Was ist ein Qubit?\n",
    "    * Messungen in der Quantenmechanik\n",
    "  * Operationen auf Qubits: 1-Qubit-Gatter, 2-Qubit-Gatter\n",
    "  * Einfache QC-Schaltungen / einfache Qiskit-Programme\n",
    "    * Unser Lehrmaterial basiert auf IBM Textbook und IBMs Qiskit\n",
    "    * Wir setzen grundlegende Programmierkenntnisse voraus. Insbesonsere sollten Sie in der Lage sein einfache Python Programme lesen bzw. verstehen zu können\n",
    "  * Mathematische Grundlagen: \n",
    "    * Komplexe Zahlen:$ \\sqrt{-1} = i $\n",
    "    * Lineare Algebra: Vektor- /Zustandsraum, Basis, Matrizen, Eigenwerte / -vektoren\n",
    "    * **Wir setzen keine „Höhere“ Mathematik voraus**. Das bedeutet aber auch, dass wir einiges an Höherer Mathematik einführen werden.\n",
    "  * Wichtige Quanten-Algorithmen\n",
    "    * Grover-Algorithmus?\n",
    "    * Quanten-Fourietransformation?\n",
    "    * Variational Algorithms?"
   ]
  },
  {
   "cell_type": "markdown",
   "metadata": {},
   "source": [
    "## Einleitung zum Quanten-Computing ##"
   ]
  },
  {
   "cell_type": "markdown",
   "metadata": {},
   "source": [
    "[Einleitung zum Quanten-Computing](session-1/introduction.ipynb)"
   ]
  },
  {
   "cell_type": "markdown",
   "metadata": {},
   "source": [
    "## Die Atome der Logik ##"
   ]
  },
  {
   "cell_type": "markdown",
   "metadata": {},
   "source": [
    "[Die Atome der Logik](session-1/atoms-computation.ipynb)"
   ]
  },
  {
   "cell_type": "markdown",
   "metadata": {},
   "source": [
    "## Qubit- und Quantenzustände und Lineare Algebra I ##"
   ]
  },
  {
   "cell_type": "markdown",
   "metadata": {},
   "source": [
    "[Qubit- und Quantenzustände und Lineare Algebra I](session-1/representing-qubit-states.ipynb)"
   ]
  }
 ],
 "metadata": {
  "kernelspec": {
   "display_name": "Python 3",
   "language": "python",
   "name": "python3"
  },
  "language_info": {
   "codemirror_mode": {
    "name": "ipython",
    "version": 3
   },
   "file_extension": ".py",
   "mimetype": "text/x-python",
   "name": "python",
   "nbconvert_exporter": "python",
   "pygments_lexer": "ipython3",
   "version": "3.8.8"
  }
 },
 "nbformat": 4,
 "nbformat_minor": 2
}
