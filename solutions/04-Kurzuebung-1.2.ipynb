{
 "cells": [
  {
   "cell_type": "markdown",
   "id": "ec348f16-7a52-47c8-8f89-6cb78ccf68b2",
   "metadata": {},
   "source": [
    "2. Zeigen Sie, dass die Anwendung der Folge von Gattern HZH, auf einen beliebigen Qubit-Zustand äquivalent zur Anwendung eines X-Gatters ist."
   ]
  },
  {
   "cell_type": "markdown",
   "id": "4d71f032-f80a-426f-9012-8b49ea5ea7c4",
   "metadata": {},
   "source": [
    "Durch Matrix Multiplikation: $HZH = \\tfrac{1}{\\sqrt{2}}\\begin{bmatrix} 1 & 1 \\\\ 1 & -1 \\end{bmatrix}\\begin{bmatrix} 1 & 0 \\\\ 0 & -1 \\end{bmatrix}\\tfrac{1}{\\sqrt{2}}\\begin{bmatrix} 1 & 1 \\\\ 1 & -1 \\end{bmatrix} = \\begin{bmatrix} 0 & 1 \\\\ 1 & 0 \\end{bmatrix} = X$"
   ]
  }
 ],
 "metadata": {
  "kernelspec": {
   "display_name": "Qiskit v0.34.1 (ipykernel)",
   "language": "python",
   "name": "python3"
  },
  "language_info": {
   "codemirror_mode": {
    "name": "ipython",
    "version": 3
   },
   "file_extension": ".py",
   "mimetype": "text/x-python",
   "name": "python",
   "nbconvert_exporter": "python",
   "pygments_lexer": "ipython3",
   "version": "3.8.12"
  },
  "widgets": {
   "application/vnd.jupyter.widget-state+json": {
    "state": {},
    "version_major": 2,
    "version_minor": 0
   }
  }
 },
 "nbformat": 4,
 "nbformat_minor": 5
}
