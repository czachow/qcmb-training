{
 "cells": [
  {
   "cell_type": "markdown",
   "metadata": {},
   "source": [
    "# Modul 0 - Inhalt und Tools\n",
    "\n",
    "Eine Schulungsserie der Meetup-Gruppe **[Quantum Computing meets Business - Rhineland](https://www.meetup.com/de-DE/Quantum-Computing-meets-Business-Rhineland/)**\n",
    "\n",
    "\n",
    "**Inhaltverzeichnis**\n",
    "\n",
    "1. [Uebersicht und Einfuehrung](./01-Uebersicht_Einfuehrung.ipynb)\n",
    "    1. Bla\n",
    "    2. Blub\n",
    "2. [Quantenzustaende und Lineare Algebra](./02-Quantenzustaende_LineareAlgebraI.ipynb)\n",
    "    1. Bla\n",
    "    2. Blub\n",
    "\n",
    "...\n"
   ]
  },
  {
   "cell_type": "markdown",
   "metadata": {},
   "source": [
    "# Tools"
   ]
  },
  {
   "cell_type": "code",
   "execution_count": 1,
   "metadata": {},
   "outputs": [],
   "source": [
    "# Vorbereitung der Umgebung\n",
    "if 'google.colab' in str(get_ipython()):\n",
    "    !pip install qiskit==0.24.0 --quiet"
   ]
  },
  {
   "cell_type": "code",
   "execution_count": 3,
   "metadata": {},
   "outputs": [],
   "source": [
    "from warnings import simplefilter\n",
    "simplefilter(\"ignore\")"
   ]
  },
  {
   "cell_type": "markdown",
   "metadata": {},
   "source": [
    "<style>\n",
    "  details {\n",
    "    display: block;\n",
    "    border: 1px solid black;\n",
    "    background-color: #eaeaff;\n",
    "    padding: 0.5em;\n",
    "    text-align: center;\n",
    "    margin: 0 8em;\n",
    "    cursor: pointer;\n",
    "}\n",
    "</style>"
   ]
  },
  {
   "cell_type": "code",
   "execution_count": 3,
   "metadata": {},
   "outputs": [
    {
     "data": {
      "text/html": [
       "<style>\n",
       "details {\n",
       "    display: block;\n",
       "    border: 1px solid black;\n",
       "    background-color: #eaeaff;\n",
       "    padding: 0.5em;\n",
       "    text-align: center;\n",
       "    margin: 0 8em;\n",
       "    cursor: pointer;\n",
       "}\n",
       "</style>\n"
      ],
      "text/plain": [
       "<IPython.core.display.HTML object>"
      ]
     },
     "metadata": {},
     "output_type": "display_data"
    }
   ],
   "source": [
    "%%html\n",
    "<style>\n",
    "details {\n",
    "    display: block;\n",
    "    border: 1px solid black;\n",
    "    background-color: #eaeaff;\n",
    "    padding: 0.5em;\n",
    "    text-align: center;\n",
    "    margin: 0 8em;\n",
    "    cursor: pointer;\n",
    "}\n",
    "</style>"
   ]
  },
  {
   "cell_type": "code",
   "execution_count": null,
   "metadata": {},
   "outputs": [],
   "source": []
  }
 ],
 "metadata": {
  "kernelspec": {
   "display_name": "Python 3",
   "language": "python",
   "name": "python3"
  },
  "language_info": {
   "codemirror_mode": {
    "name": "ipython",
    "version": 3
   },
   "file_extension": ".py",
   "mimetype": "text/x-python",
   "name": "python",
   "nbconvert_exporter": "python",
   "pygments_lexer": "ipython3",
   "version": "3.6.9"
  }
 },
 "nbformat": 4,
 "nbformat_minor": 2
}
