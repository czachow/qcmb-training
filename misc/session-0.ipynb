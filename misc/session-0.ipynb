{
 "cells": [
  {
   "cell_type": "markdown",
   "metadata": {},
   "source": [
    "**2021 Schulung - Quantum Computing Meets Business**"
   ]
  },
  {
   "cell_type": "markdown",
   "metadata": {},
   "source": [
    "*Einleitung*\n",
    "\n",
    "Das Dokument ist ein Entwurf für die Gliederung der einzelnen Schulungssessions. Als Dauer habe ich jeweils 2h angesetzt. Die Zeitangaben hinter den Sektionen sind nur Schätzwerte (!). Genauer ausprobiert habe ich nur Sektion “Session #1 B” (ist entsprechend kommentiert). Die geschätzten Dauern beziehen sich auf die reine Redezeit. Für Rückfragen + Pausen + ... habe ich deshalb pro Session etwa 30 Minuten Puffer angesetzt. \n",
    "\n",
    "Damit wir besser nachvollziehen können, welche Passagen aus dem IBM Textbook https://qiskit.org/textbook/preface.html wie unseren Sessions aufgegliedert sind oder  weggelassen wurden, beziehen sich die Chapter- und Section-Zahlen immer auf die Originalgliederung im Textbook. Für die Gliederungen in unseren Sessions verwende ich deshalb Buchstaben. "
   ]
  },
  {
   "cell_type": "markdown",
   "metadata": {},
   "source": [
    "*Session 1*\n",
    "\n",
    "  * A Intro (30 Min.)\n",
    "    * Das Große Ganze und Übersicht über die Schulung\n",
    "      * Vor 40 Jahren begannen Physiker\n",
    "      * 1980 Feynman, Mitte 1990er Shor-Algorithmus\n",
    "      * Anfang 2000 Erste experimentelle Mini-Quantencomputer\n",
    "      * 2015 Launch IBM Quantum Experience mit 5 Qubit-Quantencomputer als erster Universeller Quantencomputer in der Cloud\n",
    "      * 2019 Google Quantum Supremacy – Experiment\n",
    "      * Mittlerweile mehrere weitere Hersteller mit verschiedenen Hardware- und Software-Ansätzen\n",
    "      * Weltweit Milliarden von Fördergeldern\n",
    "      * Dekohärenz, NISQ-Ära, fehlertolerante Quantencomputer, \tRoadmaps von IBM und Google erwähnen\n",
    "    * Was setzen wir voraus und was nicht?\n",
    "      * Grundlegende Programmierkenntnisse, insbes. einfache Python Programme lesen / verstehen können\n",
    "      * Keine „Höhere“ Mathematik! Das bedeutet aber auch, dass wir einiges an Höherer Mathematik hier einführen werden\n",
    "    * Folgende Themen werden wir behandeln:\n",
    "      * Grundlagen der Quantenmechanik\n",
    "        * Was ist ein Qubit?\n",
    "        * Messungen in der Quantenmechanik\n",
    "      * Operationen auf Qubits: 1-Qubit-Gatter, 2-Qubit-Gatter\n",
    "      * Einfache QC-Schaltungen / einfache Qiskit-Programme\n",
    "        * Unser Lehrmaterial basiert auf IBM Textbook und IBMs Qiskit\n",
    "      * Mathematische Grundlagen: \n",
    "        * Komplexe Zahlen: \\srqt{-1} = i\n",
    "        * Lineare Algebra: Vektor- /Zustandsraum, Basis, Matrizen, Eigenwerte / -vektoren\n",
    "      * Wichtige Quanten-Algorithmen\n",
    "        * Grover-Algorithmus?\n",
    "        * Quanten-Fourietransformation?\n",
    "        * Variational Algorithms?\n",
    "    * 1.2 https://qiskit.org/textbook/ch-states/introduction.html\n",
    "    * 1.3 https://qiskit.org/textbook/ch-states/atoms-computation.html\n",
    "      * 1 Splitting information into bits\n",
    "      * 2 Computation as a diagram\n",
    "      * Den Rest vom Chapters im Textbook weglassen\n",
    "\n",
    "  * B Qubit- / Quantenzustände und Lineare Algebra I (75 Min)\n",
    "    * https://qiskit.org/textbook/ch-states/representing-qubit-states.html\n",
    "    * 1. Classical vs Quantum Bits\n",
    "      * Hinweis auch auf Superpositionsprinzip: „Das hört sich so banal an, aber ...“ \n",
    "      * (Schrödingers Katze erwähnen?)\n",
    "    * 1.2 Qubit Notation\n",
    "      * Reminder Orthonormal Bases\n",
    "      * Bild zu Vektoraddition hinzufügen?: Zwei Pfeile miteinander verketten\n",
    "      * Bild zur skalaren Multiplikation hinzufügen?: Einen Pfeil strecken oder stauchen \t\t\t\t\n",
    "      * Nur Hinweis zu komplexen Zahlen (wir verschieben komplexen Zahlen in Session 2)\n",
    "    * 2 The Rules of Measurement\n",
    "      * 2.1 A Very Important Rule \t\t\n",
    "        * Reminder: Inner Product\n",
    "        * Motivation und Hinweis auf die Pfeildiagramme von oben: Der Anteil meines Vektors in die |0> bzw. |1> - Richtung\n",
    "        * „Bornsche-Regel“: Hinweis auf Nobelpreis und die wichtigste Fußnote in der Geschichte der Physik\n",
    "      * Den Teil auf nächste Session verschiben: 2.2 The Implications of this Rule \t\t\t\n",
    "        * #1 Normalisation\n",
    "        * #2 Alternative Measurement \t\t\t\n",
    "        * #3 Global Phase\n",
    "        * #4 The Observer Effect \t\n",
    "        * „A Note about Quantum Simulators“‘: Weglassen\n",
    "        * Den Rest von \"representing-qubit-states.html\", insbesondere verschieben wir die Blochsphere auf Session #2"
   ]
  },
  {
   "cell_type": "markdown",
   "metadata": {},
   "source": [
    "*Session 2*\n",
    "\n",
    "  * A. Kurze Wiederholung (10 Min.)\n",
    "    * a. Statevector\n",
    "    * b. Lineare Algebra\n",
    "\n",
    "  * B. Komplexe Zahlen (30 Min.)\n",
    "    * a. Komplexe Zahlen\n",
    "    * b. Sinus, Kosinus, Exponentialfunktion\n",
    "    * 1.3 https://qiskit.org/textbook/ch-states/representing-qubit-states.html#3.-The-Bloch-Sphere-\n",
    "\n",
    "  * C. Ein Qubit-Gates I und Lineare Algebra II (40 Min.)\n",
    "    * 1.4 https://qiskit.org/textbook/ch-states/single-qubit-gates.html\n",
    "    * 1 The Pauli Gates\n",
    "    * Evtl noch 2. Digression: The X, Y & Z-Bases\n",
    "    * Den Rest von single-qubit-gates.html in Session #3"
   ]
  },
  {
   "cell_type": "markdown",
   "metadata": {},
   "source": [
    "*Session 3*\n",
    "\n",
    "  * A. Ausführlichere Wiederholung (20 Min.)\n",
    "    * a. Statevector / Lineare Algebra\n",
    "    * b. Komplexe Zahlen, Exponentialfunktion, Blochsphere\n",
    "    * c. Pauli-Gates and Bases\n",
    "\n",
    "  * B Ein Qubit-Gates II (1h)\n",
    "    * 1.4 https://qiskit.org/textbook/ch-states/single-qubit-gates.html\n",
    "    * 3 The Hadamard Gate\n",
    "    * 4 Digression: Measuring in Different Bases\n",
    "    * 5 The Rϕ-gate (kurz halten)\n",
    "    * 6 The I, S and T-gates (kurz halten)\n",
    "    * 7 General U-gates (kurz halten)\n",
    "    * Den Rest vom Chapter (1.5 The Case for Quantum) im Textbook weglassen"
   ]
  },
  {
   "cell_type": "markdown",
   "metadata": {},
   "source": [
    "Session #4\n",
    "\n",
    "  * A. Wiederholung (10 Min.)\n",
    "\n",
    "  * B. Multiple Qubits and Entanglement I (75 Min)\n",
    "    * 2.1 https://qiskit.org/textbook/ch-gates/introduction.htmlhttps://qiskit.org/textbook/ch-gates/introduction.html\n",
    "    * 2.2 https://qiskit.org/textbook/ch-gates/multiple-qubits-entangled-states.html"
   ]
  },
  {
   "cell_type": "code",
   "execution_count": null,
   "metadata": {},
   "outputs": [],
   "source": []
  }
 ],
 "metadata": {
  "kernelspec": {
   "display_name": "Python 3",
   "language": "python",
   "name": "python3"
  },
  "language_info": {
   "codemirror_mode": {
    "name": "ipython",
    "version": 3
   },
   "file_extension": ".py",
   "mimetype": "text/x-python",
   "name": "python",
   "nbconvert_exporter": "python",
   "pygments_lexer": "ipython3",
   "version": "3.8.8"
  }
 },
 "nbformat": 4,
 "nbformat_minor": 4
}
