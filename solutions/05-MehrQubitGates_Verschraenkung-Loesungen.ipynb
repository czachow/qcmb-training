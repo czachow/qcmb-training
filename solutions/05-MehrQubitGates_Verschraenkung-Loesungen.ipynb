{
 "cells": [
  {
   "cell_type": "markdown",
   "metadata": {},
   "source": [
    "# Lösungen zum Modul 05 - Multi Qubits & Verschränkte Zustände\n",
    "\n",
    "Eine Schulungsserie der Meetup-Gruppe **[Quantum Computing meets Business - Rhineland](https://www.meetup.com/de-DE/Quantum-Computing-meets-Business-Rhineland/)**"
   ]
  },
  {
   "cell_type": "code",
   "execution_count": 1,
   "metadata": {},
   "outputs": [
    {
     "data": {
      "text/html": [
       "<style>\n",
       "details {\n",
       "    display: block;\n",
       "    border: 1px solid black;\n",
       "    background-color: #eaeaff;\n",
       "    padding: 0.5em;\n",
       "    text-align: center;\n",
       "    margin: 0 8em;\n",
       "    cursor: pointer;\n",
       "}\n",
       "</style>\n"
      ],
      "text/plain": [
       "<IPython.core.display.HTML object>"
      ]
     },
     "metadata": {},
     "output_type": "display_data"
    }
   ],
   "source": [
    "run ./00-Inhalt_Tools.ipynb"
   ]
  },
  {
   "cell_type": "markdown",
   "metadata": {},
   "source": [
    "### 1.2 Kurzübungen:\n",
    "\n",
    "zur Erinnerung:\n",
    "\n",
    "$$ \n",
    "|ba\\rangle = |b\\rangle \\otimes |a\\rangle = \\begin{bmatrix} b_0 \\times \\begin{bmatrix} a_0 \\\\ a_1 \\end{bmatrix} \\\\ b_1 \\times \\begin{bmatrix} a_0 \\\\ a_1 \\end{bmatrix} \\end{bmatrix} = \\begin{bmatrix} b_0 a_0 \\\\ b_0 a_1 \\\\ b_1 a_0 \\\\ b_1 a_1 \\end{bmatrix}\n",
    "$$\n",
    "\n",
    "\n",
    "1.\tSchreiben Sie das Tensorprodukt der Qubits auf:    \n",
    "\n",
    "1a)\n",
    "\n",
    "<details>\n",
    "  <summary>$ |0\\rangle|1\\rangle = $ </summary>\n",
    "  <p>\n",
    "\n",
    "\n",
    "$$\n",
    "|b\\rangle  \\otimes |a\\rangle = |0\\rangle  \\otimes |1\\rangle =\n",
    "\\left(  1*|0\\rangle + 0*|1\\rangle \\right) \\otimes\n",
    "\\left(  0*|0\\rangle + 1*|1\\rangle \\right)\n",
    "$$\n",
    "\n",
    "d.h.\n",
    "$$\n",
    "b_0 = 1 \\\\\n",
    "b_1 = 0 \\\\\n",
    "a_0 = 0 \\\\\n",
    "a_1 = 1\n",
    "$$\n",
    "\n",
    "und\n",
    "$$\n",
    "|0\\rangle|1\\rangle = \n",
    "      = \n",
    "\\begin{bmatrix} 0 \\\\ 1 \\\\ 0 \\\\ 0 \\end{bmatrix}\n",
    "$$\n",
    "  </p>\n",
    "</details>\n",
    "\n",
    "\n",
    "1b)\n",
    "\n",
    "<details>\n",
    "  <summary>$ |0\\rangle|+\\rangle = $ </summary>\n",
    "  <p>\n",
    "\n",
    "$$\n",
    "|b\\rangle \\otimes |a\\rangle = |0\\rangle \\otimes |+\\rangle =\n",
    "\\left(  1*|0\\rangle + 0*|1\\rangle \\right) \\otimes\n",
    "\\left(  \\tfrac{1}{\\sqrt{2}}*|0\\rangle + \\tfrac{1}{\\sqrt{2}}*|1\\rangle \\right)\n",
    "$$\n",
    "\n",
    "d.h.\n",
    "$$\n",
    "b_0 = 1 \\\\\n",
    "b_1 = 0 \\\\\n",
    "a_0 = \\tfrac{1}{\\sqrt{2}} \\\\\n",
    "a_1 = \\tfrac{1}{\\sqrt{2}}\n",
    "$$\n",
    "\n",
    "und      \n",
    "      \n",
    "$$\n",
    "|0\\rangle|+\\rangle = \n",
    "\\tfrac{1}{\\sqrt{2}} \\begin{bmatrix} 1 \\\\ 1 \\\\ 0 \\\\ 0 \\end{bmatrix}\n",
    "$$\n",
    "  </p>\n",
    "</details>\n",
    "\n",
    "\n",
    "1c)\n",
    "\n",
    "<details>\n",
    "  <summary>$ |+\\rangle|1\\rangle = $ </summary>\n",
    "  <p>\n",
    "\n",
    "$$\n",
    "|b\\rangle  \\otimes |a\\rangle = |+\\rangle  \\otimes |1\\rangle =\n",
    "\\left(  \\tfrac{1}{\\sqrt{2}} *|0\\rangle + \\tfrac{1}{\\sqrt{2}} *|1\\rangle \\right) \\otimes\n",
    "\\left(  0*|0\\rangle + 1*|1\\rangle \\right)\n",
    "$$\n",
    "\n",
    "d.h.\n",
    "$$\n",
    "b_0 = \\tfrac{1}{\\sqrt{2}}  \\\\\n",
    "b_1 = \\tfrac{1}{\\sqrt{2}}  \\\\\n",
    "a_0 = 0 \\\\\n",
    "a_1 = 1\n",
    "$$\n",
    "\n",
    "und      \n",
    "      \n",
    "$$\n",
    " = \n",
    "\\tfrac{1}{\\sqrt{2}} \\begin{bmatrix} 0 \\\\ 1 \\\\ 0 \\\\ 1 \\end{bmatrix}\n",
    "$$\n",
    "  </p>\n",
    "</details>\n",
    "\n",
    "1d)\n",
    "\n",
    "<details>\n",
    "  <summary>$ |-\\rangle|+\\rangle = $ </summary>\n",
    "  <p>\n",
    "      \n",
    "Wir könnten das wíeder genauso machen aber stattdessen  verwenden wir diesmal einfach 1a nochmal:\n",
    "$$\n",
    "|-\\rangle \\otimes |+\\rangle = \\tfrac{1}{\\sqrt{2}} \\left( |0\\rangle - |1\\rangle \\right) \\otimes |+\\rangle\n",
    " = \\tfrac{1}{\\sqrt{2}} \\left( |0\\rangle|+\\rangle - |1\\rangle|+\\rangle \\right) = \n",
    "   \\tfrac{1}{\\sqrt{2}} * \\tfrac{1}{\\sqrt{2}} \\begin{bmatrix} 1 \\\\ 1 \\\\ 0 \\\\ 0 \\end{bmatrix}\n",
    " - \\tfrac{1}{\\sqrt{2}} * \\tfrac{1}{\\sqrt{2}} \\begin{bmatrix} 0 \\\\ 0 \\\\ 1 \\\\ 1 \\end{bmatrix}\n",
    " =\n",
    "\\tfrac{1}{\\sqrt{4}} \\begin{bmatrix} 1 \\\\ 1 \\\\ -1 \\\\ -1 \\end{bmatrix}\n",
    "$$\n",
    "  </p>\n",
    "</details>\n",
    "\n",
    "2.\tSchreiben Sie den Zustand als zwei einzelne Qubits:\n",
    "\n",
    "2)\n",
    "\n",
    "<details>\n",
    "  <summary>$ |\\psi\\rangle = \\tfrac{1}{\\sqrt{2}}|00\\rangle + \\tfrac{i}{\\sqrt{2}}|01\\rangle = $ </summary>\n",
    "  <p>\n",
    "\n",
    "Diesmal vergessen wir mal die Buchstaben $b$ und $a$ und sprechen lieber von linken und rechten Qubits: Wir bemerken das in der Summe im linken Qubit in beiden Summanden jeweils eine $0$ steht und im rechten Qubit irgendetwas. Wir können das linke Qubit $ |0\\rangle $ also aus der Summe rausziehen / ausklammern (\"Distributivgesetz\"). Im rechten Qubit bleibt dann das übrig, was wir erhalten, wenn wir uns die $0$ in der Summe wegdenken bzw. zudecken: \n",
    "      \n",
    "      \n",
    "$$\n",
    " = |0\\rangle \\tfrac{1}{\\sqrt{2}} \\otimes \\left( |0\\rangle + i|1\\rangle \\right) \n",
    "= |0\\rangle|\\circlearrowleft\\rangle\n",
    "$$\n",
    "\n",
    "Den rechten Zustand hatten wir bereits bei den Basisvektoren für das Y-Gatter kennengelernt. \n",
    "Das war noch \"eher einfach\". Bei 1d würde man es nicht mehr so einfach erkennen. Insbesondere kann man nicht erwarten beide Qubits in einer kompakten Form darzustellen, sondern eher als Überlagerung. Normalerweise ist ein 2-Qubit-Zustand sogar so \"ungünstig\" überlagert, dass man ihn gar nicht separieren kann in $ |q_1\\rangle \\otimes |q_2\\rangle $. Dies ist das \"Quanten-Separabilitätsproblem\". Generell ist es exponentiell schwierig zu lösen bzw. zu entscheiden. ob es lösbar ist:\n",
    "\"QSEP [NP-contained formulation (QSEP) of the quantum separability problem] may be the first natural example of a problem that is Turing-NP-complete but not Karp-NP-complete\"\n",
    "    https://arxiv.org/abs/quant-ph/0603199\n",
    "  </p>\n",
    "</details>"
   ]
  },
  {
   "cell_type": "code",
   "execution_count": null,
   "metadata": {},
   "outputs": [],
   "source": []
  },
  {
   "cell_type": "markdown",
   "metadata": {},
   "source": [
    "### 2.1 Kurzübungen 1: \n",
    "\n",
    "1. Berechnen Sie die Ein-Qubit-Unitary ($U$), die durch die Folge von Gattern erzeugt wird: $U = XZH$. Verwenden Sie den Unitary-Simulator von Qiskit, um Ihre Ergebnisse zu überprüfen.\n"
   ]
  },
  {
   "cell_type": "markdown",
   "metadata": {},
   "source": [
    "#### Lösung\n",
    "\n",
    "Zunächst schauen wir uns die Darstellung in einer reinen 1-Qubit-Schaltung an:\n",
    "\n",
    "Wie werden die beiden Basiszustände $ |0\\rangle $ und $ |1\\rangle $ abgebildet? Die beiden Ergebnisse sind dann die beiden Spalten-Vektoren der gesuchten Matrix:\n",
    "\n",
    "1.\n",
    "<details> <summary> $ H |0\\rangle $ </summary>  \n",
    "    <p> \n",
    "\n",
    "$$ H |0\\rangle = \\tfrac{1}{\\sqrt{2}}\n",
    "\\begin{bmatrix}  1 & 1 \\\\\n",
    "                 1 & -1 \\\\\n",
    "\\end{bmatrix} \\begin{bmatrix} 1 \\\\ 0 \\end{bmatrix} \n",
    "= \\tfrac{1}{\\sqrt{2}} \\begin{bmatrix} 1 \\\\ 1 \\end{bmatrix} = |+\\rangle \n",
    "$$\n",
    "        \n",
    "</p>\n",
    "</details>\n",
    "\n",
    "<details> <summary> $ Z |...\\rangle $ </summary>  \n",
    "<p> \n",
    "\n",
    "$$  Z|+\\rangle = \\tfrac{1}{\\sqrt{2}} \n",
    "\\begin{bmatrix}  1 & 0 \\\\\n",
    "                 0 & -1 \\\\\n",
    "\\end{bmatrix}\n",
    "\\tfrac{1}{\\sqrt{2}} \\begin{bmatrix} 1 \\\\ 1 \\end{bmatrix} \n",
    "= \\tfrac{1}{\\sqrt{2}} \\begin{bmatrix} 1 \\\\ -1 \\end{bmatrix} \n",
    "= |-\\rangle \n",
    "$$\n",
    "        \n",
    "oder anders: Z dreht das Vorzeichen der  $ |1\\rangle $ - Amplitude um:\n",
    "        \n",
    "$$  Z|+\\rangle = Z \\tfrac{1}{\\sqrt{2}} \\left( |0\\rangle + |1\\rangle \\right)\n",
    " = \\tfrac{1}{\\sqrt{2}} Z |0\\rangle + \\tfrac{1}{\\sqrt{2}} Z |1\\rangle\n",
    " = \\tfrac{1}{\\sqrt{2}} |0\\rangle - \\tfrac{1}{\\sqrt{2}} |1\\rangle \n",
    "= |-\\rangle \n",
    "$$\n",
    "\n",
    "</p>\n",
    "</details>\n",
    "\n",
    "\n",
    "\n",
    "\n",
    "<details> <summary> $ X |...\\rangle $ </summary>  \n",
    "\n",
    "    <p> \n",
    "\n",
    "$$  X|-\\rangle = \\tfrac{1}{\\sqrt{2}} \\begin{bmatrix}  0 & 1 \\\\\n",
    "                 1 & 0 \\\\\n",
    "\\end{bmatrix}\n",
    "\\tfrac{1}{\\sqrt{2}} \\begin{bmatrix} 1 \\\\ -1 \\end{bmatrix} \n",
    "= \\tfrac{1}{\\sqrt{2}} \\begin{bmatrix} -1 \\\\ 1 \\end{bmatrix} \n",
    "= -|-\\rangle \n",
    "$$\n",
    "        \n",
    "oder anders: X vertauscht die $ |0\\rangle $- mit der $ |1\\rangle $ - Amplitude:\n",
    "        \n",
    "$$  X|-\\rangle = X \\tfrac{1}{\\sqrt{2}} \\left( |0\\rangle - |1\\rangle \\right)\n",
    " = \\tfrac{1}{\\sqrt{2}} X |0\\rangle - \\tfrac{1}{\\sqrt{2}} X |1\\rangle\n",
    " = \\tfrac{1}{\\sqrt{2}} |1\\rangle - \\tfrac{1}{\\sqrt{2}} |0\\rangle \n",
    " = - \\tfrac{1}{\\sqrt{2}} |0\\rangle + \\tfrac{1}{\\sqrt{2}} |1\\rangle \n",
    " = - \\tfrac{1}{\\sqrt{2}} \\left( |0\\rangle - |1\\rangle \\right)\n",
    "= -|-\\rangle \n",
    "$$\n",
    "\n",
    ".... oder noch einfacher: $ |-\\rangle $ ist der Eigenvektor von X mit dem Eigenwert $-1$ :-)\n",
    "        \n",
    "</p>\n",
    "\n",
    "</details>\n",
    "\n",
    "\n",
    "2.\n",
    "<details> <summary> $ H |1\\rangle $ </summary>  \n",
    "    <p> $$ H |1\\rangle = |-\\rangle $$ \n",
    "    So langsam sollten wir uns die beiden Identitäten für das H-Gatter merken, das macht es uns einfacher!\n",
    "    </p>\n",
    "</details>\n",
    "\n",
    "<details> <summary> $ Z |...\\rangle $ </summary>  \n",
    "    <p> $$ Z |-\\rangle = |+\\rangle $$ \n",
    "    So wie bei 1. bzw. wir merken uns: Das Z-Gatter wandelt $|+\\rangle $ in $ |-\\rangle $ um und umgekehrt. Es ist also quasi das NOT-Gatter für die X-Basis\n",
    "    </p>\n",
    "</details>\n",
    "\n",
    "<details> <summary> $ X |...\\rangle $ </summary>  \n",
    "    <p> $$ X |+\\rangle = |+\\rangle $$ \n",
    "    Wieder wie unter 1.: $|+\\rangle$ ist der Eigenvektor von X mit dem Eigenwert $ +1 $\n",
    "    </p>\n",
    "</details>\n",
    "\n",
    "\n",
    "d.h.\n",
    "\n",
    "<details> <summary> $ U = XZH = $ </summary>  \n",
    "    <p>\n",
    "$$\n",
    "U = \\tfrac{1}{\\sqrt{2}}\n",
    "\\begin{bmatrix} -1 & 1 \\\\\n",
    "                 1 & 1 \\\\\n",
    "\\end{bmatrix}\n",
    "$$\n",
    "        \n",
    "Das hätten wir natürlich auch über die Matrizen-Darstellungen der 3-Gatter ausrechnen können. \n",
    "\n",
    "Nebenbei: Das kann man auch mit dem äußeren Produkt bzw. mit der Ket-Notation ausdrücken:\n",
    "\n",
    "$$\n",
    "U = -|-\\rangle \\langle 0| + |+\\rangle \\langle 1|\n",
    "$$\n",
    "also genau unsere beiden Teilergebnisse. Diese Schreibweise ist insbesondere viel hilfreicher wenn noch mehr Qubits dazukommen. Ab 3 Qubits wird das Tensorprodukt einfach zu unhandlich.\n",
    "</p>\n",
    "</details>\n",
    "\n",
    "Und jetzt mit dem zweiten Qubit \n",
    "\n",
    "<details> <summary> $ U \\otimes I $ </summary>  \n",
    "    <p> \n",
    "$$\n",
    "U = \\tfrac{1}{\\sqrt{2}}\n",
    "\\begin{bmatrix} -1*I & 1*I \\\\\n",
    "                 1*I & 1*I \\\\\n",
    "\\end{bmatrix}\n",
    "\n",
    "= \\tfrac{1}{\\sqrt{2}}\n",
    "\\begin{bmatrix} -1 & 0 & 1 & 0 \\\\\n",
    "                 0 & -1 & 0 & 1 \\\\\n",
    "                 1 & 0 & 1 & 0  \\\\\n",
    "                 0 & 1 & 0 & 1  \\\\\n",
    "\\end{bmatrix}\n",
    "$$\n",
    "</p>\n",
    "</details>\n"
   ]
  },
  {
   "cell_type": "code",
   "execution_count": 2,
   "metadata": {},
   "outputs": [
    {
     "data": {
      "text/html": [
       "<pre style=\"word-wrap: normal;white-space: pre;background: #fff0;line-height: 1.1;font-family: &quot;Courier New&quot;,Courier,monospace\">     ┌───┐┌───┐┌───┐\n",
       "q_0: ┤ H ├┤ Z ├┤ X ├\n",
       "     └───┘└───┘└───┘</pre>"
      ],
      "text/plain": [
       "     ┌───┐┌───┐┌───┐\n",
       "q_0: ┤ H ├┤ Z ├┤ X ├\n",
       "     └───┘└───┘└───┘"
      ]
     },
     "execution_count": 2,
     "metadata": {},
     "output_type": "execute_result"
    }
   ],
   "source": [
    "# Zunächst wieder nur 1-Qubit:\n",
    "\n",
    "from qiskit import QuantumCircuit, Aer, execute\n",
    "from math import pi\n",
    "import numpy as np\n",
    "from qiskit.visualization import plot_histogram, plot_bloch_multivector\n",
    "\n",
    "qc = QuantumCircuit(1)\n",
    "qc.h(0)\n",
    "qc.z(0)\n",
    "qc.x(0)\n",
    "# See the circuit:\n",
    "qc.draw()"
   ]
  },
  {
   "cell_type": "code",
   "execution_count": 3,
   "metadata": {},
   "outputs": [
    {
     "name": "stdout",
     "output_type": "stream",
     "text": [
      "[[-0.70710678+0.00000000e+00j  0.70710678-8.65956056e-17j]\n",
      " [ 0.70710678+0.00000000e+00j  0.70710678-8.65956056e-17j]]\n"
     ]
    }
   ],
   "source": [
    "usim = Aer.get_backend('unitary_simulator')\n",
    "job = execute(qc, usim)\n",
    "unitary = job.result().get_unitary()\n",
    "\n",
    "print(unitary)"
   ]
  },
  {
   "cell_type": "code",
   "execution_count": 5,
   "metadata": {},
   "outputs": [
    {
     "data": {
      "text/html": [
       "<pre style=\"word-wrap: normal;white-space: pre;background: #fff0;line-height: 1.1;font-family: &quot;Courier New&quot;,Courier,monospace\">                    \n",
       "q_0: ───────────────\n",
       "     ┌───┐┌───┐┌───┐\n",
       "q_1: ┤ H ├┤ Z ├┤ X ├\n",
       "     └───┘└───┘└───┘</pre>"
      ],
      "text/plain": [
       "                    \n",
       "q_0: ───────────────\n",
       "     ┌───┐┌───┐┌───┐\n",
       "q_1: ┤ H ├┤ Z ├┤ X ├\n",
       "     └───┘└───┘└───┘"
      ]
     },
     "execution_count": 5,
     "metadata": {},
     "output_type": "execute_result"
    }
   ],
   "source": [
    "# Und dann mit einem 2. Qubit:\n",
    "\n",
    "qc = QuantumCircuit(2)\n",
    "qc.h(1)\n",
    "qc.z(1)\n",
    "qc.x(1)\n",
    "# See the circuit:\n",
    "qc.draw()"
   ]
  },
  {
   "cell_type": "code",
   "execution_count": 6,
   "metadata": {},
   "outputs": [
    {
     "name": "stdout",
     "output_type": "stream",
     "text": [
      "[[-0.70710678+0.00000000e+00j -0.        +0.00000000e+00j\n",
      "   0.70710678-8.65956056e-17j -0.        +0.00000000e+00j]\n",
      " [-0.        +0.00000000e+00j -0.70710678+0.00000000e+00j\n",
      "  -0.        +0.00000000e+00j  0.70710678-8.65956056e-17j]\n",
      " [ 0.70710678+0.00000000e+00j  0.        +0.00000000e+00j\n",
      "   0.70710678-8.65956056e-17j  0.        +0.00000000e+00j]\n",
      " [ 0.        +0.00000000e+00j  0.70710678+0.00000000e+00j\n",
      "   0.        +0.00000000e+00j  0.70710678-8.65956056e-17j]]\n"
     ]
    }
   ],
   "source": [
    "usim = Aer.get_backend('unitary_simulator')\n",
    "job = execute(qc, usim)\n",
    "unitary = job.result().get_unitary()\n",
    "\n",
    "print(unitary)"
   ]
  },
  {
   "cell_type": "markdown",
   "metadata": {},
   "source": [
    "Zur Erinnerung:\n",
    "$$\n",
    "U = \\tfrac{1}{\\sqrt{2}}\n",
    "\\begin{bmatrix} -1 & 0 & 1 & 0 \\\\\n",
    "                 0 & -1 & 0 & 1 \\\\\n",
    "                 1 & 0 & 1 & 0  \\\\\n",
    "                 0 & 1 & 0 & 1  \\\\\n",
    "\\end{bmatrix}\n",
    "$$"
   ]
  },
  {
   "cell_type": "markdown",
   "metadata": {},
   "source": [
    "### 2.1 Kurzübungen 2: \n",
    "\n",
    "2. Versuchen Sie, die Gatter in der obigen Schaltung zu verändern. Berechnen Sie deren Tensorprodukt und überprüfen Sie dann Ihre Antwort mit dem Unitary Simulator.\n"
   ]
  },
  {
   "cell_type": "markdown",
   "metadata": {},
   "source": [
    "#### Lösung\n",
    "\n",
    "Gatter vertauschen: $ U = ZXH $\n",
    "\n",
    "Wieder: Zunächst schauen wir uns die Darstellung in einer reinen 1-Qubit-Schaltung an. Wieder schauen wir uns an, wie die beiden Basiszustände $ |0\\rangle $ und $ |1\\rangle $ abgebildet werden. Wenn wir uns die Hinweise aus der ersten Übung gemerkt haben, können wir eigentlich die Lösungen jeweils direkt hinschreiben!\n",
    "\n",
    "1.\n",
    "<details> <summary> $ H |0\\rangle $ </summary>  \n",
    "    <p> $$ H |0\\rangle = |+\\rangle $$ </p>\n",
    "</details>\n",
    "\n",
    "<details> <summary> $ X |...\\rangle $ </summary>  \n",
    "    <p> $$ X |+\\rangle = |+\\rangle $$ </p>\n",
    "$ |+\\rangle $ und $ |-\\rangle $ ist die X-Basis\n",
    "</details>\n",
    "\n",
    "<details> <summary> $ Z |...\\rangle $ </summary>  \n",
    "    <p> $$ Z |+\\rangle = |-\\rangle $$ </p>\n",
    "</details>\n",
    "\n",
    "\n",
    "2.\n",
    "<details> <summary> $ H |1\\rangle $ </summary>  \n",
    "    <p> $$ H |1\\rangle = |-\\rangle $$ </p>\n",
    "</details>\n",
    "\n",
    "<details> <summary> $ X |...\\rangle $ </summary>  \n",
    "    <p> $$ X |-\\rangle = -|-\\rangle $$ </p>\n",
    "</details>\n",
    "\n",
    "<details> <summary> $ X |...\\rangle $ </summary>  \n",
    "    <p> $$ Z -|-\\rangle = -|+\\rangle $$ </p>\n",
    "</details>\n",
    "\n",
    "\n",
    "d.h.\n",
    "\n",
    "<details> <summary> \n",
    "$ \n",
    "U = ZXH = \n",
    "$ \n",
    "</summary>  \n",
    "<p> \n",
    "$$\n",
    "U = \\tfrac{1}{\\sqrt{2}}\n",
    "\\begin{bmatrix}   1 & -1 \\\\\n",
    "                 -1 & -1 \\\\\n",
    "\\end{bmatrix}\n",
    "$$\n",
    "</p>\n",
    "</details>\n",
    "\n",
    "\n",
    "Und jetzt mit dem zweiten Qubit \n",
    "\n",
    "<details> <summary> $ U \\otimes I $ </summary>  \n",
    "    <p> \n",
    "$$\n",
    "U = \\tfrac{1}{\\sqrt{2}}\n",
    "\\begin{bmatrix}  1*I & -1*I \\\\\n",
    "                 -1*I & -1*I \\\\\n",
    "\\end{bmatrix}\n",
    "\n",
    "= \\tfrac{1}{\\sqrt{2}}\n",
    "\\begin{bmatrix} 1 & 0 & -1 & 0 \\\\\n",
    "                0 & 1 & 0 & -1 \\\\\n",
    "                -1 & 0 & -1 & 0  \\\\\n",
    "                0 & -1 & 0 & -1  \\\\\n",
    "\\end{bmatrix}\n",
    "$$\n",
    "</p>\n",
    "</details>\n"
   ]
  },
  {
   "cell_type": "code",
   "execution_count": 8,
   "metadata": {},
   "outputs": [
    {
     "data": {
      "text/html": [
       "<pre style=\"word-wrap: normal;white-space: pre;background: #fff0;line-height: 1.1;font-family: &quot;Courier New&quot;,Courier,monospace\">     ┌───┐┌───┐┌───┐\n",
       "q_0: ┤ H ├┤ X ├┤ Z ├\n",
       "     └───┘└───┘└───┘</pre>"
      ],
      "text/plain": [
       "     ┌───┐┌───┐┌───┐\n",
       "q_0: ┤ H ├┤ X ├┤ Z ├\n",
       "     └───┘└───┘└───┘"
      ]
     },
     "execution_count": 8,
     "metadata": {},
     "output_type": "execute_result"
    }
   ],
   "source": [
    "# Wieder: Zunächst wieder nur 1-Qubit\n",
    "\n",
    "qc = QuantumCircuit(1)\n",
    "qc.h(0)\n",
    "qc.x(0)\n",
    "qc.z(0)\n",
    "# See the circuit:\n",
    "qc.draw()"
   ]
  },
  {
   "cell_type": "code",
   "execution_count": 27,
   "metadata": {},
   "outputs": [
    {
     "name": "stdout",
     "output_type": "stream",
     "text": [
      "[[ 0.70710678+0.00000000e+00j -0.70710678+8.65956056e-17j]\n",
      " [-0.70710678+0.00000000e+00j -0.70710678+8.65956056e-17j]]\n"
     ]
    }
   ],
   "source": [
    "usim = Aer.get_backend('unitary_simulator')\n",
    "job = execute(qc, usim)\n",
    "unitary = job.result().get_unitary()\n",
    "\n",
    "print(unitary)"
   ]
  },
  {
   "cell_type": "code",
   "execution_count": 9,
   "metadata": {},
   "outputs": [
    {
     "data": {
      "text/html": [
       "<pre style=\"word-wrap: normal;white-space: pre;background: #fff0;line-height: 1.1;font-family: &quot;Courier New&quot;,Courier,monospace\">                    \n",
       "q_0: ───────────────\n",
       "     ┌───┐┌───┐┌───┐\n",
       "q_1: ┤ H ├┤ X ├┤ Z ├\n",
       "     └───┘└───┘└───┘</pre>"
      ],
      "text/plain": [
       "                    \n",
       "q_0: ───────────────\n",
       "     ┌───┐┌───┐┌───┐\n",
       "q_1: ┤ H ├┤ X ├┤ Z ├\n",
       "     └───┘└───┘└───┘"
      ]
     },
     "execution_count": 9,
     "metadata": {},
     "output_type": "execute_result"
    }
   ],
   "source": [
    "# Und jetzt wieder mit dem 2. Qubit\n",
    "\n",
    "qc = QuantumCircuit(2)\n",
    "qc.h(1)\n",
    "qc.x(1)\n",
    "qc.z(1)\n",
    "qc.draw()"
   ]
  },
  {
   "cell_type": "code",
   "execution_count": 10,
   "metadata": {},
   "outputs": [
    {
     "name": "stdout",
     "output_type": "stream",
     "text": [
      "[[ 0.70710678+0.00000000e+00j  0.        +0.00000000e+00j\n",
      "  -0.70710678+8.65956056e-17j  0.        +0.00000000e+00j]\n",
      " [ 0.        +0.00000000e+00j  0.70710678+0.00000000e+00j\n",
      "   0.        +0.00000000e+00j -0.70710678+8.65956056e-17j]\n",
      " [-0.70710678+0.00000000e+00j -0.        +0.00000000e+00j\n",
      "  -0.70710678+8.65956056e-17j -0.        +0.00000000e+00j]\n",
      " [-0.        +0.00000000e+00j -0.70710678+0.00000000e+00j\n",
      "  -0.        +0.00000000e+00j -0.70710678+8.65956056e-17j]]\n"
     ]
    }
   ],
   "source": [
    "usim = Aer.get_backend('unitary_simulator')\n",
    "job = execute(qc, usim)\n",
    "unitary = job.result().get_unitary()\n",
    "\n",
    "print(unitary)"
   ]
  },
  {
   "cell_type": "markdown",
   "metadata": {},
   "source": [
    "Zur Erinnerung:\n",
    "\n",
    "$$\n",
    "U = \\tfrac{1}{\\sqrt{2}}\n",
    "\\begin{bmatrix} 1 & 0 & -1 & 0 \\\\\n",
    "                0 & 1 & 0 & -1 \\\\\n",
    "                -1 & 0 & -1 & 0  \\\\\n",
    "                0 & -1 & 0 & -1  \\\\\n",
    "\\end{bmatrix}\n",
    "$$"
   ]
  },
  {
   "cell_type": "markdown",
   "metadata": {},
   "source": [
    "<!--\n",
    "Frage\n",
    "<details> <summary>  Ist unser Ergebnis davor falsch? </summary>  \n",
    "<p> \n",
    "Nein, wir können immer eine globale Phase herausziehen / ignorieren, weil die nie gemessen werden kann.\n",
    "</p>\n",
    "</details>\n",
    "\n",
    "Frage\n",
    "<details> <summary> Würde die Aussage auch noch gelten, wenn wir irgendeine Schaltung $V$ für ein zweites Qubit hinzufügen? </summary>  \n",
    "<p> \n",
    "Ja, die resultierende Schaltung wäre einfach \n",
    "    $ U \\otimes V $ \n",
    "und man kann die Phase immer noch herausziehen\n",
    "</p>\n",
    "</details>\n",
    "-->"
   ]
  },
  {
   "cell_type": "markdown",
   "metadata": {},
   "source": [
    "### 3.4 Übung\n",
    "\n",
    "1. Erstellen Sie eine Quantenschaltung, die den Bell-Zustand erzeugt: $\\tfrac{1}{\\sqrt{2}}(|01\\rangle + |10\\rangle)$.\n",
    "   Verwenden Sie den Zustandsvektorsimulator, um Ihr Ergebnis zu überprüfen.\n",
    "   \n",
    "#### Lösung\n"
   ]
  },
  {
   "cell_type": "code",
   "execution_count": 5,
   "metadata": {},
   "outputs": [
    {
     "data": {
      "text/html": [
       "<pre style=\"word-wrap: normal;white-space: pre;background: #fff0;line-height: 1.1;font-family: &quot;Courier New&quot;,Courier,monospace\">     ┌───┐          \n",
       "q_0: ┤ H ├──■───────\n",
       "     └───┘┌─┴─┐┌───┐\n",
       "q_1: ─────┤ X ├┤ X ├\n",
       "          └───┘└───┘</pre>"
      ],
      "text/plain": [
       "     ┌───┐          \n",
       "q_0: ┤ H ├──■───────\n",
       "     └───┘┌─┴─┐┌───┐\n",
       "q_1: ─────┤ X ├┤ X ├\n",
       "          └───┘└───┘"
      ]
     },
     "execution_count": 5,
     "metadata": {},
     "output_type": "execute_result"
    }
   ],
   "source": [
    "# 1. Ansatz: Einfach am Ende das q1-Qubit umkehren:\n",
    "qc = QuantumCircuit(2)\n",
    "qc.h(0)\n",
    "qc.cx(0,1)\n",
    "qc.x(1)\n",
    "qc.draw()"
   ]
  },
  {
   "cell_type": "code",
   "execution_count": 44,
   "metadata": {},
   "outputs": [
    {
     "data": {
      "text/html": [
       "<pre style=\"word-wrap: normal;white-space: pre;background: #fff0;line-height: 1.1;font-family: &quot;Courier New&quot;,Courier,monospace\">           ░ ┌───┐     \n",
       "q_0: ──────░─┤ H ├──■──\n",
       "     ┌───┐ ░ └───┘┌─┴─┐\n",
       "q_1: ┤ X ├─░──────┤ X ├\n",
       "     └───┘ ░      └───┘</pre>"
      ],
      "text/plain": [
       "           ░ ┌───┐     \n",
       "q_0: ──────░─┤ H ├──■──\n",
       "     ┌───┐ ░ └───┘┌─┴─┐\n",
       "q_1: ┤ X ├─░──────┤ X ├\n",
       "     └───┘ ░      └───┘"
      ]
     },
     "execution_count": 44,
     "metadata": {},
     "output_type": "execute_result"
    }
   ],
   "source": [
    "# 2. Ansatz: Da das letzte X-Gatter mit dem CNOT-Gatter vertauscht (warum sieht man das?)\n",
    "#            Können wir das 2. X-Gatter nach vorne ziehen\n",
    "qc = QuantumCircuit(2)\n",
    "qc.x(1)\n",
    "qc.barrier();\n",
    "qc.h(0)\n",
    "qc.cx(0,1)\n",
    "\n",
    "qc.draw()"
   ]
  },
  {
   "cell_type": "code",
   "execution_count": 45,
   "metadata": {},
   "outputs": [
    {
     "name": "stdout",
     "output_type": "stream",
     "text": [
      "[0.        +0.j 0.70710678+0.j 0.70710678+0.j 0.        +0.j]\n"
     ]
    }
   ],
   "source": [
    "# Let's get the result:\n",
    "svsim = Aer.get_backend('statevector_simulator')\n",
    "job = execute(qc, svsim)\n",
    "result = job.result()\n",
    "# Print the statevector neatly:\n",
    "final_state = result.get_statevector()\n",
    "print(final_state)"
   ]
  },
  {
   "cell_type": "code",
   "execution_count": 46,
   "metadata": {},
   "outputs": [
    {
     "data": {
      "image/png": "[encoded data removed]",
      "text/plain": [
       "<Figure size 504x360 with 1 Axes>"
      ]
     },
     "execution_count": 46,
     "metadata": {},
     "output_type": "execute_result"
    }
   ],
   "source": [
    "plot_histogram(result.get_counts())"
   ]
  },
  {
   "cell_type": "markdown",
   "metadata": {},
   "source": [
    "Indem wir das andere, conditional Qubit ebenfalls per X-Gatter ändern, erhalten wir weitere Bell-Zustände. "
   ]
  },
  {
   "cell_type": "markdown",
   "metadata": {},
   "source": [
    "### 3.4 Übung\n",
    "   \n",
    "2. Die Schaltung, die Sie in Frage 1 erstellt haben, transformiert den Zustand $|00\\rangle$ in $\\tfrac{1}{\\sqrt{2}}(|01\\rangle + |10\\rangle)$. Berechnen Sie die Unitarität dieser Schaltung mithilfe des Simulators von Qiskit. Überprüfen Sie, ob diese Unitary tatsächlich die korrekte Transformation durchführt.\n",
    "\n",
    "#### Lösung\n"
   ]
  },
  {
   "cell_type": "code",
   "execution_count": 25,
   "metadata": {},
   "outputs": [
    {
     "name": "stdout",
     "output_type": "stream",
     "text": [
      "[[ 0.        +0.00000000e+00j  0.        +0.00000000e+00j\n",
      "   0.70710678+0.00000000e+00j  0.70710678-8.65956056e-17j]\n",
      " [ 0.70710678+0.00000000e+00j -0.70710678+8.65956056e-17j\n",
      "   0.        +0.00000000e+00j  0.        +0.00000000e+00j]\n",
      " [ 0.70710678+0.00000000e+00j  0.70710678-8.65956056e-17j\n",
      "   0.        +0.00000000e+00j  0.        +0.00000000e+00j]\n",
      " [ 0.        +0.00000000e+00j  0.        +0.00000000e+00j\n",
      "   0.70710678+0.00000000e+00j -0.70710678+8.65956056e-17j]]\n"
     ]
    }
   ],
   "source": [
    "usim = Aer.get_backend('unitary_simulator')\n",
    "job = execute(qc, usim)\n",
    "unitary = job.result().get_unitary(decimals=2)\n",
    "\n",
    "print(unitary)"
   ]
  },
  {
   "cell_type": "markdown",
   "metadata": {},
   "source": [
    "\n",
    "Frage\n",
    "<details> <summary> Oookay ... ist das jetzt richtig ? </summary>  \n",
    "<p> \n",
    "Ja\n",
    "    \n",
    "$ U|00\\rangle $ ist gerade der Vektor, den man erhält, wenn man den <b>1. Eintrag</b> in jedem <b>inneren  \\[...\\]</b> untereinander auflistet:\n",
    "\n",
    "$$\n",
    "U|00\\rangle = \\begin{bmatrix} 0.        +0.00000000e+00j \\\\ 0.70710678+0.00000000e+00j \\\\ 0.70710678+0.00000000e+00j \\\\ 0 \\end{bmatrix}\n",
    "$$\n",
    "    \n",
    "</p>\n",
    "</details>"
   ]
  },
  {
   "cell_type": "markdown",
   "metadata": {},
   "source": [
    "### 3.4 Übung\n",
    "\n",
    "3.  Überlegen Sie, wie Sie einen Zustandsvektor visuell darstellen können. Können Sie eine interessante Visualisierung entwerfen, aus der Sie den Betrag und die Phase der einzelnen Amplituden ablesen können?\n",
    "\n",
    "#### Lösung\n",
    "\n",
    "Wir sind gespannt auf Ihre Lösungen ...\n"
   ]
  }
 ],
 "metadata": {
  "kernelspec": {
   "display_name": "Python 3",
   "language": "python",
   "name": "python3"
  },
  "language_info": {
   "codemirror_mode": {
    "name": "ipython",
    "version": 3
   },
   "file_extension": ".py",
   "mimetype": "text/x-python",
   "name": "python",
   "nbconvert_exporter": "python",
   "pygments_lexer": "ipython3",
   "version": "3.8.10"
  }
 },
 "nbformat": 4,
 "nbformat_minor": 4
}
