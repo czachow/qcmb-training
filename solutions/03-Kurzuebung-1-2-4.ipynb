{
 "cells": [
  {
   "cell_type": "markdown",
   "id": "f77b5f36-c07f-4653-baf8-5cc3cf105321",
   "metadata": {},
   "source": [
    "1. Prüfen Sie ob |+⟩ und |−⟩ Eigenzustände des X-Gatters sind."
   ]
  },
  {
   "cell_type": "markdown",
   "id": "1d39a7ce-9b83-4e95-bf85-868c2566da6d",
   "metadata": {},
   "source": [
    "- $X|+\\rangle = \\tfrac{1}{\\sqrt{2}}(X|0\\rangle + X|1\\rangle) = \\tfrac{1}{\\sqrt{2}}(|1\\rangle + |0\\rangle) = |+\\rangle$\n",
    "- $X|-\\rangle = \\tfrac{1}{\\sqrt{2}}(X|0\\rangle - X|1\\rangle) = \\tfrac{1}{\\sqrt{2}}(|1\\rangle - |0\\rangle) = -|-\\rangle$\n"
   ]
  },
  {
   "cell_type": "markdown",
   "id": "97fb372e-e4a0-41db-b002-7445518a21db",
   "metadata": {},
   "source": [
    "2. Welche Eigenwerte haben sie?"
   ]
  },
  {
   "cell_type": "markdown",
   "id": "e508c321-a85b-4196-b435-1fae18aa09e5",
   "metadata": {},
   "source": [
    "- $|+\\rangle$ hat den Eigenwert +1 und $|-\\rangle$ hat den Eigenwert -1"
   ]
  },
  {
   "cell_type": "markdown",
   "id": "c6fa9eb1-24a2-4f59-8e6e-4b3412e2d577",
   "metadata": {},
   "source": [
    "4. Finden Sie die Eigenzustände des Y-Gatters und ihre Koordinaten auf der Blochkugel."
   ]
  },
  {
   "cell_type": "markdown",
   "id": "09ce39d7-cc18-490e-bcfe-7ec42f44fdc2",
   "metadata": {},
   "source": [
    "- $\\tfrac{1}{\\sqrt{2}}(|0\\rangle + i|1\\rangle)$, Bloch coords = `[0,1,0]`\n",
    "- $\\tfrac{1}{\\sqrt{2}}(|0\\rangle - i|1\\rangle)$, Bloch coords = `[0,-1,0]`"
   ]
  }
 ],
 "metadata": {
  "kernelspec": {
   "display_name": "Qiskit v0.34.1 (ipykernel)",
   "language": "python",
   "name": "python3"
  },
  "language_info": {
   "codemirror_mode": {
    "name": "ipython",
    "version": 3
   },
   "file_extension": ".py",
   "mimetype": "text/x-python",
   "name": "python",
   "nbconvert_exporter": "python",
   "pygments_lexer": "ipython3",
   "version": "3.8.12"
  },
  "widgets": {
   "application/vnd.jupyter.widget-state+json": {
    "state": {},
    "version_major": 2,
    "version_minor": 0
   }
  }
 },
 "nbformat": 4,
 "nbformat_minor": 5
}
