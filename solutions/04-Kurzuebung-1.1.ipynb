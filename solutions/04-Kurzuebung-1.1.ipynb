{
 "cells": [
  {
   "cell_type": "markdown",
   "id": "ec348f16-7a52-47c8-8f89-6cb78ccf68b2",
   "metadata": {},
   "source": [
    "1. Schreiben Sie das H-Gatter als die äußeren Produkte der Vektoren |0⟩, |1⟩, |+⟩ und |−⟩."
   ]
  },
  {
   "cell_type": "markdown",
   "id": "00069bd3-f88c-4a73-81a6-2828240c294b",
   "metadata": {},
   "source": [
    "- $H = |+\\rangle\\langle0| + |-\\rangle\\langle1|$"
   ]
  }
 ],
 "metadata": {
  "kernelspec": {
   "display_name": "Qiskit v0.34.1 (ipykernel)",
   "language": "python",
   "name": "python3"
  },
  "language_info": {
   "codemirror_mode": {
    "name": "ipython",
    "version": 3
   },
   "file_extension": ".py",
   "mimetype": "text/x-python",
   "name": "python",
   "nbconvert_exporter": "python",
   "pygments_lexer": "ipython3",
   "version": "3.8.12"
  },
  "widgets": {
   "application/vnd.jupyter.widget-state+json": {
    "state": {},
    "version_major": 2,
    "version_minor": 0
   }
  }
 },
 "nbformat": 4,
 "nbformat_minor": 5
}
